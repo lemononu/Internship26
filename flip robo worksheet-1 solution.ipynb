{
 "cells": [
  {
   "cell_type": "markdown",
   "id": "e5b13a3c",
   "metadata": {},
   "source": [
    "Q1-Write a python program to find the factorial of a number."
   ]
  },
  {
   "cell_type": "code",
   "execution_count": 10,
   "id": "3f6df933",
   "metadata": {},
   "outputs": [
    {
     "name": "stdout",
     "output_type": "stream",
     "text": [
      "enter a number5\n",
      "Factorial 5\n",
      "Factorial 20\n",
      "Factorial 60\n",
      "Factorial 120\n"
     ]
    }
   ],
   "source": [
    "n=int(input('enter a number'))\n",
    "fact=1\n",
    "while(n>=2):\n",
    "    \n",
    "    fact=fact*n\n",
    "    n-=1\n",
    "    \n",
    "    print('Factorial',fact)"
   ]
  },
  {
   "cell_type": "code",
   "execution_count": 15,
   "id": "77101b2a",
   "metadata": {},
   "outputs": [
    {
     "name": "stdout",
     "output_type": "stream",
     "text": [
      "enter a number6\n",
      "Factorial 6\n",
      "Factorial 30\n",
      "Factorial 120\n",
      "Factorial 360\n",
      "Factorial 720\n"
     ]
    }
   ],
   "source": [
    "n=int(input('enter a number'))\n",
    "fact=1\n",
    "\n",
    "for i in range(n,1,-1):\n",
    "    fact=fact*i\n",
    "    \n",
    "    print('Factorial',fact)"
   ]
  },
  {
   "cell_type": "code",
   "execution_count": 18,
   "id": "78628e7d",
   "metadata": {},
   "outputs": [
    {
     "name": "stdout",
     "output_type": "stream",
     "text": [
      "Enter a number-1\n",
      "factorial cannot be determined for negative number\n"
     ]
    }
   ],
   "source": [
    "n=int(input('Enter a number'))\n",
    "fact=1\n",
    "\n",
    "if (n<0):\n",
    "    print('factorial cannot be determined for negative number')\n",
    "    \n",
    "elif(n==0):\n",
    "    print('factorial of number is 1')\n",
    "    \n",
    "else:\n",
    "    for i in range(n,1,-1):\n",
    "        fact=fact*i\n",
    "        print('factorial of the given number is',fact)"
   ]
  },
  {
   "cell_type": "markdown",
   "id": "b551e5b0",
   "metadata": {},
   "source": [
    "Q2-Write a python program to find whether a number is prime or composite."
   ]
  },
  {
   "cell_type": "code",
   "execution_count": 23,
   "id": "9abc3878",
   "metadata": {},
   "outputs": [
    {
     "name": "stdout",
     "output_type": "stream",
     "text": [
      "enter a number7\n",
      "prime number 7\n",
      "prime number 7\n",
      "prime number 7\n",
      "prime number 7\n",
      "prime number 7\n"
     ]
    }
   ],
   "source": [
    "n=int(input('enter a number'))\n",
    "if (n==0 or n==1):\n",
    "    print('number is neither prime nor composite',n)\n",
    "elif (n>1):\n",
    "    for i in range(2,n):\n",
    "        if (n%i==0):\n",
    "            print('not prime but compsosite number',n)\n",
    "        else:\n",
    "            print('prime number',n)\n",
    "            \n",
    "else:\n",
    "    print('please enter positive number only')"
   ]
  },
  {
   "cell_type": "markdown",
   "id": "ec19275d",
   "metadata": {},
   "source": [
    "Q3-Write a python program to check whether a given string is palindrome or not."
   ]
  },
  {
   "cell_type": "code",
   "execution_count": 25,
   "id": "66895bd5",
   "metadata": {},
   "outputs": [
    {
     "name": "stdout",
     "output_type": "stream",
     "text": [
      "The string is palindrome\n"
     ]
    }
   ],
   "source": [
    "my_string='MaDam'\n",
    "#make it suitable for caseless comaprison\n",
    "my_string=my_string.casefold()\n",
    "#reverse the string\n",
    "rev_string=reversed(my_string)\n",
    "#check if string is equal to its reverse or not\n",
    "if list(my_string)==list(rev_string):\n",
    "    print('The string is palindrome')\n",
    "    \n",
    "else:\n",
    "    print('The string is not palindrome')"
   ]
  },
  {
   "cell_type": "code",
   "execution_count": 29,
   "id": "a1631548",
   "metadata": {},
   "outputs": [
    {
     "name": "stdout",
     "output_type": "stream",
     "text": [
      "Enter Stringmalayalam\n",
      "Palindrome String\n"
     ]
    }
   ],
   "source": [
    "#By user input method\n",
    "a=input('Enter String')\n",
    "b=a[-1::-1]\n",
    "if a==b:\n",
    "    print('Palindrome String')\n",
    "else:\n",
    "    print('Not a palindrom string')"
   ]
  },
  {
   "cell_type": "markdown",
   "id": "541b2cd8",
   "metadata": {},
   "source": [
    "Q4-Write a Python program to get the third side of right-angled triangle from two given sides."
   ]
  },
  {
   "cell_type": "code",
   "execution_count": 33,
   "id": "dab08470",
   "metadata": {},
   "outputs": [
    {
     "name": "stdout",
     "output_type": "stream",
     "text": [
      "enter height5.5\n",
      "enter base10.5\n",
      "Hypotenuse is: 11.853269591129697\n"
     ]
    }
   ],
   "source": [
    "#first method\n",
    "from math import sqrt\n",
    "a=float(input('enter height'))\n",
    "b=float(input('enter base'))\n",
    "c=sqrt(a**2+b**2)\n",
    "\n",
    "print('Hypotenuse is:',c)"
   ]
  },
  {
   "cell_type": "code",
   "execution_count": 44,
   "id": "6c752fa1",
   "metadata": {},
   "outputs": [
    {
     "name": "stdout",
     "output_type": "stream",
     "text": [
      "Hypotenuse = 5.0\n",
      "Adjacent = 4.0\n",
      "Opposite = 3.0\n",
      "You know the answer!\n"
     ]
    }
   ],
   "source": [
    "def pythagoras(opposite_side,adjacent_side,hypotenuse):\n",
    "        if opposite_side == str(\"x\"):\n",
    "            return (\"Opposite = \" + str(((hypotenuse**2)-(adjacent_side**2))**0.5))\n",
    "        elif adjacent_side == str(\"x\"):\n",
    "            return (\"Adjacent = \" + str(((hypotenuse**2)-(opposite_side**2))**0.5))\n",
    "        elif hypotenuse == str(\"x\"):\n",
    "            return (\"Hypotenuse = \" + str(((opposite_side**2)+(adjacent_side**2))**0.5))\n",
    "        else:\n",
    "            return \"You know the answer!\"\n",
    "        \n",
    "print(pythagoras(3,4,'x'))\n",
    "print(pythagoras(3,'x',5))\n",
    "print(pythagoras('x',4,5))\n",
    "print(pythagoras(3,4,5))"
   ]
  },
  {
   "cell_type": "markdown",
   "id": "5e42c6f9",
   "metadata": {},
   "source": [
    "Q5- Write a python program to print the frequency of each of the characters present in a given string."
   ]
  },
  {
   "cell_type": "code",
   "execution_count": 45,
   "id": "a10e4ebc",
   "metadata": {},
   "outputs": [
    {
     "name": "stdout",
     "output_type": "stream",
     "text": [
      "Enter the stringkalpana\n",
      "{'k': 1, 'a': 3, 'l': 1, 'p': 1, 'n': 1}\n"
     ]
    }
   ],
   "source": [
    "#first method\n",
    "str1=input('Enter the string')\n",
    "d1=dict()\n",
    "for c in str1:\n",
    "    if c in d1:\n",
    "        d1[c]=d1[c]+1\n",
    "    else:\n",
    "        d1[c]=1\n",
    "        \n",
    "print(d1)"
   ]
  },
  {
   "cell_type": "code",
   "execution_count": 46,
   "id": "2fbe55b1",
   "metadata": {},
   "outputs": [
    {
     "name": "stdout",
     "output_type": "stream",
     "text": [
      "enter the stringmalayalam\n",
      "{'m': 2, 'a': 4, 'l': 2, 'y': 1}\n"
     ]
    }
   ],
   "source": [
    "#second method\n",
    "#get()\n",
    "str1=input('enter the string')\n",
    "d1=dict()\n",
    "for c in str1:\n",
    "    d1[c]=d1.get(c,0)+1\n",
    "print(d1)"
   ]
  },
  {
   "cell_type": "code",
   "execution_count": null,
   "id": "0c7b9f35",
   "metadata": {},
   "outputs": [],
   "source": []
  }
 ],
 "metadata": {
  "kernelspec": {
   "display_name": "Python 3",
   "language": "python",
   "name": "python3"
  },
  "language_info": {
   "codemirror_mode": {
    "name": "ipython",
    "version": 3
   },
   "file_extension": ".py",
   "mimetype": "text/x-python",
   "name": "python",
   "nbconvert_exporter": "python",
   "pygments_lexer": "ipython3",
   "version": "3.8.8"
  }
 },
 "nbformat": 4,
 "nbformat_minor": 5
}
