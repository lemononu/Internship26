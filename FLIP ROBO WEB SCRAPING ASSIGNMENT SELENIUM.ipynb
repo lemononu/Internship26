{
 "cells": [
  {
   "cell_type": "markdown",
   "id": "71ba6e97",
   "metadata": {},
   "source": [
    "# WEB SCRAPPING USING SELENIUM"
   ]
  },
  {
   "cell_type": "raw",
   "id": "0da09736",
   "metadata": {},
   "source": [
    "Q1: Write a python program to scrape data for “Data Analyst” Job position in “Bangalore” location. You have to scrape the job-title, job-location, company_name, experience_required. You have to scrape first 10 jobs data.\n",
    "This task will be done in following steps:\n",
    "1. First get the webpage https://www.naukri.com/\n",
    "2. Enter “Data Analyst” in “Skill, Designations, Companies” field and enter “Bangalore” in “enter the\n",
    "location” field.\n",
    "3. Then click the search button.\n",
    "4. Then scrape the data for the first 10 jobs results you get.\n",
    "5. Finally create a dataframe of the scraped data."
   ]
  },
  {
   "cell_type": "code",
   "execution_count": 1,
   "id": "2e1e1462",
   "metadata": {},
   "outputs": [
    {
     "name": "stdout",
     "output_type": "stream",
     "text": [
      "Requirement already satisfied: selenium in ./opt/anaconda3/lib/python3.8/site-packages (4.1.3)\n",
      "Requirement already satisfied: urllib3[secure,socks]~=1.26 in ./opt/anaconda3/lib/python3.8/site-packages (from selenium) (1.26.4)\n",
      "Requirement already satisfied: trio-websocket~=0.9 in ./opt/anaconda3/lib/python3.8/site-packages (from selenium) (0.9.2)\n",
      "Requirement already satisfied: trio~=0.17 in ./opt/anaconda3/lib/python3.8/site-packages (from selenium) (0.20.0)\n",
      "Requirement already satisfied: outcome in ./opt/anaconda3/lib/python3.8/site-packages (from trio~=0.17->selenium) (1.1.0)\n",
      "Requirement already satisfied: async-generator>=1.9 in ./opt/anaconda3/lib/python3.8/site-packages (from trio~=0.17->selenium) (1.10)\n",
      "Requirement already satisfied: attrs>=19.2.0 in ./opt/anaconda3/lib/python3.8/site-packages (from trio~=0.17->selenium) (20.3.0)\n",
      "Requirement already satisfied: sniffio in ./opt/anaconda3/lib/python3.8/site-packages (from trio~=0.17->selenium) (1.2.0)\n",
      "Requirement already satisfied: sortedcontainers in ./opt/anaconda3/lib/python3.8/site-packages (from trio~=0.17->selenium) (2.3.0)\n",
      "Requirement already satisfied: idna in ./opt/anaconda3/lib/python3.8/site-packages (from trio~=0.17->selenium) (2.10)\n",
      "Requirement already satisfied: wsproto>=0.14 in ./opt/anaconda3/lib/python3.8/site-packages (from trio-websocket~=0.9->selenium) (1.1.0)\n",
      "Requirement already satisfied: PySocks!=1.5.7,<2.0,>=1.5.6 in ./opt/anaconda3/lib/python3.8/site-packages (from urllib3[secure,socks]~=1.26->selenium) (1.7.1)\n",
      "Requirement already satisfied: certifi in ./opt/anaconda3/lib/python3.8/site-packages (from urllib3[secure,socks]~=1.26->selenium) (2020.12.5)\n",
      "Requirement already satisfied: cryptography>=1.3.4 in ./opt/anaconda3/lib/python3.8/site-packages (from urllib3[secure,socks]~=1.26->selenium) (3.4.7)\n",
      "Requirement already satisfied: pyOpenSSL>=0.14 in ./opt/anaconda3/lib/python3.8/site-packages (from urllib3[secure,socks]~=1.26->selenium) (20.0.1)\n",
      "Requirement already satisfied: cffi>=1.12 in ./opt/anaconda3/lib/python3.8/site-packages (from cryptography>=1.3.4->urllib3[secure,socks]~=1.26->selenium) (1.14.5)\n",
      "Requirement already satisfied: pycparser in ./opt/anaconda3/lib/python3.8/site-packages (from cffi>=1.12->cryptography>=1.3.4->urllib3[secure,socks]~=1.26->selenium) (2.20)\n",
      "Requirement already satisfied: six>=1.5.2 in ./opt/anaconda3/lib/python3.8/site-packages (from pyOpenSSL>=0.14->urllib3[secure,socks]~=1.26->selenium) (1.15.0)\n",
      "Requirement already satisfied: h11<1,>=0.9.0 in ./opt/anaconda3/lib/python3.8/site-packages (from wsproto>=0.14->trio-websocket~=0.9->selenium) (0.13.0)\n"
     ]
    }
   ],
   "source": [
    "#lets first install the selenium library\n",
    "! pip install selenium"
   ]
  },
  {
   "cell_type": "markdown",
   "id": "aa0004e4",
   "metadata": {},
   "source": [
    "Now we will download the webdriver for the web browser. The steps for downloading the web driver for browser are-\n",
    "\n",
    "1.check the version of your browser.\n",
    "\n",
    "2.go to the link-chromedriver.chromium.org/downloads\n",
    "\n",
    "3.download the web driver for your version of browser\n",
    "\n",
    "Now these steps are for chrome browser. The dowload link will be different for mozilla etc."
   ]
  },
  {
   "cell_type": "code",
   "execution_count": 2,
   "id": "cd5f9005",
   "metadata": {},
   "outputs": [],
   "source": [
    "#let's now import all the required libraries\n",
    "import selenium\n",
    "import pandas as pd\n",
    "from selenium import webdriver\n",
    "import warnings\n",
    "warnings.filterwarnings('ignore')\n",
    "import time"
   ]
  },
  {
   "cell_type": "code",
   "execution_count": 5,
   "id": "ad04bf96",
   "metadata": {},
   "outputs": [
    {
     "data": {
      "text/plain": [
       "<selenium.webdriver.chrome.webdriver.WebDriver (session=\"b3b67a8c48a3caf26ab9e17d9edc8385\")>"
      ]
     },
     "execution_count": 5,
     "metadata": {},
     "output_type": "execute_result"
    }
   ],
   "source": [
    "#let's first connect to the web driver\n",
    "driver=webdriver.Chrome('/Users/rishi/Downloads/chromedriver')\n",
    "driver"
   ]
  },
  {
   "cell_type": "code",
   "execution_count": 4,
   "id": "212fbff6",
   "metadata": {},
   "outputs": [],
   "source": [
    "driver.close()"
   ]
  },
  {
   "cell_type": "code",
   "execution_count": 6,
   "id": "efc8cd02",
   "metadata": {},
   "outputs": [],
   "source": [
    "driver.get('https://www.naukri.com/')"
   ]
  },
  {
   "cell_type": "code",
   "execution_count": 7,
   "id": "2c00d909",
   "metadata": {},
   "outputs": [],
   "source": [
    "#finding element for job search bar\n",
    "search_field_designation=driver.find_element_by_class_name(\"suggestor-input \")\n",
    "search_field_designation.send_keys('Data Analyst')\n",
    "seacrh_field_location=driver.find_element_by_xpath('/html/body/div/div[2]/div[3]/div/div/div[3]/div/div/div/input')\n",
    "seacrh_field_location.send_keys('Bangalore')"
   ]
  },
  {
   "cell_type": "code",
   "execution_count": 8,
   "id": "de73d191",
   "metadata": {},
   "outputs": [],
   "source": [
    "search_button=driver.find_element_by_xpath('/html/body/div/div[2]/div[3]/div/div/div[6]')\n",
    "search_button.click()"
   ]
  },
  {
   "cell_type": "markdown",
   "id": "1ed74368",
   "metadata": {},
   "source": [
    "So now let's make 4 empty list. In these lists the data will be stored while scraping.we have created 4 empty list for the features which we have to extract.\n",
    "\n",
    "1.job_titles 2.company_name 3.location_list 4.experience_list"
   ]
  },
  {
   "cell_type": "code",
   "execution_count": 9,
   "id": "ea974436",
   "metadata": {},
   "outputs": [],
   "source": [
    "job_titles=[]\n",
    "company_names=[]\n",
    "location_list=[]\n",
    "experience_list=[]"
   ]
  },
  {
   "cell_type": "markdown",
   "id": "3ec2c666",
   "metadata": {},
   "source": [
    "first we will extract the all the tags where we will have job titles."
   ]
  },
  {
   "cell_type": "code",
   "execution_count": 10,
   "id": "e3990333",
   "metadata": {},
   "outputs": [
    {
     "data": {
      "text/plain": [
       "[<selenium.webdriver.remote.webelement.WebElement (session=\"b3b67a8c48a3caf26ab9e17d9edc8385\", element=\"1652317a-f04b-4b5a-ba1c-67a64c429005\")>,\n",
       " <selenium.webdriver.remote.webelement.WebElement (session=\"b3b67a8c48a3caf26ab9e17d9edc8385\", element=\"50c44ad2-cc2d-44ef-8ffe-67c3eb2c7090\")>,\n",
       " <selenium.webdriver.remote.webelement.WebElement (session=\"b3b67a8c48a3caf26ab9e17d9edc8385\", element=\"a205375a-63d2-4553-b133-8975886aac53\")>,\n",
       " <selenium.webdriver.remote.webelement.WebElement (session=\"b3b67a8c48a3caf26ab9e17d9edc8385\", element=\"b4337a90-3d6f-4489-84f7-aa12ef4fb9ad\")>,\n",
       " <selenium.webdriver.remote.webelement.WebElement (session=\"b3b67a8c48a3caf26ab9e17d9edc8385\", element=\"bc7d7482-2232-42dd-9c7c-4b7fbab9e263\")>,\n",
       " <selenium.webdriver.remote.webelement.WebElement (session=\"b3b67a8c48a3caf26ab9e17d9edc8385\", element=\"a266d85a-e8ca-4f9c-8745-63f1145e47db\")>,\n",
       " <selenium.webdriver.remote.webelement.WebElement (session=\"b3b67a8c48a3caf26ab9e17d9edc8385\", element=\"c3e57dd9-19fd-48dd-ad4c-7813ef2cb2b7\")>,\n",
       " <selenium.webdriver.remote.webelement.WebElement (session=\"b3b67a8c48a3caf26ab9e17d9edc8385\", element=\"3e23a91f-06e9-41e5-a84d-8ac8b2c9e0ff\")>,\n",
       " <selenium.webdriver.remote.webelement.WebElement (session=\"b3b67a8c48a3caf26ab9e17d9edc8385\", element=\"bc0a9c02-e5c1-4bc1-a003-312e45cab9c4\")>,\n",
       " <selenium.webdriver.remote.webelement.WebElement (session=\"b3b67a8c48a3caf26ab9e17d9edc8385\", element=\"4ea3b24f-cd05-4c7c-b4f8-21d7cede0917\")>]"
      ]
     },
     "execution_count": 10,
     "metadata": {},
     "output_type": "execute_result"
    }
   ],
   "source": [
    "#let's extract all the tags having the job titles\n",
    "titles_tags=driver.find_elements_by_xpath(\"//a[@class='title fw500 ellipsis']\")\n",
    "titles_tags[0:10]"
   ]
  },
  {
   "cell_type": "markdown",
   "id": "1b10eb19",
   "metadata": {},
   "source": [
    "Now we have all the tags in which there are job titles.\n",
    "\n",
    "now we will extract the text from these these tags one by one by looping over these tags."
   ]
  },
  {
   "cell_type": "code",
   "execution_count": 11,
   "id": "7f30d6cc",
   "metadata": {},
   "outputs": [
    {
     "data": {
      "text/plain": [
       "['SAS Analyst / data Analyst / Business analyst - Sas + SQL',\n",
       " 'Data Analyst I',\n",
       " 'Senior Data Analyst',\n",
       " 'Lead Data Analyst - Risk Analytics',\n",
       " 'Hiring - Zonal Data Analyst (Off Role) - Operations - Bangalore & Delh',\n",
       " 'Senior Data Analyst',\n",
       " 'Sr Domain Expert -Data Analysts',\n",
       " 'Associate Data Analyst',\n",
       " 'Associate Data Analyst',\n",
       " 'Denave Hiring Data Analyst Bengaluru Location']"
      ]
     },
     "execution_count": 11,
     "metadata": {},
     "output_type": "execute_result"
    }
   ],
   "source": [
    "#now the text of the job titles is inside the tags extracted above\n",
    "#so we will run over a loop to iterate over the tags extracted above.\n",
    "for i in titles_tags:\n",
    "    title=i.text\n",
    "    job_titles.append(title)\n",
    "job_titles[0:10]"
   ]
  },
  {
   "cell_type": "markdown",
   "id": "981211ab",
   "metadata": {},
   "source": [
    "Now we will extract the html tags where we have the company names.let me show you in whcih tags the company names are put on the web page."
   ]
  },
  {
   "cell_type": "code",
   "execution_count": 12,
   "id": "18567e0b",
   "metadata": {},
   "outputs": [
    {
     "data": {
      "text/plain": [
       "[<selenium.webdriver.remote.webelement.WebElement (session=\"b3b67a8c48a3caf26ab9e17d9edc8385\", element=\"e7af8813-2c83-4ee3-84bd-a71ce67acb12\")>,\n",
       " <selenium.webdriver.remote.webelement.WebElement (session=\"b3b67a8c48a3caf26ab9e17d9edc8385\", element=\"4a93b4fa-6f8d-4dcf-ade4-7a1b6f5cf7bc\")>,\n",
       " <selenium.webdriver.remote.webelement.WebElement (session=\"b3b67a8c48a3caf26ab9e17d9edc8385\", element=\"ab7c82bf-27fa-4274-8ce6-8cf017cbeb9b\")>,\n",
       " <selenium.webdriver.remote.webelement.WebElement (session=\"b3b67a8c48a3caf26ab9e17d9edc8385\", element=\"3a18c8db-3889-439b-b84e-63c26c7a1adf\")>,\n",
       " <selenium.webdriver.remote.webelement.WebElement (session=\"b3b67a8c48a3caf26ab9e17d9edc8385\", element=\"d69d7b96-fc08-4f22-91f9-203d0b40efbf\")>,\n",
       " <selenium.webdriver.remote.webelement.WebElement (session=\"b3b67a8c48a3caf26ab9e17d9edc8385\", element=\"9cb010f8-4c65-4e79-815f-77caf868284e\")>,\n",
       " <selenium.webdriver.remote.webelement.WebElement (session=\"b3b67a8c48a3caf26ab9e17d9edc8385\", element=\"d0496bab-2c39-4982-8da6-82ce22b65c96\")>,\n",
       " <selenium.webdriver.remote.webelement.WebElement (session=\"b3b67a8c48a3caf26ab9e17d9edc8385\", element=\"37f80ae8-7757-49b9-80c1-e7ea558d85ba\")>,\n",
       " <selenium.webdriver.remote.webelement.WebElement (session=\"b3b67a8c48a3caf26ab9e17d9edc8385\", element=\"9ac6e055-1db9-4c6c-a294-2a09446aab68\")>,\n",
       " <selenium.webdriver.remote.webelement.WebElement (session=\"b3b67a8c48a3caf26ab9e17d9edc8385\", element=\"744a70fb-576e-4807-8835-6e148d5a1b57\")>]"
      ]
     },
     "execution_count": 12,
     "metadata": {},
     "output_type": "execute_result"
    }
   ],
   "source": [
    "#so lets etxract all the tags having the company names\n",
    "companies_tags=driver.find_elements_by_xpath('//a[@class=\"subTitle ellipsis fleft\"]')\n",
    "companies_tags[0:10]"
   ]
  },
  {
   "cell_type": "markdown",
   "id": "43950423",
   "metadata": {},
   "source": [
    "Now we have all the tags in which there are company names.\n",
    "\n",
    "now we will extract the text from these these tags one by one by looping over these tags."
   ]
  },
  {
   "cell_type": "code",
   "execution_count": 13,
   "id": "a5b62741",
   "metadata": {},
   "outputs": [
    {
     "data": {
      "text/plain": [
       "['Leading US MNC into analytics',\n",
       " 'Bioclinica',\n",
       " 'Shell',\n",
       " 'Gojek',\n",
       " 'Rupeek',\n",
       " 'LatentView',\n",
       " 'Siemens',\n",
       " 'Optum',\n",
       " 'Optum',\n",
       " 'Denave India Pvt Ltd.']"
      ]
     },
     "execution_count": 13,
     "metadata": {},
     "output_type": "execute_result"
    }
   ],
   "source": [
    "for i in companies_tags:\n",
    "    company_name=i.text\n",
    "    company_names.append(company_name)\n",
    "company_names[0:10]"
   ]
  },
  {
   "cell_type": "markdown",
   "id": "2b9f5ab8",
   "metadata": {},
   "source": [
    "Now we will extract the html tags where we have the exeprience requires data."
   ]
  },
  {
   "cell_type": "code",
   "execution_count": 14,
   "id": "338fa964",
   "metadata": {},
   "outputs": [
    {
     "data": {
      "text/plain": [
       "[<selenium.webdriver.remote.webelement.WebElement (session=\"b3b67a8c48a3caf26ab9e17d9edc8385\", element=\"3fa697e8-5578-4097-9a2e-429691fb64a5\")>,\n",
       " <selenium.webdriver.remote.webelement.WebElement (session=\"b3b67a8c48a3caf26ab9e17d9edc8385\", element=\"e9b61e68-59f4-4826-a3de-81e0680dddd8\")>,\n",
       " <selenium.webdriver.remote.webelement.WebElement (session=\"b3b67a8c48a3caf26ab9e17d9edc8385\", element=\"f8edb509-77bb-421d-b149-5e644e440287\")>,\n",
       " <selenium.webdriver.remote.webelement.WebElement (session=\"b3b67a8c48a3caf26ab9e17d9edc8385\", element=\"c2d26464-9d51-4334-9c17-73ad834cef07\")>,\n",
       " <selenium.webdriver.remote.webelement.WebElement (session=\"b3b67a8c48a3caf26ab9e17d9edc8385\", element=\"18bbedc4-1dea-4f5f-9afb-777ce83e4bb6\")>,\n",
       " <selenium.webdriver.remote.webelement.WebElement (session=\"b3b67a8c48a3caf26ab9e17d9edc8385\", element=\"c433cb96-bf4d-4e44-aef3-356c292fb4cb\")>,\n",
       " <selenium.webdriver.remote.webelement.WebElement (session=\"b3b67a8c48a3caf26ab9e17d9edc8385\", element=\"14ab4128-bf15-4dda-ad5e-a7e7f1067836\")>,\n",
       " <selenium.webdriver.remote.webelement.WebElement (session=\"b3b67a8c48a3caf26ab9e17d9edc8385\", element=\"e2b264a2-4ca1-47a4-8e2a-af66ecdf5adc\")>,\n",
       " <selenium.webdriver.remote.webelement.WebElement (session=\"b3b67a8c48a3caf26ab9e17d9edc8385\", element=\"9d130d4c-c003-48ca-a440-9854450fbadf\")>,\n",
       " <selenium.webdriver.remote.webelement.WebElement (session=\"b3b67a8c48a3caf26ab9e17d9edc8385\", element=\"5307da98-1015-4be6-8b84-ea4df2dcb6b7\")>]"
      ]
     },
     "execution_count": 14,
     "metadata": {},
     "output_type": "execute_result"
    }
   ],
   "source": [
    "experience_tags=driver.find_elements_by_xpath('//li[@class=\"fleft grey-text br2 placeHolderLi experience\"]/span[1]')\n",
    "experience_tags[0:10]"
   ]
  },
  {
   "cell_type": "markdown",
   "id": "eeb1ab5b",
   "metadata": {},
   "source": [
    "Now we have all the tags in which there are experience required data.\n",
    "\n",
    "now we will extract the text from these these tags one by one by looping over these tags."
   ]
  },
  {
   "cell_type": "code",
   "execution_count": 15,
   "id": "14bbf659",
   "metadata": {},
   "outputs": [
    {
     "data": {
      "text/plain": [
       "['2-7 Yrs',\n",
       " '0-3 Yrs',\n",
       " '10-12 Yrs',\n",
       " '5-11 Yrs',\n",
       " '2-7 Yrs',\n",
       " '3-6 Yrs',\n",
       " '0-10 Yrs',\n",
       " '2-7 Yrs',\n",
       " '4-9 Yrs',\n",
       " '5-10 Yrs']"
      ]
     },
     "execution_count": 15,
     "metadata": {},
     "output_type": "execute_result"
    }
   ],
   "source": [
    "for i in experience_tags:\n",
    "    experience=i.text\n",
    "    experience_list.append(experience)\n",
    "experience_list[0:10]"
   ]
  },
  {
   "cell_type": "markdown",
   "id": "ff5c9d6a",
   "metadata": {},
   "source": [
    "Now we will extract the html tags where we have the location of the job  data.let me show you in whcih tags the company names are put on the web page."
   ]
  },
  {
   "cell_type": "code",
   "execution_count": 16,
   "id": "2e0e4efd",
   "metadata": {},
   "outputs": [
    {
     "data": {
      "text/plain": [
       "[<selenium.webdriver.remote.webelement.WebElement (session=\"b3b67a8c48a3caf26ab9e17d9edc8385\", element=\"ea2b0965-023b-4ca8-a824-6c5081b036b8\")>,\n",
       " <selenium.webdriver.remote.webelement.WebElement (session=\"b3b67a8c48a3caf26ab9e17d9edc8385\", element=\"e9546e24-b9a7-4148-947f-df15c2611f84\")>,\n",
       " <selenium.webdriver.remote.webelement.WebElement (session=\"b3b67a8c48a3caf26ab9e17d9edc8385\", element=\"4fffa84a-f37b-4de4-80f9-77ce25cc614d\")>,\n",
       " <selenium.webdriver.remote.webelement.WebElement (session=\"b3b67a8c48a3caf26ab9e17d9edc8385\", element=\"6bf6261f-82a4-44bf-be97-65fec6a9168e\")>,\n",
       " <selenium.webdriver.remote.webelement.WebElement (session=\"b3b67a8c48a3caf26ab9e17d9edc8385\", element=\"c3a8e5ba-d1f3-4acc-8128-8c40742ad3ab\")>,\n",
       " <selenium.webdriver.remote.webelement.WebElement (session=\"b3b67a8c48a3caf26ab9e17d9edc8385\", element=\"854c7f6d-3e16-47b3-874e-129bea62cadc\")>,\n",
       " <selenium.webdriver.remote.webelement.WebElement (session=\"b3b67a8c48a3caf26ab9e17d9edc8385\", element=\"a3f39637-8adb-4b5b-ab17-39158747bb0a\")>,\n",
       " <selenium.webdriver.remote.webelement.WebElement (session=\"b3b67a8c48a3caf26ab9e17d9edc8385\", element=\"11a27b66-f319-44b0-96c4-fe769bdde07c\")>,\n",
       " <selenium.webdriver.remote.webelement.WebElement (session=\"b3b67a8c48a3caf26ab9e17d9edc8385\", element=\"adfe6de9-6149-4d3a-b973-55f3035214c0\")>,\n",
       " <selenium.webdriver.remote.webelement.WebElement (session=\"b3b67a8c48a3caf26ab9e17d9edc8385\", element=\"651d48fe-3dd5-4a2a-a412-a722e995d781\")>]"
      ]
     },
     "execution_count": 16,
     "metadata": {},
     "output_type": "execute_result"
    }
   ],
   "source": [
    "locations_tags=driver.find_elements_by_xpath('//li[@class=\"fleft grey-text br2 placeHolderLi location\"]/span[1]')\n",
    "locations_tags[0:10]"
   ]
  },
  {
   "cell_type": "markdown",
   "id": "12ea9604",
   "metadata": {},
   "source": [
    "Now we have all the tags in which there are location of the job data.\n",
    "\n",
    "now we will extract the text from these these tags one by one by looping over these tags."
   ]
  },
  {
   "cell_type": "code",
   "execution_count": 17,
   "id": "6678727d",
   "metadata": {},
   "outputs": [
    {
     "data": {
      "text/plain": [
       "['Bangalore/Bengaluru, Delhi / NCR, Mumbai (All Areas)',\n",
       " 'Bangalore/Bengaluru',\n",
       " 'Bangalore/Bengaluru',\n",
       " 'Bangalore/Bengaluru',\n",
       " 'New Delhi, Bangalore/Bengaluru',\n",
       " 'Chennai, Bangalore/Bengaluru',\n",
       " 'Bangalore/Bengaluru',\n",
       " 'Bangalore/Bengaluru',\n",
       " 'Bangalore/Bengaluru',\n",
       " 'Bangalore/Bengaluru']"
      ]
     },
     "execution_count": 17,
     "metadata": {},
     "output_type": "execute_result"
    }
   ],
   "source": [
    "for i in locations_tags:\n",
    "    locations=i.text\n",
    "    location_list.append(locations)\n",
    "location_list[0:10]"
   ]
  },
  {
   "cell_type": "markdown",
   "id": "80ac0083",
   "metadata": {},
   "source": [
    "so,now we have extracted the data required from the webpage and stored them in the 4 lists mentioned above.now before creating a data frame from these lists.Lets first check the kenght of each list.because if the length of all of the lists are not equal, then a dataframe cannot be formed."
   ]
  },
  {
   "cell_type": "code",
   "execution_count": 18,
   "id": "2124e838",
   "metadata": {},
   "outputs": [
    {
     "name": "stdout",
     "output_type": "stream",
     "text": [
      "20 20 20 20\n"
     ]
    }
   ],
   "source": [
    "print(len(job_titles),len(company_names),len(experience_list),len(location_list))"
   ]
  },
  {
   "cell_type": "code",
   "execution_count": 19,
   "id": "e7eac79c",
   "metadata": {},
   "outputs": [],
   "source": [
    "import pandas as pd\n",
    "jobs=pd.DataFrame({})\n",
    "jobs['title']=job_titles\n",
    "jobs['company']=company_names\n",
    "jobs['exeperience_required']=experience_list\n",
    "jobs['location']=location_list"
   ]
  },
  {
   "cell_type": "code",
   "execution_count": 20,
   "id": "55817f73",
   "metadata": {},
   "outputs": [
    {
     "data": {
      "text/html": [
       "<div>\n",
       "<style scoped>\n",
       "    .dataframe tbody tr th:only-of-type {\n",
       "        vertical-align: middle;\n",
       "    }\n",
       "\n",
       "    .dataframe tbody tr th {\n",
       "        vertical-align: top;\n",
       "    }\n",
       "\n",
       "    .dataframe thead th {\n",
       "        text-align: right;\n",
       "    }\n",
       "</style>\n",
       "<table border=\"1\" class=\"dataframe\">\n",
       "  <thead>\n",
       "    <tr style=\"text-align: right;\">\n",
       "      <th></th>\n",
       "      <th>title</th>\n",
       "      <th>company</th>\n",
       "      <th>exeperience_required</th>\n",
       "      <th>location</th>\n",
       "    </tr>\n",
       "  </thead>\n",
       "  <tbody>\n",
       "    <tr>\n",
       "      <th>0</th>\n",
       "      <td>SAS Analyst / data Analyst / Business analyst ...</td>\n",
       "      <td>Leading US MNC into analytics</td>\n",
       "      <td>2-7 Yrs</td>\n",
       "      <td>Bangalore/Bengaluru, Delhi / NCR, Mumbai (All ...</td>\n",
       "    </tr>\n",
       "    <tr>\n",
       "      <th>1</th>\n",
       "      <td>Data Analyst I</td>\n",
       "      <td>Bioclinica</td>\n",
       "      <td>0-3 Yrs</td>\n",
       "      <td>Bangalore/Bengaluru</td>\n",
       "    </tr>\n",
       "    <tr>\n",
       "      <th>2</th>\n",
       "      <td>Senior Data Analyst</td>\n",
       "      <td>Shell</td>\n",
       "      <td>10-12 Yrs</td>\n",
       "      <td>Bangalore/Bengaluru</td>\n",
       "    </tr>\n",
       "    <tr>\n",
       "      <th>3</th>\n",
       "      <td>Lead Data Analyst - Risk Analytics</td>\n",
       "      <td>Gojek</td>\n",
       "      <td>5-11 Yrs</td>\n",
       "      <td>Bangalore/Bengaluru</td>\n",
       "    </tr>\n",
       "    <tr>\n",
       "      <th>4</th>\n",
       "      <td>Hiring - Zonal Data Analyst (Off Role) - Opera...</td>\n",
       "      <td>Rupeek</td>\n",
       "      <td>2-7 Yrs</td>\n",
       "      <td>New Delhi, Bangalore/Bengaluru</td>\n",
       "    </tr>\n",
       "    <tr>\n",
       "      <th>5</th>\n",
       "      <td>Senior Data Analyst</td>\n",
       "      <td>LatentView</td>\n",
       "      <td>3-6 Yrs</td>\n",
       "      <td>Chennai, Bangalore/Bengaluru</td>\n",
       "    </tr>\n",
       "    <tr>\n",
       "      <th>6</th>\n",
       "      <td>Sr Domain Expert -Data Analysts</td>\n",
       "      <td>Siemens</td>\n",
       "      <td>0-10 Yrs</td>\n",
       "      <td>Bangalore/Bengaluru</td>\n",
       "    </tr>\n",
       "    <tr>\n",
       "      <th>7</th>\n",
       "      <td>Associate Data Analyst</td>\n",
       "      <td>Optum</td>\n",
       "      <td>2-7 Yrs</td>\n",
       "      <td>Bangalore/Bengaluru</td>\n",
       "    </tr>\n",
       "    <tr>\n",
       "      <th>8</th>\n",
       "      <td>Associate Data Analyst</td>\n",
       "      <td>Optum</td>\n",
       "      <td>4-9 Yrs</td>\n",
       "      <td>Bangalore/Bengaluru</td>\n",
       "    </tr>\n",
       "    <tr>\n",
       "      <th>9</th>\n",
       "      <td>Denave Hiring Data Analyst Bengaluru Location</td>\n",
       "      <td>Denave India Pvt Ltd.</td>\n",
       "      <td>5-10 Yrs</td>\n",
       "      <td>Bangalore/Bengaluru</td>\n",
       "    </tr>\n",
       "    <tr>\n",
       "      <th>10</th>\n",
       "      <td>Immediate Joiner Data Analyst</td>\n",
       "      <td>Capco</td>\n",
       "      <td>7-12 Yrs</td>\n",
       "      <td>Pune, Gurgaon/Gurugram, Chennai, Bangalore/Ben...</td>\n",
       "    </tr>\n",
       "    <tr>\n",
       "      <th>11</th>\n",
       "      <td>Denave Hiring Data Analyst Bengaluru Location</td>\n",
       "      <td>Denave India Pvt Ltd.</td>\n",
       "      <td>5-10 Yrs</td>\n",
       "      <td>Bangalore/Bengaluru</td>\n",
       "    </tr>\n",
       "    <tr>\n",
       "      <th>12</th>\n",
       "      <td>Senior Data Analyst</td>\n",
       "      <td>Bukuwarung</td>\n",
       "      <td>3-6 Yrs</td>\n",
       "      <td>Bangalore/Bengaluru</td>\n",
       "    </tr>\n",
       "    <tr>\n",
       "      <th>13</th>\n",
       "      <td>Data Analyst Sr</td>\n",
       "      <td>Epsilon</td>\n",
       "      <td>5-7 Yrs</td>\n",
       "      <td>Bangalore/Bengaluru</td>\n",
       "    </tr>\n",
       "    <tr>\n",
       "      <th>14</th>\n",
       "      <td>Data Analyst</td>\n",
       "      <td>Virtusa</td>\n",
       "      <td>4-7 Yrs</td>\n",
       "      <td>Hyderabad/Secunderabad, Chennai, Bangalore/Ben...</td>\n",
       "    </tr>\n",
       "    <tr>\n",
       "      <th>15</th>\n",
       "      <td>Data Analyst II</td>\n",
       "      <td>Cerner</td>\n",
       "      <td>6-10 Yrs</td>\n",
       "      <td>Bangalore/Bengaluru</td>\n",
       "    </tr>\n",
       "    <tr>\n",
       "      <th>16</th>\n",
       "      <td>Senior Data Analyst II</td>\n",
       "      <td>Flipkart</td>\n",
       "      <td>2-4 Yrs</td>\n",
       "      <td>Bangalore/Bengaluru</td>\n",
       "    </tr>\n",
       "    <tr>\n",
       "      <th>17</th>\n",
       "      <td>Senior Data Analyst II</td>\n",
       "      <td>Flipkart</td>\n",
       "      <td>3-6 Yrs</td>\n",
       "      <td>Bangalore/Bengaluru</td>\n",
       "    </tr>\n",
       "    <tr>\n",
       "      <th>18</th>\n",
       "      <td>Senior Data Analyst</td>\n",
       "      <td>Walmart</td>\n",
       "      <td>5-8 Yrs</td>\n",
       "      <td>Bangalore/Bengaluru</td>\n",
       "    </tr>\n",
       "    <tr>\n",
       "      <th>19</th>\n",
       "      <td>Data Analyst - Python/Artificial Intelligence</td>\n",
       "      <td>iMindYourBusiness</td>\n",
       "      <td>0-2 Yrs</td>\n",
       "      <td>Kolkata, Mumbai, Hyderabad/Secunderabad, Pune,...</td>\n",
       "    </tr>\n",
       "  </tbody>\n",
       "</table>\n",
       "</div>"
      ],
      "text/plain": [
       "                                                title  \\\n",
       "0   SAS Analyst / data Analyst / Business analyst ...   \n",
       "1                                      Data Analyst I   \n",
       "2                                 Senior Data Analyst   \n",
       "3                  Lead Data Analyst - Risk Analytics   \n",
       "4   Hiring - Zonal Data Analyst (Off Role) - Opera...   \n",
       "5                                 Senior Data Analyst   \n",
       "6                     Sr Domain Expert -Data Analysts   \n",
       "7                              Associate Data Analyst   \n",
       "8                              Associate Data Analyst   \n",
       "9       Denave Hiring Data Analyst Bengaluru Location   \n",
       "10                      Immediate Joiner Data Analyst   \n",
       "11      Denave Hiring Data Analyst Bengaluru Location   \n",
       "12                                Senior Data Analyst   \n",
       "13                                    Data Analyst Sr   \n",
       "14                                       Data Analyst   \n",
       "15                                    Data Analyst II   \n",
       "16                             Senior Data Analyst II   \n",
       "17                             Senior Data Analyst II   \n",
       "18                                Senior Data Analyst   \n",
       "19      Data Analyst - Python/Artificial Intelligence   \n",
       "\n",
       "                          company exeperience_required  \\\n",
       "0   Leading US MNC into analytics              2-7 Yrs   \n",
       "1                      Bioclinica              0-3 Yrs   \n",
       "2                           Shell            10-12 Yrs   \n",
       "3                           Gojek             5-11 Yrs   \n",
       "4                          Rupeek              2-7 Yrs   \n",
       "5                      LatentView              3-6 Yrs   \n",
       "6                         Siemens             0-10 Yrs   \n",
       "7                           Optum              2-7 Yrs   \n",
       "8                           Optum              4-9 Yrs   \n",
       "9           Denave India Pvt Ltd.             5-10 Yrs   \n",
       "10                          Capco             7-12 Yrs   \n",
       "11          Denave India Pvt Ltd.             5-10 Yrs   \n",
       "12                     Bukuwarung              3-6 Yrs   \n",
       "13                        Epsilon              5-7 Yrs   \n",
       "14                        Virtusa              4-7 Yrs   \n",
       "15                         Cerner             6-10 Yrs   \n",
       "16                       Flipkart              2-4 Yrs   \n",
       "17                       Flipkart              3-6 Yrs   \n",
       "18                        Walmart              5-8 Yrs   \n",
       "19              iMindYourBusiness              0-2 Yrs   \n",
       "\n",
       "                                             location  \n",
       "0   Bangalore/Bengaluru, Delhi / NCR, Mumbai (All ...  \n",
       "1                                 Bangalore/Bengaluru  \n",
       "2                                 Bangalore/Bengaluru  \n",
       "3                                 Bangalore/Bengaluru  \n",
       "4                      New Delhi, Bangalore/Bengaluru  \n",
       "5                        Chennai, Bangalore/Bengaluru  \n",
       "6                                 Bangalore/Bengaluru  \n",
       "7                                 Bangalore/Bengaluru  \n",
       "8                                 Bangalore/Bengaluru  \n",
       "9                                 Bangalore/Bengaluru  \n",
       "10  Pune, Gurgaon/Gurugram, Chennai, Bangalore/Ben...  \n",
       "11                                Bangalore/Bengaluru  \n",
       "12                                Bangalore/Bengaluru  \n",
       "13                                Bangalore/Bengaluru  \n",
       "14  Hyderabad/Secunderabad, Chennai, Bangalore/Ben...  \n",
       "15                                Bangalore/Bengaluru  \n",
       "16                                Bangalore/Bengaluru  \n",
       "17                                Bangalore/Bengaluru  \n",
       "18                                Bangalore/Bengaluru  \n",
       "19  Kolkata, Mumbai, Hyderabad/Secunderabad, Pune,...  "
      ]
     },
     "execution_count": 20,
     "metadata": {},
     "output_type": "execute_result"
    }
   ],
   "source": [
    "jobs"
   ]
  },
  {
   "cell_type": "raw",
   "id": "fd169063",
   "metadata": {},
   "source": [
    "Q2: Write a python program to scrape data for “Data Scientist” Job position in “Bangalore” location. You have to scrape the job-title, job-location, company_name. You have to scrape first 10 jobs data.\n",
    "This task will be done in following steps:\n",
    "1. First get the webpage https://www.naukri.com/\n",
    "2. Enter “Data Scientist” in “Skill, Designations, Companies” field and enter “Bangalore” in “enter the\n",
    "location” field.\n",
    "3. Then click the search button.\n",
    "4. Then scrape the data for the first 10 jobs results you get.\n",
    "5. Finally create a dataframe of the scraped data."
   ]
  },
  {
   "cell_type": "code",
   "execution_count": 35,
   "id": "cd202dd5",
   "metadata": {},
   "outputs": [],
   "source": [
    "#specifying the url of the webpage to be scraped\n",
    "url='https://www.naukri.com/data-scientist-jobs-in-bangalore?k=data%20scientist&l=bangalore'"
   ]
  },
  {
   "cell_type": "code",
   "execution_count": 36,
   "id": "500b4065",
   "metadata": {},
   "outputs": [],
   "source": [
    "driver.get(url)"
   ]
  },
  {
   "cell_type": "markdown",
   "id": "0aa2b1ff",
   "metadata": {},
   "source": [
    "so now let's make 3 empty list. In these lists the data will be stored while scraping.we have created 3 empty list for the features which we have to extract.\n",
    "\n",
    "1.job_titles  2.job_location 3.company_name"
   ]
  },
  {
   "cell_type": "code",
   "execution_count": 37,
   "id": "7a9df188",
   "metadata": {},
   "outputs": [],
   "source": [
    "job_title=[]\n",
    "job_location=[]\n",
    "company_names=[]"
   ]
  },
  {
   "cell_type": "markdown",
   "id": "7c529d2e",
   "metadata": {},
   "source": [
    "first we will extract the all the tags where we will have job titles."
   ]
  },
  {
   "cell_type": "code",
   "execution_count": 38,
   "id": "27632688",
   "metadata": {},
   "outputs": [
    {
     "data": {
      "text/plain": [
       "[<selenium.webdriver.remote.webelement.WebElement (session=\"b3b67a8c48a3caf26ab9e17d9edc8385\", element=\"ee0d2d7a-de72-42e7-b15b-a08fcbdd374b\")>,\n",
       " <selenium.webdriver.remote.webelement.WebElement (session=\"b3b67a8c48a3caf26ab9e17d9edc8385\", element=\"8b6a158f-93a9-41cf-9815-02f663f24f3c\")>,\n",
       " <selenium.webdriver.remote.webelement.WebElement (session=\"b3b67a8c48a3caf26ab9e17d9edc8385\", element=\"18de08ca-5ab0-448e-8cb6-66e81ddfc7c4\")>,\n",
       " <selenium.webdriver.remote.webelement.WebElement (session=\"b3b67a8c48a3caf26ab9e17d9edc8385\", element=\"2207407d-d4e8-429b-a4b0-f58aba8059fd\")>,\n",
       " <selenium.webdriver.remote.webelement.WebElement (session=\"b3b67a8c48a3caf26ab9e17d9edc8385\", element=\"ceb2d197-596c-4b43-83ab-e4620763af12\")>,\n",
       " <selenium.webdriver.remote.webelement.WebElement (session=\"b3b67a8c48a3caf26ab9e17d9edc8385\", element=\"61cb0f59-e41c-4e5b-9c29-25d38185c365\")>,\n",
       " <selenium.webdriver.remote.webelement.WebElement (session=\"b3b67a8c48a3caf26ab9e17d9edc8385\", element=\"978f6664-9859-4cfa-a211-ff36e450ed6b\")>,\n",
       " <selenium.webdriver.remote.webelement.WebElement (session=\"b3b67a8c48a3caf26ab9e17d9edc8385\", element=\"b652acb6-a04f-4937-8d0b-d05403e44589\")>,\n",
       " <selenium.webdriver.remote.webelement.WebElement (session=\"b3b67a8c48a3caf26ab9e17d9edc8385\", element=\"cfa7ecea-44ff-448a-a796-817936720e4f\")>,\n",
       " <selenium.webdriver.remote.webelement.WebElement (session=\"b3b67a8c48a3caf26ab9e17d9edc8385\", element=\"73abe5b5-3820-4bb8-b531-2ccd3b2aafd4\")>]"
      ]
     },
     "execution_count": 38,
     "metadata": {},
     "output_type": "execute_result"
    }
   ],
   "source": [
    "#let's extract all the tags having the job titles\n",
    "titles_tags=driver.find_elements_by_xpath(\"//a[@class='title fw500 ellipsis']\")\n",
    "titles_tags[0:10]"
   ]
  },
  {
   "cell_type": "markdown",
   "id": "abefede4",
   "metadata": {},
   "source": [
    "Now we have all the tags in which there are job titles.\n",
    "\n",
    "now we will extract the text from these these tags one by one by looping over these tags."
   ]
  },
  {
   "cell_type": "code",
   "execution_count": 39,
   "id": "95e83490",
   "metadata": {},
   "outputs": [
    {
     "data": {
      "text/plain": [
       "['Senior Data Scientist',\n",
       " 'Senior Data Scientist',\n",
       " 'Staff Engineer Data Scientist',\n",
       " 'Rolls-Royce Data Labs : Data Scientist',\n",
       " 'Data Scientist: Advanced Analytics',\n",
       " 'FTE - Regional BI - Data Scientist',\n",
       " 'Data Scientist',\n",
       " 'Data Scientist: Artificial Intelligence',\n",
       " 'Data Scientist',\n",
       " 'Data Scientist']"
      ]
     },
     "execution_count": 39,
     "metadata": {},
     "output_type": "execute_result"
    }
   ],
   "source": [
    "#now the text of the job titles is inside the tags extracted above\n",
    "#so we will run over a loop to iterate over the tags extracted above.\n",
    "for i in titles_tags:\n",
    "    title=i.text\n",
    "    job_title.append(title)\n",
    "job_title[0:10]"
   ]
  },
  {
   "cell_type": "markdown",
   "id": "345f0275",
   "metadata": {},
   "source": [
    "Now we will extract the html tags where we have the job location data."
   ]
  },
  {
   "cell_type": "code",
   "execution_count": 40,
   "id": "fb6ef273",
   "metadata": {},
   "outputs": [
    {
     "data": {
      "text/plain": [
       "[<selenium.webdriver.remote.webelement.WebElement (session=\"b3b67a8c48a3caf26ab9e17d9edc8385\", element=\"ded51a03-1f86-47c4-9d39-e67564baa361\")>,\n",
       " <selenium.webdriver.remote.webelement.WebElement (session=\"b3b67a8c48a3caf26ab9e17d9edc8385\", element=\"3055273b-7138-4abe-95d1-4717a341e1b2\")>,\n",
       " <selenium.webdriver.remote.webelement.WebElement (session=\"b3b67a8c48a3caf26ab9e17d9edc8385\", element=\"4d09e4da-aa04-4ad3-b5ec-9a74bc72d71d\")>,\n",
       " <selenium.webdriver.remote.webelement.WebElement (session=\"b3b67a8c48a3caf26ab9e17d9edc8385\", element=\"82d7a956-de09-48f7-821d-e00a39626131\")>,\n",
       " <selenium.webdriver.remote.webelement.WebElement (session=\"b3b67a8c48a3caf26ab9e17d9edc8385\", element=\"46f74b08-69e9-4e16-aee0-a08fc723ed5e\")>,\n",
       " <selenium.webdriver.remote.webelement.WebElement (session=\"b3b67a8c48a3caf26ab9e17d9edc8385\", element=\"d3224e8e-e46a-4fa3-b7eb-af41b229e6fa\")>,\n",
       " <selenium.webdriver.remote.webelement.WebElement (session=\"b3b67a8c48a3caf26ab9e17d9edc8385\", element=\"0f3ce124-f34e-4aba-a7f7-672ecbd98a26\")>,\n",
       " <selenium.webdriver.remote.webelement.WebElement (session=\"b3b67a8c48a3caf26ab9e17d9edc8385\", element=\"8944fda3-1f62-44cc-b573-8ba7ec434a5d\")>,\n",
       " <selenium.webdriver.remote.webelement.WebElement (session=\"b3b67a8c48a3caf26ab9e17d9edc8385\", element=\"4938ed91-56ba-479e-a5a8-73ef419f70f9\")>,\n",
       " <selenium.webdriver.remote.webelement.WebElement (session=\"b3b67a8c48a3caf26ab9e17d9edc8385\", element=\"d05ed961-a0d9-444e-b9cb-a49254c14e8a\")>]"
      ]
     },
     "execution_count": 40,
     "metadata": {},
     "output_type": "execute_result"
    }
   ],
   "source": [
    "locations_tags=driver.find_elements_by_xpath('//li[@class=\"fleft grey-text br2 placeHolderLi location\"]/span[1]')\n",
    "locations_tags[0:10]"
   ]
  },
  {
   "cell_type": "markdown",
   "id": "f1af6b8c",
   "metadata": {},
   "source": [
    "Now we have all the tags in which there are location of the job data.\n",
    "\n",
    "Now we will extract the text from these these tags one by one by looping over these tags."
   ]
  },
  {
   "cell_type": "code",
   "execution_count": 41,
   "id": "9996d84b",
   "metadata": {},
   "outputs": [
    {
     "data": {
      "text/plain": [
       "['Bangalore/Bengaluru',\n",
       " 'Bangalore/Bengaluru',\n",
       " 'Bangalore/Bengaluru',\n",
       " 'Bangalore/Bengaluru',\n",
       " 'Bangalore/Bengaluru',\n",
       " 'Bangalore/Bengaluru',\n",
       " 'Bangalore/Bengaluru',\n",
       " 'Bangalore/Bengaluru',\n",
       " 'Bangalore/Bengaluru',\n",
       " 'Bangalore/Bengaluru']"
      ]
     },
     "execution_count": 41,
     "metadata": {},
     "output_type": "execute_result"
    }
   ],
   "source": [
    "for i in locations_tags:\n",
    "    locations=i.text\n",
    "    job_location.append(locations)\n",
    "job_location[0:10]"
   ]
  },
  {
   "cell_type": "markdown",
   "id": "596dd27f",
   "metadata": {},
   "source": [
    "Now we will extract the html tags where we have the company names."
   ]
  },
  {
   "cell_type": "code",
   "execution_count": 42,
   "id": "25c9a554",
   "metadata": {},
   "outputs": [
    {
     "data": {
      "text/plain": [
       "[<selenium.webdriver.remote.webelement.WebElement (session=\"b3b67a8c48a3caf26ab9e17d9edc8385\", element=\"240ab95d-479a-4394-b862-05e87d9358c4\")>,\n",
       " <selenium.webdriver.remote.webelement.WebElement (session=\"b3b67a8c48a3caf26ab9e17d9edc8385\", element=\"f6af546c-7682-44d7-84e1-14db0db01668\")>,\n",
       " <selenium.webdriver.remote.webelement.WebElement (session=\"b3b67a8c48a3caf26ab9e17d9edc8385\", element=\"10d86672-dfe7-43c1-af6c-608e2ff0b473\")>,\n",
       " <selenium.webdriver.remote.webelement.WebElement (session=\"b3b67a8c48a3caf26ab9e17d9edc8385\", element=\"30a4e659-b792-405a-ab39-f4477ec33b50\")>,\n",
       " <selenium.webdriver.remote.webelement.WebElement (session=\"b3b67a8c48a3caf26ab9e17d9edc8385\", element=\"01f08638-a57b-4881-a87a-8691b7a7b4a7\")>,\n",
       " <selenium.webdriver.remote.webelement.WebElement (session=\"b3b67a8c48a3caf26ab9e17d9edc8385\", element=\"009954b3-dd39-46a5-80b6-9b6e0b15d9eb\")>,\n",
       " <selenium.webdriver.remote.webelement.WebElement (session=\"b3b67a8c48a3caf26ab9e17d9edc8385\", element=\"9e6646cc-7bb5-4b17-90f8-d5e214e5f44b\")>,\n",
       " <selenium.webdriver.remote.webelement.WebElement (session=\"b3b67a8c48a3caf26ab9e17d9edc8385\", element=\"653df861-148c-40f0-a8b0-d529b5779514\")>,\n",
       " <selenium.webdriver.remote.webelement.WebElement (session=\"b3b67a8c48a3caf26ab9e17d9edc8385\", element=\"0854e417-ba79-4fc7-9017-898608c9a637\")>,\n",
       " <selenium.webdriver.remote.webelement.WebElement (session=\"b3b67a8c48a3caf26ab9e17d9edc8385\", element=\"1dac6016-d2db-4078-81a4-595bbcc5a2f5\")>]"
      ]
     },
     "execution_count": 42,
     "metadata": {},
     "output_type": "execute_result"
    }
   ],
   "source": [
    "#so lets etxract all the tags having the company names\n",
    "companies_tags=driver.find_elements_by_xpath('//a[@class=\"subTitle ellipsis fleft\"]')\n",
    "companies_tags[0:10]"
   ]
  },
  {
   "cell_type": "markdown",
   "id": "e38bc454",
   "metadata": {},
   "source": [
    "Now we have all the tags in which there are company names.\n",
    "\n",
    "Now we will extract teh text from these these tags one by one by looping over these tags."
   ]
  },
  {
   "cell_type": "code",
   "execution_count": 43,
   "id": "fd99a78b",
   "metadata": {},
   "outputs": [
    {
     "data": {
      "text/plain": [
       "['Ericsson Global Services',\n",
       " 'Gojek',\n",
       " 'Infineon Technologies Pvt Ltd',\n",
       " 'Rolls Royce',\n",
       " 'IBM',\n",
       " 'Schneider Electric',\n",
       " 'Applied Materials',\n",
       " 'IBM',\n",
       " 'Ericsson Global Services',\n",
       " 'Optum']"
      ]
     },
     "execution_count": 43,
     "metadata": {},
     "output_type": "execute_result"
    }
   ],
   "source": [
    "for i in companies_tags:\n",
    "    company_name=i.text\n",
    "    company_names.append(company_name)\n",
    "company_names[0:10]"
   ]
  },
  {
   "cell_type": "markdown",
   "id": "75971225",
   "metadata": {},
   "source": [
    "so,now we have extracted the data required from the webpage and stored them in the 3 lists mentioned above.now before creating a data frame from these lists.Lets first check the lenght of each list because if the length of all of the lists are not equal, then a dataframe cannot be formed."
   ]
  },
  {
   "cell_type": "code",
   "execution_count": 44,
   "id": "a26cbd80",
   "metadata": {},
   "outputs": [
    {
     "name": "stdout",
     "output_type": "stream",
     "text": [
      "20 20 20\n"
     ]
    }
   ],
   "source": [
    "print(len(job_titles),len(company_names),len(job_location))"
   ]
  },
  {
   "cell_type": "code",
   "execution_count": 45,
   "id": "ac972f3c",
   "metadata": {},
   "outputs": [],
   "source": [
    "vacancy=pd.DataFrame({})\n",
    "vacancy['title']=job_title\n",
    "vacancy['location']=job_location\n",
    "vacancy['company_name']=company_names"
   ]
  },
  {
   "cell_type": "code",
   "execution_count": 46,
   "id": "1152bcd4",
   "metadata": {},
   "outputs": [
    {
     "data": {
      "text/html": [
       "<div>\n",
       "<style scoped>\n",
       "    .dataframe tbody tr th:only-of-type {\n",
       "        vertical-align: middle;\n",
       "    }\n",
       "\n",
       "    .dataframe tbody tr th {\n",
       "        vertical-align: top;\n",
       "    }\n",
       "\n",
       "    .dataframe thead th {\n",
       "        text-align: right;\n",
       "    }\n",
       "</style>\n",
       "<table border=\"1\" class=\"dataframe\">\n",
       "  <thead>\n",
       "    <tr style=\"text-align: right;\">\n",
       "      <th></th>\n",
       "      <th>title</th>\n",
       "      <th>location</th>\n",
       "      <th>company_name</th>\n",
       "    </tr>\n",
       "  </thead>\n",
       "  <tbody>\n",
       "    <tr>\n",
       "      <th>0</th>\n",
       "      <td>Senior Data Scientist</td>\n",
       "      <td>Bangalore/Bengaluru</td>\n",
       "      <td>Ericsson Global Services</td>\n",
       "    </tr>\n",
       "    <tr>\n",
       "      <th>1</th>\n",
       "      <td>Senior Data Scientist</td>\n",
       "      <td>Bangalore/Bengaluru</td>\n",
       "      <td>Gojek</td>\n",
       "    </tr>\n",
       "    <tr>\n",
       "      <th>2</th>\n",
       "      <td>Staff Engineer Data Scientist</td>\n",
       "      <td>Bangalore/Bengaluru</td>\n",
       "      <td>Infineon Technologies Pvt Ltd</td>\n",
       "    </tr>\n",
       "    <tr>\n",
       "      <th>3</th>\n",
       "      <td>Rolls-Royce Data Labs : Data Scientist</td>\n",
       "      <td>Bangalore/Bengaluru</td>\n",
       "      <td>Rolls Royce</td>\n",
       "    </tr>\n",
       "    <tr>\n",
       "      <th>4</th>\n",
       "      <td>Data Scientist: Advanced Analytics</td>\n",
       "      <td>Bangalore/Bengaluru</td>\n",
       "      <td>IBM</td>\n",
       "    </tr>\n",
       "    <tr>\n",
       "      <th>5</th>\n",
       "      <td>FTE - Regional BI - Data Scientist</td>\n",
       "      <td>Bangalore/Bengaluru</td>\n",
       "      <td>Schneider Electric</td>\n",
       "    </tr>\n",
       "    <tr>\n",
       "      <th>6</th>\n",
       "      <td>Data Scientist</td>\n",
       "      <td>Bangalore/Bengaluru</td>\n",
       "      <td>Applied Materials</td>\n",
       "    </tr>\n",
       "    <tr>\n",
       "      <th>7</th>\n",
       "      <td>Data Scientist: Artificial Intelligence</td>\n",
       "      <td>Bangalore/Bengaluru</td>\n",
       "      <td>IBM</td>\n",
       "    </tr>\n",
       "    <tr>\n",
       "      <th>8</th>\n",
       "      <td>Data Scientist</td>\n",
       "      <td>Bangalore/Bengaluru</td>\n",
       "      <td>Ericsson Global Services</td>\n",
       "    </tr>\n",
       "    <tr>\n",
       "      <th>9</th>\n",
       "      <td>Data Scientist</td>\n",
       "      <td>Bangalore/Bengaluru</td>\n",
       "      <td>Optum</td>\n",
       "    </tr>\n",
       "    <tr>\n",
       "      <th>10</th>\n",
       "      <td>Principal Data Scientist</td>\n",
       "      <td>Bangalore/Bengaluru</td>\n",
       "      <td>Optum</td>\n",
       "    </tr>\n",
       "    <tr>\n",
       "      <th>11</th>\n",
       "      <td>Analytics - Data Scientist</td>\n",
       "      <td>Bangalore/Bengaluru</td>\n",
       "      <td>Schneider Electric</td>\n",
       "    </tr>\n",
       "    <tr>\n",
       "      <th>12</th>\n",
       "      <td>Data Scientist</td>\n",
       "      <td>Bangalore/Bengaluru</td>\n",
       "      <td>Applied Materials</td>\n",
       "    </tr>\n",
       "    <tr>\n",
       "      <th>13</th>\n",
       "      <td>Senior Data Scientist - Python/Deep Learning A...</td>\n",
       "      <td>Bangalore/Bengaluru</td>\n",
       "      <td>SuccessR Hrtech Pvt Ltd</td>\n",
       "    </tr>\n",
       "    <tr>\n",
       "      <th>14</th>\n",
       "      <td>Senior Data Scientist</td>\n",
       "      <td>Bangalore/Bengaluru</td>\n",
       "      <td>Bukuwarung</td>\n",
       "    </tr>\n",
       "    <tr>\n",
       "      <th>15</th>\n",
       "      <td>Senior Data Scientist</td>\n",
       "      <td>Bangalore/Bengaluru</td>\n",
       "      <td>Scienaptic Systems</td>\n",
       "    </tr>\n",
       "    <tr>\n",
       "      <th>16</th>\n",
       "      <td>Data Scientist/Senior Data Scientist - Python</td>\n",
       "      <td>Bangalore/Bengaluru</td>\n",
       "      <td>ApicalGo Consultancy</td>\n",
       "    </tr>\n",
       "    <tr>\n",
       "      <th>17</th>\n",
       "      <td>Senior Data Scientist - SQL/Python/Numpy</td>\n",
       "      <td>Bangalore/Bengaluru</td>\n",
       "      <td>Serving Skill</td>\n",
       "    </tr>\n",
       "    <tr>\n",
       "      <th>18</th>\n",
       "      <td>Senior Data Scientist (Fintech)</td>\n",
       "      <td>Bangalore/Bengaluru</td>\n",
       "      <td>TalentStack</td>\n",
       "    </tr>\n",
       "    <tr>\n",
       "      <th>19</th>\n",
       "      <td>Lead Data Scientist</td>\n",
       "      <td>Bangalore/Bengaluru</td>\n",
       "      <td>Groww</td>\n",
       "    </tr>\n",
       "  </tbody>\n",
       "</table>\n",
       "</div>"
      ],
      "text/plain": [
       "                                                title             location  \\\n",
       "0                               Senior Data Scientist  Bangalore/Bengaluru   \n",
       "1                               Senior Data Scientist  Bangalore/Bengaluru   \n",
       "2                       Staff Engineer Data Scientist  Bangalore/Bengaluru   \n",
       "3              Rolls-Royce Data Labs : Data Scientist  Bangalore/Bengaluru   \n",
       "4                  Data Scientist: Advanced Analytics  Bangalore/Bengaluru   \n",
       "5                  FTE - Regional BI - Data Scientist  Bangalore/Bengaluru   \n",
       "6                                      Data Scientist  Bangalore/Bengaluru   \n",
       "7             Data Scientist: Artificial Intelligence  Bangalore/Bengaluru   \n",
       "8                                      Data Scientist  Bangalore/Bengaluru   \n",
       "9                                      Data Scientist  Bangalore/Bengaluru   \n",
       "10                           Principal Data Scientist  Bangalore/Bengaluru   \n",
       "11                         Analytics - Data Scientist  Bangalore/Bengaluru   \n",
       "12                                     Data Scientist  Bangalore/Bengaluru   \n",
       "13  Senior Data Scientist - Python/Deep Learning A...  Bangalore/Bengaluru   \n",
       "14                              Senior Data Scientist  Bangalore/Bengaluru   \n",
       "15                              Senior Data Scientist  Bangalore/Bengaluru   \n",
       "16      Data Scientist/Senior Data Scientist - Python  Bangalore/Bengaluru   \n",
       "17           Senior Data Scientist - SQL/Python/Numpy  Bangalore/Bengaluru   \n",
       "18                    Senior Data Scientist (Fintech)  Bangalore/Bengaluru   \n",
       "19                                Lead Data Scientist  Bangalore/Bengaluru   \n",
       "\n",
       "                     company_name  \n",
       "0        Ericsson Global Services  \n",
       "1                           Gojek  \n",
       "2   Infineon Technologies Pvt Ltd  \n",
       "3                     Rolls Royce  \n",
       "4                             IBM  \n",
       "5              Schneider Electric  \n",
       "6               Applied Materials  \n",
       "7                             IBM  \n",
       "8        Ericsson Global Services  \n",
       "9                           Optum  \n",
       "10                          Optum  \n",
       "11             Schneider Electric  \n",
       "12              Applied Materials  \n",
       "13        SuccessR Hrtech Pvt Ltd  \n",
       "14                     Bukuwarung  \n",
       "15             Scienaptic Systems  \n",
       "16           ApicalGo Consultancy  \n",
       "17                  Serving Skill  \n",
       "18                    TalentStack  \n",
       "19                          Groww  "
      ]
     },
     "execution_count": 46,
     "metadata": {},
     "output_type": "execute_result"
    }
   ],
   "source": [
    "vacancy"
   ]
  },
  {
   "cell_type": "raw",
   "id": "3939eaf4",
   "metadata": {},
   "source": [
    "Q3: In this question you have to scrape data using the filters available on the webpage as shown below:\n",
    "ASSIGNMENT 2\n",
    " \n",
    "You have to use the location and salary filter.\n",
    "You have to scrape data for “Data Scientist” designation for first 10 job results.\n",
    "You have to scrape the job-title, job-location, company name, experience required. The location filter to be used is “Delhi/NCR”. The salary filter to be used is “3-6” lakhs\n",
    "The task will be done as shown in the below steps:\n",
    "1. first get the webpage https://www.naukri.com/\n",
    "2. Enter “Data Scientist” in “Skill, Designations, and Companies” field.\n",
    "3. Then click the search button.\n",
    "4. Then apply the location filter and salary filter by checking the respective boxes\n",
    "5. Then scrape the data for the first 10 jobs results you get.\n",
    "6. Finally create a dataframe of the scraped data."
   ]
  },
  {
   "cell_type": "code",
   "execution_count": 49,
   "id": "f904b6f9",
   "metadata": {},
   "outputs": [],
   "source": [
    "#specifying the url of the webpage to be scraped\n",
    "webpage='https://www.naukri.com/data-scientist-jobs?k=data%20scientist&cityTypeGid=9508&ctcFilter=3to6'"
   ]
  },
  {
   "cell_type": "code",
   "execution_count": 50,
   "id": "54439f4f",
   "metadata": {},
   "outputs": [],
   "source": [
    "driver.get(webpage)"
   ]
  },
  {
   "cell_type": "markdown",
   "id": "ab837230",
   "metadata": {},
   "source": [
    "so now let's make 4 empty list. In these lists the data will be stored while scraping.we have created 4 empty list for the features which we have to extract.\n",
    "\n",
    "1.job_titles 2.job_location 3.company_names 4.experience_required"
   ]
  },
  {
   "cell_type": "code",
   "execution_count": 51,
   "id": "22082176",
   "metadata": {},
   "outputs": [],
   "source": [
    "job_title=[]\n",
    "job_location=[] \n",
    "company_names=[]\n",
    "experience_required=[]"
   ]
  },
  {
   "cell_type": "markdown",
   "id": "6f4eb028",
   "metadata": {},
   "source": [
    "first we will extract the all the tags where we will have job titles."
   ]
  },
  {
   "cell_type": "code",
   "execution_count": 52,
   "id": "3bc1d2a8",
   "metadata": {},
   "outputs": [
    {
     "data": {
      "text/plain": [
       "[<selenium.webdriver.remote.webelement.WebElement (session=\"b3b67a8c48a3caf26ab9e17d9edc8385\", element=\"35d09731-117e-4575-a6ed-b93fc4a7227b\")>,\n",
       " <selenium.webdriver.remote.webelement.WebElement (session=\"b3b67a8c48a3caf26ab9e17d9edc8385\", element=\"beb4665e-3bbd-4d40-b1ff-d0b70b70b212\")>,\n",
       " <selenium.webdriver.remote.webelement.WebElement (session=\"b3b67a8c48a3caf26ab9e17d9edc8385\", element=\"504f5749-8310-461f-a413-3f45d59d865b\")>,\n",
       " <selenium.webdriver.remote.webelement.WebElement (session=\"b3b67a8c48a3caf26ab9e17d9edc8385\", element=\"90553976-3c05-4d3d-b2bc-0d811cf8267b\")>,\n",
       " <selenium.webdriver.remote.webelement.WebElement (session=\"b3b67a8c48a3caf26ab9e17d9edc8385\", element=\"db678500-9092-455e-b930-e7c93ca68aa8\")>,\n",
       " <selenium.webdriver.remote.webelement.WebElement (session=\"b3b67a8c48a3caf26ab9e17d9edc8385\", element=\"27209ec3-c98b-47c6-b076-d3f6b4888607\")>,\n",
       " <selenium.webdriver.remote.webelement.WebElement (session=\"b3b67a8c48a3caf26ab9e17d9edc8385\", element=\"e6578e3a-8489-431e-8ecb-2af8c303879f\")>,\n",
       " <selenium.webdriver.remote.webelement.WebElement (session=\"b3b67a8c48a3caf26ab9e17d9edc8385\", element=\"6fe4e391-d0a4-4a38-b425-8109728dc04c\")>,\n",
       " <selenium.webdriver.remote.webelement.WebElement (session=\"b3b67a8c48a3caf26ab9e17d9edc8385\", element=\"02728bcd-eb26-4fc2-8169-cf57b9a58d60\")>,\n",
       " <selenium.webdriver.remote.webelement.WebElement (session=\"b3b67a8c48a3caf26ab9e17d9edc8385\", element=\"ee7def55-d522-4269-a858-13c0200290e9\")>]"
      ]
     },
     "execution_count": 52,
     "metadata": {},
     "output_type": "execute_result"
    }
   ],
   "source": [
    "#let's extract all the tags having the job titles\n",
    "titles_tags=driver.find_elements_by_xpath(\"//a[@class='title fw500 ellipsis']\")\n",
    "titles_tags[0:10]"
   ]
  },
  {
   "cell_type": "markdown",
   "id": "db31df8d",
   "metadata": {},
   "source": [
    "Now we have all the tags in which there are job titles.\n",
    "\n",
    "Now we will extract the text from these these tags one by one by looping over these tags."
   ]
  },
  {
   "cell_type": "code",
   "execution_count": 54,
   "id": "823158e8",
   "metadata": {},
   "outputs": [
    {
     "data": {
      "text/plain": [
       "['Associate Data Scientist',\n",
       " 'Data Scientist (freelance)',\n",
       " 'Hiring For Senior Data Scientist-Noida',\n",
       " 'Opening For Data Scientist',\n",
       " 'Data Scientist/ Machine Learning, 2022 Passout Can also apply',\n",
       " 'Data Scientist',\n",
       " 'Data Scientist',\n",
       " 'Urgent Requirement || Data Scientist || Noida',\n",
       " 'AM Data Scientist - Goods & Service Tax Network, Delhi',\n",
       " 'Data Scientist - MIND Infotech']"
      ]
     },
     "execution_count": 54,
     "metadata": {},
     "output_type": "execute_result"
    }
   ],
   "source": [
    "for i in titles_tags:\n",
    "    title=i.text\n",
    "    job_title.append(title)\n",
    "job_title[0:10]"
   ]
  },
  {
   "cell_type": "markdown",
   "id": "94a2701c",
   "metadata": {},
   "source": [
    "Now we will extract the html tags where we have the job location data."
   ]
  },
  {
   "cell_type": "code",
   "execution_count": 55,
   "id": "7b92f034",
   "metadata": {},
   "outputs": [
    {
     "data": {
      "text/plain": [
       "[<selenium.webdriver.remote.webelement.WebElement (session=\"b3b67a8c48a3caf26ab9e17d9edc8385\", element=\"e2bc551d-a872-47ef-998b-d024ec2aa476\")>,\n",
       " <selenium.webdriver.remote.webelement.WebElement (session=\"b3b67a8c48a3caf26ab9e17d9edc8385\", element=\"aefb337a-9720-4191-a113-3dd762360a8f\")>,\n",
       " <selenium.webdriver.remote.webelement.WebElement (session=\"b3b67a8c48a3caf26ab9e17d9edc8385\", element=\"8739fa67-2be1-466c-b22e-928fa71ec5a4\")>,\n",
       " <selenium.webdriver.remote.webelement.WebElement (session=\"b3b67a8c48a3caf26ab9e17d9edc8385\", element=\"a236a24c-b5a9-4390-92a4-b0ca2ae9b745\")>,\n",
       " <selenium.webdriver.remote.webelement.WebElement (session=\"b3b67a8c48a3caf26ab9e17d9edc8385\", element=\"37e15281-bdd4-4223-ba7a-ceb427e6e706\")>,\n",
       " <selenium.webdriver.remote.webelement.WebElement (session=\"b3b67a8c48a3caf26ab9e17d9edc8385\", element=\"fd38cd72-fb1a-4b79-a3bb-d3a041ed8ecc\")>,\n",
       " <selenium.webdriver.remote.webelement.WebElement (session=\"b3b67a8c48a3caf26ab9e17d9edc8385\", element=\"c00f95d7-1456-4321-b803-0f8e2272a590\")>,\n",
       " <selenium.webdriver.remote.webelement.WebElement (session=\"b3b67a8c48a3caf26ab9e17d9edc8385\", element=\"58b0d3a4-9182-4ddd-bdb7-f130bcdc8d62\")>,\n",
       " <selenium.webdriver.remote.webelement.WebElement (session=\"b3b67a8c48a3caf26ab9e17d9edc8385\", element=\"11f14706-52b7-4519-aed6-71a5b8e4a886\")>,\n",
       " <selenium.webdriver.remote.webelement.WebElement (session=\"b3b67a8c48a3caf26ab9e17d9edc8385\", element=\"7cee74ac-1a39-43e7-8ad8-cf1384617913\")>]"
      ]
     },
     "execution_count": 55,
     "metadata": {},
     "output_type": "execute_result"
    }
   ],
   "source": [
    "locations_tags=driver.find_elements_by_xpath('//li[@class=\"fleft grey-text br2 placeHolderLi location\"]/span[1]')\n",
    "locations_tags[0:10]"
   ]
  },
  {
   "cell_type": "markdown",
   "id": "a073ebed",
   "metadata": {},
   "source": [
    "Now we have all the tags in which there are location of the job data.\n",
    "\n",
    "Now we will extract the text from these these tags one by one by looping over these tags."
   ]
  },
  {
   "cell_type": "code",
   "execution_count": 56,
   "id": "8d31eb9b",
   "metadata": {},
   "outputs": [
    {
     "data": {
      "text/plain": [
       "['Gurgaon/Gurugram',\n",
       " 'New Delhi, Delhi',\n",
       " 'Noida, Greater Noida, Delhi / NCR',\n",
       " 'Gurgaon/Gurugram',\n",
       " 'Hyderabad/Secunderabad, Ahmedabad, Chennai, Bangalore/Bengaluru, Delhi / NCR, Mumbai (All Areas)',\n",
       " 'Gurgaon, Bengaluru',\n",
       " 'New Delhi',\n",
       " 'Noida, Delhi / NCR',\n",
       " 'Delhi / NCR',\n",
       " 'Noida']"
      ]
     },
     "execution_count": 56,
     "metadata": {},
     "output_type": "execute_result"
    }
   ],
   "source": [
    "for i in locations_tags:\n",
    "    locations=i.text\n",
    "    job_location.append(locations)\n",
    "job_location[0:10]"
   ]
  },
  {
   "cell_type": "markdown",
   "id": "f19930d9",
   "metadata": {},
   "source": [
    "Now we will extract the html tags where we have the company names."
   ]
  },
  {
   "cell_type": "code",
   "execution_count": 57,
   "id": "090310ec",
   "metadata": {},
   "outputs": [
    {
     "data": {
      "text/plain": [
       "[<selenium.webdriver.remote.webelement.WebElement (session=\"b3b67a8c48a3caf26ab9e17d9edc8385\", element=\"0a901d3a-978f-4fee-ba23-1dc7fbb4b174\")>,\n",
       " <selenium.webdriver.remote.webelement.WebElement (session=\"b3b67a8c48a3caf26ab9e17d9edc8385\", element=\"fcf8e836-d6c3-443d-af09-b25ee32ff99e\")>,\n",
       " <selenium.webdriver.remote.webelement.WebElement (session=\"b3b67a8c48a3caf26ab9e17d9edc8385\", element=\"5f8cf9fe-b6be-482a-84a8-7f99a4a5735e\")>,\n",
       " <selenium.webdriver.remote.webelement.WebElement (session=\"b3b67a8c48a3caf26ab9e17d9edc8385\", element=\"4f31b1cc-a253-45ed-84fb-ef7b84377a23\")>,\n",
       " <selenium.webdriver.remote.webelement.WebElement (session=\"b3b67a8c48a3caf26ab9e17d9edc8385\", element=\"15790181-00f6-498e-8807-5b9fd759f386\")>,\n",
       " <selenium.webdriver.remote.webelement.WebElement (session=\"b3b67a8c48a3caf26ab9e17d9edc8385\", element=\"55dc9a30-9ced-48f2-b50e-a0d09559587c\")>,\n",
       " <selenium.webdriver.remote.webelement.WebElement (session=\"b3b67a8c48a3caf26ab9e17d9edc8385\", element=\"7ebd04ec-be73-4548-9506-9db3bdb2068c\")>,\n",
       " <selenium.webdriver.remote.webelement.WebElement (session=\"b3b67a8c48a3caf26ab9e17d9edc8385\", element=\"35f428db-58e2-4c43-b2bd-1cafc236bd22\")>,\n",
       " <selenium.webdriver.remote.webelement.WebElement (session=\"b3b67a8c48a3caf26ab9e17d9edc8385\", element=\"312a5379-109a-4354-a898-04321382b20c\")>,\n",
       " <selenium.webdriver.remote.webelement.WebElement (session=\"b3b67a8c48a3caf26ab9e17d9edc8385\", element=\"68f05954-4ebe-4607-bb53-4142ccf86a62\")>]"
      ]
     },
     "execution_count": 57,
     "metadata": {},
     "output_type": "execute_result"
    }
   ],
   "source": [
    "#so lets etxract all the tags having the company names\n",
    "companies_tags=driver.find_elements_by_xpath('//a[@class=\"subTitle ellipsis fleft\"]')\n",
    "companies_tags[0:10]"
   ]
  },
  {
   "cell_type": "markdown",
   "id": "2cdd0a29",
   "metadata": {},
   "source": [
    "Now we have all the tags in which there are company names.\n",
    "\n",
    "Now we will extract teh text from these these tags one by one by looping over these tags."
   ]
  },
  {
   "cell_type": "code",
   "execution_count": 58,
   "id": "795e9cea",
   "metadata": {},
   "outputs": [
    {
     "data": {
      "text/plain": [
       "['Optum',\n",
       " '2Coms',\n",
       " 'Lumiq.ai',\n",
       " 'Care Health Insurance',\n",
       " 'Creative Hands HR Consultancy',\n",
       " 'BlackBuck',\n",
       " 'Boston Consulting Group',\n",
       " 'HCL Technologies',\n",
       " 'NISG (National Institute for Smart Government)',\n",
       " 'MOTHERSONSUMI INFOTECH & DESIGNS LIMITED']"
      ]
     },
     "execution_count": 58,
     "metadata": {},
     "output_type": "execute_result"
    }
   ],
   "source": [
    "for i in companies_tags:\n",
    "    company_name=i.text\n",
    "    company_names.append(company_name)\n",
    "company_names[0:10]"
   ]
  },
  {
   "cell_type": "markdown",
   "id": "806c6526",
   "metadata": {},
   "source": [
    "Now we will extract the html tags where we have the exeprience requires data."
   ]
  },
  {
   "cell_type": "code",
   "execution_count": 59,
   "id": "f7a07d71",
   "metadata": {},
   "outputs": [
    {
     "data": {
      "text/plain": [
       "[<selenium.webdriver.remote.webelement.WebElement (session=\"b3b67a8c48a3caf26ab9e17d9edc8385\", element=\"3c07a851-0dd3-4427-acde-c543b1cccebb\")>,\n",
       " <selenium.webdriver.remote.webelement.WebElement (session=\"b3b67a8c48a3caf26ab9e17d9edc8385\", element=\"b099d5ff-d216-44e9-a861-71e3c76f9833\")>,\n",
       " <selenium.webdriver.remote.webelement.WebElement (session=\"b3b67a8c48a3caf26ab9e17d9edc8385\", element=\"c38059fb-06c1-4b09-bf44-4654a2bfb871\")>,\n",
       " <selenium.webdriver.remote.webelement.WebElement (session=\"b3b67a8c48a3caf26ab9e17d9edc8385\", element=\"986afe32-994f-47ef-958f-1ff0017e01bd\")>,\n",
       " <selenium.webdriver.remote.webelement.WebElement (session=\"b3b67a8c48a3caf26ab9e17d9edc8385\", element=\"8707a5fe-4cb1-46d8-a317-8b48ab01658e\")>,\n",
       " <selenium.webdriver.remote.webelement.WebElement (session=\"b3b67a8c48a3caf26ab9e17d9edc8385\", element=\"d0ab9b2b-6ccc-425e-8d4d-94eba8c641c7\")>,\n",
       " <selenium.webdriver.remote.webelement.WebElement (session=\"b3b67a8c48a3caf26ab9e17d9edc8385\", element=\"f705402e-ae98-47e3-b999-a9da11f6da4d\")>,\n",
       " <selenium.webdriver.remote.webelement.WebElement (session=\"b3b67a8c48a3caf26ab9e17d9edc8385\", element=\"dd251d0c-d5b8-4a71-a8c4-c339e0ed5687\")>,\n",
       " <selenium.webdriver.remote.webelement.WebElement (session=\"b3b67a8c48a3caf26ab9e17d9edc8385\", element=\"d05c759d-e34b-4fb3-8b52-b2b884908ea5\")>,\n",
       " <selenium.webdriver.remote.webelement.WebElement (session=\"b3b67a8c48a3caf26ab9e17d9edc8385\", element=\"6818bf41-a993-4677-9459-c405f0f3d160\")>]"
      ]
     },
     "execution_count": 59,
     "metadata": {},
     "output_type": "execute_result"
    }
   ],
   "source": [
    "experience_tags=driver.find_elements_by_xpath('//li[@class=\"fleft grey-text br2 placeHolderLi experience\"]/span[1]')\n",
    "experience_tags[0:10]"
   ]
  },
  {
   "cell_type": "markdown",
   "id": "015bcae1",
   "metadata": {},
   "source": [
    "Now we have all the tags in which there are experience required data.\n",
    "\n",
    "now we will extract the text from these these tags one by one by looping over these tags."
   ]
  },
  {
   "cell_type": "code",
   "execution_count": 60,
   "id": "40469d56",
   "metadata": {},
   "outputs": [
    {
     "data": {
      "text/plain": [
       "['1-5 Yrs',\n",
       " '2-7 Yrs',\n",
       " '2-6 Yrs',\n",
       " '1-5 Yrs',\n",
       " '0-4 Yrs',\n",
       " '3-7 Yrs',\n",
       " '2-5 Yrs',\n",
       " '3-8 Yrs',\n",
       " '3-8 Yrs',\n",
       " '4-8 Yrs']"
      ]
     },
     "execution_count": 60,
     "metadata": {},
     "output_type": "execute_result"
    }
   ],
   "source": [
    "for i in experience_tags:\n",
    "    experience=i.text\n",
    "    experience_required.append(experience)\n",
    "experience_required[0:10]"
   ]
  },
  {
   "cell_type": "markdown",
   "id": "e0e4d304",
   "metadata": {},
   "source": [
    "so,now we have extracted the data required from the webpage and stored them in the 4 lists mentioned above.now before creating a data frame from these lists.Lets first check the lenght of each list.because if the length of all of the lists are not equal, then a dataframe cannot be formed."
   ]
  },
  {
   "cell_type": "code",
   "execution_count": 61,
   "id": "5f0e2014",
   "metadata": {},
   "outputs": [
    {
     "name": "stdout",
     "output_type": "stream",
     "text": [
      "20 20 20 20\n"
     ]
    }
   ],
   "source": [
    "print(len(job_title),len(company_names),len(experience_required),len(job_location))"
   ]
  },
  {
   "cell_type": "code",
   "execution_count": 62,
   "id": "2d562840",
   "metadata": {},
   "outputs": [],
   "source": [
    "jobs=pd.DataFrame({})\n",
    "jobs['title']=job_title\n",
    "jobs['company_name']=company_names\n",
    "jobs['experience']=experience_required\n",
    "jobs['location']=job_location"
   ]
  },
  {
   "cell_type": "code",
   "execution_count": 63,
   "id": "c2e6808a",
   "metadata": {},
   "outputs": [
    {
     "data": {
      "text/html": [
       "<div>\n",
       "<style scoped>\n",
       "    .dataframe tbody tr th:only-of-type {\n",
       "        vertical-align: middle;\n",
       "    }\n",
       "\n",
       "    .dataframe tbody tr th {\n",
       "        vertical-align: top;\n",
       "    }\n",
       "\n",
       "    .dataframe thead th {\n",
       "        text-align: right;\n",
       "    }\n",
       "</style>\n",
       "<table border=\"1\" class=\"dataframe\">\n",
       "  <thead>\n",
       "    <tr style=\"text-align: right;\">\n",
       "      <th></th>\n",
       "      <th>title</th>\n",
       "      <th>company_name</th>\n",
       "      <th>experience</th>\n",
       "      <th>location</th>\n",
       "    </tr>\n",
       "  </thead>\n",
       "  <tbody>\n",
       "    <tr>\n",
       "      <th>0</th>\n",
       "      <td>Associate Data Scientist</td>\n",
       "      <td>Optum</td>\n",
       "      <td>1-5 Yrs</td>\n",
       "      <td>Gurgaon/Gurugram</td>\n",
       "    </tr>\n",
       "    <tr>\n",
       "      <th>1</th>\n",
       "      <td>Data Scientist (freelance)</td>\n",
       "      <td>2Coms</td>\n",
       "      <td>2-7 Yrs</td>\n",
       "      <td>New Delhi, Delhi</td>\n",
       "    </tr>\n",
       "    <tr>\n",
       "      <th>2</th>\n",
       "      <td>Hiring For Senior Data Scientist-Noida</td>\n",
       "      <td>Lumiq.ai</td>\n",
       "      <td>2-6 Yrs</td>\n",
       "      <td>Noida, Greater Noida, Delhi / NCR</td>\n",
       "    </tr>\n",
       "    <tr>\n",
       "      <th>3</th>\n",
       "      <td>Opening For Data Scientist</td>\n",
       "      <td>Care Health Insurance</td>\n",
       "      <td>1-5 Yrs</td>\n",
       "      <td>Gurgaon/Gurugram</td>\n",
       "    </tr>\n",
       "    <tr>\n",
       "      <th>4</th>\n",
       "      <td>Data Scientist/ Machine Learning, 2022 Passout...</td>\n",
       "      <td>Creative Hands HR Consultancy</td>\n",
       "      <td>0-4 Yrs</td>\n",
       "      <td>Hyderabad/Secunderabad, Ahmedabad, Chennai, Ba...</td>\n",
       "    </tr>\n",
       "    <tr>\n",
       "      <th>5</th>\n",
       "      <td>Data Scientist</td>\n",
       "      <td>BlackBuck</td>\n",
       "      <td>3-7 Yrs</td>\n",
       "      <td>Gurgaon, Bengaluru</td>\n",
       "    </tr>\n",
       "    <tr>\n",
       "      <th>6</th>\n",
       "      <td>Data Scientist</td>\n",
       "      <td>Boston Consulting Group</td>\n",
       "      <td>2-5 Yrs</td>\n",
       "      <td>New Delhi</td>\n",
       "    </tr>\n",
       "    <tr>\n",
       "      <th>7</th>\n",
       "      <td>Urgent Requirement || Data Scientist || Noida</td>\n",
       "      <td>HCL Technologies</td>\n",
       "      <td>3-8 Yrs</td>\n",
       "      <td>Noida, Delhi / NCR</td>\n",
       "    </tr>\n",
       "    <tr>\n",
       "      <th>8</th>\n",
       "      <td>AM Data Scientist - Goods &amp; Service Tax Networ...</td>\n",
       "      <td>NISG (National Institute for Smart Government)</td>\n",
       "      <td>3-8 Yrs</td>\n",
       "      <td>Delhi / NCR</td>\n",
       "    </tr>\n",
       "    <tr>\n",
       "      <th>9</th>\n",
       "      <td>Data Scientist - MIND Infotech</td>\n",
       "      <td>MOTHERSONSUMI INFOTECH &amp; DESIGNS LIMITED</td>\n",
       "      <td>4-8 Yrs</td>\n",
       "      <td>Noida</td>\n",
       "    </tr>\n",
       "    <tr>\n",
       "      <th>10</th>\n",
       "      <td>Senior Data Scientist</td>\n",
       "      <td>iNICU</td>\n",
       "      <td>1-5 Yrs</td>\n",
       "      <td>Delhi</td>\n",
       "    </tr>\n",
       "    <tr>\n",
       "      <th>11</th>\n",
       "      <td>Lead Data Scientist</td>\n",
       "      <td>KIA INDIA PRIVATE LIMITED</td>\n",
       "      <td>7-10 Yrs</td>\n",
       "      <td>Gurgaon/Gurugram</td>\n",
       "    </tr>\n",
       "    <tr>\n",
       "      <th>12</th>\n",
       "      <td>Data Scientist - Python/SQL</td>\n",
       "      <td>AVE-Promagne</td>\n",
       "      <td>3-8 Yrs</td>\n",
       "      <td>Noida, Kota, Mumbai, Chandigarh, Lucknow, Agra...</td>\n",
       "    </tr>\n",
       "    <tr>\n",
       "      <th>13</th>\n",
       "      <td>Data Scientist</td>\n",
       "      <td>Country Veggie</td>\n",
       "      <td>1-3 Yrs</td>\n",
       "      <td>Bharuch, Jaipur, Bhopal, Mumbai, Jhansi, Nagpu...</td>\n",
       "    </tr>\n",
       "    <tr>\n",
       "      <th>14</th>\n",
       "      <td>Associate Data Scientist</td>\n",
       "      <td>Right Step Consulting</td>\n",
       "      <td>3-6 Yrs</td>\n",
       "      <td>Noida</td>\n",
       "    </tr>\n",
       "    <tr>\n",
       "      <th>15</th>\n",
       "      <td>Junior AI Data Scientist</td>\n",
       "      <td>Seven Consultancy (HR Solution)</td>\n",
       "      <td>1-6 Yrs</td>\n",
       "      <td>New Delhi</td>\n",
       "    </tr>\n",
       "    <tr>\n",
       "      <th>16</th>\n",
       "      <td>AM - Data Scientist</td>\n",
       "      <td>GSTN</td>\n",
       "      <td>3-5 Yrs</td>\n",
       "      <td>Delhi / NCR</td>\n",
       "    </tr>\n",
       "    <tr>\n",
       "      <th>17</th>\n",
       "      <td>Data scientist- Python</td>\n",
       "      <td>TeamPlus Staffing Solution Pvt Ltd</td>\n",
       "      <td>3-6 Yrs</td>\n",
       "      <td>Gurgaon/Gurugram</td>\n",
       "    </tr>\n",
       "    <tr>\n",
       "      <th>18</th>\n",
       "      <td>Data Scientist</td>\n",
       "      <td>T &amp; A Solutions</td>\n",
       "      <td>2-6 Yrs</td>\n",
       "      <td>Gurgaon/Gurugram</td>\n",
       "    </tr>\n",
       "    <tr>\n",
       "      <th>19</th>\n",
       "      <td>Data Scientist</td>\n",
       "      <td>itForte Staffing Services Private Ltd.</td>\n",
       "      <td>3-8 Yrs</td>\n",
       "      <td>Gurgaon</td>\n",
       "    </tr>\n",
       "  </tbody>\n",
       "</table>\n",
       "</div>"
      ],
      "text/plain": [
       "                                                title  \\\n",
       "0                            Associate Data Scientist   \n",
       "1                          Data Scientist (freelance)   \n",
       "2              Hiring For Senior Data Scientist-Noida   \n",
       "3                          Opening For Data Scientist   \n",
       "4   Data Scientist/ Machine Learning, 2022 Passout...   \n",
       "5                                      Data Scientist   \n",
       "6                                      Data Scientist   \n",
       "7       Urgent Requirement || Data Scientist || Noida   \n",
       "8   AM Data Scientist - Goods & Service Tax Networ...   \n",
       "9                      Data Scientist - MIND Infotech   \n",
       "10                              Senior Data Scientist   \n",
       "11                                Lead Data Scientist   \n",
       "12                        Data Scientist - Python/SQL   \n",
       "13                                     Data Scientist   \n",
       "14                           Associate Data Scientist   \n",
       "15                           Junior AI Data Scientist   \n",
       "16                                AM - Data Scientist   \n",
       "17                             Data scientist- Python   \n",
       "18                                     Data Scientist   \n",
       "19                                     Data Scientist   \n",
       "\n",
       "                                      company_name experience  \\\n",
       "0                                            Optum    1-5 Yrs   \n",
       "1                                            2Coms    2-7 Yrs   \n",
       "2                                         Lumiq.ai    2-6 Yrs   \n",
       "3                            Care Health Insurance    1-5 Yrs   \n",
       "4                    Creative Hands HR Consultancy    0-4 Yrs   \n",
       "5                                        BlackBuck    3-7 Yrs   \n",
       "6                          Boston Consulting Group    2-5 Yrs   \n",
       "7                                 HCL Technologies    3-8 Yrs   \n",
       "8   NISG (National Institute for Smart Government)    3-8 Yrs   \n",
       "9         MOTHERSONSUMI INFOTECH & DESIGNS LIMITED    4-8 Yrs   \n",
       "10                                           iNICU    1-5 Yrs   \n",
       "11                       KIA INDIA PRIVATE LIMITED   7-10 Yrs   \n",
       "12                                    AVE-Promagne    3-8 Yrs   \n",
       "13                                  Country Veggie    1-3 Yrs   \n",
       "14                           Right Step Consulting    3-6 Yrs   \n",
       "15                 Seven Consultancy (HR Solution)    1-6 Yrs   \n",
       "16                                            GSTN    3-5 Yrs   \n",
       "17              TeamPlus Staffing Solution Pvt Ltd    3-6 Yrs   \n",
       "18                                 T & A Solutions    2-6 Yrs   \n",
       "19          itForte Staffing Services Private Ltd.    3-8 Yrs   \n",
       "\n",
       "                                             location  \n",
       "0                                    Gurgaon/Gurugram  \n",
       "1                                    New Delhi, Delhi  \n",
       "2                   Noida, Greater Noida, Delhi / NCR  \n",
       "3                                    Gurgaon/Gurugram  \n",
       "4   Hyderabad/Secunderabad, Ahmedabad, Chennai, Ba...  \n",
       "5                                  Gurgaon, Bengaluru  \n",
       "6                                           New Delhi  \n",
       "7                                  Noida, Delhi / NCR  \n",
       "8                                         Delhi / NCR  \n",
       "9                                               Noida  \n",
       "10                                              Delhi  \n",
       "11                                   Gurgaon/Gurugram  \n",
       "12  Noida, Kota, Mumbai, Chandigarh, Lucknow, Agra...  \n",
       "13  Bharuch, Jaipur, Bhopal, Mumbai, Jhansi, Nagpu...  \n",
       "14                                              Noida  \n",
       "15                                          New Delhi  \n",
       "16                                        Delhi / NCR  \n",
       "17                                   Gurgaon/Gurugram  \n",
       "18                                   Gurgaon/Gurugram  \n",
       "19                                            Gurgaon  "
      ]
     },
     "execution_count": 63,
     "metadata": {},
     "output_type": "execute_result"
    }
   ],
   "source": [
    "jobs"
   ]
  },
  {
   "cell_type": "raw",
   "id": "e59ae5ee",
   "metadata": {},
   "source": [
    "Q4: Scrape data of first 100 sunglasses listings on flipkart.com. You have to scrape four attributes: 1. Brand\n",
    "2. Product Description\n",
    "3. Price\n",
    "The attributes which you have to scrape is ticked marked in the below image.\n",
    "To scrape the data you have to go through following steps:\n",
    "1. Go to Flipkart webpage by url : https://www.flipkart.com/\n",
    "2. Enter “sunglasses” in the search field where “search for products, brands andmore” is written and\n",
    "click the search icon\n",
    "3. After that you will reach to the page having a lot of sunglasses. From this pageyou can scrap the\n",
    "required data as usual.\n",
    "4. After scraping data from the first page, go to the “Next” Button at the bottom ofthe page , then click on it.\n",
    "5. Now scrape data from this page as usual\n",
    "6. Repeat this until you get data for 100 sunglasses"
   ]
  },
  {
   "cell_type": "code",
   "execution_count": 82,
   "id": "35b06759",
   "metadata": {},
   "outputs": [],
   "source": [
    "#specifying the url of the webpage to be scraped\n",
    "url='https://www.flipkart.com/search?q=sunglasses&as=on&as-show=on&otracker=AS_Query_OrganicAutoSuggest_3_10_na_na_na&otracker1=AS_Query_OrganicAutoSuggest_3_10_na_na_na&as-pos=3&as-type=RECENT&suggestionId=sunglasses&requestId=249801f9-3654-4235-a0d3-c45d31d073c1&as-backfill=on&page=1'\n",
    "driver.get(url)"
   ]
  },
  {
   "cell_type": "markdown",
   "id": "fedf8623",
   "metadata": {},
   "source": [
    "So now let's make 4 empty list. In these lists the data will be stored while scraping.we have created 4 empty list for the features which we have to extract.\n"
   ]
  },
  {
   "cell_type": "code",
   "execution_count": 83,
   "id": "fcb800b8",
   "metadata": {},
   "outputs": [],
   "source": [
    "product_Brand=[]\n",
    "product_description=[]\n",
    "product_price=[]\n",
    "product_discount=[]"
   ]
  },
  {
   "cell_type": "markdown",
   "id": "417e2ab8",
   "metadata": {},
   "source": [
    "first we will extract the all the tags where we will have product brand."
   ]
  },
  {
   "cell_type": "code",
   "execution_count": 84,
   "id": "b3a32704",
   "metadata": {},
   "outputs": [
    {
     "data": {
      "text/plain": [
       "[<selenium.webdriver.remote.webelement.WebElement (session=\"b3b67a8c48a3caf26ab9e17d9edc8385\", element=\"e0bbd9c3-393b-45d1-85f0-ac2b78bdb2da\")>,\n",
       " <selenium.webdriver.remote.webelement.WebElement (session=\"b3b67a8c48a3caf26ab9e17d9edc8385\", element=\"2d1eebc8-28f6-4431-8ce0-e4ea315d85f0\")>,\n",
       " <selenium.webdriver.remote.webelement.WebElement (session=\"b3b67a8c48a3caf26ab9e17d9edc8385\", element=\"de53879f-7efc-46b7-9d55-77e8593147b8\")>,\n",
       " <selenium.webdriver.remote.webelement.WebElement (session=\"b3b67a8c48a3caf26ab9e17d9edc8385\", element=\"519e7692-0b76-4bb9-8a89-c50d5a4e2c9e\")>,\n",
       " <selenium.webdriver.remote.webelement.WebElement (session=\"b3b67a8c48a3caf26ab9e17d9edc8385\", element=\"f1593b31-583d-4792-94cc-846bff710602\")>,\n",
       " <selenium.webdriver.remote.webelement.WebElement (session=\"b3b67a8c48a3caf26ab9e17d9edc8385\", element=\"9369a591-92ec-45f3-a1cf-abed6057d63d\")>,\n",
       " <selenium.webdriver.remote.webelement.WebElement (session=\"b3b67a8c48a3caf26ab9e17d9edc8385\", element=\"03874e79-e1ff-4234-8272-c15f44d9c97b\")>,\n",
       " <selenium.webdriver.remote.webelement.WebElement (session=\"b3b67a8c48a3caf26ab9e17d9edc8385\", element=\"9c69d3cd-6c74-4226-a22f-ac186306ad63\")>,\n",
       " <selenium.webdriver.remote.webelement.WebElement (session=\"b3b67a8c48a3caf26ab9e17d9edc8385\", element=\"cb70eb0f-5a6d-47eb-a503-f13c42545a46\")>,\n",
       " <selenium.webdriver.remote.webelement.WebElement (session=\"b3b67a8c48a3caf26ab9e17d9edc8385\", element=\"8cf9762a-861f-4e11-ace6-aa6d5175576e\")>,\n",
       " <selenium.webdriver.remote.webelement.WebElement (session=\"b3b67a8c48a3caf26ab9e17d9edc8385\", element=\"2099c88b-50a2-4af3-a02c-c702a3967a24\")>,\n",
       " <selenium.webdriver.remote.webelement.WebElement (session=\"b3b67a8c48a3caf26ab9e17d9edc8385\", element=\"d5287057-a953-4118-b08a-0d0acd7e9bca\")>,\n",
       " <selenium.webdriver.remote.webelement.WebElement (session=\"b3b67a8c48a3caf26ab9e17d9edc8385\", element=\"c0806d2a-adcc-4928-863b-e47c85ca9c61\")>,\n",
       " <selenium.webdriver.remote.webelement.WebElement (session=\"b3b67a8c48a3caf26ab9e17d9edc8385\", element=\"47aa3351-0f48-49ee-9e34-d1ad146983fe\")>,\n",
       " <selenium.webdriver.remote.webelement.WebElement (session=\"b3b67a8c48a3caf26ab9e17d9edc8385\", element=\"5397ccbf-0eb0-45bd-8f86-14c20674a0b9\")>,\n",
       " <selenium.webdriver.remote.webelement.WebElement (session=\"b3b67a8c48a3caf26ab9e17d9edc8385\", element=\"1e37925d-5bed-4973-aebd-8e89416dc9ce\")>,\n",
       " <selenium.webdriver.remote.webelement.WebElement (session=\"b3b67a8c48a3caf26ab9e17d9edc8385\", element=\"8a89810a-3efb-45bd-b214-ddc1418d38bc\")>,\n",
       " <selenium.webdriver.remote.webelement.WebElement (session=\"b3b67a8c48a3caf26ab9e17d9edc8385\", element=\"44632647-6d5e-4157-9062-ee755f862a83\")>,\n",
       " <selenium.webdriver.remote.webelement.WebElement (session=\"b3b67a8c48a3caf26ab9e17d9edc8385\", element=\"e52e6159-c8ee-4754-aba3-b2aa7a6a6a92\")>,\n",
       " <selenium.webdriver.remote.webelement.WebElement (session=\"b3b67a8c48a3caf26ab9e17d9edc8385\", element=\"5b1c9a1a-2dd8-460a-9413-ea5a45c2b253\")>,\n",
       " <selenium.webdriver.remote.webelement.WebElement (session=\"b3b67a8c48a3caf26ab9e17d9edc8385\", element=\"e97f3f63-7c13-4964-b058-e7a838b6bc1d\")>,\n",
       " <selenium.webdriver.remote.webelement.WebElement (session=\"b3b67a8c48a3caf26ab9e17d9edc8385\", element=\"5dbcbb73-e12a-4a5e-8758-27845adedf71\")>,\n",
       " <selenium.webdriver.remote.webelement.WebElement (session=\"b3b67a8c48a3caf26ab9e17d9edc8385\", element=\"5e68e4c0-7286-441a-b705-c73e1c8bb00c\")>,\n",
       " <selenium.webdriver.remote.webelement.WebElement (session=\"b3b67a8c48a3caf26ab9e17d9edc8385\", element=\"464f34ae-afdf-4008-b934-e4e97fbba24f\")>,\n",
       " <selenium.webdriver.remote.webelement.WebElement (session=\"b3b67a8c48a3caf26ab9e17d9edc8385\", element=\"eed174f9-eae5-4acf-8c4a-88c0e964e618\")>,\n",
       " <selenium.webdriver.remote.webelement.WebElement (session=\"b3b67a8c48a3caf26ab9e17d9edc8385\", element=\"82cbea16-8603-4179-b396-bfb2af5c940a\")>,\n",
       " <selenium.webdriver.remote.webelement.WebElement (session=\"b3b67a8c48a3caf26ab9e17d9edc8385\", element=\"cca46bd8-bbc6-4458-a04f-686f06a5cfd8\")>,\n",
       " <selenium.webdriver.remote.webelement.WebElement (session=\"b3b67a8c48a3caf26ab9e17d9edc8385\", element=\"e876073e-0cf0-4681-b25e-aa15d0ad6caa\")>,\n",
       " <selenium.webdriver.remote.webelement.WebElement (session=\"b3b67a8c48a3caf26ab9e17d9edc8385\", element=\"2e87f5fa-ed16-44ed-92f5-6070024b8596\")>,\n",
       " <selenium.webdriver.remote.webelement.WebElement (session=\"b3b67a8c48a3caf26ab9e17d9edc8385\", element=\"310ce0ba-b12f-4daf-ae1c-e33ab04cf051\")>,\n",
       " <selenium.webdriver.remote.webelement.WebElement (session=\"b3b67a8c48a3caf26ab9e17d9edc8385\", element=\"5b12a1ce-f2c7-49f6-b279-45fb80367d04\")>,\n",
       " <selenium.webdriver.remote.webelement.WebElement (session=\"b3b67a8c48a3caf26ab9e17d9edc8385\", element=\"b0f9e473-53aa-4882-8f1e-e8a642001229\")>,\n",
       " <selenium.webdriver.remote.webelement.WebElement (session=\"b3b67a8c48a3caf26ab9e17d9edc8385\", element=\"52637dac-e49b-49eb-bbd6-ea804807b70f\")>,\n",
       " <selenium.webdriver.remote.webelement.WebElement (session=\"b3b67a8c48a3caf26ab9e17d9edc8385\", element=\"e9a27c6c-87a3-4fb1-b18d-efb0cad19a3b\")>,\n",
       " <selenium.webdriver.remote.webelement.WebElement (session=\"b3b67a8c48a3caf26ab9e17d9edc8385\", element=\"76d2bd2b-66f2-462d-ad9c-dda0dfcf6a0d\")>,\n",
       " <selenium.webdriver.remote.webelement.WebElement (session=\"b3b67a8c48a3caf26ab9e17d9edc8385\", element=\"bf69d105-38dc-4075-b996-6675e910eb93\")>,\n",
       " <selenium.webdriver.remote.webelement.WebElement (session=\"b3b67a8c48a3caf26ab9e17d9edc8385\", element=\"fbd4835c-fe73-475c-a673-f80080f63f5d\")>,\n",
       " <selenium.webdriver.remote.webelement.WebElement (session=\"b3b67a8c48a3caf26ab9e17d9edc8385\", element=\"38636e22-5ace-4369-a15f-a9b125a67058\")>,\n",
       " <selenium.webdriver.remote.webelement.WebElement (session=\"b3b67a8c48a3caf26ab9e17d9edc8385\", element=\"d9cea69f-9f40-4cb6-863e-8721a7ee9749\")>,\n",
       " <selenium.webdriver.remote.webelement.WebElement (session=\"b3b67a8c48a3caf26ab9e17d9edc8385\", element=\"45c141a3-9b2d-47df-8ebf-8b83f48f4546\")>]"
      ]
     },
     "execution_count": 84,
     "metadata": {},
     "output_type": "execute_result"
    }
   ],
   "source": [
    "#let's extract all the tags having the product brand\n",
    "brand_tags=driver.find_elements_by_class_name('_2WkVRV')\n",
    "brand_tags"
   ]
  },
  {
   "cell_type": "markdown",
   "id": "0d08415e",
   "metadata": {},
   "source": [
    "Now we have all the tags in which there are Brand names.\n",
    "\n",
    "Now we will extract the text from these these tags one by one by looping over these tags."
   ]
  },
  {
   "cell_type": "code",
   "execution_count": 85,
   "id": "1c5e21d5",
   "metadata": {},
   "outputs": [
    {
     "data": {
      "text/plain": [
       "['Elligator',\n",
       " 'Fastrack',\n",
       " 'New Specs',\n",
       " 'PIRASO',\n",
       " 'Fastrack',\n",
       " 'Lee Topper',\n",
       " 'hipe',\n",
       " 'SUNBEE',\n",
       " 'SHAAH COLLECTIONS',\n",
       " 'Lee Topper',\n",
       " 'SRPM',\n",
       " 'PIRASO',\n",
       " 'ROZZETTA CRAFT',\n",
       " 'PIRASO',\n",
       " 'New Specs',\n",
       " 'PIRASO',\n",
       " 'PHENOMENAL',\n",
       " 'Fastrack',\n",
       " 'DEIXELS',\n",
       " 'Roadster',\n",
       " 'Fastrack',\n",
       " 'kingsunglasses',\n",
       " 'Fastrack',\n",
       " 'SUNBEE',\n",
       " 'hipe',\n",
       " 'PIRASO',\n",
       " 'Singco India',\n",
       " 'Fastrack',\n",
       " 'Fastrack',\n",
       " 'SUNBEE',\n",
       " 'elegante',\n",
       " 'GANSTA',\n",
       " 'Fastrack',\n",
       " 'ROZZETTA CRAFT',\n",
       " 'SRPM',\n",
       " 'kingsunglasses',\n",
       " 'HIPPON',\n",
       " 'kingsunglasses',\n",
       " 'kingsunglasses',\n",
       " 'hipe']"
      ]
     },
     "execution_count": 85,
     "metadata": {},
     "output_type": "execute_result"
    }
   ],
   "source": [
    "#now the text of the brand name is inside the tags extracted above\n",
    "#so we will run over a loop to iterate over the tags extracted above.\n",
    "for i in brand_tags:\n",
    "    title=i.text\n",
    "    product_Brand.append(title)\n",
    "product_Brand[0:100]"
   ]
  },
  {
   "cell_type": "code",
   "execution_count": 86,
   "id": "c1006361",
   "metadata": {},
   "outputs": [
    {
     "data": {
      "text/plain": [
       "40"
      ]
     },
     "execution_count": 86,
     "metadata": {},
     "output_type": "execute_result"
    }
   ],
   "source": [
    "len(product_Brand)"
   ]
  },
  {
   "cell_type": "markdown",
   "id": "b3bae32d",
   "metadata": {},
   "source": [
    "first we will extract the all the tags where we will have product Description."
   ]
  },
  {
   "cell_type": "code",
   "execution_count": 87,
   "id": "cca0bd9a",
   "metadata": {},
   "outputs": [
    {
     "data": {
      "text/plain": [
       "[<selenium.webdriver.remote.webelement.WebElement (session=\"b3b67a8c48a3caf26ab9e17d9edc8385\", element=\"784065b3-76d6-4b57-98d9-cd058cccaee5\")>,\n",
       " <selenium.webdriver.remote.webelement.WebElement (session=\"b3b67a8c48a3caf26ab9e17d9edc8385\", element=\"d4380b60-8227-461b-8b42-c6d211e11163\")>,\n",
       " <selenium.webdriver.remote.webelement.WebElement (session=\"b3b67a8c48a3caf26ab9e17d9edc8385\", element=\"c7d27fd2-df0a-4f57-aae4-906b9a2c9d9f\")>,\n",
       " <selenium.webdriver.remote.webelement.WebElement (session=\"b3b67a8c48a3caf26ab9e17d9edc8385\", element=\"a5a641ac-8e44-4aa4-9434-b872eb935390\")>,\n",
       " <selenium.webdriver.remote.webelement.WebElement (session=\"b3b67a8c48a3caf26ab9e17d9edc8385\", element=\"151f57cc-ec8a-4d2a-86e5-f930a20387d5\")>,\n",
       " <selenium.webdriver.remote.webelement.WebElement (session=\"b3b67a8c48a3caf26ab9e17d9edc8385\", element=\"3fabe713-bbe9-47a0-abee-29693aa51346\")>,\n",
       " <selenium.webdriver.remote.webelement.WebElement (session=\"b3b67a8c48a3caf26ab9e17d9edc8385\", element=\"52fc0eeb-5abe-4ee1-818e-70a39783de18\")>,\n",
       " <selenium.webdriver.remote.webelement.WebElement (session=\"b3b67a8c48a3caf26ab9e17d9edc8385\", element=\"6a67e0dc-585a-4268-b5a8-dc8cee00013b\")>,\n",
       " <selenium.webdriver.remote.webelement.WebElement (session=\"b3b67a8c48a3caf26ab9e17d9edc8385\", element=\"3cec323e-5e98-4eef-bd38-c1c60947b184\")>,\n",
       " <selenium.webdriver.remote.webelement.WebElement (session=\"b3b67a8c48a3caf26ab9e17d9edc8385\", element=\"57d89239-936f-4ce2-9779-ed7aadb348e6\")>,\n",
       " <selenium.webdriver.remote.webelement.WebElement (session=\"b3b67a8c48a3caf26ab9e17d9edc8385\", element=\"fd3f13a6-4f95-44f0-9e01-5c0c74170226\")>,\n",
       " <selenium.webdriver.remote.webelement.WebElement (session=\"b3b67a8c48a3caf26ab9e17d9edc8385\", element=\"d45ec517-ebe6-4819-9d35-83942d233af0\")>,\n",
       " <selenium.webdriver.remote.webelement.WebElement (session=\"b3b67a8c48a3caf26ab9e17d9edc8385\", element=\"81cddb17-c4eb-45fb-abd6-8605df00ffb1\")>,\n",
       " <selenium.webdriver.remote.webelement.WebElement (session=\"b3b67a8c48a3caf26ab9e17d9edc8385\", element=\"1638b9e6-00a0-4030-94cb-2bd46df35f71\")>,\n",
       " <selenium.webdriver.remote.webelement.WebElement (session=\"b3b67a8c48a3caf26ab9e17d9edc8385\", element=\"c6f2fa27-0f2e-4cf6-8e16-2e5a48cd79ca\")>,\n",
       " <selenium.webdriver.remote.webelement.WebElement (session=\"b3b67a8c48a3caf26ab9e17d9edc8385\", element=\"72f842ae-8081-459b-8d29-89d3263df36e\")>,\n",
       " <selenium.webdriver.remote.webelement.WebElement (session=\"b3b67a8c48a3caf26ab9e17d9edc8385\", element=\"92543933-13f4-4838-b0b8-e969fa6f1e17\")>,\n",
       " <selenium.webdriver.remote.webelement.WebElement (session=\"b3b67a8c48a3caf26ab9e17d9edc8385\", element=\"32808a67-f079-4841-bf6e-470ffc2b6f47\")>,\n",
       " <selenium.webdriver.remote.webelement.WebElement (session=\"b3b67a8c48a3caf26ab9e17d9edc8385\", element=\"21268ff7-403d-4f11-8bae-cfb3bda6a9e9\")>,\n",
       " <selenium.webdriver.remote.webelement.WebElement (session=\"b3b67a8c48a3caf26ab9e17d9edc8385\", element=\"59f6a23e-7c57-44d7-8500-8921e712d378\")>,\n",
       " <selenium.webdriver.remote.webelement.WebElement (session=\"b3b67a8c48a3caf26ab9e17d9edc8385\", element=\"7c99d572-2c43-41c4-a31b-1817ecd9b194\")>,\n",
       " <selenium.webdriver.remote.webelement.WebElement (session=\"b3b67a8c48a3caf26ab9e17d9edc8385\", element=\"83c6bc7c-4ee3-4f72-a616-98c47627cc77\")>,\n",
       " <selenium.webdriver.remote.webelement.WebElement (session=\"b3b67a8c48a3caf26ab9e17d9edc8385\", element=\"593cddfa-e2aa-497f-8b1f-08de46e45208\")>,\n",
       " <selenium.webdriver.remote.webelement.WebElement (session=\"b3b67a8c48a3caf26ab9e17d9edc8385\", element=\"58494515-4cd5-40b7-a8b7-b0705d087585\")>,\n",
       " <selenium.webdriver.remote.webelement.WebElement (session=\"b3b67a8c48a3caf26ab9e17d9edc8385\", element=\"84224d5e-4881-4557-8a5d-e9574a28b83b\")>,\n",
       " <selenium.webdriver.remote.webelement.WebElement (session=\"b3b67a8c48a3caf26ab9e17d9edc8385\", element=\"3ca27e06-dd19-42c9-bedb-833550b073e0\")>,\n",
       " <selenium.webdriver.remote.webelement.WebElement (session=\"b3b67a8c48a3caf26ab9e17d9edc8385\", element=\"a0895d88-7747-4834-ac8a-8f9347687e8e\")>,\n",
       " <selenium.webdriver.remote.webelement.WebElement (session=\"b3b67a8c48a3caf26ab9e17d9edc8385\", element=\"b83e941a-7471-4a0e-b69b-a0a768a09d7e\")>,\n",
       " <selenium.webdriver.remote.webelement.WebElement (session=\"b3b67a8c48a3caf26ab9e17d9edc8385\", element=\"7f8632df-b06a-47c0-882e-f22f94c755a6\")>,\n",
       " <selenium.webdriver.remote.webelement.WebElement (session=\"b3b67a8c48a3caf26ab9e17d9edc8385\", element=\"9f361ef9-2cee-42e4-b450-f7730d6c3806\")>,\n",
       " <selenium.webdriver.remote.webelement.WebElement (session=\"b3b67a8c48a3caf26ab9e17d9edc8385\", element=\"9c4a8f2b-1345-4c70-a47b-d9028cfc9660\")>,\n",
       " <selenium.webdriver.remote.webelement.WebElement (session=\"b3b67a8c48a3caf26ab9e17d9edc8385\", element=\"8ea4f49d-92ce-4a00-af23-cbbf6128c06b\")>,\n",
       " <selenium.webdriver.remote.webelement.WebElement (session=\"b3b67a8c48a3caf26ab9e17d9edc8385\", element=\"95c9a719-99e7-470c-991f-434996003ebd\")>,\n",
       " <selenium.webdriver.remote.webelement.WebElement (session=\"b3b67a8c48a3caf26ab9e17d9edc8385\", element=\"667b2f81-3751-4fc8-b79b-cd629eb063fd\")>,\n",
       " <selenium.webdriver.remote.webelement.WebElement (session=\"b3b67a8c48a3caf26ab9e17d9edc8385\", element=\"ce480db9-09f1-431f-97ec-d59eb4594cb9\")>,\n",
       " <selenium.webdriver.remote.webelement.WebElement (session=\"b3b67a8c48a3caf26ab9e17d9edc8385\", element=\"5e7910bd-d425-4cb8-b2b3-76c5dad65377\")>,\n",
       " <selenium.webdriver.remote.webelement.WebElement (session=\"b3b67a8c48a3caf26ab9e17d9edc8385\", element=\"d2d8bfe3-c88e-4329-a149-a01a41abc08a\")>,\n",
       " <selenium.webdriver.remote.webelement.WebElement (session=\"b3b67a8c48a3caf26ab9e17d9edc8385\", element=\"94b555f9-10cf-49a8-9d62-be1d6269f5e3\")>,\n",
       " <selenium.webdriver.remote.webelement.WebElement (session=\"b3b67a8c48a3caf26ab9e17d9edc8385\", element=\"51b9568e-3125-4176-baf5-0d15d37e356a\")>,\n",
       " <selenium.webdriver.remote.webelement.WebElement (session=\"b3b67a8c48a3caf26ab9e17d9edc8385\", element=\"14440023-42b3-4536-bc75-eb1fc399a5f3\")>]"
      ]
     },
     "execution_count": 87,
     "metadata": {},
     "output_type": "execute_result"
    }
   ],
   "source": [
    "#let's extract all the tags having the product brand\n",
    "description_tags=driver.find_elements_by_class_name(\"IRpwTa\")\n",
    "description_tags"
   ]
  },
  {
   "cell_type": "markdown",
   "id": "bc460f1a",
   "metadata": {},
   "source": [
    "Now we have all the tags in which there are product description.\n",
    "\n",
    "Now we will extract the text from these these tags one by one by looping over these tags."
   ]
  },
  {
   "cell_type": "code",
   "execution_count": 88,
   "id": "1f211428",
   "metadata": {},
   "outputs": [
    {
     "data": {
      "text/plain": [
       "['UV Protection Round Sunglasses (54)',\n",
       " 'UV Protection Rectangular Sunglasses (Free Size)',\n",
       " 'UV Protection Rectangular Sunglasses (Free Size)',\n",
       " 'UV Protection Aviator Sunglasses (54)',\n",
       " 'UV Protection Wayfarer Sunglasses (Free Size)',\n",
       " 'Riding Glasses Wrap-around Sunglasses (Free Size)',\n",
       " 'UV Protection Sports Sunglasses (Free Size)',\n",
       " 'UV Protection, Polarized Wayfarer Sunglasses (Free Size...',\n",
       " 'UV Protection, Polarized, Mirrored Rectangular Sunglass...',\n",
       " 'UV Protection Rectangular Sunglasses (Free Size)',\n",
       " 'UV Protection Wayfarer Sunglasses (50)',\n",
       " 'UV Protection Wayfarer Sunglasses (32)',\n",
       " 'Polarized, Riding Glasses Sports, Wrap-around Sunglasse...',\n",
       " 'UV Protection Aviator Sunglasses (54)',\n",
       " 'Mirrored, UV Protection, Riding Glasses, Others Round S...',\n",
       " 'UV Protection Aviator Sunglasses (54)',\n",
       " 'UV Protection Retro Square Sunglasses (53)',\n",
       " 'Gradient, UV Protection Wayfarer Sunglasses (Free Size)',\n",
       " 'UV Protection Aviator, Wayfarer Sunglasses (Free Size)',\n",
       " 'UV Protection Oval Sunglasses (57)',\n",
       " 'UV Protection Wayfarer Sunglasses (Free Size)',\n",
       " 'UV Protection, Riding Glasses, Mirrored Wayfarer Sungla...',\n",
       " 'UV Protection Wayfarer Sunglasses (55)',\n",
       " 'UV Protection, Polarized, Mirrored Retro Square Sunglas...',\n",
       " 'Mirrored, UV Protection, Gradient Round Sunglasses (55)',\n",
       " 'UV Protection Over-sized Sunglasses (65)',\n",
       " 'Riding Glasses, UV Protection, Others Aviator Sunglasse...',\n",
       " 'UV Protection Wayfarer Sunglasses (Free Size)',\n",
       " 'UV Protection Aviator Sunglasses (58)',\n",
       " 'UV Protection, Polarized, Mirrored Round Sunglasses (Fr...',\n",
       " 'Polarized, Riding Glasses, Night Vision Sports, Wrap-ar...',\n",
       " 'UV Protection, Riding Glasses Wayfarer Sunglasses (53)',\n",
       " 'UV Protection Wayfarer Sunglasses (Free Size)',\n",
       " 'UV Protection Retro Square Sunglasses (Free Size)',\n",
       " 'UV Protection Wayfarer Sunglasses (53)',\n",
       " 'UV Protection Round Sunglasses (Free Size)',\n",
       " 'UV Protection Wayfarer Sunglasses (55)',\n",
       " 'UV Protection Rectangular Sunglasses (55)',\n",
       " 'Mirrored, UV Protection Wayfarer Sunglasses (Free Size)',\n",
       " 'UV Protection, Gradient, Mirrored, Riding Glasses Aviat...']"
      ]
     },
     "execution_count": 88,
     "metadata": {},
     "output_type": "execute_result"
    }
   ],
   "source": [
    "#now the text of the description is inside the tags extracted above\n",
    "#so we will run over a loop to iterate over the tags extracted above.\n",
    "for i in description_tags:\n",
    "    brands=i.text\n",
    "    product_description.append(brands)\n",
    "product_description"
   ]
  },
  {
   "cell_type": "code",
   "execution_count": 89,
   "id": "731e48e1",
   "metadata": {},
   "outputs": [
    {
     "data": {
      "text/plain": [
       "40"
      ]
     },
     "execution_count": 89,
     "metadata": {},
     "output_type": "execute_result"
    }
   ],
   "source": [
    "len(product_description)"
   ]
  },
  {
   "cell_type": "markdown",
   "id": "d4dcec62",
   "metadata": {},
   "source": [
    "first we will extract the all the tags where we will have product price."
   ]
  },
  {
   "cell_type": "code",
   "execution_count": 90,
   "id": "ddc936d2",
   "metadata": {},
   "outputs": [
    {
     "data": {
      "text/plain": [
       "[<selenium.webdriver.remote.webelement.WebElement (session=\"b3b67a8c48a3caf26ab9e17d9edc8385\", element=\"de9ab67d-0d74-430b-9f27-7d103a333d7a\")>,\n",
       " <selenium.webdriver.remote.webelement.WebElement (session=\"b3b67a8c48a3caf26ab9e17d9edc8385\", element=\"dac60efd-a41c-4b37-9c45-0594648dae2c\")>,\n",
       " <selenium.webdriver.remote.webelement.WebElement (session=\"b3b67a8c48a3caf26ab9e17d9edc8385\", element=\"85052412-bc85-4280-ac56-7a8eff4a84ab\")>,\n",
       " <selenium.webdriver.remote.webelement.WebElement (session=\"b3b67a8c48a3caf26ab9e17d9edc8385\", element=\"4671cfaf-8b4d-4d28-b512-7bbc4fc5cec6\")>,\n",
       " <selenium.webdriver.remote.webelement.WebElement (session=\"b3b67a8c48a3caf26ab9e17d9edc8385\", element=\"47d896e9-eb2f-44dc-986f-1e7b53c0be6e\")>,\n",
       " <selenium.webdriver.remote.webelement.WebElement (session=\"b3b67a8c48a3caf26ab9e17d9edc8385\", element=\"f9185228-30cc-4d2f-b9ab-84da137a6593\")>,\n",
       " <selenium.webdriver.remote.webelement.WebElement (session=\"b3b67a8c48a3caf26ab9e17d9edc8385\", element=\"51ba8ce3-caae-4329-b377-24b27f688a9b\")>,\n",
       " <selenium.webdriver.remote.webelement.WebElement (session=\"b3b67a8c48a3caf26ab9e17d9edc8385\", element=\"5885d394-c24d-4853-a8f8-85b70b0ce034\")>,\n",
       " <selenium.webdriver.remote.webelement.WebElement (session=\"b3b67a8c48a3caf26ab9e17d9edc8385\", element=\"e467dacb-3734-4f90-86fa-cac96d1c59f8\")>,\n",
       " <selenium.webdriver.remote.webelement.WebElement (session=\"b3b67a8c48a3caf26ab9e17d9edc8385\", element=\"ed9aa2a1-838c-4657-a436-0310d6fb0836\")>,\n",
       " <selenium.webdriver.remote.webelement.WebElement (session=\"b3b67a8c48a3caf26ab9e17d9edc8385\", element=\"db789d1e-c1ec-40f8-94a6-5c99775ca90c\")>,\n",
       " <selenium.webdriver.remote.webelement.WebElement (session=\"b3b67a8c48a3caf26ab9e17d9edc8385\", element=\"d033aca6-144f-4c14-9c2a-754c3f986c4f\")>,\n",
       " <selenium.webdriver.remote.webelement.WebElement (session=\"b3b67a8c48a3caf26ab9e17d9edc8385\", element=\"05b5e24d-2f3c-42c2-adcd-394841f4ff1b\")>,\n",
       " <selenium.webdriver.remote.webelement.WebElement (session=\"b3b67a8c48a3caf26ab9e17d9edc8385\", element=\"fe1250a4-53fd-4576-a759-ab0c5a5b712e\")>,\n",
       " <selenium.webdriver.remote.webelement.WebElement (session=\"b3b67a8c48a3caf26ab9e17d9edc8385\", element=\"68e4d3a0-404f-44cb-b559-b50e84c50e50\")>,\n",
       " <selenium.webdriver.remote.webelement.WebElement (session=\"b3b67a8c48a3caf26ab9e17d9edc8385\", element=\"9fe7974f-6bb3-40d9-9e52-af05503c8130\")>,\n",
       " <selenium.webdriver.remote.webelement.WebElement (session=\"b3b67a8c48a3caf26ab9e17d9edc8385\", element=\"f7f5ebb4-eca8-4e5a-a526-fd55e6881fcb\")>,\n",
       " <selenium.webdriver.remote.webelement.WebElement (session=\"b3b67a8c48a3caf26ab9e17d9edc8385\", element=\"cca6a773-4a27-428f-abb6-be5efda16b8d\")>,\n",
       " <selenium.webdriver.remote.webelement.WebElement (session=\"b3b67a8c48a3caf26ab9e17d9edc8385\", element=\"28f5224a-a16a-458e-ad88-9bc9bf0c6831\")>,\n",
       " <selenium.webdriver.remote.webelement.WebElement (session=\"b3b67a8c48a3caf26ab9e17d9edc8385\", element=\"5c20cd6c-8884-403c-bbf2-f4ec2971f101\")>,\n",
       " <selenium.webdriver.remote.webelement.WebElement (session=\"b3b67a8c48a3caf26ab9e17d9edc8385\", element=\"fb8fe55f-16ab-408c-959c-b3d201f5dbea\")>,\n",
       " <selenium.webdriver.remote.webelement.WebElement (session=\"b3b67a8c48a3caf26ab9e17d9edc8385\", element=\"1b1515c2-dea3-468e-a441-db5197e8ca76\")>,\n",
       " <selenium.webdriver.remote.webelement.WebElement (session=\"b3b67a8c48a3caf26ab9e17d9edc8385\", element=\"4357585c-f8a7-43bf-83ed-ff878bd63e30\")>,\n",
       " <selenium.webdriver.remote.webelement.WebElement (session=\"b3b67a8c48a3caf26ab9e17d9edc8385\", element=\"9e3686a8-f4d9-4953-97c8-ae7b8cc8142f\")>,\n",
       " <selenium.webdriver.remote.webelement.WebElement (session=\"b3b67a8c48a3caf26ab9e17d9edc8385\", element=\"38645ebe-3adc-4609-923d-275fc2169273\")>,\n",
       " <selenium.webdriver.remote.webelement.WebElement (session=\"b3b67a8c48a3caf26ab9e17d9edc8385\", element=\"6bc2f409-30b8-4d04-9705-0fb39c052b21\")>,\n",
       " <selenium.webdriver.remote.webelement.WebElement (session=\"b3b67a8c48a3caf26ab9e17d9edc8385\", element=\"c8dcfd5b-227c-4b33-b662-3e9491146924\")>,\n",
       " <selenium.webdriver.remote.webelement.WebElement (session=\"b3b67a8c48a3caf26ab9e17d9edc8385\", element=\"726e5cda-9131-418a-be74-65f7d649f53b\")>,\n",
       " <selenium.webdriver.remote.webelement.WebElement (session=\"b3b67a8c48a3caf26ab9e17d9edc8385\", element=\"09e35353-eb30-4654-a2d7-8cfe3ce71906\")>,\n",
       " <selenium.webdriver.remote.webelement.WebElement (session=\"b3b67a8c48a3caf26ab9e17d9edc8385\", element=\"fffd7df2-485e-41dd-a566-9d1d11554776\")>,\n",
       " <selenium.webdriver.remote.webelement.WebElement (session=\"b3b67a8c48a3caf26ab9e17d9edc8385\", element=\"af53bd43-eda4-46f3-9019-b56b37ed23c3\")>,\n",
       " <selenium.webdriver.remote.webelement.WebElement (session=\"b3b67a8c48a3caf26ab9e17d9edc8385\", element=\"88d8a970-5ca4-43cf-a1bf-fa1243cf62d1\")>,\n",
       " <selenium.webdriver.remote.webelement.WebElement (session=\"b3b67a8c48a3caf26ab9e17d9edc8385\", element=\"6942c0f2-8aa0-4330-9eab-14e287dac7bd\")>,\n",
       " <selenium.webdriver.remote.webelement.WebElement (session=\"b3b67a8c48a3caf26ab9e17d9edc8385\", element=\"efda6329-2c89-4680-bef1-ba18d61823bc\")>,\n",
       " <selenium.webdriver.remote.webelement.WebElement (session=\"b3b67a8c48a3caf26ab9e17d9edc8385\", element=\"58d3858e-e06e-4d97-8fa6-c6dfe6c56b83\")>,\n",
       " <selenium.webdriver.remote.webelement.WebElement (session=\"b3b67a8c48a3caf26ab9e17d9edc8385\", element=\"d838d3ff-c678-47bd-b7ed-6c3e79558cc5\")>,\n",
       " <selenium.webdriver.remote.webelement.WebElement (session=\"b3b67a8c48a3caf26ab9e17d9edc8385\", element=\"b5d4cc07-d0a5-45ea-81e7-500ff6947df6\")>,\n",
       " <selenium.webdriver.remote.webelement.WebElement (session=\"b3b67a8c48a3caf26ab9e17d9edc8385\", element=\"cb6babd3-1b3a-4f70-8f2b-91f3dc8da85f\")>,\n",
       " <selenium.webdriver.remote.webelement.WebElement (session=\"b3b67a8c48a3caf26ab9e17d9edc8385\", element=\"67b5e1fd-0e09-4ddf-ac03-582b4da57578\")>,\n",
       " <selenium.webdriver.remote.webelement.WebElement (session=\"b3b67a8c48a3caf26ab9e17d9edc8385\", element=\"6084ca1b-86ce-4a1a-82b7-32ea46b6feb7\")>,\n",
       " <selenium.webdriver.remote.webelement.WebElement (session=\"b3b67a8c48a3caf26ab9e17d9edc8385\", element=\"6b487a0d-332b-43d9-ab31-c2f70d2ff207\")>,\n",
       " <selenium.webdriver.remote.webelement.WebElement (session=\"b3b67a8c48a3caf26ab9e17d9edc8385\", element=\"b875016b-fc65-4342-a973-f0fe47bbfed2\")>,\n",
       " <selenium.webdriver.remote.webelement.WebElement (session=\"b3b67a8c48a3caf26ab9e17d9edc8385\", element=\"55765d0f-c316-43bb-8894-dd95d8466087\")>,\n",
       " <selenium.webdriver.remote.webelement.WebElement (session=\"b3b67a8c48a3caf26ab9e17d9edc8385\", element=\"df6465c2-7ca8-4747-baad-d2de0509c167\")>,\n",
       " <selenium.webdriver.remote.webelement.WebElement (session=\"b3b67a8c48a3caf26ab9e17d9edc8385\", element=\"4fd96980-8ebd-44e6-8579-78d44a03071f\")>]"
      ]
     },
     "execution_count": 90,
     "metadata": {},
     "output_type": "execute_result"
    }
   ],
   "source": [
    "#let's extract all the tags having the product brand\n",
    "price_tags=driver.find_elements_by_class_name(\"_30jeq3\")\n",
    "price_tags"
   ]
  },
  {
   "cell_type": "markdown",
   "id": "ce408373",
   "metadata": {},
   "source": [
    "Now we have all the tags in which there are product price.\n",
    "\n",
    "Now we will extract the text from these these tags one by one by looping over these tags."
   ]
  },
  {
   "cell_type": "code",
   "execution_count": 91,
   "id": "88eae7f8",
   "metadata": {},
   "outputs": [
    {
     "data": {
      "text/plain": [
       "['₹295',\n",
       " '₹639',\n",
       " '₹265',\n",
       " '₹249',\n",
       " '₹719',\n",
       " '₹299',\n",
       " '₹258',\n",
       " '₹283',\n",
       " '₹195',\n",
       " '₹219',\n",
       " '₹250',\n",
       " '₹225',\n",
       " '₹474',\n",
       " '₹249',\n",
       " '₹299',\n",
       " '₹249',\n",
       " '₹315',\n",
       " '₹639',\n",
       " '₹217',\n",
       " '₹649',\n",
       " '₹719',\n",
       " '₹209',\n",
       " '₹719',\n",
       " '₹269',\n",
       " '₹210',\n",
       " '₹399',\n",
       " '₹245',\n",
       " '₹699',\n",
       " '₹1,099',\n",
       " '₹324',\n",
       " '₹499',\n",
       " '₹221',\n",
       " '₹639',\n",
       " '₹499',\n",
       " '₹246',\n",
       " '₹329',\n",
       " '₹171',\n",
       " '₹189',\n",
       " '₹269',\n",
       " '₹233',\n",
       " '₹719',\n",
       " '₹299',\n",
       " '₹233',\n",
       " '₹221',\n",
       " '₹399']"
      ]
     },
     "execution_count": 91,
     "metadata": {},
     "output_type": "execute_result"
    }
   ],
   "source": [
    "#now the text of the price is inside the tags extracted above\n",
    "#so we will run over a loop to iterate over the tags extracted above.\n",
    "for i in price_tags:\n",
    "    prices=i.text\n",
    "    product_price.append(prices)\n",
    "product_price"
   ]
  },
  {
   "cell_type": "code",
   "execution_count": 92,
   "id": "d90184da",
   "metadata": {},
   "outputs": [
    {
     "data": {
      "text/plain": [
       "45"
      ]
     },
     "execution_count": 92,
     "metadata": {},
     "output_type": "execute_result"
    }
   ],
   "source": [
    "len(product_price)"
   ]
  },
  {
   "cell_type": "markdown",
   "id": "9b653e2d",
   "metadata": {},
   "source": [
    "first we will extract the all the tags where we will have product discount."
   ]
  },
  {
   "cell_type": "code",
   "execution_count": 93,
   "id": "3d15d6af",
   "metadata": {},
   "outputs": [
    {
     "data": {
      "text/plain": [
       "[<selenium.webdriver.remote.webelement.WebElement (session=\"b3b67a8c48a3caf26ab9e17d9edc8385\", element=\"584a95f9-7f01-4f25-8cef-5a8ab507b39f\")>,\n",
       " <selenium.webdriver.remote.webelement.WebElement (session=\"b3b67a8c48a3caf26ab9e17d9edc8385\", element=\"76448c93-e612-48dc-9336-2769fcf47e2a\")>,\n",
       " <selenium.webdriver.remote.webelement.WebElement (session=\"b3b67a8c48a3caf26ab9e17d9edc8385\", element=\"1d2848bc-9988-4729-b1b6-003edddd77d9\")>,\n",
       " <selenium.webdriver.remote.webelement.WebElement (session=\"b3b67a8c48a3caf26ab9e17d9edc8385\", element=\"964d175d-9f97-4fc8-93e5-105eaf106777\")>,\n",
       " <selenium.webdriver.remote.webelement.WebElement (session=\"b3b67a8c48a3caf26ab9e17d9edc8385\", element=\"5462b984-d271-41ab-80ff-10a343278434\")>,\n",
       " <selenium.webdriver.remote.webelement.WebElement (session=\"b3b67a8c48a3caf26ab9e17d9edc8385\", element=\"857f99c3-b3c2-4cbe-984f-064bd467b56c\")>,\n",
       " <selenium.webdriver.remote.webelement.WebElement (session=\"b3b67a8c48a3caf26ab9e17d9edc8385\", element=\"b44e145c-b979-4cd6-86dd-91eb04dfd347\")>,\n",
       " <selenium.webdriver.remote.webelement.WebElement (session=\"b3b67a8c48a3caf26ab9e17d9edc8385\", element=\"305085e3-adbf-42b8-a60e-4de50993fc97\")>,\n",
       " <selenium.webdriver.remote.webelement.WebElement (session=\"b3b67a8c48a3caf26ab9e17d9edc8385\", element=\"b51cfc88-eeb3-43c1-89f4-807a7ff24a14\")>,\n",
       " <selenium.webdriver.remote.webelement.WebElement (session=\"b3b67a8c48a3caf26ab9e17d9edc8385\", element=\"acc4865d-54ed-4455-afb0-477816796c69\")>,\n",
       " <selenium.webdriver.remote.webelement.WebElement (session=\"b3b67a8c48a3caf26ab9e17d9edc8385\", element=\"99826a3e-6ce8-4a80-bfe7-802460795e9e\")>,\n",
       " <selenium.webdriver.remote.webelement.WebElement (session=\"b3b67a8c48a3caf26ab9e17d9edc8385\", element=\"0b4e95bb-240e-490f-a604-497a6bdf640a\")>,\n",
       " <selenium.webdriver.remote.webelement.WebElement (session=\"b3b67a8c48a3caf26ab9e17d9edc8385\", element=\"f5f9f31d-fe39-4ae8-92bc-369727aa2fc2\")>,\n",
       " <selenium.webdriver.remote.webelement.WebElement (session=\"b3b67a8c48a3caf26ab9e17d9edc8385\", element=\"39803fb7-da85-4401-8e6b-1f812669b582\")>,\n",
       " <selenium.webdriver.remote.webelement.WebElement (session=\"b3b67a8c48a3caf26ab9e17d9edc8385\", element=\"42e47db3-97e3-4a7c-96cf-c9944ba3b9f3\")>,\n",
       " <selenium.webdriver.remote.webelement.WebElement (session=\"b3b67a8c48a3caf26ab9e17d9edc8385\", element=\"d012fa11-c432-404a-91b0-e29294ac38f9\")>,\n",
       " <selenium.webdriver.remote.webelement.WebElement (session=\"b3b67a8c48a3caf26ab9e17d9edc8385\", element=\"23999338-e43f-4f53-93ba-4687038297bf\")>,\n",
       " <selenium.webdriver.remote.webelement.WebElement (session=\"b3b67a8c48a3caf26ab9e17d9edc8385\", element=\"65b0b80a-49a8-47c5-be0e-707852a52fdc\")>,\n",
       " <selenium.webdriver.remote.webelement.WebElement (session=\"b3b67a8c48a3caf26ab9e17d9edc8385\", element=\"fab594d9-4307-471d-8e28-cc13d3db9cdb\")>,\n",
       " <selenium.webdriver.remote.webelement.WebElement (session=\"b3b67a8c48a3caf26ab9e17d9edc8385\", element=\"82f7804b-94bf-480c-b2fe-5bc7a5ee7a90\")>,\n",
       " <selenium.webdriver.remote.webelement.WebElement (session=\"b3b67a8c48a3caf26ab9e17d9edc8385\", element=\"dacda6cd-03aa-4e07-a143-580377473b47\")>,\n",
       " <selenium.webdriver.remote.webelement.WebElement (session=\"b3b67a8c48a3caf26ab9e17d9edc8385\", element=\"2745ff52-d47f-458b-bd51-0db7ca3ab019\")>,\n",
       " <selenium.webdriver.remote.webelement.WebElement (session=\"b3b67a8c48a3caf26ab9e17d9edc8385\", element=\"5e58d39e-2c33-4f15-8e12-54636ebb4e49\")>,\n",
       " <selenium.webdriver.remote.webelement.WebElement (session=\"b3b67a8c48a3caf26ab9e17d9edc8385\", element=\"fb4c1ea1-9d1c-48f7-a1fd-db053b246680\")>,\n",
       " <selenium.webdriver.remote.webelement.WebElement (session=\"b3b67a8c48a3caf26ab9e17d9edc8385\", element=\"01ee7ac9-0a79-4197-b799-f328193b0b7a\")>,\n",
       " <selenium.webdriver.remote.webelement.WebElement (session=\"b3b67a8c48a3caf26ab9e17d9edc8385\", element=\"01629210-6284-49d5-8fea-0f64cdc9e88c\")>,\n",
       " <selenium.webdriver.remote.webelement.WebElement (session=\"b3b67a8c48a3caf26ab9e17d9edc8385\", element=\"17f6453f-71ba-4cf6-a9c1-8e766a0ad1c4\")>,\n",
       " <selenium.webdriver.remote.webelement.WebElement (session=\"b3b67a8c48a3caf26ab9e17d9edc8385\", element=\"5d36d0b6-9dec-4e0f-acf0-9e37ba26e82c\")>,\n",
       " <selenium.webdriver.remote.webelement.WebElement (session=\"b3b67a8c48a3caf26ab9e17d9edc8385\", element=\"d6fd10b6-c6f0-47dc-aca9-89d8e8bc131e\")>,\n",
       " <selenium.webdriver.remote.webelement.WebElement (session=\"b3b67a8c48a3caf26ab9e17d9edc8385\", element=\"4e3c3bda-da47-415b-8c8c-84e46b09758e\")>,\n",
       " <selenium.webdriver.remote.webelement.WebElement (session=\"b3b67a8c48a3caf26ab9e17d9edc8385\", element=\"f75b47b7-4dbc-4604-9122-0d3d1115fc1d\")>,\n",
       " <selenium.webdriver.remote.webelement.WebElement (session=\"b3b67a8c48a3caf26ab9e17d9edc8385\", element=\"533d3d22-cacc-4222-af7d-705cb47e2afe\")>,\n",
       " <selenium.webdriver.remote.webelement.WebElement (session=\"b3b67a8c48a3caf26ab9e17d9edc8385\", element=\"405b318b-fb1a-4fe0-93d0-b4dc294629ec\")>,\n",
       " <selenium.webdriver.remote.webelement.WebElement (session=\"b3b67a8c48a3caf26ab9e17d9edc8385\", element=\"8104469c-5644-41d0-abf4-31c6d42af8a6\")>,\n",
       " <selenium.webdriver.remote.webelement.WebElement (session=\"b3b67a8c48a3caf26ab9e17d9edc8385\", element=\"11280a44-f1ad-44e2-b89b-1b749d41c98c\")>,\n",
       " <selenium.webdriver.remote.webelement.WebElement (session=\"b3b67a8c48a3caf26ab9e17d9edc8385\", element=\"4ecacb46-37db-4d82-a136-bab62dd6ec0f\")>,\n",
       " <selenium.webdriver.remote.webelement.WebElement (session=\"b3b67a8c48a3caf26ab9e17d9edc8385\", element=\"3687db6a-2cc2-4f35-ad21-ccaa580c8f9b\")>,\n",
       " <selenium.webdriver.remote.webelement.WebElement (session=\"b3b67a8c48a3caf26ab9e17d9edc8385\", element=\"f679aaa5-abce-4d43-a610-0ddbbd1c7ddc\")>,\n",
       " <selenium.webdriver.remote.webelement.WebElement (session=\"b3b67a8c48a3caf26ab9e17d9edc8385\", element=\"f920e304-8f4a-448c-8601-a8738ff56e43\")>,\n",
       " <selenium.webdriver.remote.webelement.WebElement (session=\"b3b67a8c48a3caf26ab9e17d9edc8385\", element=\"65e6dc3b-335a-4339-b77d-10f54b6edc7d\")>,\n",
       " <selenium.webdriver.remote.webelement.WebElement (session=\"b3b67a8c48a3caf26ab9e17d9edc8385\", element=\"ccd73e83-054f-4c93-a046-9cbe60d159d2\")>,\n",
       " <selenium.webdriver.remote.webelement.WebElement (session=\"b3b67a8c48a3caf26ab9e17d9edc8385\", element=\"79b93483-9463-484a-bbf2-f382d5664bd9\")>,\n",
       " <selenium.webdriver.remote.webelement.WebElement (session=\"b3b67a8c48a3caf26ab9e17d9edc8385\", element=\"9f69583c-f26c-4fad-a694-5dbb8acb9709\")>,\n",
       " <selenium.webdriver.remote.webelement.WebElement (session=\"b3b67a8c48a3caf26ab9e17d9edc8385\", element=\"44b31b89-5d3d-4f91-a228-cc82a64e4c43\")>,\n",
       " <selenium.webdriver.remote.webelement.WebElement (session=\"b3b67a8c48a3caf26ab9e17d9edc8385\", element=\"fa46069a-3141-4e5b-922b-0b8d28dbce1c\")>]"
      ]
     },
     "execution_count": 93,
     "metadata": {},
     "output_type": "execute_result"
    }
   ],
   "source": [
    "#let's extract all the tags having the product discount\n",
    "discount_tags=driver.find_elements_by_class_name(\"_3Ay6Sb\")\n",
    "discount_tags"
   ]
  },
  {
   "cell_type": "markdown",
   "id": "d8d396b1",
   "metadata": {},
   "source": [
    "Now we have all the tags in which there are product discount.\n",
    "\n",
    "Now we will extract the text from these these tags one by one by looping over these tags."
   ]
  },
  {
   "cell_type": "code",
   "execution_count": 94,
   "id": "cd2ec945",
   "metadata": {},
   "outputs": [
    {
     "data": {
      "text/plain": [
       "['88% off',\n",
       " '20% off',\n",
       " '86% off',\n",
       " '84% off',\n",
       " '20% off',\n",
       " '88% off',\n",
       " '86% off',\n",
       " '78% off',\n",
       " '88% off',\n",
       " '78% off',\n",
       " '80% off',\n",
       " '85% off',\n",
       " '76% off',\n",
       " '84% off',\n",
       " '78% off',\n",
       " '84% off',\n",
       " '68% off',\n",
       " '20% off',\n",
       " '81% off',\n",
       " '35% off',\n",
       " '20% off',\n",
       " '82% off',\n",
       " '10% off',\n",
       " '79% off',\n",
       " '85% off',\n",
       " '84% off',\n",
       " '83% off',\n",
       " '22% off',\n",
       " '15% off',\n",
       " '80% off',\n",
       " '78% off',\n",
       " '87% off',\n",
       " '20% off',\n",
       " '77% off',\n",
       " '75% off',\n",
       " '79% off',\n",
       " '82% off',\n",
       " '85% off',\n",
       " '86% off',\n",
       " '76% off',\n",
       " '20% off',\n",
       " '78% off',\n",
       " '76% off',\n",
       " '87% off',\n",
       " '84% off']"
      ]
     },
     "execution_count": 94,
     "metadata": {},
     "output_type": "execute_result"
    }
   ],
   "source": [
    "#now the text of the discount is inside the tags extracted above\n",
    "#so we will run over a loop to iterate over the tags extracted above.\n",
    "for i in discount_tags:\n",
    "    discount=i.text\n",
    "    product_discount.append(discount)\n",
    "product_discount"
   ]
  },
  {
   "cell_type": "code",
   "execution_count": 95,
   "id": "bedf509e",
   "metadata": {},
   "outputs": [
    {
     "data": {
      "text/plain": [
       "45"
      ]
     },
     "execution_count": 95,
     "metadata": {},
     "output_type": "execute_result"
    }
   ],
   "source": [
    "len(product_discount)"
   ]
  },
  {
   "cell_type": "code",
   "execution_count": 96,
   "id": "f6cc3b2f",
   "metadata": {},
   "outputs": [],
   "source": [
    "#specifying the url of the webpage to be scraped for the second page\n",
    "#specifying the url of the webpage to be scraped\n",
    "url='https://www.flipkart.com/search?q=sunglasses&as=on&as-show=on&otracker=AS_Query_OrganicAutoSuggest_3_10_na_na_na&otracker1=AS_Query_OrganicAutoSuggest_3_10_na_na_na&as-pos=3&as-type=RECENT&suggestionId=sunglasses&requestId=249801f9-3654-4235-a0d3-c45d31d073c1&as-backfill=on&page=2'\n",
    "driver.get(url)"
   ]
  },
  {
   "cell_type": "markdown",
   "id": "55ca699c",
   "metadata": {},
   "source": [
    "So now let's again make 4 empty list. In these lists the data will be stored while scraping.we have created 4 empty list for the features which we have to extract.\n",
    "\n",
    "1.Brand. 2.product_description 3.price 4.discount"
   ]
  },
  {
   "cell_type": "code",
   "execution_count": 97,
   "id": "ba28b671",
   "metadata": {},
   "outputs": [],
   "source": [
    "product_Brand=[]\n",
    "product_description=[]\n",
    "product_price=[]\n",
    "product_discount=[]"
   ]
  },
  {
   "cell_type": "code",
   "execution_count": 98,
   "id": "e281bf32",
   "metadata": {},
   "outputs": [
    {
     "data": {
      "text/plain": [
       "[<selenium.webdriver.remote.webelement.WebElement (session=\"b3b67a8c48a3caf26ab9e17d9edc8385\", element=\"dc2cdfac-3ede-421a-9a8f-055b4d155ebe\")>,\n",
       " <selenium.webdriver.remote.webelement.WebElement (session=\"b3b67a8c48a3caf26ab9e17d9edc8385\", element=\"f1badf81-e87a-42ee-abc4-51d69411dab1\")>,\n",
       " <selenium.webdriver.remote.webelement.WebElement (session=\"b3b67a8c48a3caf26ab9e17d9edc8385\", element=\"38e5286f-fb01-4336-902a-95c824ea0f93\")>,\n",
       " <selenium.webdriver.remote.webelement.WebElement (session=\"b3b67a8c48a3caf26ab9e17d9edc8385\", element=\"7c54cfac-89e9-4858-8e48-e8cf5687d9b5\")>,\n",
       " <selenium.webdriver.remote.webelement.WebElement (session=\"b3b67a8c48a3caf26ab9e17d9edc8385\", element=\"6fb83cbe-7304-4af3-b93a-de211b34e88e\")>,\n",
       " <selenium.webdriver.remote.webelement.WebElement (session=\"b3b67a8c48a3caf26ab9e17d9edc8385\", element=\"14b7b00e-7f01-459e-9530-42f46bd84076\")>,\n",
       " <selenium.webdriver.remote.webelement.WebElement (session=\"b3b67a8c48a3caf26ab9e17d9edc8385\", element=\"c9681dba-e545-4abf-b57c-16449a6e9544\")>,\n",
       " <selenium.webdriver.remote.webelement.WebElement (session=\"b3b67a8c48a3caf26ab9e17d9edc8385\", element=\"bf21f3ca-2e2c-4979-a333-fecec0445479\")>,\n",
       " <selenium.webdriver.remote.webelement.WebElement (session=\"b3b67a8c48a3caf26ab9e17d9edc8385\", element=\"bdb8d1e0-2ef3-4c95-92b5-7dec8c0e9c5c\")>,\n",
       " <selenium.webdriver.remote.webelement.WebElement (session=\"b3b67a8c48a3caf26ab9e17d9edc8385\", element=\"0d03bbc4-2d9e-45b8-b9ce-b2aacecaa0ae\")>,\n",
       " <selenium.webdriver.remote.webelement.WebElement (session=\"b3b67a8c48a3caf26ab9e17d9edc8385\", element=\"c0af23d6-3b2d-46a1-a9f6-8df6c4275ae2\")>,\n",
       " <selenium.webdriver.remote.webelement.WebElement (session=\"b3b67a8c48a3caf26ab9e17d9edc8385\", element=\"c66e20fd-80ed-4a00-9e9a-cbf9f00af600\")>,\n",
       " <selenium.webdriver.remote.webelement.WebElement (session=\"b3b67a8c48a3caf26ab9e17d9edc8385\", element=\"58fc03d9-12e8-4cbb-93a7-a2ffa1f0b7e4\")>,\n",
       " <selenium.webdriver.remote.webelement.WebElement (session=\"b3b67a8c48a3caf26ab9e17d9edc8385\", element=\"49c39b73-dd14-4713-aaad-b464a39513b0\")>,\n",
       " <selenium.webdriver.remote.webelement.WebElement (session=\"b3b67a8c48a3caf26ab9e17d9edc8385\", element=\"a6a87581-2e31-4de3-bb1d-5326822685b5\")>,\n",
       " <selenium.webdriver.remote.webelement.WebElement (session=\"b3b67a8c48a3caf26ab9e17d9edc8385\", element=\"39b0b837-e877-4137-818e-9fb102ab3e7e\")>,\n",
       " <selenium.webdriver.remote.webelement.WebElement (session=\"b3b67a8c48a3caf26ab9e17d9edc8385\", element=\"3fea9c9a-fa81-48ed-871c-b09030ddfe0d\")>,\n",
       " <selenium.webdriver.remote.webelement.WebElement (session=\"b3b67a8c48a3caf26ab9e17d9edc8385\", element=\"1ef728af-efc7-485e-83e8-d0a69042daa4\")>,\n",
       " <selenium.webdriver.remote.webelement.WebElement (session=\"b3b67a8c48a3caf26ab9e17d9edc8385\", element=\"066a05c3-9612-44a8-b11a-18f40d5df625\")>,\n",
       " <selenium.webdriver.remote.webelement.WebElement (session=\"b3b67a8c48a3caf26ab9e17d9edc8385\", element=\"ee4f62f2-e0b6-402d-8460-c4ca7ccf7545\")>,\n",
       " <selenium.webdriver.remote.webelement.WebElement (session=\"b3b67a8c48a3caf26ab9e17d9edc8385\", element=\"94360c26-d9d6-4362-b5ef-55575c77fd3a\")>,\n",
       " <selenium.webdriver.remote.webelement.WebElement (session=\"b3b67a8c48a3caf26ab9e17d9edc8385\", element=\"c8b424a9-5ccb-43dc-8cca-8571c6bcac19\")>,\n",
       " <selenium.webdriver.remote.webelement.WebElement (session=\"b3b67a8c48a3caf26ab9e17d9edc8385\", element=\"3c11cc27-73e5-4ae3-a9ce-fffe17fbb510\")>,\n",
       " <selenium.webdriver.remote.webelement.WebElement (session=\"b3b67a8c48a3caf26ab9e17d9edc8385\", element=\"d88f768e-cb38-4f77-9204-78b38e2261cc\")>,\n",
       " <selenium.webdriver.remote.webelement.WebElement (session=\"b3b67a8c48a3caf26ab9e17d9edc8385\", element=\"db4dbafe-ac01-4ff9-990e-99750c33b6ca\")>,\n",
       " <selenium.webdriver.remote.webelement.WebElement (session=\"b3b67a8c48a3caf26ab9e17d9edc8385\", element=\"3c3ba772-71f7-4e01-9c64-424738df9221\")>,\n",
       " <selenium.webdriver.remote.webelement.WebElement (session=\"b3b67a8c48a3caf26ab9e17d9edc8385\", element=\"f8365ebb-20b2-4c8d-9950-660bfe3d0c99\")>,\n",
       " <selenium.webdriver.remote.webelement.WebElement (session=\"b3b67a8c48a3caf26ab9e17d9edc8385\", element=\"3c3a15a4-78e6-4982-8d81-4366eafacf7b\")>,\n",
       " <selenium.webdriver.remote.webelement.WebElement (session=\"b3b67a8c48a3caf26ab9e17d9edc8385\", element=\"878ee712-29e6-4a79-b26d-702de4f1736a\")>,\n",
       " <selenium.webdriver.remote.webelement.WebElement (session=\"b3b67a8c48a3caf26ab9e17d9edc8385\", element=\"d57dc390-3081-423b-a197-43e0274ae93f\")>,\n",
       " <selenium.webdriver.remote.webelement.WebElement (session=\"b3b67a8c48a3caf26ab9e17d9edc8385\", element=\"4112c3e0-50e4-436d-98b2-339ff8b05655\")>,\n",
       " <selenium.webdriver.remote.webelement.WebElement (session=\"b3b67a8c48a3caf26ab9e17d9edc8385\", element=\"3542b895-7fa6-4ded-b637-55da18075850\")>,\n",
       " <selenium.webdriver.remote.webelement.WebElement (session=\"b3b67a8c48a3caf26ab9e17d9edc8385\", element=\"f831e79c-cf7a-41bf-a510-710aadc38d10\")>,\n",
       " <selenium.webdriver.remote.webelement.WebElement (session=\"b3b67a8c48a3caf26ab9e17d9edc8385\", element=\"188f04ab-c96c-4dd4-a5a2-d9e949453271\")>,\n",
       " <selenium.webdriver.remote.webelement.WebElement (session=\"b3b67a8c48a3caf26ab9e17d9edc8385\", element=\"bbd9b7d9-8aef-42e9-ae16-0003d3728f62\")>,\n",
       " <selenium.webdriver.remote.webelement.WebElement (session=\"b3b67a8c48a3caf26ab9e17d9edc8385\", element=\"22eb6735-591f-4e96-a152-557c288da2d1\")>,\n",
       " <selenium.webdriver.remote.webelement.WebElement (session=\"b3b67a8c48a3caf26ab9e17d9edc8385\", element=\"db529e43-85b3-4494-b1d8-312194e258e2\")>,\n",
       " <selenium.webdriver.remote.webelement.WebElement (session=\"b3b67a8c48a3caf26ab9e17d9edc8385\", element=\"99d3e10f-4e3e-4010-8f85-ed7c792d5aba\")>,\n",
       " <selenium.webdriver.remote.webelement.WebElement (session=\"b3b67a8c48a3caf26ab9e17d9edc8385\", element=\"48e4c73b-b0b7-4338-99ea-79d85a989e5f\")>,\n",
       " <selenium.webdriver.remote.webelement.WebElement (session=\"b3b67a8c48a3caf26ab9e17d9edc8385\", element=\"e28104d7-6fdd-43a3-a7ce-79ccf04eea0d\")>]"
      ]
     },
     "execution_count": 98,
     "metadata": {},
     "output_type": "execute_result"
    }
   ],
   "source": [
    "#let's extract all the tags from the next page having the product brand\n",
    "brand_tags=driver.find_elements_by_class_name('_2WkVRV')\n",
    "brand_tags"
   ]
  },
  {
   "cell_type": "markdown",
   "id": "46c04f41",
   "metadata": {},
   "source": [
    "Now we have all the tags from next page in which there are Brand names.\n",
    "\n",
    "Now we will extract the text from these these tags one by one by looping over these tags."
   ]
  },
  {
   "cell_type": "code",
   "execution_count": 99,
   "id": "9369c748",
   "metadata": {},
   "outputs": [
    {
     "data": {
      "text/plain": [
       "['kingsunglasses',\n",
       " 'kingsunglasses',\n",
       " 'GANSTA',\n",
       " 'ROZZETTA CRAFT',\n",
       " 'Lee Topper',\n",
       " 'VINCENT CHASE',\n",
       " 'PHENOMENAL',\n",
       " 'VINCENT CHASE',\n",
       " 'kingsunglasses',\n",
       " 'kingsunglasses',\n",
       " 'AISLIN',\n",
       " 'agera',\n",
       " 'Fastrack',\n",
       " 'ROYAL SON',\n",
       " 'Fastrack',\n",
       " 'VINCENT CHASE',\n",
       " 'hipe',\n",
       " 'New Specs',\n",
       " 'SRPM',\n",
       " 'ROZZETTA CRAFT',\n",
       " 'Roadster',\n",
       " 'kingsunglasses',\n",
       " 'Silver Kartz',\n",
       " 'NuVew',\n",
       " 'PIRASO',\n",
       " 'AISLIN',\n",
       " 'VINCENT CHASE',\n",
       " 'Resist',\n",
       " 'Fastrack',\n",
       " 'ROZZETTA CRAFT',\n",
       " 'SRPM',\n",
       " 'Singco India',\n",
       " 'SHAAH COLLECTIONS',\n",
       " 'PHENOMENAL',\n",
       " 'Elligator',\n",
       " 'ROYAL SON',\n",
       " 'VINCENT CHASE',\n",
       " 'Singco India',\n",
       " 'kingsunglasses',\n",
       " 'GANSTA']"
      ]
     },
     "execution_count": 99,
     "metadata": {},
     "output_type": "execute_result"
    }
   ],
   "source": [
    "#now the text of the brand name is inside the tags extracted above\n",
    "#so we will run over a loop to iterate over the tags extracted above.\n",
    "for i in brand_tags:\n",
    "    title=i.text\n",
    "    product_Brand.append(title)\n",
    "product_Brand"
   ]
  },
  {
   "cell_type": "code",
   "execution_count": 100,
   "id": "2ce2f5c3",
   "metadata": {},
   "outputs": [
    {
     "data": {
      "text/plain": [
       "40"
      ]
     },
     "execution_count": 100,
     "metadata": {},
     "output_type": "execute_result"
    }
   ],
   "source": [
    "len(product_Brand)"
   ]
  },
  {
   "cell_type": "markdown",
   "id": "627528db",
   "metadata": {},
   "source": [
    "first we will extract the all the tags from next page where we will have product Description."
   ]
  },
  {
   "cell_type": "code",
   "execution_count": 101,
   "id": "8fcebbeb",
   "metadata": {},
   "outputs": [
    {
     "data": {
      "text/plain": [
       "[<selenium.webdriver.remote.webelement.WebElement (session=\"b3b67a8c48a3caf26ab9e17d9edc8385\", element=\"4259e4dc-efdd-4ca1-9710-4b89d3e467fa\")>,\n",
       " <selenium.webdriver.remote.webelement.WebElement (session=\"b3b67a8c48a3caf26ab9e17d9edc8385\", element=\"a9649f02-b2ee-46c8-9838-1a4c70ac6942\")>,\n",
       " <selenium.webdriver.remote.webelement.WebElement (session=\"b3b67a8c48a3caf26ab9e17d9edc8385\", element=\"d2aa9b3c-c19d-4c67-a203-471a774b9727\")>,\n",
       " <selenium.webdriver.remote.webelement.WebElement (session=\"b3b67a8c48a3caf26ab9e17d9edc8385\", element=\"66723159-54a6-4eed-8ebd-19c752e073d5\")>,\n",
       " <selenium.webdriver.remote.webelement.WebElement (session=\"b3b67a8c48a3caf26ab9e17d9edc8385\", element=\"3012418f-e8b0-41d3-a0a8-b7d12aa52406\")>,\n",
       " <selenium.webdriver.remote.webelement.WebElement (session=\"b3b67a8c48a3caf26ab9e17d9edc8385\", element=\"4f528a2e-60a0-43d0-9441-b93ea9bdf00f\")>,\n",
       " <selenium.webdriver.remote.webelement.WebElement (session=\"b3b67a8c48a3caf26ab9e17d9edc8385\", element=\"9cb0e3ee-04c9-40a8-be49-4e37e4d2f9e0\")>,\n",
       " <selenium.webdriver.remote.webelement.WebElement (session=\"b3b67a8c48a3caf26ab9e17d9edc8385\", element=\"ba241a97-490d-4b16-ae1d-38d5d07f5652\")>,\n",
       " <selenium.webdriver.remote.webelement.WebElement (session=\"b3b67a8c48a3caf26ab9e17d9edc8385\", element=\"d64a0aec-498e-4db1-84f5-df3975352129\")>,\n",
       " <selenium.webdriver.remote.webelement.WebElement (session=\"b3b67a8c48a3caf26ab9e17d9edc8385\", element=\"497ca2a1-e47e-4865-811a-3186ff52c410\")>,\n",
       " <selenium.webdriver.remote.webelement.WebElement (session=\"b3b67a8c48a3caf26ab9e17d9edc8385\", element=\"f7bc7aa4-df9a-4b7b-8d7c-f4cf21603218\")>,\n",
       " <selenium.webdriver.remote.webelement.WebElement (session=\"b3b67a8c48a3caf26ab9e17d9edc8385\", element=\"d9d38ff7-2b1c-4447-b360-0b61a0cbd9ae\")>,\n",
       " <selenium.webdriver.remote.webelement.WebElement (session=\"b3b67a8c48a3caf26ab9e17d9edc8385\", element=\"982fbb58-8fbd-4ed7-9635-f2b7e1d3d1cd\")>,\n",
       " <selenium.webdriver.remote.webelement.WebElement (session=\"b3b67a8c48a3caf26ab9e17d9edc8385\", element=\"2137e714-2080-4f88-9068-859964f876e1\")>,\n",
       " <selenium.webdriver.remote.webelement.WebElement (session=\"b3b67a8c48a3caf26ab9e17d9edc8385\", element=\"1b831576-d0d3-4bbe-95b2-cf46c14777d0\")>,\n",
       " <selenium.webdriver.remote.webelement.WebElement (session=\"b3b67a8c48a3caf26ab9e17d9edc8385\", element=\"c8b3d5f3-8bf5-4356-9b94-e271ebcc5918\")>,\n",
       " <selenium.webdriver.remote.webelement.WebElement (session=\"b3b67a8c48a3caf26ab9e17d9edc8385\", element=\"8354576b-331e-4310-af79-3ee6d6ae0750\")>,\n",
       " <selenium.webdriver.remote.webelement.WebElement (session=\"b3b67a8c48a3caf26ab9e17d9edc8385\", element=\"ff147a74-526e-491f-9dc4-efa2b3eae0bc\")>,\n",
       " <selenium.webdriver.remote.webelement.WebElement (session=\"b3b67a8c48a3caf26ab9e17d9edc8385\", element=\"bd9b3d7e-a980-4ce0-ab57-ef8c7bd38877\")>,\n",
       " <selenium.webdriver.remote.webelement.WebElement (session=\"b3b67a8c48a3caf26ab9e17d9edc8385\", element=\"2699da35-b3c6-4fc0-b186-9d8092cb7f11\")>,\n",
       " <selenium.webdriver.remote.webelement.WebElement (session=\"b3b67a8c48a3caf26ab9e17d9edc8385\", element=\"bb5f4fd1-d9d7-4584-ad03-5f23831d3791\")>,\n",
       " <selenium.webdriver.remote.webelement.WebElement (session=\"b3b67a8c48a3caf26ab9e17d9edc8385\", element=\"ffb87c87-c12c-4df9-90ae-fe07f39fbc74\")>,\n",
       " <selenium.webdriver.remote.webelement.WebElement (session=\"b3b67a8c48a3caf26ab9e17d9edc8385\", element=\"09abf874-b650-4599-81d4-c28a15e87cdb\")>,\n",
       " <selenium.webdriver.remote.webelement.WebElement (session=\"b3b67a8c48a3caf26ab9e17d9edc8385\", element=\"3a383bb0-82d0-4deb-8d94-aa5318d9afc2\")>,\n",
       " <selenium.webdriver.remote.webelement.WebElement (session=\"b3b67a8c48a3caf26ab9e17d9edc8385\", element=\"e93ef8b3-26dc-4145-b924-25307b416653\")>,\n",
       " <selenium.webdriver.remote.webelement.WebElement (session=\"b3b67a8c48a3caf26ab9e17d9edc8385\", element=\"76546638-418c-4cb4-942e-8b2454ef4893\")>,\n",
       " <selenium.webdriver.remote.webelement.WebElement (session=\"b3b67a8c48a3caf26ab9e17d9edc8385\", element=\"bd1f526d-9ba5-4a87-8f99-033304112d4a\")>,\n",
       " <selenium.webdriver.remote.webelement.WebElement (session=\"b3b67a8c48a3caf26ab9e17d9edc8385\", element=\"6b4d9d39-ab81-42b0-bcda-7f92b6358d3a\")>,\n",
       " <selenium.webdriver.remote.webelement.WebElement (session=\"b3b67a8c48a3caf26ab9e17d9edc8385\", element=\"9b9923ca-98ac-49dd-995d-d40d094f649e\")>,\n",
       " <selenium.webdriver.remote.webelement.WebElement (session=\"b3b67a8c48a3caf26ab9e17d9edc8385\", element=\"081c05a4-e56d-49a9-b79b-c622f53c46b8\")>,\n",
       " <selenium.webdriver.remote.webelement.WebElement (session=\"b3b67a8c48a3caf26ab9e17d9edc8385\", element=\"92b11477-456c-47e4-8645-944a60614c87\")>,\n",
       " <selenium.webdriver.remote.webelement.WebElement (session=\"b3b67a8c48a3caf26ab9e17d9edc8385\", element=\"aa493802-cf03-4fea-9a4b-b867f00eaa55\")>,\n",
       " <selenium.webdriver.remote.webelement.WebElement (session=\"b3b67a8c48a3caf26ab9e17d9edc8385\", element=\"cde4c280-5ce1-435b-82ae-93c2ddcda5c6\")>,\n",
       " <selenium.webdriver.remote.webelement.WebElement (session=\"b3b67a8c48a3caf26ab9e17d9edc8385\", element=\"3ab59496-7c39-47d8-bb74-3bdd5dda2628\")>,\n",
       " <selenium.webdriver.remote.webelement.WebElement (session=\"b3b67a8c48a3caf26ab9e17d9edc8385\", element=\"47d005a0-6cc4-4ae7-af77-83577743bb96\")>,\n",
       " <selenium.webdriver.remote.webelement.WebElement (session=\"b3b67a8c48a3caf26ab9e17d9edc8385\", element=\"6cbaa26f-e31a-44d1-9fad-11b97711ea47\")>,\n",
       " <selenium.webdriver.remote.webelement.WebElement (session=\"b3b67a8c48a3caf26ab9e17d9edc8385\", element=\"d86cb3c8-b16a-40ca-89c3-28aa3695a289\")>,\n",
       " <selenium.webdriver.remote.webelement.WebElement (session=\"b3b67a8c48a3caf26ab9e17d9edc8385\", element=\"743848a0-e7f3-4f47-8398-67e955b41d65\")>,\n",
       " <selenium.webdriver.remote.webelement.WebElement (session=\"b3b67a8c48a3caf26ab9e17d9edc8385\", element=\"e6aa2ef0-84e6-40c9-96ef-f444b67db130\")>,\n",
       " <selenium.webdriver.remote.webelement.WebElement (session=\"b3b67a8c48a3caf26ab9e17d9edc8385\", element=\"ea8a1a72-dc71-418e-b16b-e5e962ff2eb1\")>]"
      ]
     },
     "execution_count": 101,
     "metadata": {},
     "output_type": "execute_result"
    }
   ],
   "source": [
    "#let's extract all the tags having the product brand\n",
    "description_tags=driver.find_elements_by_class_name(\"IRpwTa\")\n",
    "description_tags"
   ]
  },
  {
   "cell_type": "markdown",
   "id": "3784e994",
   "metadata": {},
   "source": [
    "Now we have all the tags from next page in which there are product description.\n",
    "\n",
    "Now we will extract the text from these these tags one by one by looping over these tags."
   ]
  },
  {
   "cell_type": "code",
   "execution_count": 102,
   "id": "a180bf79",
   "metadata": {},
   "outputs": [
    {
     "data": {
      "text/plain": [
       "['UV Protection Rectangular Sunglasses (55)',\n",
       " 'Mirrored, UV Protection Wayfarer Sunglasses (Free Size)',\n",
       " 'UV Protection Aviator Sunglasses (57)',\n",
       " 'UV Protection Spectacle Sunglasses (Free Size)',\n",
       " 'Riding Glasses, Night Vision Wrap-around Sunglasses (Fr...',\n",
       " 'by Lenskart Polarized, UV Protection Wayfarer Sunglasse...',\n",
       " 'UV Protection Retro Square Sunglasses (Free Size)',\n",
       " 'UV Protection Rectangular Sunglasses (50)',\n",
       " 'UV Protection Round Sunglasses (54)',\n",
       " 'Mirrored, UV Protection Wayfarer Sunglasses (Free Size)',\n",
       " 'UV Protection, Gradient Butterfly, Retro Square Sunglas...',\n",
       " 'Gradient Aviator Sunglasses (55)',\n",
       " 'UV Protection Shield Sunglasses (Free Size)',\n",
       " 'UV Protection Rectangular, Retro Square Sunglasses (58)',\n",
       " 'UV Protection Aviator Sunglasses (57)',\n",
       " 'UV Protection Cat-eye Sunglasses (54)',\n",
       " 'UV Protection, Night Vision, Riding Glasses, Gradient, ...',\n",
       " 'UV Protection Round Sunglasses (Free Size)',\n",
       " 'Night Vision, UV Protection Round Sunglasses (54)',\n",
       " 'UV Protection, Gradient Rectangular Sunglasses (Free Si...',\n",
       " 'UV Protection Aviator Sunglasses (60)',\n",
       " 'Mirrored, UV Protection Aviator Sunglasses (56)',\n",
       " 'UV Protection Wayfarer Sunglasses (Free Size)',\n",
       " 'UV Protection Retro Square, Wayfarer Sunglasses (58)',\n",
       " 'Mirrored Aviator Sunglasses (32)',\n",
       " 'UV Protection, Gradient Round, Cat-eye Sunglasses (60)',\n",
       " 'by Lenskart UV Protection Wayfarer Sunglasses (51)',\n",
       " 'UV Protection, Riding Glasses, Toughened Glass Lens, Gr...',\n",
       " 'UV Protection Aviator Sunglasses (Free Size)',\n",
       " 'UV Protection, Gradient Retro Square Sunglasses (Free S...',\n",
       " 'Others Wayfarer, Retro Square Sunglasses (50)',\n",
       " 'UV Protection Aviator Sunglasses (45)',\n",
       " 'UV Protection, Polarized, Mirrored Rectangular Sunglass...',\n",
       " 'UV Protection, Mirrored Clubmaster Sunglasses (Free Siz...',\n",
       " 'UV Protection Aviator Sunglasses (55)',\n",
       " 'Polarized, UV Protection Wrap-around Sunglasses (62)',\n",
       " 'UV Protection Wayfarer Sunglasses (59)',\n",
       " 'Gradient, Toughened Glass Lens, UV Protection Retro Squ...',\n",
       " 'UV Protection, Night Vision Wayfarer Sunglasses (Free S...',\n",
       " 'UV Protection, Night Vision, Riding Glasses Aviator Sun...']"
      ]
     },
     "execution_count": 102,
     "metadata": {},
     "output_type": "execute_result"
    }
   ],
   "source": [
    "#now the text of the description is inside the tags extracted above\n",
    "#so we will run over a loop to iterate over the tags extracted above.\n",
    "for i in description_tags:\n",
    "    brands=i.text\n",
    "    product_description.append(brands)\n",
    "product_description"
   ]
  },
  {
   "cell_type": "code",
   "execution_count": 103,
   "id": "216a6bb7",
   "metadata": {},
   "outputs": [
    {
     "data": {
      "text/plain": [
       "40"
      ]
     },
     "execution_count": 103,
     "metadata": {},
     "output_type": "execute_result"
    }
   ],
   "source": [
    "len(product_description)"
   ]
  },
  {
   "cell_type": "markdown",
   "id": "7b050a7c",
   "metadata": {},
   "source": [
    "first we will extract the all the tags from next page where we will have product price."
   ]
  },
  {
   "cell_type": "code",
   "execution_count": 104,
   "id": "e4ac4236",
   "metadata": {},
   "outputs": [
    {
     "data": {
      "text/plain": [
       "[<selenium.webdriver.remote.webelement.WebElement (session=\"b3b67a8c48a3caf26ab9e17d9edc8385\", element=\"0ed90769-a5f0-4d72-9944-dff5e48c9cc8\")>,\n",
       " <selenium.webdriver.remote.webelement.WebElement (session=\"b3b67a8c48a3caf26ab9e17d9edc8385\", element=\"3f26400d-2a21-4de9-9170-ae8582f0c542\")>,\n",
       " <selenium.webdriver.remote.webelement.WebElement (session=\"b3b67a8c48a3caf26ab9e17d9edc8385\", element=\"737fe7d8-4f74-40c7-be4c-6b598486c747\")>,\n",
       " <selenium.webdriver.remote.webelement.WebElement (session=\"b3b67a8c48a3caf26ab9e17d9edc8385\", element=\"ac68201e-0b78-464a-9670-33c72f4e57dd\")>,\n",
       " <selenium.webdriver.remote.webelement.WebElement (session=\"b3b67a8c48a3caf26ab9e17d9edc8385\", element=\"a77c6cf0-2086-49c0-85d7-f2f5834b58f2\")>,\n",
       " <selenium.webdriver.remote.webelement.WebElement (session=\"b3b67a8c48a3caf26ab9e17d9edc8385\", element=\"d4b136d6-9ca8-4ade-b411-57edce8cddb5\")>,\n",
       " <selenium.webdriver.remote.webelement.WebElement (session=\"b3b67a8c48a3caf26ab9e17d9edc8385\", element=\"22fe1eec-5bc9-4af7-b17d-6291dde70cc3\")>,\n",
       " <selenium.webdriver.remote.webelement.WebElement (session=\"b3b67a8c48a3caf26ab9e17d9edc8385\", element=\"ec6bf837-487a-4dd3-9baf-3eb99d377f5d\")>,\n",
       " <selenium.webdriver.remote.webelement.WebElement (session=\"b3b67a8c48a3caf26ab9e17d9edc8385\", element=\"3b1f3920-ea10-489a-a1d1-79603b874478\")>,\n",
       " <selenium.webdriver.remote.webelement.WebElement (session=\"b3b67a8c48a3caf26ab9e17d9edc8385\", element=\"1e7c10a7-26ce-46d6-862e-ba6723f9880c\")>,\n",
       " <selenium.webdriver.remote.webelement.WebElement (session=\"b3b67a8c48a3caf26ab9e17d9edc8385\", element=\"3054aca7-b610-4fbb-b573-416b15947ff7\")>,\n",
       " <selenium.webdriver.remote.webelement.WebElement (session=\"b3b67a8c48a3caf26ab9e17d9edc8385\", element=\"93177235-668e-4ffa-93f3-9812285e5669\")>,\n",
       " <selenium.webdriver.remote.webelement.WebElement (session=\"b3b67a8c48a3caf26ab9e17d9edc8385\", element=\"2e9422b5-2059-413b-9a2a-62564fcaa2c1\")>,\n",
       " <selenium.webdriver.remote.webelement.WebElement (session=\"b3b67a8c48a3caf26ab9e17d9edc8385\", element=\"6c7e2fee-fa79-42cf-b977-ab953bed4dda\")>,\n",
       " <selenium.webdriver.remote.webelement.WebElement (session=\"b3b67a8c48a3caf26ab9e17d9edc8385\", element=\"cb50c2c1-4436-4740-a8b3-324e200dc535\")>,\n",
       " <selenium.webdriver.remote.webelement.WebElement (session=\"b3b67a8c48a3caf26ab9e17d9edc8385\", element=\"becaf868-ef44-438e-b88b-e7ccabee1f74\")>,\n",
       " <selenium.webdriver.remote.webelement.WebElement (session=\"b3b67a8c48a3caf26ab9e17d9edc8385\", element=\"b1708e1d-4eac-4847-8d31-96889aa51e4f\")>,\n",
       " <selenium.webdriver.remote.webelement.WebElement (session=\"b3b67a8c48a3caf26ab9e17d9edc8385\", element=\"84a40475-b65a-4bdb-809c-52e553179830\")>,\n",
       " <selenium.webdriver.remote.webelement.WebElement (session=\"b3b67a8c48a3caf26ab9e17d9edc8385\", element=\"62b9cb3d-6470-4e20-8bed-f14108665b55\")>,\n",
       " <selenium.webdriver.remote.webelement.WebElement (session=\"b3b67a8c48a3caf26ab9e17d9edc8385\", element=\"4725806b-57ad-40d8-b623-3ed6d8d647fd\")>,\n",
       " <selenium.webdriver.remote.webelement.WebElement (session=\"b3b67a8c48a3caf26ab9e17d9edc8385\", element=\"6928e63c-5c5d-4d22-b31f-012171b5b76f\")>,\n",
       " <selenium.webdriver.remote.webelement.WebElement (session=\"b3b67a8c48a3caf26ab9e17d9edc8385\", element=\"483292d9-b5ce-4fa3-a2c6-678c163e80ff\")>,\n",
       " <selenium.webdriver.remote.webelement.WebElement (session=\"b3b67a8c48a3caf26ab9e17d9edc8385\", element=\"e6263014-023e-430c-a1f9-dd1e4f1218e5\")>,\n",
       " <selenium.webdriver.remote.webelement.WebElement (session=\"b3b67a8c48a3caf26ab9e17d9edc8385\", element=\"a8a5a9f7-bae5-4edc-bb59-fc539e0fb05c\")>,\n",
       " <selenium.webdriver.remote.webelement.WebElement (session=\"b3b67a8c48a3caf26ab9e17d9edc8385\", element=\"3cda3b47-96c6-4f75-be1b-d264295ad5af\")>,\n",
       " <selenium.webdriver.remote.webelement.WebElement (session=\"b3b67a8c48a3caf26ab9e17d9edc8385\", element=\"9bd6ef04-6876-411d-81e3-30c88be044ae\")>,\n",
       " <selenium.webdriver.remote.webelement.WebElement (session=\"b3b67a8c48a3caf26ab9e17d9edc8385\", element=\"76f8f8db-4dc4-4152-9dde-a79a8302c062\")>,\n",
       " <selenium.webdriver.remote.webelement.WebElement (session=\"b3b67a8c48a3caf26ab9e17d9edc8385\", element=\"f423814d-6a06-4fb2-9120-c0264f0bdeeb\")>,\n",
       " <selenium.webdriver.remote.webelement.WebElement (session=\"b3b67a8c48a3caf26ab9e17d9edc8385\", element=\"483c7407-d67a-4c41-8726-2638aa4b2a3d\")>,\n",
       " <selenium.webdriver.remote.webelement.WebElement (session=\"b3b67a8c48a3caf26ab9e17d9edc8385\", element=\"04c4579d-83b1-47c6-bdac-bfbe8db87ead\")>,\n",
       " <selenium.webdriver.remote.webelement.WebElement (session=\"b3b67a8c48a3caf26ab9e17d9edc8385\", element=\"05a8df75-0b95-4bb5-89e4-072f523237a1\")>,\n",
       " <selenium.webdriver.remote.webelement.WebElement (session=\"b3b67a8c48a3caf26ab9e17d9edc8385\", element=\"00804e93-735f-420d-9f3b-8ce4a28b1442\")>,\n",
       " <selenium.webdriver.remote.webelement.WebElement (session=\"b3b67a8c48a3caf26ab9e17d9edc8385\", element=\"3b51afd3-fa1f-40dd-9616-81c76aabc577\")>,\n",
       " <selenium.webdriver.remote.webelement.WebElement (session=\"b3b67a8c48a3caf26ab9e17d9edc8385\", element=\"33ea78e7-db4c-48b8-a290-3080499e2c24\")>,\n",
       " <selenium.webdriver.remote.webelement.WebElement (session=\"b3b67a8c48a3caf26ab9e17d9edc8385\", element=\"b9c14356-b8dd-4214-9b42-fb49ef8b705e\")>,\n",
       " <selenium.webdriver.remote.webelement.WebElement (session=\"b3b67a8c48a3caf26ab9e17d9edc8385\", element=\"3be4c1f3-6688-4b72-a74d-c41494fda94b\")>,\n",
       " <selenium.webdriver.remote.webelement.WebElement (session=\"b3b67a8c48a3caf26ab9e17d9edc8385\", element=\"c28d3290-1218-4252-9030-d827e796e8bb\")>,\n",
       " <selenium.webdriver.remote.webelement.WebElement (session=\"b3b67a8c48a3caf26ab9e17d9edc8385\", element=\"f1f7c02a-7c87-4e35-94ff-48c59726234e\")>,\n",
       " <selenium.webdriver.remote.webelement.WebElement (session=\"b3b67a8c48a3caf26ab9e17d9edc8385\", element=\"15214e2f-f8f7-4424-a0c0-844c923b95c4\")>,\n",
       " <selenium.webdriver.remote.webelement.WebElement (session=\"b3b67a8c48a3caf26ab9e17d9edc8385\", element=\"66b4af92-3ca8-487d-9d7a-5aefbcf9696e\")>,\n",
       " <selenium.webdriver.remote.webelement.WebElement (session=\"b3b67a8c48a3caf26ab9e17d9edc8385\", element=\"c1115cd8-4db8-45c9-b976-5341ddeafb4a\")>,\n",
       " <selenium.webdriver.remote.webelement.WebElement (session=\"b3b67a8c48a3caf26ab9e17d9edc8385\", element=\"a1f0459d-031a-4f86-b0f9-678330d1c2b5\")>,\n",
       " <selenium.webdriver.remote.webelement.WebElement (session=\"b3b67a8c48a3caf26ab9e17d9edc8385\", element=\"d5879e6a-a673-4168-b85e-6254fe0b2b92\")>,\n",
       " <selenium.webdriver.remote.webelement.WebElement (session=\"b3b67a8c48a3caf26ab9e17d9edc8385\", element=\"dbda6c1f-c6fc-4586-9af5-c67c3ae3fedb\")>,\n",
       " <selenium.webdriver.remote.webelement.WebElement (session=\"b3b67a8c48a3caf26ab9e17d9edc8385\", element=\"fd89ac42-add5-4c09-9db6-020db1c4c8f8\")>]"
      ]
     },
     "execution_count": 104,
     "metadata": {},
     "output_type": "execute_result"
    }
   ],
   "source": [
    "#let's extract all the tags having the product brand\n",
    "price_tags=driver.find_elements_by_class_name(\"_30jeq3\")\n",
    "price_tags"
   ]
  },
  {
   "cell_type": "markdown",
   "id": "7665a88d",
   "metadata": {},
   "source": [
    "Now we have all the tags from next page in which there are product price.\n",
    "\n",
    "Now we will extract the text from these these tags one by one by looping over these tags."
   ]
  },
  {
   "cell_type": "code",
   "execution_count": 105,
   "id": "be243cc5",
   "metadata": {},
   "outputs": [
    {
     "data": {
      "text/plain": [
       "['₹189',\n",
       " '₹269',\n",
       " '₹284',\n",
       " '₹399',\n",
       " '₹276',\n",
       " '₹799',\n",
       " '₹379',\n",
       " '₹649',\n",
       " '₹214',\n",
       " '₹269',\n",
       " '₹498',\n",
       " '₹224',\n",
       " '₹809',\n",
       " '₹499',\n",
       " '₹639',\n",
       " '₹649',\n",
       " '₹179',\n",
       " '₹264',\n",
       " '₹259',\n",
       " '₹449',\n",
       " '₹709',\n",
       " '₹245',\n",
       " '₹320',\n",
       " '₹275',\n",
       " '₹199',\n",
       " '₹498',\n",
       " '₹749',\n",
       " '₹948',\n",
       " '₹639',\n",
       " '₹349',\n",
       " '₹239',\n",
       " '₹329',\n",
       " '₹213',\n",
       " '₹369',\n",
       " '₹333',\n",
       " '₹799',\n",
       " '₹649',\n",
       " '₹664',\n",
       " '₹299',\n",
       " '₹295',\n",
       " '₹498',\n",
       " '₹399',\n",
       " '₹499',\n",
       " '₹349',\n",
       " '₹264']"
      ]
     },
     "execution_count": 105,
     "metadata": {},
     "output_type": "execute_result"
    }
   ],
   "source": [
    "#now the text of the price is inside the tags extracted above\n",
    "#so we will run over a loop to iterate over the tags extracted above.\n",
    "for i in price_tags:\n",
    "    prices=i.text\n",
    "    product_price.append(prices)\n",
    "product_price"
   ]
  },
  {
   "cell_type": "code",
   "execution_count": 106,
   "id": "8382b292",
   "metadata": {},
   "outputs": [
    {
     "data": {
      "text/plain": [
       "45"
      ]
     },
     "execution_count": 106,
     "metadata": {},
     "output_type": "execute_result"
    }
   ],
   "source": [
    "len(product_price)"
   ]
  },
  {
   "cell_type": "markdown",
   "id": "372594df",
   "metadata": {},
   "source": [
    "first we will extract the all the tags from next page where we will have product discount."
   ]
  },
  {
   "cell_type": "code",
   "execution_count": 107,
   "id": "dd5cd94e",
   "metadata": {},
   "outputs": [
    {
     "data": {
      "text/plain": [
       "[<selenium.webdriver.remote.webelement.WebElement (session=\"b3b67a8c48a3caf26ab9e17d9edc8385\", element=\"e667bf8f-ec37-443b-941d-fc39ecfa3ead\")>,\n",
       " <selenium.webdriver.remote.webelement.WebElement (session=\"b3b67a8c48a3caf26ab9e17d9edc8385\", element=\"fceddf7e-9ca4-4ee3-938f-cc053abd6912\")>,\n",
       " <selenium.webdriver.remote.webelement.WebElement (session=\"b3b67a8c48a3caf26ab9e17d9edc8385\", element=\"6bf81b98-f502-4602-b84d-21361aa3d64d\")>,\n",
       " <selenium.webdriver.remote.webelement.WebElement (session=\"b3b67a8c48a3caf26ab9e17d9edc8385\", element=\"426c0c72-4dcc-43be-83dc-a9787fa13a83\")>,\n",
       " <selenium.webdriver.remote.webelement.WebElement (session=\"b3b67a8c48a3caf26ab9e17d9edc8385\", element=\"e1ca8a07-f8a0-4ae9-afc2-bdb3dd7d3ced\")>,\n",
       " <selenium.webdriver.remote.webelement.WebElement (session=\"b3b67a8c48a3caf26ab9e17d9edc8385\", element=\"1e0adecc-0298-402f-b7dc-d09a84162081\")>,\n",
       " <selenium.webdriver.remote.webelement.WebElement (session=\"b3b67a8c48a3caf26ab9e17d9edc8385\", element=\"ef6ba087-5d4f-46e3-8a0d-02105902d294\")>,\n",
       " <selenium.webdriver.remote.webelement.WebElement (session=\"b3b67a8c48a3caf26ab9e17d9edc8385\", element=\"58f8af49-82a0-4299-83ff-17b11e2ce383\")>,\n",
       " <selenium.webdriver.remote.webelement.WebElement (session=\"b3b67a8c48a3caf26ab9e17d9edc8385\", element=\"caa1bc9d-f7ad-416b-810c-09770d28c626\")>,\n",
       " <selenium.webdriver.remote.webelement.WebElement (session=\"b3b67a8c48a3caf26ab9e17d9edc8385\", element=\"aeafde5e-b511-44b2-b2b1-14ed6a894ea0\")>,\n",
       " <selenium.webdriver.remote.webelement.WebElement (session=\"b3b67a8c48a3caf26ab9e17d9edc8385\", element=\"85ed8ea4-1656-4e9a-bb8c-009f8e531ba6\")>,\n",
       " <selenium.webdriver.remote.webelement.WebElement (session=\"b3b67a8c48a3caf26ab9e17d9edc8385\", element=\"d5bb246f-58d8-4ea6-87dd-69203651ad8a\")>,\n",
       " <selenium.webdriver.remote.webelement.WebElement (session=\"b3b67a8c48a3caf26ab9e17d9edc8385\", element=\"535b520b-c54a-4697-8c38-d70e83a5d8ac\")>,\n",
       " <selenium.webdriver.remote.webelement.WebElement (session=\"b3b67a8c48a3caf26ab9e17d9edc8385\", element=\"83b795d8-4db9-407c-abb0-d9fcb95beea5\")>,\n",
       " <selenium.webdriver.remote.webelement.WebElement (session=\"b3b67a8c48a3caf26ab9e17d9edc8385\", element=\"9e7d2e98-4e3e-40eb-b248-104d7a970395\")>,\n",
       " <selenium.webdriver.remote.webelement.WebElement (session=\"b3b67a8c48a3caf26ab9e17d9edc8385\", element=\"208e5c6a-ebc9-4761-8c9d-7a26d447e58d\")>,\n",
       " <selenium.webdriver.remote.webelement.WebElement (session=\"b3b67a8c48a3caf26ab9e17d9edc8385\", element=\"29ff6e85-d2bc-4ec5-895e-bc17d81222aa\")>,\n",
       " <selenium.webdriver.remote.webelement.WebElement (session=\"b3b67a8c48a3caf26ab9e17d9edc8385\", element=\"7da7cb43-52a1-4e33-8e2d-ab3204599b04\")>,\n",
       " <selenium.webdriver.remote.webelement.WebElement (session=\"b3b67a8c48a3caf26ab9e17d9edc8385\", element=\"9a4e94f7-94dc-42e0-a309-8a5b3c003421\")>,\n",
       " <selenium.webdriver.remote.webelement.WebElement (session=\"b3b67a8c48a3caf26ab9e17d9edc8385\", element=\"ccc67844-6607-4c4f-90d2-f3686945fe91\")>,\n",
       " <selenium.webdriver.remote.webelement.WebElement (session=\"b3b67a8c48a3caf26ab9e17d9edc8385\", element=\"2890ecee-9255-410a-99ea-4f97a89e566c\")>,\n",
       " <selenium.webdriver.remote.webelement.WebElement (session=\"b3b67a8c48a3caf26ab9e17d9edc8385\", element=\"0b80ed2a-d1e6-41cb-93c1-d3cf4abbc997\")>,\n",
       " <selenium.webdriver.remote.webelement.WebElement (session=\"b3b67a8c48a3caf26ab9e17d9edc8385\", element=\"e9933385-baf5-45c4-885f-1457d5714bda\")>,\n",
       " <selenium.webdriver.remote.webelement.WebElement (session=\"b3b67a8c48a3caf26ab9e17d9edc8385\", element=\"c1e4d7c7-3788-4a61-b7d6-b0ba1d8a1352\")>,\n",
       " <selenium.webdriver.remote.webelement.WebElement (session=\"b3b67a8c48a3caf26ab9e17d9edc8385\", element=\"c258102a-e350-40a7-801c-833c7709d2eb\")>,\n",
       " <selenium.webdriver.remote.webelement.WebElement (session=\"b3b67a8c48a3caf26ab9e17d9edc8385\", element=\"6567f0e8-deaa-41b8-a9cc-7f22e232cc32\")>,\n",
       " <selenium.webdriver.remote.webelement.WebElement (session=\"b3b67a8c48a3caf26ab9e17d9edc8385\", element=\"c1b37aeb-60f9-4d6b-b38f-f43b1c88691b\")>,\n",
       " <selenium.webdriver.remote.webelement.WebElement (session=\"b3b67a8c48a3caf26ab9e17d9edc8385\", element=\"def9edcf-3274-42e3-9586-a77298fe25f1\")>,\n",
       " <selenium.webdriver.remote.webelement.WebElement (session=\"b3b67a8c48a3caf26ab9e17d9edc8385\", element=\"3a62c3df-ce97-4004-bfea-3c44667e1fef\")>,\n",
       " <selenium.webdriver.remote.webelement.WebElement (session=\"b3b67a8c48a3caf26ab9e17d9edc8385\", element=\"0422d0d8-0c38-4f9c-81d6-a9030f522a6e\")>,\n",
       " <selenium.webdriver.remote.webelement.WebElement (session=\"b3b67a8c48a3caf26ab9e17d9edc8385\", element=\"24df540a-2bfb-40b8-8e5b-c71b74ea6224\")>,\n",
       " <selenium.webdriver.remote.webelement.WebElement (session=\"b3b67a8c48a3caf26ab9e17d9edc8385\", element=\"b56d8198-c15f-4047-9643-7ef1832a4ec3\")>,\n",
       " <selenium.webdriver.remote.webelement.WebElement (session=\"b3b67a8c48a3caf26ab9e17d9edc8385\", element=\"bd20cbac-be7e-4519-b642-db26b1ae91d8\")>,\n",
       " <selenium.webdriver.remote.webelement.WebElement (session=\"b3b67a8c48a3caf26ab9e17d9edc8385\", element=\"2aeebf42-6bf9-4020-8dc9-9508f08b6122\")>,\n",
       " <selenium.webdriver.remote.webelement.WebElement (session=\"b3b67a8c48a3caf26ab9e17d9edc8385\", element=\"0a3d9e82-3422-4917-9955-ab8292de42df\")>,\n",
       " <selenium.webdriver.remote.webelement.WebElement (session=\"b3b67a8c48a3caf26ab9e17d9edc8385\", element=\"5af41542-c5ee-4cbc-84a0-7fcaa0159066\")>,\n",
       " <selenium.webdriver.remote.webelement.WebElement (session=\"b3b67a8c48a3caf26ab9e17d9edc8385\", element=\"2ef39d47-2e19-4275-a5c2-cbd9c7797b65\")>,\n",
       " <selenium.webdriver.remote.webelement.WebElement (session=\"b3b67a8c48a3caf26ab9e17d9edc8385\", element=\"7e7d15ef-9039-4aea-bf43-dbca8207307a\")>,\n",
       " <selenium.webdriver.remote.webelement.WebElement (session=\"b3b67a8c48a3caf26ab9e17d9edc8385\", element=\"906ca644-21d5-457b-ad4a-98ae0f641a97\")>,\n",
       " <selenium.webdriver.remote.webelement.WebElement (session=\"b3b67a8c48a3caf26ab9e17d9edc8385\", element=\"0221f186-7df3-4d89-acc3-6a6d8ddc25c3\")>,\n",
       " <selenium.webdriver.remote.webelement.WebElement (session=\"b3b67a8c48a3caf26ab9e17d9edc8385\", element=\"e3680476-30b2-4859-bc6a-efbd376ba048\")>,\n",
       " <selenium.webdriver.remote.webelement.WebElement (session=\"b3b67a8c48a3caf26ab9e17d9edc8385\", element=\"ffeed295-27ce-4ec8-ab12-294b001b248b\")>,\n",
       " <selenium.webdriver.remote.webelement.WebElement (session=\"b3b67a8c48a3caf26ab9e17d9edc8385\", element=\"44b02b3a-8493-4c0a-800a-fbfcef090da7\")>,\n",
       " <selenium.webdriver.remote.webelement.WebElement (session=\"b3b67a8c48a3caf26ab9e17d9edc8385\", element=\"1167f1dd-5c23-468f-9d26-7f2e30888a37\")>,\n",
       " <selenium.webdriver.remote.webelement.WebElement (session=\"b3b67a8c48a3caf26ab9e17d9edc8385\", element=\"7ad7d8a8-fe1c-480e-ba0d-80cb7b3466f5\")>]"
      ]
     },
     "execution_count": 107,
     "metadata": {},
     "output_type": "execute_result"
    }
   ],
   "source": [
    "#let's extract all the tags having the product discount\n",
    "discount_tags=driver.find_elements_by_class_name(\"_3Ay6Sb\")\n",
    "discount_tags"
   ]
  },
  {
   "cell_type": "markdown",
   "id": "3ebfa5e1",
   "metadata": {},
   "source": [
    "Now we have all the tags from next page in which there are product discount.\n",
    "\n",
    "Now we will extract the text from these these tags one by one by looping over these tags."
   ]
  },
  {
   "cell_type": "code",
   "execution_count": 108,
   "id": "bc9b0936",
   "metadata": {},
   "outputs": [
    {
     "data": {
      "text/plain": [
       "['85% off',\n",
       " '86% off',\n",
       " '85% off',\n",
       " '80% off',\n",
       " '88% off',\n",
       " '68% off',\n",
       " '81% off',\n",
       " '67% off',\n",
       " '78% off',\n",
       " '82% off',\n",
       " '67% off',\n",
       " '80% off',\n",
       " '10% off',\n",
       " '66% off',\n",
       " '20% off',\n",
       " '67% off',\n",
       " '86% off',\n",
       " '79% off',\n",
       " '74% off',\n",
       " '77% off',\n",
       " '35% off',\n",
       " '81% off',\n",
       " '78% off',\n",
       " '73% off',\n",
       " '87% off',\n",
       " '70% off',\n",
       " '62% off',\n",
       " '52% off',\n",
       " '20% off',\n",
       " '82% off',\n",
       " '76% off',\n",
       " '83% off',\n",
       " '78% off',\n",
       " '81% off',\n",
       " '83% off',\n",
       " '60% off',\n",
       " '67% off',\n",
       " '77% off',\n",
       " '82% off',\n",
       " '85% off',\n",
       " '70% off',\n",
       " '80% off',\n",
       " '66% off',\n",
       " '82% off',\n",
       " '79% off']"
      ]
     },
     "execution_count": 108,
     "metadata": {},
     "output_type": "execute_result"
    }
   ],
   "source": [
    "#now the text of the discount is inside the tags extracted above\n",
    "#so we will run over a loop to iterate over the tags extracted above.\n",
    "for i in discount_tags:\n",
    "    discount=i.text\n",
    "    product_discount.append(discount)\n",
    "product_discount"
   ]
  },
  {
   "cell_type": "code",
   "execution_count": 109,
   "id": "48d0b08c",
   "metadata": {},
   "outputs": [
    {
     "data": {
      "text/plain": [
       "45"
      ]
     },
     "execution_count": 109,
     "metadata": {},
     "output_type": "execute_result"
    }
   ],
   "source": [
    "len(product_discount)"
   ]
  },
  {
   "cell_type": "code",
   "execution_count": 127,
   "id": "8cb84a08",
   "metadata": {},
   "outputs": [],
   "source": [
    "#specifying the url of the webpage to be scraped for the third page\n",
    "#specifying the url of the webpage to be scraped\n",
    "url='https://www.flipkart.com/search?q=sunglasses&as=on&as-show=on&otracker=AS_Query_OrganicAutoSuggest_3_10_na_na_na&otracker1=AS_Query_OrganicAutoSuggest_3_10_na_na_na&as-pos=3&as-type=RECENT&suggestionId=sunglasses&requestId=249801f9-3654-4235-a0d3-c45d31d073c1&as-backfill=on&page=3'\n",
    "driver.get(url)"
   ]
  },
  {
   "cell_type": "markdown",
   "id": "a48fa5f2",
   "metadata": {},
   "source": [
    "So now let's again make 4 empty list. In these lists the data will be stored while scraping.we have created 4 empty list for the features which we have to extract.\n",
    "\n",
    "1.Brand. 2.product_description 3.price 4.discount"
   ]
  },
  {
   "cell_type": "code",
   "execution_count": 128,
   "id": "e442924c",
   "metadata": {},
   "outputs": [],
   "source": [
    "product_Brand=[]\n",
    "product_description=[]\n",
    "product_price=[]\n",
    "product_discount=[]"
   ]
  },
  {
   "cell_type": "code",
   "execution_count": 129,
   "id": "06b5ed0b",
   "metadata": {},
   "outputs": [
    {
     "data": {
      "text/plain": [
       "[<selenium.webdriver.remote.webelement.WebElement (session=\"b3b67a8c48a3caf26ab9e17d9edc8385\", element=\"0c2bb50a-f24d-47b2-bd55-821e0bfcb027\")>,\n",
       " <selenium.webdriver.remote.webelement.WebElement (session=\"b3b67a8c48a3caf26ab9e17d9edc8385\", element=\"cf9b29da-fa35-49c3-93ec-f26a2d28e401\")>,\n",
       " <selenium.webdriver.remote.webelement.WebElement (session=\"b3b67a8c48a3caf26ab9e17d9edc8385\", element=\"1689dd20-bfa7-4fe2-936f-dc13c78dd0f8\")>,\n",
       " <selenium.webdriver.remote.webelement.WebElement (session=\"b3b67a8c48a3caf26ab9e17d9edc8385\", element=\"333f7ea1-cf51-4dc7-bad8-61cfe76abf36\")>,\n",
       " <selenium.webdriver.remote.webelement.WebElement (session=\"b3b67a8c48a3caf26ab9e17d9edc8385\", element=\"a759f324-5bd4-4c73-a3b5-4f5772729900\")>,\n",
       " <selenium.webdriver.remote.webelement.WebElement (session=\"b3b67a8c48a3caf26ab9e17d9edc8385\", element=\"96a51828-ecf0-408a-9b47-1feac565c162\")>,\n",
       " <selenium.webdriver.remote.webelement.WebElement (session=\"b3b67a8c48a3caf26ab9e17d9edc8385\", element=\"2d16825b-e27b-4b9e-b527-899cf1cf3281\")>,\n",
       " <selenium.webdriver.remote.webelement.WebElement (session=\"b3b67a8c48a3caf26ab9e17d9edc8385\", element=\"8a56af1d-f070-42d5-9d8b-194b0694ce97\")>,\n",
       " <selenium.webdriver.remote.webelement.WebElement (session=\"b3b67a8c48a3caf26ab9e17d9edc8385\", element=\"b16cb513-c3c0-4ae0-864f-eb62cb9f7bec\")>,\n",
       " <selenium.webdriver.remote.webelement.WebElement (session=\"b3b67a8c48a3caf26ab9e17d9edc8385\", element=\"c07464cc-b0a3-4712-b3db-7ddf5481e461\")>,\n",
       " <selenium.webdriver.remote.webelement.WebElement (session=\"b3b67a8c48a3caf26ab9e17d9edc8385\", element=\"a2d6f772-4b46-4e5e-b011-6548c1af15cc\")>,\n",
       " <selenium.webdriver.remote.webelement.WebElement (session=\"b3b67a8c48a3caf26ab9e17d9edc8385\", element=\"e13677ff-375e-4bda-8d86-2d5474bfcdf0\")>,\n",
       " <selenium.webdriver.remote.webelement.WebElement (session=\"b3b67a8c48a3caf26ab9e17d9edc8385\", element=\"26aaf681-dce6-4081-bae7-d2463d67844e\")>,\n",
       " <selenium.webdriver.remote.webelement.WebElement (session=\"b3b67a8c48a3caf26ab9e17d9edc8385\", element=\"0e355a2b-27ab-46c4-9825-d8ee5e70048e\")>,\n",
       " <selenium.webdriver.remote.webelement.WebElement (session=\"b3b67a8c48a3caf26ab9e17d9edc8385\", element=\"3e959b9f-0494-4844-bbc2-1f41cf718b88\")>,\n",
       " <selenium.webdriver.remote.webelement.WebElement (session=\"b3b67a8c48a3caf26ab9e17d9edc8385\", element=\"015b0bee-0199-4b9b-9e9b-f089564333b2\")>,\n",
       " <selenium.webdriver.remote.webelement.WebElement (session=\"b3b67a8c48a3caf26ab9e17d9edc8385\", element=\"bdc63d30-90d2-4cfe-b4d3-8e72509f200c\")>,\n",
       " <selenium.webdriver.remote.webelement.WebElement (session=\"b3b67a8c48a3caf26ab9e17d9edc8385\", element=\"684a82f0-9b20-4a18-b7f2-3cc64818632a\")>,\n",
       " <selenium.webdriver.remote.webelement.WebElement (session=\"b3b67a8c48a3caf26ab9e17d9edc8385\", element=\"a1951279-026c-449c-8049-117d4a0e6f48\")>,\n",
       " <selenium.webdriver.remote.webelement.WebElement (session=\"b3b67a8c48a3caf26ab9e17d9edc8385\", element=\"9a4582b1-d985-44af-97a1-d6ea25ffb940\")>,\n",
       " <selenium.webdriver.remote.webelement.WebElement (session=\"b3b67a8c48a3caf26ab9e17d9edc8385\", element=\"54401665-2cb5-4f22-a390-49df63a6b47a\")>]"
      ]
     },
     "execution_count": 129,
     "metadata": {},
     "output_type": "execute_result"
    }
   ],
   "source": [
    "#let's extract all the tags from the next page having the product brand\n",
    "brand_tags=driver.find_elements_by_class_name('_2WkVRV')\n",
    "brand_tags[0:21]"
   ]
  },
  {
   "cell_type": "code",
   "execution_count": 130,
   "id": "0d2fcce7",
   "metadata": {},
   "outputs": [
    {
     "data": {
      "text/plain": [
       "40"
      ]
     },
     "execution_count": 130,
     "metadata": {},
     "output_type": "execute_result"
    }
   ],
   "source": [
    "len(brand_tags)"
   ]
  },
  {
   "cell_type": "markdown",
   "id": "fb102c55",
   "metadata": {},
   "source": [
    "Now we have all the tags from next page in which there are Brand names.\n",
    "\n",
    "Now we will extract the text from these these tags one by one by looping over these tags."
   ]
  },
  {
   "cell_type": "code",
   "execution_count": 131,
   "id": "3a270daa",
   "metadata": {},
   "outputs": [
    {
     "data": {
      "text/plain": [
       "['Elligator',\n",
       " 'kingsunglasses',\n",
       " 'New Specs',\n",
       " 'Singco India',\n",
       " 'hipe',\n",
       " 'Fastrack',\n",
       " 'Rich Club',\n",
       " 'VINCENT CHASE',\n",
       " 'Poloport',\n",
       " 'IDEE',\n",
       " 'kingsunglasses',\n",
       " 'VINCENT CHASE',\n",
       " 'SHAAH COLLECTIONS',\n",
       " 'elegante',\n",
       " 'SRPM',\n",
       " 'agera',\n",
       " 'kingsunglasses',\n",
       " 'ROZZETTA CRAFT',\n",
       " 'Rich Club',\n",
       " 'VINCENT CHASE',\n",
       " 'Singco India']"
      ]
     },
     "execution_count": 131,
     "metadata": {},
     "output_type": "execute_result"
    }
   ],
   "source": [
    "#now the text of the brand name is inside the tags extracted above\n",
    "#so we will run over a loop to iterate over the tags extracted above.\n",
    "for i in brand_tags:\n",
    "    title=i.text\n",
    "    product_Brand.append(title)\n",
    "product_Brand[0:21]"
   ]
  },
  {
   "cell_type": "markdown",
   "id": "15c38a6d",
   "metadata": {},
   "source": [
    "first we will extract the all the tags from next page where we will have product Description."
   ]
  },
  {
   "cell_type": "code",
   "execution_count": 132,
   "id": "abbb84d7",
   "metadata": {},
   "outputs": [
    {
     "data": {
      "text/plain": [
       "[<selenium.webdriver.remote.webelement.WebElement (session=\"b3b67a8c48a3caf26ab9e17d9edc8385\", element=\"7a07c6b8-3acf-47e5-9153-df47b25945c6\")>,\n",
       " <selenium.webdriver.remote.webelement.WebElement (session=\"b3b67a8c48a3caf26ab9e17d9edc8385\", element=\"2650cc25-da61-45c7-9cee-576cbc6d3a95\")>,\n",
       " <selenium.webdriver.remote.webelement.WebElement (session=\"b3b67a8c48a3caf26ab9e17d9edc8385\", element=\"17a0568c-9a05-49f4-afe2-b0408c8f5c14\")>,\n",
       " <selenium.webdriver.remote.webelement.WebElement (session=\"b3b67a8c48a3caf26ab9e17d9edc8385\", element=\"1fb84b2c-3c91-4be6-a7c9-c7540280eb01\")>,\n",
       " <selenium.webdriver.remote.webelement.WebElement (session=\"b3b67a8c48a3caf26ab9e17d9edc8385\", element=\"d561772d-b6c6-4b9a-922f-783f01517cd7\")>,\n",
       " <selenium.webdriver.remote.webelement.WebElement (session=\"b3b67a8c48a3caf26ab9e17d9edc8385\", element=\"4cf76682-d87f-4967-945b-3fc4d1ae8c42\")>,\n",
       " <selenium.webdriver.remote.webelement.WebElement (session=\"b3b67a8c48a3caf26ab9e17d9edc8385\", element=\"9052c83e-dd6f-4ef6-b430-e1ef27d6e51d\")>,\n",
       " <selenium.webdriver.remote.webelement.WebElement (session=\"b3b67a8c48a3caf26ab9e17d9edc8385\", element=\"b975ae5d-fa2f-450f-8580-09ebc1f01950\")>,\n",
       " <selenium.webdriver.remote.webelement.WebElement (session=\"b3b67a8c48a3caf26ab9e17d9edc8385\", element=\"09dc68b5-2d5a-46c8-9f7d-7341cb0b10b2\")>,\n",
       " <selenium.webdriver.remote.webelement.WebElement (session=\"b3b67a8c48a3caf26ab9e17d9edc8385\", element=\"e69e1900-2621-44b6-9140-910b9b9efdac\")>,\n",
       " <selenium.webdriver.remote.webelement.WebElement (session=\"b3b67a8c48a3caf26ab9e17d9edc8385\", element=\"183937b8-7858-426b-b5a0-7e07693336d2\")>,\n",
       " <selenium.webdriver.remote.webelement.WebElement (session=\"b3b67a8c48a3caf26ab9e17d9edc8385\", element=\"f6f48197-3c11-4fc6-9904-28a4019058c9\")>,\n",
       " <selenium.webdriver.remote.webelement.WebElement (session=\"b3b67a8c48a3caf26ab9e17d9edc8385\", element=\"ec239d52-abac-4e37-9ea3-64cd03d93795\")>,\n",
       " <selenium.webdriver.remote.webelement.WebElement (session=\"b3b67a8c48a3caf26ab9e17d9edc8385\", element=\"4005f75d-f9c6-4d7e-9114-460d902f265a\")>,\n",
       " <selenium.webdriver.remote.webelement.WebElement (session=\"b3b67a8c48a3caf26ab9e17d9edc8385\", element=\"e07c1a12-6149-4154-aa77-0e7d5d2240b4\")>,\n",
       " <selenium.webdriver.remote.webelement.WebElement (session=\"b3b67a8c48a3caf26ab9e17d9edc8385\", element=\"ae3a805b-e30c-4a22-9288-9d07fa095ed2\")>,\n",
       " <selenium.webdriver.remote.webelement.WebElement (session=\"b3b67a8c48a3caf26ab9e17d9edc8385\", element=\"5da12daf-78c2-4f8b-bc0f-d6c8ef8c2c2f\")>,\n",
       " <selenium.webdriver.remote.webelement.WebElement (session=\"b3b67a8c48a3caf26ab9e17d9edc8385\", element=\"abf7b988-1146-438d-b02b-94359d300f85\")>,\n",
       " <selenium.webdriver.remote.webelement.WebElement (session=\"b3b67a8c48a3caf26ab9e17d9edc8385\", element=\"97b820fd-9e31-49a2-89af-0d6230a57d4e\")>,\n",
       " <selenium.webdriver.remote.webelement.WebElement (session=\"b3b67a8c48a3caf26ab9e17d9edc8385\", element=\"359f157b-437f-45b4-beec-9b05bfd72bb2\")>,\n",
       " <selenium.webdriver.remote.webelement.WebElement (session=\"b3b67a8c48a3caf26ab9e17d9edc8385\", element=\"cb117662-d7ff-40ba-ae5b-af1ec61856fb\")>]"
      ]
     },
     "execution_count": 132,
     "metadata": {},
     "output_type": "execute_result"
    }
   ],
   "source": [
    "#let's extract all the tags having the product brand\n",
    "description_tags=driver.find_elements_by_class_name(\"IRpwTa\")\n",
    "description_tags[0:21]"
   ]
  },
  {
   "cell_type": "markdown",
   "id": "de3cd8bb",
   "metadata": {},
   "source": [
    "Now we have all the tags from next page in which there are product description.\n",
    "\n",
    "Now we will extract the text from these these tags one by one by looping over these tags."
   ]
  },
  {
   "cell_type": "code",
   "execution_count": 133,
   "id": "53c3cb47",
   "metadata": {},
   "outputs": [
    {
     "data": {
      "text/plain": [
       "['Others Cat-eye, Retro Square, Wayfarer Sunglasses (54)',\n",
       " 'UV Protection Round Sunglasses (Free Size)',\n",
       " 'UV Protection Rectangular Sunglasses (Free Size)',\n",
       " 'Gradient, Toughened Glass Lens, UV Protection Retro Squ...',\n",
       " 'UV Protection, Gradient, Mirrored, Riding Glasses, Nigh...',\n",
       " 'UV Protection Oval Sunglasses (Free Size)',\n",
       " 'UV Protection, Mirrored, Gradient Round Sunglasses (51)',\n",
       " 'UV Protection Wayfarer Sunglasses (59)',\n",
       " 'UV Protection Wayfarer Sunglasses (Free Size)',\n",
       " 'UV Protection Cat-eye Sunglasses (57)',\n",
       " 'Mirrored, UV Protection Wayfarer Sunglasses (53)',\n",
       " 'UV Protection Rectangular Sunglasses (50)',\n",
       " 'UV Protection Round Sunglasses (Free Size)',\n",
       " 'UV Protection Wayfarer Sunglasses (Free Size)',\n",
       " 'UV Protection Wayfarer Sunglasses (54)',\n",
       " 'Gradient Aviator Sunglasses (55)',\n",
       " 'UV Protection Rectangular Sunglasses (55)',\n",
       " 'UV Protection Round Sunglasses (Free Size)',\n",
       " 'UV Protection Round Sunglasses (48)',\n",
       " 'UV Protection Cat-eye Sunglasses (54)',\n",
       " 'UV Protection, Riding Glasses, Others Aviator, Wayfarer...']"
      ]
     },
     "execution_count": 133,
     "metadata": {},
     "output_type": "execute_result"
    }
   ],
   "source": [
    "#now the text of the description is inside the tags extracted above\n",
    "#so we will run over a loop to iterate over the tags extracted above.\n",
    "for i in description_tags:\n",
    "    brands=i.text\n",
    "    product_description.append(brands)\n",
    "product_description[0:21]"
   ]
  },
  {
   "cell_type": "code",
   "execution_count": 134,
   "id": "a022067f",
   "metadata": {},
   "outputs": [
    {
     "data": {
      "text/plain": [
       "40"
      ]
     },
     "execution_count": 134,
     "metadata": {},
     "output_type": "execute_result"
    }
   ],
   "source": [
    "len(product_description)"
   ]
  },
  {
   "cell_type": "markdown",
   "id": "3d0727f6",
   "metadata": {},
   "source": [
    "first we will extract the all the tags from next page where we will have product price."
   ]
  },
  {
   "cell_type": "code",
   "execution_count": 135,
   "id": "19034bbd",
   "metadata": {},
   "outputs": [
    {
     "data": {
      "text/plain": [
       "[<selenium.webdriver.remote.webelement.WebElement (session=\"b3b67a8c48a3caf26ab9e17d9edc8385\", element=\"880b19cf-0114-479d-a043-d279a9c857b4\")>,\n",
       " <selenium.webdriver.remote.webelement.WebElement (session=\"b3b67a8c48a3caf26ab9e17d9edc8385\", element=\"10cee53b-21c9-41b8-bf7e-cc7cf509535e\")>,\n",
       " <selenium.webdriver.remote.webelement.WebElement (session=\"b3b67a8c48a3caf26ab9e17d9edc8385\", element=\"acb42cd6-4817-4cf1-839a-6a54ae55ed4d\")>,\n",
       " <selenium.webdriver.remote.webelement.WebElement (session=\"b3b67a8c48a3caf26ab9e17d9edc8385\", element=\"c70a5aea-4b49-4f25-9205-a7432dde0d91\")>,\n",
       " <selenium.webdriver.remote.webelement.WebElement (session=\"b3b67a8c48a3caf26ab9e17d9edc8385\", element=\"39918051-458c-4cff-bef1-ab5fcb8561d8\")>,\n",
       " <selenium.webdriver.remote.webelement.WebElement (session=\"b3b67a8c48a3caf26ab9e17d9edc8385\", element=\"b94e362c-f55f-47f7-8a58-d9cd7affd914\")>,\n",
       " <selenium.webdriver.remote.webelement.WebElement (session=\"b3b67a8c48a3caf26ab9e17d9edc8385\", element=\"7f4ae9cc-850d-4361-88a6-e22141a886a8\")>,\n",
       " <selenium.webdriver.remote.webelement.WebElement (session=\"b3b67a8c48a3caf26ab9e17d9edc8385\", element=\"f10ffc27-7152-41bb-a1c7-261ce9b03d47\")>,\n",
       " <selenium.webdriver.remote.webelement.WebElement (session=\"b3b67a8c48a3caf26ab9e17d9edc8385\", element=\"6bb22687-0a84-49e8-ab68-81222bf85bff\")>,\n",
       " <selenium.webdriver.remote.webelement.WebElement (session=\"b3b67a8c48a3caf26ab9e17d9edc8385\", element=\"64f2ac6f-1f37-4021-80a5-7e9cb9324ebd\")>]"
      ]
     },
     "execution_count": 135,
     "metadata": {},
     "output_type": "execute_result"
    }
   ],
   "source": [
    "#let's extract all the tags having the product brand\n",
    "price_tags=driver.find_elements_by_class_name(\"_30jeq3\")\n",
    "price_tags[0:10]"
   ]
  },
  {
   "cell_type": "markdown",
   "id": "ff842dab",
   "metadata": {},
   "source": [
    "Now we have all the tags from next page in which there are product price.\n",
    "\n",
    "Now we will extract the text from these these tags one by one by looping over these tags."
   ]
  },
  {
   "cell_type": "code",
   "execution_count": 136,
   "id": "9150f2a2",
   "metadata": {},
   "outputs": [
    {
     "data": {
      "text/plain": [
       "['₹236',\n",
       " '₹210',\n",
       " '₹189',\n",
       " '₹664',\n",
       " '₹179',\n",
       " '₹1,599',\n",
       " '₹253',\n",
       " '₹649',\n",
       " '₹314',\n",
       " '₹979']"
      ]
     },
     "execution_count": 136,
     "metadata": {},
     "output_type": "execute_result"
    }
   ],
   "source": [
    "#now the text of the price is inside the tags extracted above\n",
    "#so we will run over a loop to iterate over the tags extracted above.\n",
    "for i in price_tags:\n",
    "    prices=i.text\n",
    "    product_price.append(prices)\n",
    "product_price[0:10]"
   ]
  },
  {
   "cell_type": "code",
   "execution_count": 137,
   "id": "29379fb5",
   "metadata": {},
   "outputs": [
    {
     "data": {
      "text/plain": [
       "45"
      ]
     },
     "execution_count": 137,
     "metadata": {},
     "output_type": "execute_result"
    }
   ],
   "source": [
    "len(product_price)"
   ]
  },
  {
   "cell_type": "markdown",
   "id": "1936f656",
   "metadata": {},
   "source": [
    "first we will extract the all the tags from next page where we will have product discount."
   ]
  },
  {
   "cell_type": "code",
   "execution_count": 138,
   "id": "1aa7bcbe",
   "metadata": {},
   "outputs": [
    {
     "data": {
      "text/plain": [
       "[<selenium.webdriver.remote.webelement.WebElement (session=\"b3b67a8c48a3caf26ab9e17d9edc8385\", element=\"51d3de7f-cd77-4f50-a162-e59b745bf61c\")>,\n",
       " <selenium.webdriver.remote.webelement.WebElement (session=\"b3b67a8c48a3caf26ab9e17d9edc8385\", element=\"3aaee6b2-cffd-41fa-8ebc-2d6376e9704b\")>,\n",
       " <selenium.webdriver.remote.webelement.WebElement (session=\"b3b67a8c48a3caf26ab9e17d9edc8385\", element=\"8ec283dd-2717-47f3-82e3-ffdc6c1a3af4\")>,\n",
       " <selenium.webdriver.remote.webelement.WebElement (session=\"b3b67a8c48a3caf26ab9e17d9edc8385\", element=\"4b06f545-2fe9-46f5-be7c-861b8aff6377\")>,\n",
       " <selenium.webdriver.remote.webelement.WebElement (session=\"b3b67a8c48a3caf26ab9e17d9edc8385\", element=\"dfd46ae0-fd73-4a90-bcc3-5ae788956966\")>,\n",
       " <selenium.webdriver.remote.webelement.WebElement (session=\"b3b67a8c48a3caf26ab9e17d9edc8385\", element=\"92eb6369-517e-4110-be3a-f0957a111bef\")>,\n",
       " <selenium.webdriver.remote.webelement.WebElement (session=\"b3b67a8c48a3caf26ab9e17d9edc8385\", element=\"4730b6ca-4447-43cc-9f9e-b3abb5f27286\")>,\n",
       " <selenium.webdriver.remote.webelement.WebElement (session=\"b3b67a8c48a3caf26ab9e17d9edc8385\", element=\"669a50f5-ca35-4c3f-b0e2-891bcd7a97f5\")>,\n",
       " <selenium.webdriver.remote.webelement.WebElement (session=\"b3b67a8c48a3caf26ab9e17d9edc8385\", element=\"4a7bab90-1dba-4c67-a63b-ef2c60a396d7\")>,\n",
       " <selenium.webdriver.remote.webelement.WebElement (session=\"b3b67a8c48a3caf26ab9e17d9edc8385\", element=\"522e52e5-ee27-4be6-9628-1031ed3f3be7\")>]"
      ]
     },
     "execution_count": 138,
     "metadata": {},
     "output_type": "execute_result"
    }
   ],
   "source": [
    "#let's extract all the tags having the product discount\n",
    "discount_tags=driver.find_elements_by_class_name(\"_3Ay6Sb\")\n",
    "discount_tags[0:10]"
   ]
  },
  {
   "cell_type": "markdown",
   "id": "fd7a266e",
   "metadata": {},
   "source": [
    "Now we have all the tags from next page in which there are product discount.\n",
    "\n",
    "Now we will extract the text from these these tags one by one by looping over these tags."
   ]
  },
  {
   "cell_type": "code",
   "execution_count": 139,
   "id": "ef257526",
   "metadata": {},
   "outputs": [
    {
     "data": {
      "text/plain": [
       "['80% off',\n",
       " '78% off',\n",
       " '88% off',\n",
       " '77% off',\n",
       " '85% off',\n",
       " '20% off',\n",
       " '68% off',\n",
       " '67% off',\n",
       " '82% off',\n",
       " '49% off']"
      ]
     },
     "execution_count": 139,
     "metadata": {},
     "output_type": "execute_result"
    }
   ],
   "source": [
    "#now the text of the discount is inside the tags extracted above\n",
    "#so we will run over a loop to iterate over the tags extracted above.\n",
    "for i in discount_tags:\n",
    "    discount=i.text\n",
    "    product_discount.append(discount)\n",
    "product_discount[0:10]"
   ]
  },
  {
   "cell_type": "code",
   "execution_count": 140,
   "id": "c7d8fc60",
   "metadata": {},
   "outputs": [
    {
     "data": {
      "text/plain": [
       "45"
      ]
     },
     "execution_count": 140,
     "metadata": {},
     "output_type": "execute_result"
    }
   ],
   "source": [
    "len(product_discount)"
   ]
  },
  {
   "cell_type": "raw",
   "id": "90ded207",
   "metadata": {},
   "source": [
    "Q5: Scrape 100 reviews data from flipkart.com for iphone11 phone. You have to go the link:\n",
    "https://www.flipkart.com/apple-iphone-11-black-64-gb-includes- earpods-power- adapter/p/itm0f37c2240b217?pid=MOBFKCTSVZAXUHGR&lid=LSTMOBFKC TSVZAXUHGREPBFGI&marketplace.\n",
    "When you will open the above link you will reach to the below shown webpage .\n",
    "As shown in the above page you have to scrape the tick marked attributes.These are:\n",
    "1. Rating\n",
    "2. Review summary\n",
    "3. Full review\n",
    "4. You have to scrape this data for first 100 reviews.\n",
    "Note: All the steps required during scraping should be done through code only and not manually.\n",
    "\n"
   ]
  },
  {
   "cell_type": "code",
   "execution_count": 141,
   "id": "a4a9e6f2",
   "metadata": {},
   "outputs": [],
   "source": [
    "#specifying the url of the webpage to be scraped\n",
    "url='https://www.flipkart.com/apple-iphone-11-black-64-gb-includes-%20earpods-power-%20adapter/p/itm0f37c2240b217?pid=MOBFKCTSVZAXUHGR&lid=LSTMOBFKC%20TSVZAXUHGREPBFGI&marketplace.'\n",
    "driver.get(url)"
   ]
  },
  {
   "cell_type": "markdown",
   "id": "510c6dd5",
   "metadata": {},
   "source": [
    "so now let's make 3 empty list. In these lists the data will be stored while scraping.we have created 3 empty list for the features which we have to extract.\n",
    "\n",
    "1.rating  2.review summary 3.full_review"
   ]
  },
  {
   "cell_type": "code",
   "execution_count": 142,
   "id": "f4e57ad6",
   "metadata": {},
   "outputs": [],
   "source": [
    "rating=[]\n",
    "review_summary=[]\n",
    "full_review=[]"
   ]
  },
  {
   "cell_type": "markdown",
   "id": "820af0c5",
   "metadata": {},
   "source": [
    "first we will extract the all the tags where we will have rating."
   ]
  },
  {
   "cell_type": "code",
   "execution_count": 145,
   "id": "80bed398",
   "metadata": {},
   "outputs": [
    {
     "data": {
      "text/plain": [
       "[<selenium.webdriver.remote.webelement.WebElement (session=\"b3b67a8c48a3caf26ab9e17d9edc8385\", element=\"1a493796-8887-4d59-a0f4-6024364ee2df\")>,\n",
       " <selenium.webdriver.remote.webelement.WebElement (session=\"b3b67a8c48a3caf26ab9e17d9edc8385\", element=\"70e34fef-0cb0-4cad-839d-e601001b55fd\")>,\n",
       " <selenium.webdriver.remote.webelement.WebElement (session=\"b3b67a8c48a3caf26ab9e17d9edc8385\", element=\"971bf310-9c1c-4f65-bc75-f597ee609c21\")>,\n",
       " <selenium.webdriver.remote.webelement.WebElement (session=\"b3b67a8c48a3caf26ab9e17d9edc8385\", element=\"545800f5-e3f8-4419-97ad-3ee075854579\")>,\n",
       " <selenium.webdriver.remote.webelement.WebElement (session=\"b3b67a8c48a3caf26ab9e17d9edc8385\", element=\"aa0466ca-b6c8-497c-be8d-8f4eaff849dc\")>,\n",
       " <selenium.webdriver.remote.webelement.WebElement (session=\"b3b67a8c48a3caf26ab9e17d9edc8385\", element=\"e2ca3588-9a3d-476f-a533-39b93c042e4a\")>,\n",
       " <selenium.webdriver.remote.webelement.WebElement (session=\"b3b67a8c48a3caf26ab9e17d9edc8385\", element=\"aae87191-99a2-4697-9581-8d0e05570579\")>,\n",
       " <selenium.webdriver.remote.webelement.WebElement (session=\"b3b67a8c48a3caf26ab9e17d9edc8385\", element=\"062ce868-23c4-4a24-b109-6367e811930c\")>,\n",
       " <selenium.webdriver.remote.webelement.WebElement (session=\"b3b67a8c48a3caf26ab9e17d9edc8385\", element=\"e720af8f-29a3-473f-90bc-85fe38cd98e9\")>,\n",
       " <selenium.webdriver.remote.webelement.WebElement (session=\"b3b67a8c48a3caf26ab9e17d9edc8385\", element=\"3c11dd8c-5f72-4b5c-a7da-5c10199f41d8\")>,\n",
       " <selenium.webdriver.remote.webelement.WebElement (session=\"b3b67a8c48a3caf26ab9e17d9edc8385\", element=\"0af204ae-50ec-42ce-a421-e6debe6e3732\")>]"
      ]
     },
     "execution_count": 145,
     "metadata": {},
     "output_type": "execute_result"
    }
   ],
   "source": [
    "#let's extract all the tags having the rating\n",
    "rating_tags=driver.find_elements_by_class_name(\"_1wB99o\")\n",
    "rating_tags"
   ]
  },
  {
   "cell_type": "markdown",
   "id": "d6673204",
   "metadata": {},
   "source": [
    "Now we have all the tags in which there are all the ratings.\n",
    "\n",
    "Now we will extract the text from these these tags one by one by looping over these tags."
   ]
  },
  {
   "cell_type": "code",
   "execution_count": 146,
   "id": "0f5236be",
   "metadata": {},
   "outputs": [
    {
     "data": {
      "text/plain": [
       "['', '', '', '', '', '', '', '', '', '', '']"
      ]
     },
     "execution_count": 146,
     "metadata": {},
     "output_type": "execute_result"
    }
   ],
   "source": [
    "#now the text of the rating is inside the tags extracted above\n",
    "#so we will run over a loop to iterate over the tags extracted above.\n",
    "for i in rating_tags:\n",
    "    ratings=i.text\n",
    "    rating.append(ratings)\n",
    "rating"
   ]
  },
  {
   "cell_type": "code",
   "execution_count": 150,
   "id": "17b1974d",
   "metadata": {},
   "outputs": [
    {
     "data": {
      "text/plain": [
       "[<selenium.webdriver.remote.webelement.WebElement (session=\"b3b67a8c48a3caf26ab9e17d9edc8385\", element=\"816f8d39-3283-433c-9a1a-c34514890f8b\")>,\n",
       " <selenium.webdriver.remote.webelement.WebElement (session=\"b3b67a8c48a3caf26ab9e17d9edc8385\", element=\"c471206a-a3d6-40d8-8027-160ac4831f8f\")>,\n",
       " <selenium.webdriver.remote.webelement.WebElement (session=\"b3b67a8c48a3caf26ab9e17d9edc8385\", element=\"e58032cf-286a-4fa1-b8d9-9f8bf535bd62\")>,\n",
       " <selenium.webdriver.remote.webelement.WebElement (session=\"b3b67a8c48a3caf26ab9e17d9edc8385\", element=\"fdfaa656-be0f-4adc-8290-ea6a790b8745\")>,\n",
       " <selenium.webdriver.remote.webelement.WebElement (session=\"b3b67a8c48a3caf26ab9e17d9edc8385\", element=\"99a24093-d5b4-4ee4-b66a-823454b3b747\")>,\n",
       " <selenium.webdriver.remote.webelement.WebElement (session=\"b3b67a8c48a3caf26ab9e17d9edc8385\", element=\"6f042f46-34d0-416c-96d9-e962ec909894\")>,\n",
       " <selenium.webdriver.remote.webelement.WebElement (session=\"b3b67a8c48a3caf26ab9e17d9edc8385\", element=\"768ed881-01f7-4c33-a877-56cfb6966bb6\")>,\n",
       " <selenium.webdriver.remote.webelement.WebElement (session=\"b3b67a8c48a3caf26ab9e17d9edc8385\", element=\"42c3e0cf-eab6-4999-bc4f-2bec4b7d0c99\")>,\n",
       " <selenium.webdriver.remote.webelement.WebElement (session=\"b3b67a8c48a3caf26ab9e17d9edc8385\", element=\"1aa09243-2233-4e44-8b9e-9a4851c05f2f\")>,\n",
       " <selenium.webdriver.remote.webelement.WebElement (session=\"b3b67a8c48a3caf26ab9e17d9edc8385\", element=\"e01369d9-4f1e-42bf-8e2e-f52ee4d6c38e\")>]"
      ]
     },
     "execution_count": 150,
     "metadata": {},
     "output_type": "execute_result"
    }
   ],
   "source": [
    "#let's extract all the tags having the review\n",
    "review_tags=driver.find_elements_by_class_name(\"_2-N8zT\")\n",
    "review_tags[0:10]"
   ]
  },
  {
   "cell_type": "markdown",
   "id": "a8385440",
   "metadata": {},
   "source": [
    "Now we have all the tags in which there are all the customer reviews.\n",
    "\n",
    "Now we will extract the text from these these tags one by one by looping over these tags."
   ]
  },
  {
   "cell_type": "code",
   "execution_count": 151,
   "id": "9ae419f6",
   "metadata": {},
   "outputs": [
    {
     "data": {
      "text/plain": [
       "['Brilliant',\n",
       " 'Simply awesome',\n",
       " 'Best in the market!',\n",
       " '',\n",
       " '',\n",
       " '',\n",
       " '',\n",
       " '',\n",
       " '',\n",
       " '']"
      ]
     },
     "execution_count": 151,
     "metadata": {},
     "output_type": "execute_result"
    }
   ],
   "source": [
    "#now the text of the review is inside the tags extracted above\n",
    "#so we will run over a loop to iterate over the tags extracted above.\n",
    "for i in review_tags:\n",
    "    customer_reviews=i.text\n",
    "    review_summary.append(customer_reviews)\n",
    "review_summary[0:10]"
   ]
  },
  {
   "cell_type": "markdown",
   "id": "adbcf71e",
   "metadata": {},
   "source": [
    "first we will extract the all the tags where we will have full review."
   ]
  },
  {
   "cell_type": "code",
   "execution_count": 154,
   "id": "0c87dafa",
   "metadata": {},
   "outputs": [
    {
     "data": {
      "text/plain": [
       "[<selenium.webdriver.remote.webelement.WebElement (session=\"b3b67a8c48a3caf26ab9e17d9edc8385\", element=\"31ba517a-6379-4cf0-b39e-788acdf4c5d3\")>,\n",
       " <selenium.webdriver.remote.webelement.WebElement (session=\"b3b67a8c48a3caf26ab9e17d9edc8385\", element=\"137476fc-733e-462a-9922-1812e65fa8b3\")>,\n",
       " <selenium.webdriver.remote.webelement.WebElement (session=\"b3b67a8c48a3caf26ab9e17d9edc8385\", element=\"ad215859-7ef6-4286-90a7-8fb6a07c4f93\")>,\n",
       " <selenium.webdriver.remote.webelement.WebElement (session=\"b3b67a8c48a3caf26ab9e17d9edc8385\", element=\"2190a9cc-99db-46bd-9284-5464a2c66a19\")>,\n",
       " <selenium.webdriver.remote.webelement.WebElement (session=\"b3b67a8c48a3caf26ab9e17d9edc8385\", element=\"c4b0a766-787b-4873-804d-6a9a4c541963\")>,\n",
       " <selenium.webdriver.remote.webelement.WebElement (session=\"b3b67a8c48a3caf26ab9e17d9edc8385\", element=\"5da178d1-1134-4e07-808a-c955d12ca6c3\")>,\n",
       " <selenium.webdriver.remote.webelement.WebElement (session=\"b3b67a8c48a3caf26ab9e17d9edc8385\", element=\"1b9d5d6c-3905-4125-852c-e37b13cc66d7\")>,\n",
       " <selenium.webdriver.remote.webelement.WebElement (session=\"b3b67a8c48a3caf26ab9e17d9edc8385\", element=\"a9967a26-2c05-4aa6-9063-a3e11ffe9570\")>,\n",
       " <selenium.webdriver.remote.webelement.WebElement (session=\"b3b67a8c48a3caf26ab9e17d9edc8385\", element=\"4213d320-3dc2-43c0-9f93-1740e96ff238\")>,\n",
       " <selenium.webdriver.remote.webelement.WebElement (session=\"b3b67a8c48a3caf26ab9e17d9edc8385\", element=\"72afedb3-6292-448f-8975-40ba6e189de0\")>,\n",
       " <selenium.webdriver.remote.webelement.WebElement (session=\"b3b67a8c48a3caf26ab9e17d9edc8385\", element=\"8606ebe6-7d45-487e-a3a4-0de67e961b47\")>,\n",
       " <selenium.webdriver.remote.webelement.WebElement (session=\"b3b67a8c48a3caf26ab9e17d9edc8385\", element=\"e9bd6799-569c-4cad-a2b7-abc7738a8182\")>,\n",
       " <selenium.webdriver.remote.webelement.WebElement (session=\"b3b67a8c48a3caf26ab9e17d9edc8385\", element=\"592b13b6-d2bf-496d-bab2-329fd27e9c2c\")>,\n",
       " <selenium.webdriver.remote.webelement.WebElement (session=\"b3b67a8c48a3caf26ab9e17d9edc8385\", element=\"749e5a3e-be9a-4951-b98c-409ec23c2ac5\")>,\n",
       " <selenium.webdriver.remote.webelement.WebElement (session=\"b3b67a8c48a3caf26ab9e17d9edc8385\", element=\"688e34f1-4928-4575-a05b-0fa0a74829d5\")>,\n",
       " <selenium.webdriver.remote.webelement.WebElement (session=\"b3b67a8c48a3caf26ab9e17d9edc8385\", element=\"803cd773-9f40-4644-b2f2-1e50b1b317d5\")>,\n",
       " <selenium.webdriver.remote.webelement.WebElement (session=\"b3b67a8c48a3caf26ab9e17d9edc8385\", element=\"8c00501e-7342-4ba2-b29a-a8f09fa6d4f3\")>,\n",
       " <selenium.webdriver.remote.webelement.WebElement (session=\"b3b67a8c48a3caf26ab9e17d9edc8385\", element=\"50c3b123-403c-47ad-a9c8-e614e1abf95c\")>,\n",
       " <selenium.webdriver.remote.webelement.WebElement (session=\"b3b67a8c48a3caf26ab9e17d9edc8385\", element=\"0a14721f-1498-4267-bf85-4d51118a6bef\")>,\n",
       " <selenium.webdriver.remote.webelement.WebElement (session=\"b3b67a8c48a3caf26ab9e17d9edc8385\", element=\"4de3d7a9-4c44-43e7-b5c1-4bf8706e4669\")>,\n",
       " <selenium.webdriver.remote.webelement.WebElement (session=\"b3b67a8c48a3caf26ab9e17d9edc8385\", element=\"3dfd0dcb-34e9-4459-b63f-4f04b3509b46\")>,\n",
       " <selenium.webdriver.remote.webelement.WebElement (session=\"b3b67a8c48a3caf26ab9e17d9edc8385\", element=\"f37388f4-064a-4a8b-9de2-285e48dc83cc\")>,\n",
       " <selenium.webdriver.remote.webelement.WebElement (session=\"b3b67a8c48a3caf26ab9e17d9edc8385\", element=\"391e7569-16f5-44fa-b2b3-f51f55e069b1\")>,\n",
       " <selenium.webdriver.remote.webelement.WebElement (session=\"b3b67a8c48a3caf26ab9e17d9edc8385\", element=\"3ebb9f8f-07aa-4f5a-a6bc-838eecd13b39\")>,\n",
       " <selenium.webdriver.remote.webelement.WebElement (session=\"b3b67a8c48a3caf26ab9e17d9edc8385\", element=\"9a8d3123-7337-4fd2-a4cd-5f7fba61c10f\")>,\n",
       " <selenium.webdriver.remote.webelement.WebElement (session=\"b3b67a8c48a3caf26ab9e17d9edc8385\", element=\"a4d83207-a9ae-4bb2-b56e-ccb557ff1ee9\")>,\n",
       " <selenium.webdriver.remote.webelement.WebElement (session=\"b3b67a8c48a3caf26ab9e17d9edc8385\", element=\"6c850457-96a1-44dd-a62a-14ec3f1e805e\")>,\n",
       " <selenium.webdriver.remote.webelement.WebElement (session=\"b3b67a8c48a3caf26ab9e17d9edc8385\", element=\"7ab58cfd-f369-493d-9bce-9de467c1a162\")>,\n",
       " <selenium.webdriver.remote.webelement.WebElement (session=\"b3b67a8c48a3caf26ab9e17d9edc8385\", element=\"1e400e9e-7d0b-4fe7-9247-216c56704356\")>,\n",
       " <selenium.webdriver.remote.webelement.WebElement (session=\"b3b67a8c48a3caf26ab9e17d9edc8385\", element=\"aa95d7d5-0f19-4ac3-af29-0e91b607ed46\")>,\n",
       " <selenium.webdriver.remote.webelement.WebElement (session=\"b3b67a8c48a3caf26ab9e17d9edc8385\", element=\"71ced376-3f9d-429f-a320-31ff7b45455f\")>,\n",
       " <selenium.webdriver.remote.webelement.WebElement (session=\"b3b67a8c48a3caf26ab9e17d9edc8385\", element=\"7444d3f7-9b4f-4b94-8ee8-e5fad3542841\")>,\n",
       " <selenium.webdriver.remote.webelement.WebElement (session=\"b3b67a8c48a3caf26ab9e17d9edc8385\", element=\"f4d61d7b-7a00-4d2b-9b36-e25bca852b2b\")>,\n",
       " <selenium.webdriver.remote.webelement.WebElement (session=\"b3b67a8c48a3caf26ab9e17d9edc8385\", element=\"81209a18-db50-4b30-b9ff-e955a24e10a7\")>,\n",
       " <selenium.webdriver.remote.webelement.WebElement (session=\"b3b67a8c48a3caf26ab9e17d9edc8385\", element=\"8719a435-ff2c-4c19-b2f9-4cf8412f35f7\")>,\n",
       " <selenium.webdriver.remote.webelement.WebElement (session=\"b3b67a8c48a3caf26ab9e17d9edc8385\", element=\"7ed7ef82-453a-49f8-89f6-74fc5dc57333\")>,\n",
       " <selenium.webdriver.remote.webelement.WebElement (session=\"b3b67a8c48a3caf26ab9e17d9edc8385\", element=\"190eb6a8-7d90-4912-94db-a82d6b1d0b20\")>,\n",
       " <selenium.webdriver.remote.webelement.WebElement (session=\"b3b67a8c48a3caf26ab9e17d9edc8385\", element=\"1b936065-aae1-4f89-8314-3367f5cb142c\")>,\n",
       " <selenium.webdriver.remote.webelement.WebElement (session=\"b3b67a8c48a3caf26ab9e17d9edc8385\", element=\"348cfe20-62e7-459a-857f-35630a2cd74d\")>,\n",
       " <selenium.webdriver.remote.webelement.WebElement (session=\"b3b67a8c48a3caf26ab9e17d9edc8385\", element=\"78395797-259f-4cd1-927c-14eea3a8eef8\")>,\n",
       " <selenium.webdriver.remote.webelement.WebElement (session=\"b3b67a8c48a3caf26ab9e17d9edc8385\", element=\"448157c8-436c-4229-9cd8-adc45c39987a\")>,\n",
       " <selenium.webdriver.remote.webelement.WebElement (session=\"b3b67a8c48a3caf26ab9e17d9edc8385\", element=\"4964d5b3-f158-4c29-85fc-c04b51f7112b\")>,\n",
       " <selenium.webdriver.remote.webelement.WebElement (session=\"b3b67a8c48a3caf26ab9e17d9edc8385\", element=\"64240590-2708-492d-a634-4242e58e1c10\")>,\n",
       " <selenium.webdriver.remote.webelement.WebElement (session=\"b3b67a8c48a3caf26ab9e17d9edc8385\", element=\"69823660-53a1-4bd4-9da2-0bb701c58721\")>,\n",
       " <selenium.webdriver.remote.webelement.WebElement (session=\"b3b67a8c48a3caf26ab9e17d9edc8385\", element=\"6aba044f-de09-4a85-8bcf-f41f0eb58195\")>,\n",
       " <selenium.webdriver.remote.webelement.WebElement (session=\"b3b67a8c48a3caf26ab9e17d9edc8385\", element=\"581a291e-962d-4779-810f-7cafc4df8b36\")>,\n",
       " <selenium.webdriver.remote.webelement.WebElement (session=\"b3b67a8c48a3caf26ab9e17d9edc8385\", element=\"870598fc-5e32-40f2-924c-f083267117ff\")>,\n",
       " <selenium.webdriver.remote.webelement.WebElement (session=\"b3b67a8c48a3caf26ab9e17d9edc8385\", element=\"a90d24b3-0799-4052-8a91-1f44d687f4cf\")>,\n",
       " <selenium.webdriver.remote.webelement.WebElement (session=\"b3b67a8c48a3caf26ab9e17d9edc8385\", element=\"05c6a677-d166-4922-b3b7-756a9bef7678\")>,\n",
       " <selenium.webdriver.remote.webelement.WebElement (session=\"b3b67a8c48a3caf26ab9e17d9edc8385\", element=\"75719ace-5fa6-46cc-aa21-20fb86a8f63b\")>,\n",
       " <selenium.webdriver.remote.webelement.WebElement (session=\"b3b67a8c48a3caf26ab9e17d9edc8385\", element=\"2d6e5780-f15f-486e-9ca2-675cb2344342\")>,\n",
       " <selenium.webdriver.remote.webelement.WebElement (session=\"b3b67a8c48a3caf26ab9e17d9edc8385\", element=\"5f454ced-409d-484a-903a-cea644485a48\")>,\n",
       " <selenium.webdriver.remote.webelement.WebElement (session=\"b3b67a8c48a3caf26ab9e17d9edc8385\", element=\"44704b1d-5393-4b03-a436-239a3ecef8e4\")>,\n",
       " <selenium.webdriver.remote.webelement.WebElement (session=\"b3b67a8c48a3caf26ab9e17d9edc8385\", element=\"94d9da63-860e-430c-a282-a825fbdfc42b\")>,\n",
       " <selenium.webdriver.remote.webelement.WebElement (session=\"b3b67a8c48a3caf26ab9e17d9edc8385\", element=\"64dfd943-c3f5-4f07-b391-93b38b7cb7f0\")>,\n",
       " <selenium.webdriver.remote.webelement.WebElement (session=\"b3b67a8c48a3caf26ab9e17d9edc8385\", element=\"db219178-575b-4293-8700-6880dff28d8e\")>,\n",
       " <selenium.webdriver.remote.webelement.WebElement (session=\"b3b67a8c48a3caf26ab9e17d9edc8385\", element=\"01e45080-0d3b-40a5-abc3-886dd52dba1c\")>,\n",
       " <selenium.webdriver.remote.webelement.WebElement (session=\"b3b67a8c48a3caf26ab9e17d9edc8385\", element=\"33a8c8f8-06e6-4070-810d-f6c247e13790\")>,\n",
       " <selenium.webdriver.remote.webelement.WebElement (session=\"b3b67a8c48a3caf26ab9e17d9edc8385\", element=\"8b2dfe37-1c06-4a99-84c9-6a7da8aee226\")>,\n",
       " <selenium.webdriver.remote.webelement.WebElement (session=\"b3b67a8c48a3caf26ab9e17d9edc8385\", element=\"a6c4cb9f-f7a4-4c11-b017-1556ffcac91c\")>,\n",
       " <selenium.webdriver.remote.webelement.WebElement (session=\"b3b67a8c48a3caf26ab9e17d9edc8385\", element=\"51a1aa64-d0b6-46a0-a647-f8e48f428ec9\")>,\n",
       " <selenium.webdriver.remote.webelement.WebElement (session=\"b3b67a8c48a3caf26ab9e17d9edc8385\", element=\"544e9a64-df49-47d4-8cab-65623cb3a127\")>,\n",
       " <selenium.webdriver.remote.webelement.WebElement (session=\"b3b67a8c48a3caf26ab9e17d9edc8385\", element=\"0c896aaa-8e00-45a9-8439-f561221d6867\")>,\n",
       " <selenium.webdriver.remote.webelement.WebElement (session=\"b3b67a8c48a3caf26ab9e17d9edc8385\", element=\"b274f383-c3f6-45cb-b496-07b93183fe02\")>,\n",
       " <selenium.webdriver.remote.webelement.WebElement (session=\"b3b67a8c48a3caf26ab9e17d9edc8385\", element=\"f70de114-8b07-4e6f-b8f3-6d36f8623f4b\")>,\n",
       " <selenium.webdriver.remote.webelement.WebElement (session=\"b3b67a8c48a3caf26ab9e17d9edc8385\", element=\"e7f37e65-2cc1-4f4a-8434-523c0e2576f4\")>,\n",
       " <selenium.webdriver.remote.webelement.WebElement (session=\"b3b67a8c48a3caf26ab9e17d9edc8385\", element=\"2769c778-4601-4678-bbfc-1d0aff469d39\")>,\n",
       " <selenium.webdriver.remote.webelement.WebElement (session=\"b3b67a8c48a3caf26ab9e17d9edc8385\", element=\"be6e5a71-aef2-4dd3-90e4-8eed0d4a69de\")>,\n",
       " <selenium.webdriver.remote.webelement.WebElement (session=\"b3b67a8c48a3caf26ab9e17d9edc8385\", element=\"b5bef386-2af3-4e1a-b6c0-5b226b566e2b\")>,\n",
       " <selenium.webdriver.remote.webelement.WebElement (session=\"b3b67a8c48a3caf26ab9e17d9edc8385\", element=\"857369cd-3881-46c9-9cb1-75b3dfadc800\")>,\n",
       " <selenium.webdriver.remote.webelement.WebElement (session=\"b3b67a8c48a3caf26ab9e17d9edc8385\", element=\"8fa1ad90-55c7-427a-857b-a4c9d0f9e29d\")>,\n",
       " <selenium.webdriver.remote.webelement.WebElement (session=\"b3b67a8c48a3caf26ab9e17d9edc8385\", element=\"728535e3-4cd6-4ad8-a16d-79ea4b9c79e5\")>,\n",
       " <selenium.webdriver.remote.webelement.WebElement (session=\"b3b67a8c48a3caf26ab9e17d9edc8385\", element=\"3e0d1002-7f6e-4bb6-b20a-7b208d0872ae\")>,\n",
       " <selenium.webdriver.remote.webelement.WebElement (session=\"b3b67a8c48a3caf26ab9e17d9edc8385\", element=\"a61326c9-9f7e-49fe-8e28-6fc4a9c988b2\")>,\n",
       " <selenium.webdriver.remote.webelement.WebElement (session=\"b3b67a8c48a3caf26ab9e17d9edc8385\", element=\"a94855ab-0207-48da-8272-503090b2bf1a\")>,\n",
       " <selenium.webdriver.remote.webelement.WebElement (session=\"b3b67a8c48a3caf26ab9e17d9edc8385\", element=\"259e45b5-340a-4e1a-9de7-f94e149f5aa0\")>,\n",
       " <selenium.webdriver.remote.webelement.WebElement (session=\"b3b67a8c48a3caf26ab9e17d9edc8385\", element=\"55a39fd2-c4a5-40f1-b62c-b52442a6ebf0\")>,\n",
       " <selenium.webdriver.remote.webelement.WebElement (session=\"b3b67a8c48a3caf26ab9e17d9edc8385\", element=\"f58ef20c-36e0-45fd-b432-7f75ea5ddbbf\")>,\n",
       " <selenium.webdriver.remote.webelement.WebElement (session=\"b3b67a8c48a3caf26ab9e17d9edc8385\", element=\"cd0f19ac-4ee1-443c-adc8-4ffbcce533e0\")>,\n",
       " <selenium.webdriver.remote.webelement.WebElement (session=\"b3b67a8c48a3caf26ab9e17d9edc8385\", element=\"ee7f7c4e-4016-4373-8ff4-a3992559d0c6\")>,\n",
       " <selenium.webdriver.remote.webelement.WebElement (session=\"b3b67a8c48a3caf26ab9e17d9edc8385\", element=\"5d73dbdc-1390-41b3-8b6a-f49a22389414\")>,\n",
       " <selenium.webdriver.remote.webelement.WebElement (session=\"b3b67a8c48a3caf26ab9e17d9edc8385\", element=\"f0561e46-1b5d-4ecf-a4d5-8b34696c972b\")>,\n",
       " <selenium.webdriver.remote.webelement.WebElement (session=\"b3b67a8c48a3caf26ab9e17d9edc8385\", element=\"ead67727-2f17-48f4-b32f-5f68f1fe8ad2\")>,\n",
       " <selenium.webdriver.remote.webelement.WebElement (session=\"b3b67a8c48a3caf26ab9e17d9edc8385\", element=\"9db20d26-d49e-4b9a-ad27-389897e9d710\")>,\n",
       " <selenium.webdriver.remote.webelement.WebElement (session=\"b3b67a8c48a3caf26ab9e17d9edc8385\", element=\"95d496da-8950-4bf1-8b5e-c1369770c2fd\")>,\n",
       " <selenium.webdriver.remote.webelement.WebElement (session=\"b3b67a8c48a3caf26ab9e17d9edc8385\", element=\"3822deac-af24-4888-9537-b054155aba80\")>,\n",
       " <selenium.webdriver.remote.webelement.WebElement (session=\"b3b67a8c48a3caf26ab9e17d9edc8385\", element=\"0fb47c89-8a34-41df-a638-332ded26c261\")>,\n",
       " <selenium.webdriver.remote.webelement.WebElement (session=\"b3b67a8c48a3caf26ab9e17d9edc8385\", element=\"dd18216d-295f-4aa4-8e2b-bca0ab1314bd\")>,\n",
       " <selenium.webdriver.remote.webelement.WebElement (session=\"b3b67a8c48a3caf26ab9e17d9edc8385\", element=\"088ad9fb-f9f8-4d93-86dc-de86d4d92060\")>,\n",
       " <selenium.webdriver.remote.webelement.WebElement (session=\"b3b67a8c48a3caf26ab9e17d9edc8385\", element=\"58af438d-3629-4221-9ac7-3d8f66d8829d\")>,\n",
       " <selenium.webdriver.remote.webelement.WebElement (session=\"b3b67a8c48a3caf26ab9e17d9edc8385\", element=\"576cce75-4181-4945-8c5c-830866471a9b\")>,\n",
       " <selenium.webdriver.remote.webelement.WebElement (session=\"b3b67a8c48a3caf26ab9e17d9edc8385\", element=\"acf7f538-6798-4a1a-97fb-95e0c208cb4a\")>,\n",
       " <selenium.webdriver.remote.webelement.WebElement (session=\"b3b67a8c48a3caf26ab9e17d9edc8385\", element=\"ec3c5069-30cf-446e-b516-8e549eb945d0\")>,\n",
       " <selenium.webdriver.remote.webelement.WebElement (session=\"b3b67a8c48a3caf26ab9e17d9edc8385\", element=\"c0a0c69f-00ad-4a53-b87e-1a2ae6d6990d\")>,\n",
       " <selenium.webdriver.remote.webelement.WebElement (session=\"b3b67a8c48a3caf26ab9e17d9edc8385\", element=\"1daf1943-23ec-4ead-a995-5d28198ce081\")>,\n",
       " <selenium.webdriver.remote.webelement.WebElement (session=\"b3b67a8c48a3caf26ab9e17d9edc8385\", element=\"7b3a52eb-3b29-43e9-b6a8-88a4433282ab\")>,\n",
       " <selenium.webdriver.remote.webelement.WebElement (session=\"b3b67a8c48a3caf26ab9e17d9edc8385\", element=\"92267522-0dc6-421c-a16b-69840d07223c\")>,\n",
       " <selenium.webdriver.remote.webelement.WebElement (session=\"b3b67a8c48a3caf26ab9e17d9edc8385\", element=\"755b8140-bf14-4144-82fe-62d770985a9e\")>,\n",
       " <selenium.webdriver.remote.webelement.WebElement (session=\"b3b67a8c48a3caf26ab9e17d9edc8385\", element=\"d83d1b8d-f712-40fa-825c-d3768ae4c805\")>,\n",
       " <selenium.webdriver.remote.webelement.WebElement (session=\"b3b67a8c48a3caf26ab9e17d9edc8385\", element=\"bfd1497c-4b69-455d-9407-9714d6e37762\")>,\n",
       " <selenium.webdriver.remote.webelement.WebElement (session=\"b3b67a8c48a3caf26ab9e17d9edc8385\", element=\"3c284892-ecf5-4cc9-bc42-1329f60c8a8e\")>,\n",
       " <selenium.webdriver.remote.webelement.WebElement (session=\"b3b67a8c48a3caf26ab9e17d9edc8385\", element=\"2b1cdc87-5e95-43a6-8d11-95a3ef842fab\")>,\n",
       " <selenium.webdriver.remote.webelement.WebElement (session=\"b3b67a8c48a3caf26ab9e17d9edc8385\", element=\"a49d2ed7-b8f3-4720-9fd6-d063e2586cdf\")>,\n",
       " <selenium.webdriver.remote.webelement.WebElement (session=\"b3b67a8c48a3caf26ab9e17d9edc8385\", element=\"7c06748b-b906-4c97-ae3b-dcd075bd8e79\")>,\n",
       " <selenium.webdriver.remote.webelement.WebElement (session=\"b3b67a8c48a3caf26ab9e17d9edc8385\", element=\"b5447aa2-522b-43ed-98d3-2a12af0d7f9c\")>,\n",
       " <selenium.webdriver.remote.webelement.WebElement (session=\"b3b67a8c48a3caf26ab9e17d9edc8385\", element=\"ad65164e-d0e6-4b74-a81b-a17e253c08bc\")>,\n",
       " <selenium.webdriver.remote.webelement.WebElement (session=\"b3b67a8c48a3caf26ab9e17d9edc8385\", element=\"6f183c9b-0362-48da-8780-05d62cfda7e1\")>,\n",
       " <selenium.webdriver.remote.webelement.WebElement (session=\"b3b67a8c48a3caf26ab9e17d9edc8385\", element=\"af109c47-01e9-465e-9815-a306851d39c9\")>,\n",
       " <selenium.webdriver.remote.webelement.WebElement (session=\"b3b67a8c48a3caf26ab9e17d9edc8385\", element=\"80c01df4-9735-4a0b-8d6f-5c5e38183c3c\")>,\n",
       " <selenium.webdriver.remote.webelement.WebElement (session=\"b3b67a8c48a3caf26ab9e17d9edc8385\", element=\"42e74d57-8c54-454d-a40e-829ec71218da\")>,\n",
       " <selenium.webdriver.remote.webelement.WebElement (session=\"b3b67a8c48a3caf26ab9e17d9edc8385\", element=\"9a0c57e0-7fb1-42dc-8369-2fe21860e37f\")>,\n",
       " <selenium.webdriver.remote.webelement.WebElement (session=\"b3b67a8c48a3caf26ab9e17d9edc8385\", element=\"1353d913-0ff1-439b-9457-9563e9c4915b\")>,\n",
       " <selenium.webdriver.remote.webelement.WebElement (session=\"b3b67a8c48a3caf26ab9e17d9edc8385\", element=\"6551f1ea-58a5-4998-8355-843eff528212\")>,\n",
       " <selenium.webdriver.remote.webelement.WebElement (session=\"b3b67a8c48a3caf26ab9e17d9edc8385\", element=\"7b723b2b-a37e-4534-926b-16c32bdae52d\")>,\n",
       " <selenium.webdriver.remote.webelement.WebElement (session=\"b3b67a8c48a3caf26ab9e17d9edc8385\", element=\"258248f4-7798-47d8-aa13-b729d0c33a29\")>,\n",
       " <selenium.webdriver.remote.webelement.WebElement (session=\"b3b67a8c48a3caf26ab9e17d9edc8385\", element=\"79a703ef-15ef-49ff-b711-4a53439a3878\")>,\n",
       " <selenium.webdriver.remote.webelement.WebElement (session=\"b3b67a8c48a3caf26ab9e17d9edc8385\", element=\"8adfa1eb-2b93-48b1-bb32-796a69cf5c2a\")>,\n",
       " <selenium.webdriver.remote.webelement.WebElement (session=\"b3b67a8c48a3caf26ab9e17d9edc8385\", element=\"ef29c7ef-936f-4d94-a5ea-bc2d7e84f542\")>,\n",
       " <selenium.webdriver.remote.webelement.WebElement (session=\"b3b67a8c48a3caf26ab9e17d9edc8385\", element=\"26676119-17a6-432f-9cf4-2c88a2c28119\")>,\n",
       " <selenium.webdriver.remote.webelement.WebElement (session=\"b3b67a8c48a3caf26ab9e17d9edc8385\", element=\"2e27ef76-173e-4bdc-8a18-df8a3625bc71\")>,\n",
       " <selenium.webdriver.remote.webelement.WebElement (session=\"b3b67a8c48a3caf26ab9e17d9edc8385\", element=\"f0ae3026-0dc3-4f64-842b-e5940110db8e\")>,\n",
       " <selenium.webdriver.remote.webelement.WebElement (session=\"b3b67a8c48a3caf26ab9e17d9edc8385\", element=\"d738d117-e0b2-4793-a122-018e60908964\")>]"
      ]
     },
     "execution_count": 154,
     "metadata": {},
     "output_type": "execute_result"
    }
   ],
   "source": [
    "#let's extract all the tags having the review\n",
    "full_review_tags=driver.find_elements_by_class_name(\"row\")\n",
    "full_review_tags"
   ]
  },
  {
   "cell_type": "markdown",
   "id": "f0b2dd5d",
   "metadata": {},
   "source": [
    "Now we have all the tags in which there are all the full customer reviews.\n",
    "\n",
    "Now we will extract the text from these these tags one by one by looping over these tags."
   ]
  },
  {
   "cell_type": "code",
   "execution_count": 155,
   "id": "76be3f06",
   "metadata": {},
   "outputs": [
    {
     "data": {
      "text/plain": [
       "['In The Box\\nHandset, EarPods with Lightning Connector, Lightning to USB Cable, USB Power Adapter, Documentation',\n",
       " 'Model Number\\nMWLT2HN/A',\n",
       " 'Model Name\\niPhone 11',\n",
       " 'Color\\nBlack',\n",
       " 'Browse Type\\nSmartphones',\n",
       " 'SIM Type\\nDual Sim',\n",
       " 'Hybrid Sim Slot\\nNo',\n",
       " 'Touchscreen\\nYes',\n",
       " '',\n",
       " '',\n",
       " '',\n",
       " '',\n",
       " '',\n",
       " '',\n",
       " '',\n",
       " '',\n",
       " '',\n",
       " '',\n",
       " '',\n",
       " '',\n",
       " '',\n",
       " '',\n",
       " '',\n",
       " '',\n",
       " '',\n",
       " '',\n",
       " '',\n",
       " '',\n",
       " '',\n",
       " '',\n",
       " '',\n",
       " '',\n",
       " '',\n",
       " '',\n",
       " '',\n",
       " '',\n",
       " '',\n",
       " '',\n",
       " '',\n",
       " '',\n",
       " '',\n",
       " '',\n",
       " '',\n",
       " '',\n",
       " '',\n",
       " '',\n",
       " '',\n",
       " '',\n",
       " '',\n",
       " '',\n",
       " '',\n",
       " '',\n",
       " '',\n",
       " '',\n",
       " '',\n",
       " '',\n",
       " '',\n",
       " '',\n",
       " '4.6★\\n79,134 Ratings &\\n5,957 Reviews\\n5★\\n4★\\n3★\\n2★\\n1★\\n61,448\\n11,098\\n2,567\\n953\\n3,068\\n4.5\\nCamera\\n4.2\\nBattery\\n4.4\\nDisplay\\n4.2\\nValue for Money',\n",
       " '4.6★\\n79,134 Ratings &\\n5,957 Reviews\\n5★\\n4★\\n3★\\n2★\\n1★\\n61,448\\n11,098\\n2,567\\n953\\n3,068',\n",
       " '4.6★',\n",
       " '79,134 Ratings &',\n",
       " '5,957 Reviews',\n",
       " '4.5\\nCamera\\n4.2\\nBattery\\n4.4\\nDisplay\\n4.2\\nValue for Money',\n",
       " '+ 2948',\n",
       " '5\\nBrilliant',\n",
       " 'The Best Phone for the Money\\n\\nThe iPhone 11 offers superb cameras, a more durable design and excellent battery life for an affordable price.\\n\\nCompelling ultra-wide camera\\nNew Night mode is excellent\\nLong battery life',\n",
       " 'Ankit\\nCertified Buyer, Gurgaon\\nSep, 2019\\n173152164',\n",
       " 'Ankit\\nCertified Buyer, Gurgaon\\nSep, 2019',\n",
       " '173152164',\n",
       " '5\\nSimply awesome',\n",
       " 'Really satisfied with the Product I received... It’s totally genuine and the packaging was also really good so if ur planning to buy just go for it.',\n",
       " 'Flipkart Customer\\nCertified Buyer, Mokokchung\\nNov, 2020\\n6565897',\n",
       " 'Flipkart Customer\\nCertified Buyer, Mokokchung\\nNov, 2020',\n",
       " '6565897',\n",
       " '5\\nBest in the market!',\n",
       " 'Great iPhone very snappy experience as apple kind. Upgraded from iPhone 7.\\nPros\\n-Camera top class\\n- Battery top performed\\n-Chipset no need to say as apple kind\\n-Security as you expect from apple\\n- Display super bright industry leading colour\\naccuracy and super responsive\\n-Build quality as expect from apple sturdy\\npremium durable beautiful stylish.\\n-Os most stable os in smartphone industry\\n\\nCons\\n-No 5G\\n-Display is not based on OLED technology\\n-Charger headphones and 1 apple sticker\\nremoved',\n",
       " 'Manish Raghuvanshi\\nCertified Buyer, Hazaribagh\\nApr, 2021\\n2118294',\n",
       " 'Manish Raghuvanshi\\nCertified Buyer, Hazaribagh\\nApr, 2021',\n",
       " '2118294',\n",
       " '',\n",
       " '',\n",
       " '',\n",
       " '',\n",
       " '',\n",
       " '',\n",
       " '',\n",
       " '',\n",
       " '',\n",
       " '',\n",
       " '',\n",
       " '',\n",
       " '',\n",
       " '',\n",
       " '',\n",
       " '',\n",
       " '',\n",
       " '',\n",
       " '',\n",
       " '',\n",
       " '',\n",
       " '',\n",
       " '',\n",
       " '',\n",
       " '',\n",
       " '',\n",
       " '',\n",
       " '',\n",
       " '',\n",
       " '',\n",
       " '',\n",
       " '',\n",
       " '',\n",
       " '',\n",
       " '',\n",
       " 'Questions and Answers',\n",
       " 'Mobile Pouches\\nMin. 50% Off\\nShop Now',\n",
       " 'Smart Glasses\\nMin. 40% Off\\nShop Now',\n",
       " 'Memory Cards\\nMin. 40% Off\\nShop Now',\n",
       " '',\n",
       " '',\n",
       " 'ABOUT\\nContact Us\\nAbout Us\\nCareers\\nFlipkart Stories\\nPress\\nFlipkart Wholesale\\nCorporate Information\\nHELP\\nPayments\\nShipping\\nCancellation & Returns\\nFAQ\\nReport Infringement\\nPOLICY\\nReturn Policy\\nTerms Of Use\\nSecurity\\nPrivacy\\nSitemap\\nEPR Compliance\\nSOCIAL\\nFacebook\\nTwitter\\nYouTube\\nMail Us:\\nFlipkart Internet Private Limited,\\nBuildings Alyssa, Begonia &\\nClove Embassy Tech Village,\\nOuter Ring Road, Devarabeesanahalli Village,\\nBengaluru, 560103,\\nKarnataka, India\\nRegistered Office Address:\\nFlipkart Internet Private Limited,\\nBuildings Alyssa, Begonia &\\nClove Embassy Tech Village,\\nOuter Ring Road, Devarabeesanahalli Village,\\nBengaluru, 560103,\\nKarnataka, India\\nCIN : U51109KA2012PTC066107\\nTelephone: 1800 202 9898',\n",
       " 'In The Box\\nHandset, EarPods with Lightning Connector, Lightning to USB Cable, USB Power Adapter, Documentation',\n",
       " 'Model Number\\nMWLT2HN/A',\n",
       " 'Model Name\\niPhone 11',\n",
       " 'Color\\nBlack',\n",
       " 'Browse Type\\nSmartphones',\n",
       " 'SIM Type\\nDual Sim',\n",
       " 'Hybrid Sim Slot\\nNo',\n",
       " 'Touchscreen\\nYes',\n",
       " '',\n",
       " '',\n",
       " '',\n",
       " '',\n",
       " '',\n",
       " '',\n",
       " '',\n",
       " '',\n",
       " '',\n",
       " '',\n",
       " '',\n",
       " '',\n",
       " '',\n",
       " '',\n",
       " '',\n",
       " '',\n",
       " '',\n",
       " '',\n",
       " '',\n",
       " '',\n",
       " '',\n",
       " '',\n",
       " '',\n",
       " '',\n",
       " '',\n",
       " '',\n",
       " '',\n",
       " '',\n",
       " '',\n",
       " '',\n",
       " '',\n",
       " '',\n",
       " '',\n",
       " '',\n",
       " '',\n",
       " '',\n",
       " '',\n",
       " '',\n",
       " '',\n",
       " '',\n",
       " '',\n",
       " '',\n",
       " '',\n",
       " '',\n",
       " '',\n",
       " '',\n",
       " '',\n",
       " '',\n",
       " '',\n",
       " '',\n",
       " '4.6★\\n79,134 Ratings &\\n5,957 Reviews\\n5★\\n4★\\n3★\\n2★\\n1★\\n61,448\\n11,098\\n2,567\\n953\\n3,068\\n4.5\\nCamera\\n4.2\\nBattery\\n4.4\\nDisplay\\n4.2\\nValue for Money',\n",
       " '4.6★\\n79,134 Ratings &\\n5,957 Reviews\\n5★\\n4★\\n3★\\n2★\\n1★\\n61,448\\n11,098\\n2,567\\n953\\n3,068',\n",
       " '4.6★',\n",
       " '79,134 Ratings &',\n",
       " '5,957 Reviews',\n",
       " '4.5\\nCamera\\n4.2\\nBattery\\n4.4\\nDisplay\\n4.2\\nValue for Money',\n",
       " '+ 2948',\n",
       " '5\\nBrilliant',\n",
       " 'The Best Phone for the Money\\n\\nThe iPhone 11 offers superb cameras, a more durable design and excellent battery life for an affordable price.\\n\\nCompelling ultra-wide camera\\nNew Night mode is excellent\\nLong battery life',\n",
       " 'Ankit\\nCertified Buyer, Gurgaon\\nSep, 2019\\n173152164',\n",
       " 'Ankit\\nCertified Buyer, Gurgaon\\nSep, 2019',\n",
       " '173152164',\n",
       " '5\\nSimply awesome',\n",
       " 'Really satisfied with the Product I received... It’s totally genuine and the packaging was also really good so if ur planning to buy just go for it.',\n",
       " 'Flipkart Customer\\nCertified Buyer, Mokokchung\\nNov, 2020\\n6565897',\n",
       " 'Flipkart Customer\\nCertified Buyer, Mokokchung\\nNov, 2020',\n",
       " '6565897',\n",
       " '5\\nBest in the market!',\n",
       " 'Great iPhone very snappy experience as apple kind. Upgraded from iPhone 7.\\nPros\\n-Camera top class\\n- Battery top performed\\n-Chipset no need to say as apple kind\\n-Security as you expect from apple\\n- Display super bright industry leading colour\\naccuracy and super responsive\\n-Build quality as expect from apple sturdy\\npremium durable beautiful stylish.\\n-Os most stable os in smartphone industry\\n\\nCons\\n-No 5G\\n-Display is not based on OLED technology\\n-Charger headphones and 1 apple sticker\\nremoved',\n",
       " 'Manish Raghuvanshi\\nCertified Buyer, Hazaribagh\\nApr, 2021\\n2118294',\n",
       " 'Manish Raghuvanshi\\nCertified Buyer, Hazaribagh\\nApr, 2021',\n",
       " '2118294',\n",
       " '',\n",
       " '',\n",
       " '',\n",
       " '',\n",
       " '',\n",
       " '',\n",
       " '',\n",
       " '',\n",
       " '',\n",
       " '',\n",
       " '',\n",
       " '',\n",
       " '',\n",
       " '',\n",
       " '',\n",
       " '',\n",
       " '',\n",
       " '',\n",
       " '',\n",
       " '',\n",
       " '',\n",
       " '',\n",
       " '',\n",
       " '',\n",
       " '',\n",
       " '',\n",
       " '',\n",
       " '',\n",
       " '',\n",
       " '',\n",
       " '',\n",
       " '',\n",
       " '',\n",
       " '',\n",
       " '',\n",
       " 'Questions and Answers',\n",
       " 'Mobile Pouches\\nMin. 50% Off\\nShop Now',\n",
       " 'Smart Glasses\\nMin. 40% Off\\nShop Now',\n",
       " 'Memory Cards\\nMin. 40% Off\\nShop Now',\n",
       " '',\n",
       " '',\n",
       " 'ABOUT\\nContact Us\\nAbout Us\\nCareers\\nFlipkart Stories\\nPress\\nFlipkart Wholesale\\nCorporate Information\\nHELP\\nPayments\\nShipping\\nCancellation & Returns\\nFAQ\\nReport Infringement\\nPOLICY\\nReturn Policy\\nTerms Of Use\\nSecurity\\nPrivacy\\nSitemap\\nEPR Compliance\\nSOCIAL\\nFacebook\\nTwitter\\nYouTube\\nMail Us:\\nFlipkart Internet Private Limited,\\nBuildings Alyssa, Begonia &\\nClove Embassy Tech Village,\\nOuter Ring Road, Devarabeesanahalli Village,\\nBengaluru, 560103,\\nKarnataka, India\\nRegistered Office Address:\\nFlipkart Internet Private Limited,\\nBuildings Alyssa, Begonia &\\nClove Embassy Tech Village,\\nOuter Ring Road, Devarabeesanahalli Village,\\nBengaluru, 560103,\\nKarnataka, India\\nCIN : U51109KA2012PTC066107\\nTelephone: 1800 202 9898']"
      ]
     },
     "execution_count": 155,
     "metadata": {},
     "output_type": "execute_result"
    }
   ],
   "source": [
    "#now the text of the full review is inside the tags extracted above\n",
    "#so we will run over a loop to iterate over the tags extracted above.\n",
    "for i in full_review_tags:\n",
    "    full_customer_reviews=i.text\n",
    "    full_review.append(full_customer_reviews)\n",
    "full_review"
   ]
  },
  {
   "cell_type": "raw",
   "id": "edee48d8",
   "metadata": {},
   "source": [
    "Q6: Scrape data for first 100 sneakers you find when you visit flipkart.com andsearch for “sneakers” in the search field.\n",
    "You have to scrape 4 attributes of each sneaker:\n",
    "1. Brand\n",
    "2. Product Description\n",
    "3. Price\n",
    "As shown in the below image, you have to scrape the tick marked attributes."
   ]
  },
  {
   "cell_type": "code",
   "execution_count": 166,
   "id": "6b1520e8",
   "metadata": {},
   "outputs": [],
   "source": [
    "#specifying the url of the webpage to be scraped\n",
    "url='https://www.flipkart.com/search?q=sneakers&otracker=search&otracker1=search&marketplace=FLIPKART&as-show=on&as=off'\n",
    "driver.get(url)"
   ]
  },
  {
   "cell_type": "markdown",
   "id": "94dcf52a",
   "metadata": {},
   "source": [
    "so now let's make 4 empty list. In these lists the data will be stored while scraping.we have created 4 empty list for the features which we have to extract.\n",
    "\n",
    "product_Brand=[]\n",
    "product_description=[]\n",
    "product_price=[]\n",
    "product_discount=[]"
   ]
  },
  {
   "cell_type": "code",
   "execution_count": 167,
   "id": "d32562d1",
   "metadata": {},
   "outputs": [],
   "source": [
    "product_Brand=[]\n",
    "product_description=[]\n",
    "product_price=[]\n",
    "product_discount=[]"
   ]
  },
  {
   "cell_type": "markdown",
   "id": "86d92551",
   "metadata": {},
   "source": [
    "first we will extract the all the tags where we will have product brand."
   ]
  },
  {
   "cell_type": "code",
   "execution_count": 168,
   "id": "af685755",
   "metadata": {},
   "outputs": [
    {
     "data": {
      "text/plain": [
       "[<selenium.webdriver.remote.webelement.WebElement (session=\"b3b67a8c48a3caf26ab9e17d9edc8385\", element=\"73a2e354-f26c-4918-8905-54d1ae2ac8e4\")>,\n",
       " <selenium.webdriver.remote.webelement.WebElement (session=\"b3b67a8c48a3caf26ab9e17d9edc8385\", element=\"fc882021-a9a4-4006-89a0-fee6b6ba1954\")>,\n",
       " <selenium.webdriver.remote.webelement.WebElement (session=\"b3b67a8c48a3caf26ab9e17d9edc8385\", element=\"66770c69-e94c-48c6-aaf1-370903306d20\")>,\n",
       " <selenium.webdriver.remote.webelement.WebElement (session=\"b3b67a8c48a3caf26ab9e17d9edc8385\", element=\"3a0fd756-28f6-4fd1-9523-45f28afd318c\")>,\n",
       " <selenium.webdriver.remote.webelement.WebElement (session=\"b3b67a8c48a3caf26ab9e17d9edc8385\", element=\"de1661a5-52df-48ea-a446-bb840489b5de\")>,\n",
       " <selenium.webdriver.remote.webelement.WebElement (session=\"b3b67a8c48a3caf26ab9e17d9edc8385\", element=\"421ad879-539b-4e00-b50a-96161aee2b64\")>,\n",
       " <selenium.webdriver.remote.webelement.WebElement (session=\"b3b67a8c48a3caf26ab9e17d9edc8385\", element=\"c11aa8a5-724b-46de-88a1-6bf1dfc80542\")>,\n",
       " <selenium.webdriver.remote.webelement.WebElement (session=\"b3b67a8c48a3caf26ab9e17d9edc8385\", element=\"1e38b2be-36e2-46c0-92a3-7a239fd5d732\")>,\n",
       " <selenium.webdriver.remote.webelement.WebElement (session=\"b3b67a8c48a3caf26ab9e17d9edc8385\", element=\"d5a1c851-7bec-442c-8e14-53c50f8b1314\")>,\n",
       " <selenium.webdriver.remote.webelement.WebElement (session=\"b3b67a8c48a3caf26ab9e17d9edc8385\", element=\"8240c518-09da-49ac-8deb-61bafd9263ef\")>,\n",
       " <selenium.webdriver.remote.webelement.WebElement (session=\"b3b67a8c48a3caf26ab9e17d9edc8385\", element=\"52869077-3b35-4697-8aa2-2f5c95193142\")>,\n",
       " <selenium.webdriver.remote.webelement.WebElement (session=\"b3b67a8c48a3caf26ab9e17d9edc8385\", element=\"a13ec864-660f-46fb-b351-a4d96d0caaa0\")>,\n",
       " <selenium.webdriver.remote.webelement.WebElement (session=\"b3b67a8c48a3caf26ab9e17d9edc8385\", element=\"22b91114-836e-4d8a-a3d5-f37d15940ccc\")>,\n",
       " <selenium.webdriver.remote.webelement.WebElement (session=\"b3b67a8c48a3caf26ab9e17d9edc8385\", element=\"6a397369-ee27-49fe-8637-11e4d4f936fb\")>,\n",
       " <selenium.webdriver.remote.webelement.WebElement (session=\"b3b67a8c48a3caf26ab9e17d9edc8385\", element=\"ebc8df21-563f-4fd5-9743-cecea1573714\")>,\n",
       " <selenium.webdriver.remote.webelement.WebElement (session=\"b3b67a8c48a3caf26ab9e17d9edc8385\", element=\"df80b756-ec22-4932-9f38-01c29e5d2c84\")>,\n",
       " <selenium.webdriver.remote.webelement.WebElement (session=\"b3b67a8c48a3caf26ab9e17d9edc8385\", element=\"de8da9c2-81d1-4c06-bf94-8220eef060d0\")>,\n",
       " <selenium.webdriver.remote.webelement.WebElement (session=\"b3b67a8c48a3caf26ab9e17d9edc8385\", element=\"6c0b6485-2d42-4905-ae39-c3197d50c9d9\")>,\n",
       " <selenium.webdriver.remote.webelement.WebElement (session=\"b3b67a8c48a3caf26ab9e17d9edc8385\", element=\"c0ceb0a8-3ff6-4ed9-b514-b05d56b17682\")>,\n",
       " <selenium.webdriver.remote.webelement.WebElement (session=\"b3b67a8c48a3caf26ab9e17d9edc8385\", element=\"7c36a275-6312-4842-9db1-3967d27dd840\")>,\n",
       " <selenium.webdriver.remote.webelement.WebElement (session=\"b3b67a8c48a3caf26ab9e17d9edc8385\", element=\"6b484b84-aebd-4662-9d9d-d675145ff9d0\")>,\n",
       " <selenium.webdriver.remote.webelement.WebElement (session=\"b3b67a8c48a3caf26ab9e17d9edc8385\", element=\"c2a2b951-57b3-4cf3-ba79-b3098ff730ce\")>,\n",
       " <selenium.webdriver.remote.webelement.WebElement (session=\"b3b67a8c48a3caf26ab9e17d9edc8385\", element=\"17d6c8a3-1fc5-4f8a-ba70-e008fbd66f1a\")>,\n",
       " <selenium.webdriver.remote.webelement.WebElement (session=\"b3b67a8c48a3caf26ab9e17d9edc8385\", element=\"942edb19-7943-4ad1-8926-590b18d86907\")>,\n",
       " <selenium.webdriver.remote.webelement.WebElement (session=\"b3b67a8c48a3caf26ab9e17d9edc8385\", element=\"0da0aa77-96e5-4870-96aa-f19de745746b\")>,\n",
       " <selenium.webdriver.remote.webelement.WebElement (session=\"b3b67a8c48a3caf26ab9e17d9edc8385\", element=\"972aa593-efb5-4495-870e-d3b050d8dd97\")>,\n",
       " <selenium.webdriver.remote.webelement.WebElement (session=\"b3b67a8c48a3caf26ab9e17d9edc8385\", element=\"744fc1a8-ee41-4d99-be5f-2b9b6553c28b\")>,\n",
       " <selenium.webdriver.remote.webelement.WebElement (session=\"b3b67a8c48a3caf26ab9e17d9edc8385\", element=\"709f6d97-4b0f-4089-8ad6-eb0fd616e1f0\")>,\n",
       " <selenium.webdriver.remote.webelement.WebElement (session=\"b3b67a8c48a3caf26ab9e17d9edc8385\", element=\"39a7fe16-7c5d-4ed7-b2b3-841f5142ae08\")>,\n",
       " <selenium.webdriver.remote.webelement.WebElement (session=\"b3b67a8c48a3caf26ab9e17d9edc8385\", element=\"fd1b2079-834e-4bfc-a93a-d469a54831cd\")>,\n",
       " <selenium.webdriver.remote.webelement.WebElement (session=\"b3b67a8c48a3caf26ab9e17d9edc8385\", element=\"34ad9ba1-91c5-4a45-b0b8-6a5a885cd0c9\")>,\n",
       " <selenium.webdriver.remote.webelement.WebElement (session=\"b3b67a8c48a3caf26ab9e17d9edc8385\", element=\"37ca29aa-8c8f-4a3b-814f-918805b5f46a\")>,\n",
       " <selenium.webdriver.remote.webelement.WebElement (session=\"b3b67a8c48a3caf26ab9e17d9edc8385\", element=\"62eb7340-8cf5-4b87-bbb8-47e10454e177\")>,\n",
       " <selenium.webdriver.remote.webelement.WebElement (session=\"b3b67a8c48a3caf26ab9e17d9edc8385\", element=\"2cc016a0-5915-481a-a171-bdbb257f53da\")>,\n",
       " <selenium.webdriver.remote.webelement.WebElement (session=\"b3b67a8c48a3caf26ab9e17d9edc8385\", element=\"5648f705-6307-464b-a723-b0652b5df1b6\")>,\n",
       " <selenium.webdriver.remote.webelement.WebElement (session=\"b3b67a8c48a3caf26ab9e17d9edc8385\", element=\"7c134296-0627-4233-85ab-d7cc40c9646b\")>,\n",
       " <selenium.webdriver.remote.webelement.WebElement (session=\"b3b67a8c48a3caf26ab9e17d9edc8385\", element=\"cecd152b-8587-4815-bf1a-bc49505aa176\")>,\n",
       " <selenium.webdriver.remote.webelement.WebElement (session=\"b3b67a8c48a3caf26ab9e17d9edc8385\", element=\"06d22c87-b2a8-45f0-8daf-caf0e7510061\")>,\n",
       " <selenium.webdriver.remote.webelement.WebElement (session=\"b3b67a8c48a3caf26ab9e17d9edc8385\", element=\"ebce4403-4b8c-4559-8943-2b328b52c414\")>,\n",
       " <selenium.webdriver.remote.webelement.WebElement (session=\"b3b67a8c48a3caf26ab9e17d9edc8385\", element=\"3cbc18df-f76f-48fe-b842-3ef146fd7199\")>]"
      ]
     },
     "execution_count": 168,
     "metadata": {},
     "output_type": "execute_result"
    }
   ],
   "source": [
    "#let's extract all the tags having the product brand\n",
    "brand_tags=driver.find_elements_by_class_name('_2WkVRV')\n",
    "brand_tags"
   ]
  },
  {
   "cell_type": "markdown",
   "id": "b5c93bc1",
   "metadata": {},
   "source": [
    "Now we have all the tags in which there are Brand names.\n",
    "\n",
    "Now we will extract the text from these these tags one by one by looping over these tags."
   ]
  },
  {
   "cell_type": "code",
   "execution_count": 169,
   "id": "4f51abc9",
   "metadata": {},
   "outputs": [
    {
     "data": {
      "text/plain": [
       "['BRUTON',\n",
       " 'Navtrend',\n",
       " 'URBANBOX',\n",
       " 'aadi',\n",
       " 'corsac',\n",
       " 'Chevit',\n",
       " 'KWIK FIT',\n",
       " 'Numenzo',\n",
       " 'BRUTON',\n",
       " 'Labbin',\n",
       " 'ASTEROID',\n",
       " 'BIRDE',\n",
       " 'Magnolia',\n",
       " 'Chevit',\n",
       " 'World Wear Footwear',\n",
       " 'KNIGHT WALKERS',\n",
       " 'D-SNEAKERZ',\n",
       " 'PUMA',\n",
       " 'aadi',\n",
       " 'Extoes',\n",
       " 'aadi',\n",
       " 'ASTEROID',\n",
       " 'World Wear Footwear',\n",
       " 'Nilatin',\n",
       " 'BRUTON',\n",
       " 'World Wear Footwear',\n",
       " 'BIRDE',\n",
       " 'Vigglo Fashion',\n",
       " 'World Wear Footwear',\n",
       " 'corsac',\n",
       " 'SCATCHITE',\n",
       " 'Smoky',\n",
       " 'ONECENTRE',\n",
       " 'WHITE WALKERS',\n",
       " 'Hida',\n",
       " 'BIRDE',\n",
       " 'D-SNEAKERZ',\n",
       " 'Arohi',\n",
       " 'Kraasa',\n",
       " 'KNIGHT WALKERS']"
      ]
     },
     "execution_count": 169,
     "metadata": {},
     "output_type": "execute_result"
    }
   ],
   "source": [
    "#now the text of the brand name is inside the tags extracted above\n",
    "#so we will run over a loop to iterate over the tags extracted above.\n",
    "for i in brand_tags:\n",
    "    title=i.text\n",
    "    product_Brand.append(title)\n",
    "product_Brand[0:100]"
   ]
  },
  {
   "cell_type": "code",
   "execution_count": 170,
   "id": "80abc7e4",
   "metadata": {},
   "outputs": [
    {
     "data": {
      "text/plain": [
       "40"
      ]
     },
     "execution_count": 170,
     "metadata": {},
     "output_type": "execute_result"
    }
   ],
   "source": [
    "len(product_Brand)"
   ]
  },
  {
   "cell_type": "markdown",
   "id": "87f9e730",
   "metadata": {},
   "source": [
    "first we will extract the all the tags from next page where we will have product Description."
   ]
  },
  {
   "cell_type": "code",
   "execution_count": 171,
   "id": "5af778b9",
   "metadata": {},
   "outputs": [
    {
     "data": {
      "text/plain": [
       "[<selenium.webdriver.remote.webelement.WebElement (session=\"b3b67a8c48a3caf26ab9e17d9edc8385\", element=\"b25d73c5-bedc-4b52-b26f-77d283080437\")>,\n",
       " <selenium.webdriver.remote.webelement.WebElement (session=\"b3b67a8c48a3caf26ab9e17d9edc8385\", element=\"3c71daf7-870c-4d57-943c-288e082c04ee\")>,\n",
       " <selenium.webdriver.remote.webelement.WebElement (session=\"b3b67a8c48a3caf26ab9e17d9edc8385\", element=\"cd3da510-0ae1-4ece-8450-bd34a38bd322\")>,\n",
       " <selenium.webdriver.remote.webelement.WebElement (session=\"b3b67a8c48a3caf26ab9e17d9edc8385\", element=\"e884217d-8c04-40a5-a571-05c53bb67b0d\")>,\n",
       " <selenium.webdriver.remote.webelement.WebElement (session=\"b3b67a8c48a3caf26ab9e17d9edc8385\", element=\"1b9aa094-d61e-4ae1-86bd-ec2fdbfe29bd\")>,\n",
       " <selenium.webdriver.remote.webelement.WebElement (session=\"b3b67a8c48a3caf26ab9e17d9edc8385\", element=\"2369a556-4fca-4016-b09f-1ec251221c6f\")>,\n",
       " <selenium.webdriver.remote.webelement.WebElement (session=\"b3b67a8c48a3caf26ab9e17d9edc8385\", element=\"4a14ca75-004e-43a1-8fd3-f5888ada5dc0\")>,\n",
       " <selenium.webdriver.remote.webelement.WebElement (session=\"b3b67a8c48a3caf26ab9e17d9edc8385\", element=\"e192fd14-47a8-4d6d-8cf2-8d6ec3a42d0a\")>,\n",
       " <selenium.webdriver.remote.webelement.WebElement (session=\"b3b67a8c48a3caf26ab9e17d9edc8385\", element=\"a138845b-e069-4994-a6d9-fd913bed3539\")>,\n",
       " <selenium.webdriver.remote.webelement.WebElement (session=\"b3b67a8c48a3caf26ab9e17d9edc8385\", element=\"2b17dd97-9fbb-40df-aa18-881dcd1738e8\")>,\n",
       " <selenium.webdriver.remote.webelement.WebElement (session=\"b3b67a8c48a3caf26ab9e17d9edc8385\", element=\"7d09f0d6-dd49-4ad5-8707-7175bc7f1b7c\")>,\n",
       " <selenium.webdriver.remote.webelement.WebElement (session=\"b3b67a8c48a3caf26ab9e17d9edc8385\", element=\"156fcb8f-3dd0-4ea6-a01b-e0bb7ad34a44\")>,\n",
       " <selenium.webdriver.remote.webelement.WebElement (session=\"b3b67a8c48a3caf26ab9e17d9edc8385\", element=\"773c71c5-09dd-4f25-919e-89bad437d348\")>,\n",
       " <selenium.webdriver.remote.webelement.WebElement (session=\"b3b67a8c48a3caf26ab9e17d9edc8385\", element=\"f0bfbbcd-a6f5-4cc7-8bac-655c8d239d0c\")>,\n",
       " <selenium.webdriver.remote.webelement.WebElement (session=\"b3b67a8c48a3caf26ab9e17d9edc8385\", element=\"98b3d502-786e-46b6-8f07-3eb83690b21d\")>,\n",
       " <selenium.webdriver.remote.webelement.WebElement (session=\"b3b67a8c48a3caf26ab9e17d9edc8385\", element=\"ec6b680f-5f00-4658-bb35-31a919081c55\")>,\n",
       " <selenium.webdriver.remote.webelement.WebElement (session=\"b3b67a8c48a3caf26ab9e17d9edc8385\", element=\"00bcdae7-d462-47bf-920a-6d72e4bbeeab\")>,\n",
       " <selenium.webdriver.remote.webelement.WebElement (session=\"b3b67a8c48a3caf26ab9e17d9edc8385\", element=\"56b7e92d-957c-4b7f-b1b9-d3fe45a73f42\")>,\n",
       " <selenium.webdriver.remote.webelement.WebElement (session=\"b3b67a8c48a3caf26ab9e17d9edc8385\", element=\"72434da9-7ca1-4985-8241-6561aa36613b\")>,\n",
       " <selenium.webdriver.remote.webelement.WebElement (session=\"b3b67a8c48a3caf26ab9e17d9edc8385\", element=\"0628fea0-1a57-44df-b7af-ce1b73d4be06\")>,\n",
       " <selenium.webdriver.remote.webelement.WebElement (session=\"b3b67a8c48a3caf26ab9e17d9edc8385\", element=\"e1a6ee2b-e087-425f-a471-6f00ac15825e\")>,\n",
       " <selenium.webdriver.remote.webelement.WebElement (session=\"b3b67a8c48a3caf26ab9e17d9edc8385\", element=\"058986bd-a2bd-47ed-8bf5-bd79b630a6cc\")>,\n",
       " <selenium.webdriver.remote.webelement.WebElement (session=\"b3b67a8c48a3caf26ab9e17d9edc8385\", element=\"33b568c4-00cd-4548-b98c-8ae24fc0d0dd\")>,\n",
       " <selenium.webdriver.remote.webelement.WebElement (session=\"b3b67a8c48a3caf26ab9e17d9edc8385\", element=\"9cc82b9d-8579-421a-bce4-5466fd1aa3af\")>,\n",
       " <selenium.webdriver.remote.webelement.WebElement (session=\"b3b67a8c48a3caf26ab9e17d9edc8385\", element=\"19a9c22b-32f3-46e4-9915-27aa78f276fd\")>,\n",
       " <selenium.webdriver.remote.webelement.WebElement (session=\"b3b67a8c48a3caf26ab9e17d9edc8385\", element=\"45f42f10-a336-4efc-a787-ea25d5fbff3b\")>,\n",
       " <selenium.webdriver.remote.webelement.WebElement (session=\"b3b67a8c48a3caf26ab9e17d9edc8385\", element=\"d0982fee-31e5-495b-82cf-6477e8428f54\")>,\n",
       " <selenium.webdriver.remote.webelement.WebElement (session=\"b3b67a8c48a3caf26ab9e17d9edc8385\", element=\"cacef10b-7698-42b9-b93f-45be060d318d\")>,\n",
       " <selenium.webdriver.remote.webelement.WebElement (session=\"b3b67a8c48a3caf26ab9e17d9edc8385\", element=\"330bd938-0fce-4acf-be12-3e9700c19342\")>,\n",
       " <selenium.webdriver.remote.webelement.WebElement (session=\"b3b67a8c48a3caf26ab9e17d9edc8385\", element=\"80e31316-fd83-4b25-aa86-e2b3b0ed298a\")>,\n",
       " <selenium.webdriver.remote.webelement.WebElement (session=\"b3b67a8c48a3caf26ab9e17d9edc8385\", element=\"d1b751dc-be7b-4d23-99bc-a247da10d564\")>,\n",
       " <selenium.webdriver.remote.webelement.WebElement (session=\"b3b67a8c48a3caf26ab9e17d9edc8385\", element=\"f5d811c1-dbc4-48f5-8934-a6fe56ecad53\")>,\n",
       " <selenium.webdriver.remote.webelement.WebElement (session=\"b3b67a8c48a3caf26ab9e17d9edc8385\", element=\"d69919f6-1b14-45fc-a47e-70107ae332f7\")>,\n",
       " <selenium.webdriver.remote.webelement.WebElement (session=\"b3b67a8c48a3caf26ab9e17d9edc8385\", element=\"3f314306-0b60-4d75-ac8f-cb93642b080d\")>,\n",
       " <selenium.webdriver.remote.webelement.WebElement (session=\"b3b67a8c48a3caf26ab9e17d9edc8385\", element=\"a610e958-2aa8-42a2-b7d6-a89bf642e4e3\")>,\n",
       " <selenium.webdriver.remote.webelement.WebElement (session=\"b3b67a8c48a3caf26ab9e17d9edc8385\", element=\"b2377c38-fc39-40a6-bfb0-64f317837034\")>,\n",
       " <selenium.webdriver.remote.webelement.WebElement (session=\"b3b67a8c48a3caf26ab9e17d9edc8385\", element=\"e16bb68a-45f0-4f81-9c1c-258697bee25b\")>,\n",
       " <selenium.webdriver.remote.webelement.WebElement (session=\"b3b67a8c48a3caf26ab9e17d9edc8385\", element=\"56037806-5fab-4deb-ba6b-e02f84a9cdb8\")>,\n",
       " <selenium.webdriver.remote.webelement.WebElement (session=\"b3b67a8c48a3caf26ab9e17d9edc8385\", element=\"a8c98dce-09c6-4af0-8971-c81f8de081fa\")>,\n",
       " <selenium.webdriver.remote.webelement.WebElement (session=\"b3b67a8c48a3caf26ab9e17d9edc8385\", element=\"35abb64d-bcf8-4fe6-9ad6-ada4a788a911\")>]"
      ]
     },
     "execution_count": 171,
     "metadata": {},
     "output_type": "execute_result"
    }
   ],
   "source": [
    "#let's extract all the tags having the product brand\n",
    "description_tags=driver.find_elements_by_xpath('//div[@class=\"_2B099V\"]/a[1]')\n",
    "description_tags"
   ]
  },
  {
   "cell_type": "markdown",
   "id": "a2be2ca4",
   "metadata": {},
   "source": [
    "Now we have all the tags from next page in which there are product description.\n",
    "\n",
    "Now we will extract the text from these these tags one by one by looping over these tags."
   ]
  },
  {
   "cell_type": "code",
   "execution_count": 172,
   "id": "29dd93b6",
   "metadata": {},
   "outputs": [
    {
     "data": {
      "text/plain": [
       "['Modern Trendy Sneakers Shoes Sneakers For Men',\n",
       " 'Sneakers For Men',\n",
       " 'Sneakers Sneakers For Men',\n",
       " 'Sneakers For Men',\n",
       " 'STYLISH MENS BLACK SNEAKER Sneakers For Men',\n",
       " '516 Trendy Star Perfect Sneakers For Men',\n",
       " 'Kwik FIT casual sneaker shoes and partywear shoes Casua...',\n",
       " '411 Casual Sneakers For Men',\n",
       " 'Canvas shoes for Men Sneakers For Men',\n",
       " 'Sneakers For Men',\n",
       " \"Luxury Branded Fashionable Men's Casual Walking Partywe...\",\n",
       " 'Birde High Top Casual Sneakers For Men Sneakers For Men',\n",
       " 'Sneakers For Men',\n",
       " 'Perfect Combo Pack of 02 Pairs Casual Sneakers Outdoor ...',\n",
       " '5011-Latest Collection Stylish & Trendy Casual Sneakers...',\n",
       " 'Sneakers For Men',\n",
       " \"Casual , Partywear Sneakers Shoes For Men's And Boys Wh...\",\n",
       " 'Blend Sneakers For Men',\n",
       " 'Sneakers For Men',\n",
       " 'Lighweight, slip-on and lace-up Sneakers For Men',\n",
       " 'Sneakers For Men',\n",
       " \"Original Luxury Branded Fashionable Men's Casual Walkin...\",\n",
       " '5013-Latest Collection Stylish & Trendy of casuals Snea...',\n",
       " 'Sneakers For Men',\n",
       " 'Lightweight Pack Of 1 Trendy Sneakers Sneakers For Men',\n",
       " 'Men 5014 Latest Collection Stylish Casual Sports Loafer...',\n",
       " 'Stylish Comfortable Lightweight, Breathable Walking Sho...',\n",
       " 'Sneaker shoes for men Sneakers For Men',\n",
       " 'Latest Collection-1227 Stylish Casual Sports Sneakers F...',\n",
       " 'STYLISH MENS BLACK TRENDY SNEAKER FOR MENS Sneakers For...',\n",
       " 'Sneakers Sneakers For Men',\n",
       " 'Black Trendy Casual shoes for Men Sneakers For Men',\n",
       " 'STR2 Sneakers For Men',\n",
       " 'Stylish & Trending Outdoor Walking Comfortable Sneakers...',\n",
       " 'Sneakers For Men',\n",
       " 'Stylish Comfortable Lightweight, Breathable Walking Sho...',\n",
       " \"Casual , Partywear Sneakers Shoes For Men's And Boys Wh...\",\n",
       " 'Sneakers For Men',\n",
       " 'Series 7 Sneakers For Men',\n",
       " 'Sneakers For Men']"
      ]
     },
     "execution_count": 172,
     "metadata": {},
     "output_type": "execute_result"
    }
   ],
   "source": [
    "#now the text of the description is inside the tags extracted above\n",
    "#so we will run over a loop to iterate over the tags extracted above.\n",
    "for i in description_tags:\n",
    "    brands=i.text\n",
    "    product_description.append(brands)\n",
    "product_description"
   ]
  },
  {
   "cell_type": "markdown",
   "id": "809b2390",
   "metadata": {},
   "source": [
    "first we will extract the all the tags from next page where we will have product price."
   ]
  },
  {
   "cell_type": "code",
   "execution_count": 173,
   "id": "6e3f88cf",
   "metadata": {},
   "outputs": [
    {
     "data": {
      "text/plain": [
       "[<selenium.webdriver.remote.webelement.WebElement (session=\"b3b67a8c48a3caf26ab9e17d9edc8385\", element=\"c2ecebd4-dae7-401e-8da7-32010cdda6e6\")>,\n",
       " <selenium.webdriver.remote.webelement.WebElement (session=\"b3b67a8c48a3caf26ab9e17d9edc8385\", element=\"e52f7060-f0fd-48cd-bc4e-248e5fc16fb7\")>,\n",
       " <selenium.webdriver.remote.webelement.WebElement (session=\"b3b67a8c48a3caf26ab9e17d9edc8385\", element=\"fe7ad8bb-b513-49b2-b746-bf7d1d8f045c\")>,\n",
       " <selenium.webdriver.remote.webelement.WebElement (session=\"b3b67a8c48a3caf26ab9e17d9edc8385\", element=\"b70ceb13-56af-49db-b74c-2d5d78b65cc9\")>,\n",
       " <selenium.webdriver.remote.webelement.WebElement (session=\"b3b67a8c48a3caf26ab9e17d9edc8385\", element=\"b9c9365e-1e9c-40cd-8678-1d700813d692\")>,\n",
       " <selenium.webdriver.remote.webelement.WebElement (session=\"b3b67a8c48a3caf26ab9e17d9edc8385\", element=\"5c6be6fb-f3ea-4a25-8939-2b20100db51c\")>,\n",
       " <selenium.webdriver.remote.webelement.WebElement (session=\"b3b67a8c48a3caf26ab9e17d9edc8385\", element=\"3db9c7be-6dce-4aaf-abf6-f9d36bae2743\")>,\n",
       " <selenium.webdriver.remote.webelement.WebElement (session=\"b3b67a8c48a3caf26ab9e17d9edc8385\", element=\"a4724435-0786-46f7-b616-f886ea792d08\")>,\n",
       " <selenium.webdriver.remote.webelement.WebElement (session=\"b3b67a8c48a3caf26ab9e17d9edc8385\", element=\"58172b5b-6625-45c4-8e6b-2ec5debc87fc\")>,\n",
       " <selenium.webdriver.remote.webelement.WebElement (session=\"b3b67a8c48a3caf26ab9e17d9edc8385\", element=\"5cd6951e-57ae-413c-aa73-b9f9372286d1\")>,\n",
       " <selenium.webdriver.remote.webelement.WebElement (session=\"b3b67a8c48a3caf26ab9e17d9edc8385\", element=\"cc0d4967-c183-4b9a-987f-e10afc6d890d\")>,\n",
       " <selenium.webdriver.remote.webelement.WebElement (session=\"b3b67a8c48a3caf26ab9e17d9edc8385\", element=\"d3fbfbe3-313f-4d8d-935d-350872d8de5e\")>,\n",
       " <selenium.webdriver.remote.webelement.WebElement (session=\"b3b67a8c48a3caf26ab9e17d9edc8385\", element=\"e78774e3-b2fa-43d6-bb6e-f7b95b975447\")>,\n",
       " <selenium.webdriver.remote.webelement.WebElement (session=\"b3b67a8c48a3caf26ab9e17d9edc8385\", element=\"bfbe1e90-5e3e-42af-86f4-c3bdcaf01bf5\")>,\n",
       " <selenium.webdriver.remote.webelement.WebElement (session=\"b3b67a8c48a3caf26ab9e17d9edc8385\", element=\"431d588c-5249-4d8e-9da1-ced363c2cc4c\")>,\n",
       " <selenium.webdriver.remote.webelement.WebElement (session=\"b3b67a8c48a3caf26ab9e17d9edc8385\", element=\"8363669a-ec43-40c4-ac59-157e91fdcd5c\")>,\n",
       " <selenium.webdriver.remote.webelement.WebElement (session=\"b3b67a8c48a3caf26ab9e17d9edc8385\", element=\"692b262f-d5f0-4c65-a78b-20f68f7ce031\")>,\n",
       " <selenium.webdriver.remote.webelement.WebElement (session=\"b3b67a8c48a3caf26ab9e17d9edc8385\", element=\"bf8e8e41-391f-4e2a-859c-f2ab3215d85b\")>,\n",
       " <selenium.webdriver.remote.webelement.WebElement (session=\"b3b67a8c48a3caf26ab9e17d9edc8385\", element=\"b80c51d7-1e99-4c13-a310-ea0877f6aebd\")>,\n",
       " <selenium.webdriver.remote.webelement.WebElement (session=\"b3b67a8c48a3caf26ab9e17d9edc8385\", element=\"a3928d4c-b8e1-4382-a49b-8f0f71a403a0\")>,\n",
       " <selenium.webdriver.remote.webelement.WebElement (session=\"b3b67a8c48a3caf26ab9e17d9edc8385\", element=\"067693bb-e2ce-42a8-a02e-79a13ccd0ee5\")>,\n",
       " <selenium.webdriver.remote.webelement.WebElement (session=\"b3b67a8c48a3caf26ab9e17d9edc8385\", element=\"23f66e9f-8141-4a88-ac0b-1665a8285a35\")>,\n",
       " <selenium.webdriver.remote.webelement.WebElement (session=\"b3b67a8c48a3caf26ab9e17d9edc8385\", element=\"a3c63774-e532-475a-9b19-af5788bf1744\")>,\n",
       " <selenium.webdriver.remote.webelement.WebElement (session=\"b3b67a8c48a3caf26ab9e17d9edc8385\", element=\"39032011-861b-4289-9936-1bc7c6edaa26\")>,\n",
       " <selenium.webdriver.remote.webelement.WebElement (session=\"b3b67a8c48a3caf26ab9e17d9edc8385\", element=\"558815b6-126b-40a8-b6ee-34e6b7ae0e2b\")>,\n",
       " <selenium.webdriver.remote.webelement.WebElement (session=\"b3b67a8c48a3caf26ab9e17d9edc8385\", element=\"fb5fd0a4-3f26-43ba-8bdf-80f17bdf35ed\")>,\n",
       " <selenium.webdriver.remote.webelement.WebElement (session=\"b3b67a8c48a3caf26ab9e17d9edc8385\", element=\"0968322b-870c-415b-9f9f-789edf808a1d\")>,\n",
       " <selenium.webdriver.remote.webelement.WebElement (session=\"b3b67a8c48a3caf26ab9e17d9edc8385\", element=\"66433e2b-95e1-4e1c-83f4-923023920e2d\")>,\n",
       " <selenium.webdriver.remote.webelement.WebElement (session=\"b3b67a8c48a3caf26ab9e17d9edc8385\", element=\"f1ec7699-3618-45a7-9a80-15caf97ac79f\")>,\n",
       " <selenium.webdriver.remote.webelement.WebElement (session=\"b3b67a8c48a3caf26ab9e17d9edc8385\", element=\"1d10c221-b6a3-4b48-a9b4-6e9c8cf4837c\")>,\n",
       " <selenium.webdriver.remote.webelement.WebElement (session=\"b3b67a8c48a3caf26ab9e17d9edc8385\", element=\"c43376f4-9d80-4a16-9ef9-ea4f27ed75e7\")>,\n",
       " <selenium.webdriver.remote.webelement.WebElement (session=\"b3b67a8c48a3caf26ab9e17d9edc8385\", element=\"5383bb9b-57f3-4aac-8049-3aa4604a5f0c\")>,\n",
       " <selenium.webdriver.remote.webelement.WebElement (session=\"b3b67a8c48a3caf26ab9e17d9edc8385\", element=\"70a13e0b-732d-42d1-8230-5f0a8604e122\")>,\n",
       " <selenium.webdriver.remote.webelement.WebElement (session=\"b3b67a8c48a3caf26ab9e17d9edc8385\", element=\"6d1cea49-bdee-4ebf-9f2f-2b62cefa4993\")>,\n",
       " <selenium.webdriver.remote.webelement.WebElement (session=\"b3b67a8c48a3caf26ab9e17d9edc8385\", element=\"e1b9c8eb-443f-4680-ac1e-f9f65a421e4d\")>,\n",
       " <selenium.webdriver.remote.webelement.WebElement (session=\"b3b67a8c48a3caf26ab9e17d9edc8385\", element=\"db1fd7b8-ea3a-4ea5-a99a-320c03aecd8c\")>,\n",
       " <selenium.webdriver.remote.webelement.WebElement (session=\"b3b67a8c48a3caf26ab9e17d9edc8385\", element=\"a4c3f5ce-00ab-4aee-aab9-850d4cb76c30\")>,\n",
       " <selenium.webdriver.remote.webelement.WebElement (session=\"b3b67a8c48a3caf26ab9e17d9edc8385\", element=\"197d244f-56d0-455d-a1aa-92948994777d\")>,\n",
       " <selenium.webdriver.remote.webelement.WebElement (session=\"b3b67a8c48a3caf26ab9e17d9edc8385\", element=\"3bf59b63-29a2-49b4-8e2d-2426d4614da3\")>,\n",
       " <selenium.webdriver.remote.webelement.WebElement (session=\"b3b67a8c48a3caf26ab9e17d9edc8385\", element=\"eb472239-9200-4574-9846-434329c62854\")>,\n",
       " <selenium.webdriver.remote.webelement.WebElement (session=\"b3b67a8c48a3caf26ab9e17d9edc8385\", element=\"06517100-6a33-4725-bb3e-d4af5546dea7\")>,\n",
       " <selenium.webdriver.remote.webelement.WebElement (session=\"b3b67a8c48a3caf26ab9e17d9edc8385\", element=\"b7b53462-07c7-4147-9b7a-bcb94e89eded\")>,\n",
       " <selenium.webdriver.remote.webelement.WebElement (session=\"b3b67a8c48a3caf26ab9e17d9edc8385\", element=\"feae097d-df0d-4c44-b329-64d6110b6efa\")>,\n",
       " <selenium.webdriver.remote.webelement.WebElement (session=\"b3b67a8c48a3caf26ab9e17d9edc8385\", element=\"9afee58b-34b8-4d31-9b5e-2d22e8215f4a\")>,\n",
       " <selenium.webdriver.remote.webelement.WebElement (session=\"b3b67a8c48a3caf26ab9e17d9edc8385\", element=\"e8c75c14-d01b-42e9-9e6b-2bd2c3074abe\")>]"
      ]
     },
     "execution_count": 173,
     "metadata": {},
     "output_type": "execute_result"
    }
   ],
   "source": [
    "#let's extract all the tags having the product brand\n",
    "price_tags=driver.find_elements_by_class_name(\"_30jeq3\")\n",
    "price_tags"
   ]
  },
  {
   "cell_type": "markdown",
   "id": "19bbe353",
   "metadata": {},
   "source": [
    "Now we have all the tags from next page in which there are product price.\n",
    "\n",
    "Now we will extract the text from these these tags one by one by looping over these tags."
   ]
  },
  {
   "cell_type": "code",
   "execution_count": 174,
   "id": "16685c1b",
   "metadata": {},
   "outputs": [
    {
     "data": {
      "text/plain": [
       "['₹249',\n",
       " '₹400',\n",
       " '₹142',\n",
       " '₹349',\n",
       " '₹424',\n",
       " '₹209',\n",
       " '₹349',\n",
       " '₹449',\n",
       " '₹249',\n",
       " '₹424',\n",
       " '₹449',\n",
       " '₹648',\n",
       " '₹422',\n",
       " '₹749',\n",
       " '₹199',\n",
       " '₹598',\n",
       " '₹349',\n",
       " '₹1,776',\n",
       " '₹349',\n",
       " '₹498',\n",
       " '₹349',\n",
       " '₹449',\n",
       " '₹199',\n",
       " '₹424',\n",
       " '₹158',\n",
       " '₹199',\n",
       " '₹329',\n",
       " '₹549',\n",
       " '₹199',\n",
       " '₹424',\n",
       " '₹348',\n",
       " '₹424',\n",
       " '₹250',\n",
       " '₹549',\n",
       " '₹534',\n",
       " '₹369',\n",
       " '₹384',\n",
       " '₹379',\n",
       " '₹463',\n",
       " '₹598',\n",
       " '₹250',\n",
       " '₹348',\n",
       " '₹349',\n",
       " '₹400',\n",
       " '₹424']"
      ]
     },
     "execution_count": 174,
     "metadata": {},
     "output_type": "execute_result"
    }
   ],
   "source": [
    "#now the text of the price is inside the tags extracted above\n",
    "#so we will run over a loop to iterate over the tags extracted above.\n",
    "for i in price_tags:\n",
    "    prices=i.text\n",
    "    product_price.append(prices)\n",
    "product_price"
   ]
  },
  {
   "cell_type": "markdown",
   "id": "a43158e2",
   "metadata": {},
   "source": [
    "first we will extract the all the tags from next page where we will have product discount."
   ]
  },
  {
   "cell_type": "code",
   "execution_count": 175,
   "id": "351128ac",
   "metadata": {},
   "outputs": [
    {
     "data": {
      "text/plain": [
       "[<selenium.webdriver.remote.webelement.WebElement (session=\"b3b67a8c48a3caf26ab9e17d9edc8385\", element=\"e6884411-445a-44c1-9c47-55b2bc027c23\")>,\n",
       " <selenium.webdriver.remote.webelement.WebElement (session=\"b3b67a8c48a3caf26ab9e17d9edc8385\", element=\"38e052c1-01be-4611-9c44-6fbd2483364c\")>,\n",
       " <selenium.webdriver.remote.webelement.WebElement (session=\"b3b67a8c48a3caf26ab9e17d9edc8385\", element=\"5b786dfc-bf21-4ece-a189-f8ee55bd20a7\")>,\n",
       " <selenium.webdriver.remote.webelement.WebElement (session=\"b3b67a8c48a3caf26ab9e17d9edc8385\", element=\"3297ea0f-0815-4aae-a645-362ccd39f9eb\")>,\n",
       " <selenium.webdriver.remote.webelement.WebElement (session=\"b3b67a8c48a3caf26ab9e17d9edc8385\", element=\"b8df6cd9-79f7-416c-a241-67cab36cfd3c\")>,\n",
       " <selenium.webdriver.remote.webelement.WebElement (session=\"b3b67a8c48a3caf26ab9e17d9edc8385\", element=\"80d48784-e3b3-42b0-bc93-eb116ff78086\")>,\n",
       " <selenium.webdriver.remote.webelement.WebElement (session=\"b3b67a8c48a3caf26ab9e17d9edc8385\", element=\"c64d41b5-b45b-4db1-84dc-ea8ac22054ba\")>,\n",
       " <selenium.webdriver.remote.webelement.WebElement (session=\"b3b67a8c48a3caf26ab9e17d9edc8385\", element=\"874ff91d-9834-48de-aa08-ed42b1ed9c9e\")>,\n",
       " <selenium.webdriver.remote.webelement.WebElement (session=\"b3b67a8c48a3caf26ab9e17d9edc8385\", element=\"e48eb41a-a129-42a3-a578-ebeabc097989\")>,\n",
       " <selenium.webdriver.remote.webelement.WebElement (session=\"b3b67a8c48a3caf26ab9e17d9edc8385\", element=\"ada676d2-1538-48d8-84b8-fe9a9ef0c1eb\")>,\n",
       " <selenium.webdriver.remote.webelement.WebElement (session=\"b3b67a8c48a3caf26ab9e17d9edc8385\", element=\"72b980f2-82bb-483e-8cba-80119b1340c9\")>,\n",
       " <selenium.webdriver.remote.webelement.WebElement (session=\"b3b67a8c48a3caf26ab9e17d9edc8385\", element=\"32c61b95-ce8d-40e7-98f0-9077e8665388\")>,\n",
       " <selenium.webdriver.remote.webelement.WebElement (session=\"b3b67a8c48a3caf26ab9e17d9edc8385\", element=\"768d209b-1d3b-434a-bba4-00f8a3033e38\")>,\n",
       " <selenium.webdriver.remote.webelement.WebElement (session=\"b3b67a8c48a3caf26ab9e17d9edc8385\", element=\"70f33ce7-36fb-4119-9833-3c665de39567\")>,\n",
       " <selenium.webdriver.remote.webelement.WebElement (session=\"b3b67a8c48a3caf26ab9e17d9edc8385\", element=\"78891fa7-3daf-41bc-a9fb-805df92e594a\")>,\n",
       " <selenium.webdriver.remote.webelement.WebElement (session=\"b3b67a8c48a3caf26ab9e17d9edc8385\", element=\"0b3c3fe4-a416-402d-95f9-f695267887de\")>,\n",
       " <selenium.webdriver.remote.webelement.WebElement (session=\"b3b67a8c48a3caf26ab9e17d9edc8385\", element=\"9fa1f9e2-4055-4914-851c-27c1058dfbb6\")>,\n",
       " <selenium.webdriver.remote.webelement.WebElement (session=\"b3b67a8c48a3caf26ab9e17d9edc8385\", element=\"0ada7a36-9ae0-4cd2-9a94-85072c3436bb\")>,\n",
       " <selenium.webdriver.remote.webelement.WebElement (session=\"b3b67a8c48a3caf26ab9e17d9edc8385\", element=\"42e820fb-e1c7-4116-9aaa-86ca30aef12c\")>,\n",
       " <selenium.webdriver.remote.webelement.WebElement (session=\"b3b67a8c48a3caf26ab9e17d9edc8385\", element=\"9a1144a3-69cd-4c28-8e83-3311cfb95cce\")>,\n",
       " <selenium.webdriver.remote.webelement.WebElement (session=\"b3b67a8c48a3caf26ab9e17d9edc8385\", element=\"41e8565b-223b-4b8c-962b-938ff34e0e46\")>,\n",
       " <selenium.webdriver.remote.webelement.WebElement (session=\"b3b67a8c48a3caf26ab9e17d9edc8385\", element=\"df5490aa-d447-420c-80d5-1364178bfe38\")>,\n",
       " <selenium.webdriver.remote.webelement.WebElement (session=\"b3b67a8c48a3caf26ab9e17d9edc8385\", element=\"78b8094c-d150-4c1d-98d5-a74463d1fd90\")>,\n",
       " <selenium.webdriver.remote.webelement.WebElement (session=\"b3b67a8c48a3caf26ab9e17d9edc8385\", element=\"ba90b0e0-7258-4572-a96f-3c909391cf0b\")>,\n",
       " <selenium.webdriver.remote.webelement.WebElement (session=\"b3b67a8c48a3caf26ab9e17d9edc8385\", element=\"0bca80d9-524b-492c-a334-be7fb5574610\")>,\n",
       " <selenium.webdriver.remote.webelement.WebElement (session=\"b3b67a8c48a3caf26ab9e17d9edc8385\", element=\"19ec5f0c-78d1-4798-bdca-026d4eb10aba\")>,\n",
       " <selenium.webdriver.remote.webelement.WebElement (session=\"b3b67a8c48a3caf26ab9e17d9edc8385\", element=\"6bd26031-208e-4db1-8d7b-41c02f1993b1\")>,\n",
       " <selenium.webdriver.remote.webelement.WebElement (session=\"b3b67a8c48a3caf26ab9e17d9edc8385\", element=\"1afada4f-3c91-4e56-9007-76ce56899376\")>,\n",
       " <selenium.webdriver.remote.webelement.WebElement (session=\"b3b67a8c48a3caf26ab9e17d9edc8385\", element=\"91eb37fe-aaec-4b8f-8eb9-e8c66774b105\")>,\n",
       " <selenium.webdriver.remote.webelement.WebElement (session=\"b3b67a8c48a3caf26ab9e17d9edc8385\", element=\"f195aa6d-3474-48cd-af84-1a7197fc82d6\")>,\n",
       " <selenium.webdriver.remote.webelement.WebElement (session=\"b3b67a8c48a3caf26ab9e17d9edc8385\", element=\"bf354136-2621-4152-82f4-4648b429223d\")>,\n",
       " <selenium.webdriver.remote.webelement.WebElement (session=\"b3b67a8c48a3caf26ab9e17d9edc8385\", element=\"a210afc6-96db-4068-8a10-dc28fe760987\")>,\n",
       " <selenium.webdriver.remote.webelement.WebElement (session=\"b3b67a8c48a3caf26ab9e17d9edc8385\", element=\"3542d44b-6386-4169-86c6-5ba8a1af7b06\")>,\n",
       " <selenium.webdriver.remote.webelement.WebElement (session=\"b3b67a8c48a3caf26ab9e17d9edc8385\", element=\"1b0276ea-e795-4ca4-a51f-50d0c9f18627\")>,\n",
       " <selenium.webdriver.remote.webelement.WebElement (session=\"b3b67a8c48a3caf26ab9e17d9edc8385\", element=\"7730f249-7e7b-436a-823f-ec6035cad0f9\")>,\n",
       " <selenium.webdriver.remote.webelement.WebElement (session=\"b3b67a8c48a3caf26ab9e17d9edc8385\", element=\"ee76f555-43f5-4351-94b5-f9dff1442393\")>,\n",
       " <selenium.webdriver.remote.webelement.WebElement (session=\"b3b67a8c48a3caf26ab9e17d9edc8385\", element=\"87dd8496-ad3d-4eb1-ba1f-b49ac946992b\")>,\n",
       " <selenium.webdriver.remote.webelement.WebElement (session=\"b3b67a8c48a3caf26ab9e17d9edc8385\", element=\"7bdf0ce6-5744-44ca-8d53-8e15f46a92a6\")>,\n",
       " <selenium.webdriver.remote.webelement.WebElement (session=\"b3b67a8c48a3caf26ab9e17d9edc8385\", element=\"0eaf49f7-3278-402e-9ba7-2efecdd747e9\")>,\n",
       " <selenium.webdriver.remote.webelement.WebElement (session=\"b3b67a8c48a3caf26ab9e17d9edc8385\", element=\"b6779400-9809-4519-90a1-4b0de45506d5\")>,\n",
       " <selenium.webdriver.remote.webelement.WebElement (session=\"b3b67a8c48a3caf26ab9e17d9edc8385\", element=\"0ea1af88-8f93-4ac1-a0cb-b1c1dd2d9858\")>,\n",
       " <selenium.webdriver.remote.webelement.WebElement (session=\"b3b67a8c48a3caf26ab9e17d9edc8385\", element=\"f63bb836-6a8f-4588-b34f-fe6ee7abfb05\")>,\n",
       " <selenium.webdriver.remote.webelement.WebElement (session=\"b3b67a8c48a3caf26ab9e17d9edc8385\", element=\"8d994b1f-b23c-44fc-a73e-7a397e1b1b76\")>,\n",
       " <selenium.webdriver.remote.webelement.WebElement (session=\"b3b67a8c48a3caf26ab9e17d9edc8385\", element=\"05c61026-dd40-46d4-9e81-6ecf896813a4\")>,\n",
       " <selenium.webdriver.remote.webelement.WebElement (session=\"b3b67a8c48a3caf26ab9e17d9edc8385\", element=\"fc4ed054-e5b3-4c05-8e5c-3d15a1027867\")>]"
      ]
     },
     "execution_count": 175,
     "metadata": {},
     "output_type": "execute_result"
    }
   ],
   "source": [
    "#let's extract all the tags having the product discount\n",
    "discount_tags=driver.find_elements_by_class_name(\"_3Ay6Sb\")\n",
    "discount_tags"
   ]
  },
  {
   "cell_type": "markdown",
   "id": "d6cb474b",
   "metadata": {},
   "source": [
    "Now we have all the tags from next page in which there are product discount.\n",
    "\n",
    "Now we will extract the text from these these tags one by one by looping over these tags."
   ]
  },
  {
   "cell_type": "code",
   "execution_count": 176,
   "id": "a93c9665",
   "metadata": {},
   "outputs": [
    {
     "data": {
      "text/plain": [
       "['80% off',\n",
       " '79% off',\n",
       " '85% off',\n",
       " '65% off',\n",
       " '71% off',\n",
       " '73% off',\n",
       " '82% off',\n",
       " '77% off',\n",
       " '80% off',\n",
       " '57% off',\n",
       " '77% off',\n",
       " '56% off',\n",
       " '57% off',\n",
       " '67% off',\n",
       " '60% off',\n",
       " '60% off',\n",
       " '47% off',\n",
       " '40% off',\n",
       " '82% off',\n",
       " '50% off',\n",
       " '65% off',\n",
       " '55% off',\n",
       " '60% off',\n",
       " '78% off',\n",
       " '73% off',\n",
       " '60% off',\n",
       " '67% off',\n",
       " '57% off',\n",
       " '60% off',\n",
       " '71% off',\n",
       " '65% off',\n",
       " '64% off',\n",
       " '60% off',\n",
       " '54% off',\n",
       " '46% off',\n",
       " '63% off',\n",
       " '61% off',\n",
       " '62% off',\n",
       " '53% off',\n",
       " '60% off',\n",
       " '60% off',\n",
       " '65% off',\n",
       " '65% off',\n",
       " '79% off',\n",
       " '78% off']"
      ]
     },
     "execution_count": 176,
     "metadata": {},
     "output_type": "execute_result"
    }
   ],
   "source": [
    "#now the text of the discount is inside the tags extracted above\n",
    "#so we will run over a loop to iterate over the tags extracted above.\n",
    "for i in discount_tags:\n",
    "    discount=i.text\n",
    "    product_discount.append(discount)\n",
    "product_discount"
   ]
  },
  {
   "cell_type": "code",
   "execution_count": 177,
   "id": "453b1938",
   "metadata": {},
   "outputs": [],
   "source": [
    "#specifying the url of the webpage to be scraped for the second page\n",
    "#specifying the url of the webpage to be scraped\n",
    "url='https://www.flipkart.com/search?q=sneakers&otracker=search&otracker1=search&marketplace=FLIPKART&as-show=on&as=off&page=2'\n",
    "driver.get(url)"
   ]
  },
  {
   "cell_type": "code",
   "execution_count": 180,
   "id": "b6c74d64",
   "metadata": {},
   "outputs": [],
   "source": [
    "product_Brand=[]\n",
    "product_description=[]\n",
    "product_price=[]\n",
    "product_discount=[]"
   ]
  },
  {
   "cell_type": "code",
   "execution_count": 181,
   "id": "5b1d0ebd",
   "metadata": {},
   "outputs": [
    {
     "data": {
      "text/plain": [
       "[<selenium.webdriver.remote.webelement.WebElement (session=\"b3b67a8c48a3caf26ab9e17d9edc8385\", element=\"a05c5ee2-29fa-40af-bb25-b199cdeba0e4\")>,\n",
       " <selenium.webdriver.remote.webelement.WebElement (session=\"b3b67a8c48a3caf26ab9e17d9edc8385\", element=\"d20bd064-31ad-4cc6-89f0-f9e38866aa86\")>,\n",
       " <selenium.webdriver.remote.webelement.WebElement (session=\"b3b67a8c48a3caf26ab9e17d9edc8385\", element=\"2989fd0a-269c-4473-bb02-2f190379ce1c\")>,\n",
       " <selenium.webdriver.remote.webelement.WebElement (session=\"b3b67a8c48a3caf26ab9e17d9edc8385\", element=\"ce6b2b85-c520-4d65-95fc-ac65dbf81829\")>,\n",
       " <selenium.webdriver.remote.webelement.WebElement (session=\"b3b67a8c48a3caf26ab9e17d9edc8385\", element=\"1186b36d-88e1-4b98-b3ac-a3d39b52ad8b\")>,\n",
       " <selenium.webdriver.remote.webelement.WebElement (session=\"b3b67a8c48a3caf26ab9e17d9edc8385\", element=\"b1cd3420-341b-4c10-b56a-e98282866a2e\")>,\n",
       " <selenium.webdriver.remote.webelement.WebElement (session=\"b3b67a8c48a3caf26ab9e17d9edc8385\", element=\"0ea35604-45c5-4221-bfef-44e75608fd42\")>,\n",
       " <selenium.webdriver.remote.webelement.WebElement (session=\"b3b67a8c48a3caf26ab9e17d9edc8385\", element=\"5bcf8c22-6b4e-478f-8fcd-95bbd12fbd58\")>,\n",
       " <selenium.webdriver.remote.webelement.WebElement (session=\"b3b67a8c48a3caf26ab9e17d9edc8385\", element=\"37e29d9a-ab3f-4858-83af-fe138578b353\")>,\n",
       " <selenium.webdriver.remote.webelement.WebElement (session=\"b3b67a8c48a3caf26ab9e17d9edc8385\", element=\"666c8636-7458-47ca-8ed7-520558111681\")>,\n",
       " <selenium.webdriver.remote.webelement.WebElement (session=\"b3b67a8c48a3caf26ab9e17d9edc8385\", element=\"54f90c45-22dc-4ba9-99ad-ce105ff49898\")>,\n",
       " <selenium.webdriver.remote.webelement.WebElement (session=\"b3b67a8c48a3caf26ab9e17d9edc8385\", element=\"62d2e45f-ffa0-4290-8c45-b95d362129e7\")>,\n",
       " <selenium.webdriver.remote.webelement.WebElement (session=\"b3b67a8c48a3caf26ab9e17d9edc8385\", element=\"e8da7b07-d989-44d1-ad54-34ae0cec2da0\")>,\n",
       " <selenium.webdriver.remote.webelement.WebElement (session=\"b3b67a8c48a3caf26ab9e17d9edc8385\", element=\"68669017-5854-4d81-ae58-52d0396b9241\")>,\n",
       " <selenium.webdriver.remote.webelement.WebElement (session=\"b3b67a8c48a3caf26ab9e17d9edc8385\", element=\"61c08225-3dda-4344-8ee8-113a47ecca52\")>,\n",
       " <selenium.webdriver.remote.webelement.WebElement (session=\"b3b67a8c48a3caf26ab9e17d9edc8385\", element=\"e5ee2a42-ef72-492d-9d1a-e6774cf2b23b\")>,\n",
       " <selenium.webdriver.remote.webelement.WebElement (session=\"b3b67a8c48a3caf26ab9e17d9edc8385\", element=\"89cddf2e-a0ca-4556-9dbd-41dd521d82ab\")>,\n",
       " <selenium.webdriver.remote.webelement.WebElement (session=\"b3b67a8c48a3caf26ab9e17d9edc8385\", element=\"68ecb2b2-032c-4266-9d46-18b7e6a91cd2\")>,\n",
       " <selenium.webdriver.remote.webelement.WebElement (session=\"b3b67a8c48a3caf26ab9e17d9edc8385\", element=\"c8f3d2c8-8dd2-4cd0-8587-31673f1a16b3\")>,\n",
       " <selenium.webdriver.remote.webelement.WebElement (session=\"b3b67a8c48a3caf26ab9e17d9edc8385\", element=\"f7bc8f23-64ff-49a2-b732-fef58cf26af1\")>,\n",
       " <selenium.webdriver.remote.webelement.WebElement (session=\"b3b67a8c48a3caf26ab9e17d9edc8385\", element=\"1f483fd4-7c05-4835-8c7c-7f6c77a6f6de\")>,\n",
       " <selenium.webdriver.remote.webelement.WebElement (session=\"b3b67a8c48a3caf26ab9e17d9edc8385\", element=\"859c5864-f444-43af-837d-cfd282d46a9e\")>,\n",
       " <selenium.webdriver.remote.webelement.WebElement (session=\"b3b67a8c48a3caf26ab9e17d9edc8385\", element=\"2c520c29-f6bd-4ef1-b905-944c3e897302\")>,\n",
       " <selenium.webdriver.remote.webelement.WebElement (session=\"b3b67a8c48a3caf26ab9e17d9edc8385\", element=\"4a469de5-e741-40fc-b5aa-f69a75ef61c9\")>,\n",
       " <selenium.webdriver.remote.webelement.WebElement (session=\"b3b67a8c48a3caf26ab9e17d9edc8385\", element=\"e48923e7-0c90-49bd-9a4e-c2b35a5c81f0\")>,\n",
       " <selenium.webdriver.remote.webelement.WebElement (session=\"b3b67a8c48a3caf26ab9e17d9edc8385\", element=\"4bbfb591-7c21-42e3-852e-71f8faa6d021\")>,\n",
       " <selenium.webdriver.remote.webelement.WebElement (session=\"b3b67a8c48a3caf26ab9e17d9edc8385\", element=\"ce6e31f2-2b86-4e26-b3d0-e79762f57ae3\")>,\n",
       " <selenium.webdriver.remote.webelement.WebElement (session=\"b3b67a8c48a3caf26ab9e17d9edc8385\", element=\"4828fc5e-f577-4f6d-b09e-31dba7f4cdce\")>,\n",
       " <selenium.webdriver.remote.webelement.WebElement (session=\"b3b67a8c48a3caf26ab9e17d9edc8385\", element=\"f90c3922-d7db-4263-876e-9cd3bf5f148e\")>,\n",
       " <selenium.webdriver.remote.webelement.WebElement (session=\"b3b67a8c48a3caf26ab9e17d9edc8385\", element=\"523337df-acc4-4e70-9fc2-3092f220b8dd\")>,\n",
       " <selenium.webdriver.remote.webelement.WebElement (session=\"b3b67a8c48a3caf26ab9e17d9edc8385\", element=\"57e4ac90-0544-47da-9461-20cbfaf4a026\")>,\n",
       " <selenium.webdriver.remote.webelement.WebElement (session=\"b3b67a8c48a3caf26ab9e17d9edc8385\", element=\"dd21260e-b5cd-4144-baeb-ac15b8da9bfc\")>,\n",
       " <selenium.webdriver.remote.webelement.WebElement (session=\"b3b67a8c48a3caf26ab9e17d9edc8385\", element=\"5b407208-dfcb-4d19-af38-285753021bb9\")>,\n",
       " <selenium.webdriver.remote.webelement.WebElement (session=\"b3b67a8c48a3caf26ab9e17d9edc8385\", element=\"bfb47c64-ae07-49fe-aed5-e09749271abf\")>,\n",
       " <selenium.webdriver.remote.webelement.WebElement (session=\"b3b67a8c48a3caf26ab9e17d9edc8385\", element=\"988d9226-6c7f-4a7c-ad4e-5675f5360e3d\")>,\n",
       " <selenium.webdriver.remote.webelement.WebElement (session=\"b3b67a8c48a3caf26ab9e17d9edc8385\", element=\"d9cbbca3-b141-43dd-b42c-1cb1f8880595\")>,\n",
       " <selenium.webdriver.remote.webelement.WebElement (session=\"b3b67a8c48a3caf26ab9e17d9edc8385\", element=\"2e00adef-4811-4c05-aced-88df4b0032c7\")>,\n",
       " <selenium.webdriver.remote.webelement.WebElement (session=\"b3b67a8c48a3caf26ab9e17d9edc8385\", element=\"3025100f-19a1-4ceb-b017-d0d4d9835ec6\")>,\n",
       " <selenium.webdriver.remote.webelement.WebElement (session=\"b3b67a8c48a3caf26ab9e17d9edc8385\", element=\"1ac1c660-be62-4770-85af-3fdb2c42bcca\")>,\n",
       " <selenium.webdriver.remote.webelement.WebElement (session=\"b3b67a8c48a3caf26ab9e17d9edc8385\", element=\"1e1bf50c-5341-4ac9-9da7-e4eef1a19a94\")>]"
      ]
     },
     "execution_count": 181,
     "metadata": {},
     "output_type": "execute_result"
    }
   ],
   "source": [
    "#let's extract all the tags from the next page having the product brand\n",
    "brand_tags=driver.find_elements_by_class_name('_2WkVRV')\n",
    "brand_tags"
   ]
  },
  {
   "cell_type": "markdown",
   "id": "b5764c9c",
   "metadata": {},
   "source": [
    "Now we have all the tags from next page in which there are Brand names.\n",
    "\n",
    "Now we will extract the text from these these tags one by one by looping over these tags."
   ]
  },
  {
   "cell_type": "code",
   "execution_count": 182,
   "id": "5d48c107",
   "metadata": {},
   "outputs": [
    {
     "data": {
      "text/plain": [
       "['Layasa',\n",
       " 'Stefano Rads',\n",
       " 'BIRDE',\n",
       " 'BRUTON',\n",
       " 'EMPTILE',\n",
       " 'Shoes Bank',\n",
       " 'BIRDE',\n",
       " 'BIRDE',\n",
       " 'Zsyto',\n",
       " 'KNIGHT WALKERS',\n",
       " 'Echor',\n",
       " 'Extoes',\n",
       " 'Kraasa',\n",
       " 'Rzisbo',\n",
       " 'BRUTON',\n",
       " 'BIRDE',\n",
       " 'WHITE WALKERS',\n",
       " 'MAFLO',\n",
       " 'BRUTON',\n",
       " 'Vigglo Fashion',\n",
       " 'Kzaara',\n",
       " 'BIRDE',\n",
       " 'LuvShus',\n",
       " 'BRUTON',\n",
       " 'Chevit',\n",
       " 'RODDICK SHOES',\n",
       " 'Robbie jones',\n",
       " 'BRUTON',\n",
       " 'Chevit',\n",
       " 'Numenzo',\n",
       " 'ASIAN',\n",
       " 'BRUTON',\n",
       " 'CLYMB',\n",
       " 'Chevit',\n",
       " 'Robbie jones',\n",
       " 'ShoeRise',\n",
       " 'luxury fashion',\n",
       " 'BRUTON',\n",
       " 'Ktiz',\n",
       " 'LANCER']"
      ]
     },
     "execution_count": 182,
     "metadata": {},
     "output_type": "execute_result"
    }
   ],
   "source": [
    "#now the text of the brand name is inside the tags extracted above\n",
    "#so we will run over a loop to iterate over the tags extracted above.\n",
    "for i in brand_tags:\n",
    "    title=i.text\n",
    "    product_Brand.append(title)\n",
    "product_Brand"
   ]
  },
  {
   "cell_type": "markdown",
   "id": "d26ab62b",
   "metadata": {},
   "source": [
    "first we will extract the all the tags from next page where we will have product Description."
   ]
  },
  {
   "cell_type": "code",
   "execution_count": 183,
   "id": "a282ac13",
   "metadata": {},
   "outputs": [
    {
     "data": {
      "text/plain": [
       "[<selenium.webdriver.remote.webelement.WebElement (session=\"b3b67a8c48a3caf26ab9e17d9edc8385\", element=\"2c4ff963-f978-4f4d-94e8-bb1482e2410d\")>,\n",
       " <selenium.webdriver.remote.webelement.WebElement (session=\"b3b67a8c48a3caf26ab9e17d9edc8385\", element=\"7e419b5b-9233-4709-b728-d82c36739612\")>,\n",
       " <selenium.webdriver.remote.webelement.WebElement (session=\"b3b67a8c48a3caf26ab9e17d9edc8385\", element=\"f0c3c8d2-3291-479a-8a63-cdfccd1fd66a\")>,\n",
       " <selenium.webdriver.remote.webelement.WebElement (session=\"b3b67a8c48a3caf26ab9e17d9edc8385\", element=\"3115aa22-04c5-4acb-b1fe-1fdc1aae653c\")>,\n",
       " <selenium.webdriver.remote.webelement.WebElement (session=\"b3b67a8c48a3caf26ab9e17d9edc8385\", element=\"4053b3cb-fa09-4a6b-8a02-c4d91d8b9e18\")>,\n",
       " <selenium.webdriver.remote.webelement.WebElement (session=\"b3b67a8c48a3caf26ab9e17d9edc8385\", element=\"06c02f49-487e-4233-b84d-bf9d76c25851\")>,\n",
       " <selenium.webdriver.remote.webelement.WebElement (session=\"b3b67a8c48a3caf26ab9e17d9edc8385\", element=\"a9f2e097-020d-4e7f-8d4a-17118637d1af\")>,\n",
       " <selenium.webdriver.remote.webelement.WebElement (session=\"b3b67a8c48a3caf26ab9e17d9edc8385\", element=\"d5517194-49c6-4fcb-9bb1-1ff2c6f1c07b\")>,\n",
       " <selenium.webdriver.remote.webelement.WebElement (session=\"b3b67a8c48a3caf26ab9e17d9edc8385\", element=\"acb6d322-8580-4e86-9c3d-6161bd563eff\")>,\n",
       " <selenium.webdriver.remote.webelement.WebElement (session=\"b3b67a8c48a3caf26ab9e17d9edc8385\", element=\"478461c8-0119-4847-a6ea-bbff2cd884b9\")>,\n",
       " <selenium.webdriver.remote.webelement.WebElement (session=\"b3b67a8c48a3caf26ab9e17d9edc8385\", element=\"673ba121-fc1c-43d0-b630-75fa488e2401\")>,\n",
       " <selenium.webdriver.remote.webelement.WebElement (session=\"b3b67a8c48a3caf26ab9e17d9edc8385\", element=\"8159ed48-d16b-4c72-a8a4-28c0b1714b50\")>,\n",
       " <selenium.webdriver.remote.webelement.WebElement (session=\"b3b67a8c48a3caf26ab9e17d9edc8385\", element=\"87d2d47b-765d-42fa-8908-2c3bb98205d0\")>,\n",
       " <selenium.webdriver.remote.webelement.WebElement (session=\"b3b67a8c48a3caf26ab9e17d9edc8385\", element=\"87f6f9f4-0899-477d-aba7-07f89257fd53\")>,\n",
       " <selenium.webdriver.remote.webelement.WebElement (session=\"b3b67a8c48a3caf26ab9e17d9edc8385\", element=\"1c738b7c-f19a-4a25-8caf-9943ef386f79\")>,\n",
       " <selenium.webdriver.remote.webelement.WebElement (session=\"b3b67a8c48a3caf26ab9e17d9edc8385\", element=\"120c96fb-33ea-40d0-b5b6-fd78c5e5982e\")>,\n",
       " <selenium.webdriver.remote.webelement.WebElement (session=\"b3b67a8c48a3caf26ab9e17d9edc8385\", element=\"bd162e4e-cb9b-422c-ac2c-ed562a955338\")>,\n",
       " <selenium.webdriver.remote.webelement.WebElement (session=\"b3b67a8c48a3caf26ab9e17d9edc8385\", element=\"033e4aa1-231b-4a3f-8d7a-9367126a07dc\")>,\n",
       " <selenium.webdriver.remote.webelement.WebElement (session=\"b3b67a8c48a3caf26ab9e17d9edc8385\", element=\"660a209d-055d-4a4b-b77f-5a9d7c1428a5\")>,\n",
       " <selenium.webdriver.remote.webelement.WebElement (session=\"b3b67a8c48a3caf26ab9e17d9edc8385\", element=\"ea62060d-5c9a-4a1d-8f83-5eb0b85eebce\")>,\n",
       " <selenium.webdriver.remote.webelement.WebElement (session=\"b3b67a8c48a3caf26ab9e17d9edc8385\", element=\"a51aa029-b45c-4823-bae4-5c4f99539248\")>,\n",
       " <selenium.webdriver.remote.webelement.WebElement (session=\"b3b67a8c48a3caf26ab9e17d9edc8385\", element=\"bbb201e1-79c7-49f2-815f-d02324df7ffb\")>,\n",
       " <selenium.webdriver.remote.webelement.WebElement (session=\"b3b67a8c48a3caf26ab9e17d9edc8385\", element=\"d836edc8-ffd2-4d15-b921-5c94ff9fcf1d\")>,\n",
       " <selenium.webdriver.remote.webelement.WebElement (session=\"b3b67a8c48a3caf26ab9e17d9edc8385\", element=\"a845b938-c336-4c65-b090-ab543ad5b156\")>,\n",
       " <selenium.webdriver.remote.webelement.WebElement (session=\"b3b67a8c48a3caf26ab9e17d9edc8385\", element=\"750deb51-6717-4f19-998a-7a8f010ee2cd\")>,\n",
       " <selenium.webdriver.remote.webelement.WebElement (session=\"b3b67a8c48a3caf26ab9e17d9edc8385\", element=\"c24f647d-9e7c-4d40-8840-e435c8414701\")>,\n",
       " <selenium.webdriver.remote.webelement.WebElement (session=\"b3b67a8c48a3caf26ab9e17d9edc8385\", element=\"616f9005-0d0d-4623-ad78-15e22025805d\")>,\n",
       " <selenium.webdriver.remote.webelement.WebElement (session=\"b3b67a8c48a3caf26ab9e17d9edc8385\", element=\"fb31384c-66f6-4ba1-ad40-b1c16481f987\")>,\n",
       " <selenium.webdriver.remote.webelement.WebElement (session=\"b3b67a8c48a3caf26ab9e17d9edc8385\", element=\"45a1fc0f-6e7c-4a9f-beea-173d8cba75a7\")>,\n",
       " <selenium.webdriver.remote.webelement.WebElement (session=\"b3b67a8c48a3caf26ab9e17d9edc8385\", element=\"fac73f05-34e0-4bd5-913a-062e9673011c\")>,\n",
       " <selenium.webdriver.remote.webelement.WebElement (session=\"b3b67a8c48a3caf26ab9e17d9edc8385\", element=\"57537e45-61e4-48f5-9820-ab7055906ede\")>,\n",
       " <selenium.webdriver.remote.webelement.WebElement (session=\"b3b67a8c48a3caf26ab9e17d9edc8385\", element=\"124ce2e6-2daa-43cb-aaf4-097ff7cd0d52\")>,\n",
       " <selenium.webdriver.remote.webelement.WebElement (session=\"b3b67a8c48a3caf26ab9e17d9edc8385\", element=\"053d0e39-500c-481a-8401-f3a1b678a5a1\")>,\n",
       " <selenium.webdriver.remote.webelement.WebElement (session=\"b3b67a8c48a3caf26ab9e17d9edc8385\", element=\"a529e4dd-00a9-4dae-8732-04ae35e9d7b2\")>,\n",
       " <selenium.webdriver.remote.webelement.WebElement (session=\"b3b67a8c48a3caf26ab9e17d9edc8385\", element=\"230fc545-0513-4a5b-8d5c-fcac6df78c62\")>,\n",
       " <selenium.webdriver.remote.webelement.WebElement (session=\"b3b67a8c48a3caf26ab9e17d9edc8385\", element=\"deaf6735-bc04-4051-afd1-c674b9bba82d\")>,\n",
       " <selenium.webdriver.remote.webelement.WebElement (session=\"b3b67a8c48a3caf26ab9e17d9edc8385\", element=\"39f1f0b9-2fe5-4417-a68b-e8087e84c8c9\")>,\n",
       " <selenium.webdriver.remote.webelement.WebElement (session=\"b3b67a8c48a3caf26ab9e17d9edc8385\", element=\"248cd004-b53d-4758-b631-b584d5c44223\")>,\n",
       " <selenium.webdriver.remote.webelement.WebElement (session=\"b3b67a8c48a3caf26ab9e17d9edc8385\", element=\"302495ec-9095-41c6-be44-0f07f1d39738\")>,\n",
       " <selenium.webdriver.remote.webelement.WebElement (session=\"b3b67a8c48a3caf26ab9e17d9edc8385\", element=\"1c6a8a21-5107-4ab7-bbc7-0da7f1047ad9\")>]"
      ]
     },
     "execution_count": 183,
     "metadata": {},
     "output_type": "execute_result"
    }
   ],
   "source": [
    "#let's extract all the tags having the product brand\n",
    "description_tags=driver.find_elements_by_class_name(\"IRpwTa\")\n",
    "description_tags"
   ]
  },
  {
   "cell_type": "markdown",
   "id": "7e71e052",
   "metadata": {},
   "source": [
    "Now we have all the tags from next page in which there are product description.\n",
    "\n",
    "Now we will extract the text from these these tags one by one by looping over these tags."
   ]
  },
  {
   "cell_type": "code",
   "execution_count": 184,
   "id": "a872c0dc",
   "metadata": {},
   "outputs": [
    {
     "data": {
      "text/plain": [
       "['Sneakers For Men',\n",
       " 'Classy Sneakers For Men',\n",
       " 'Stylish Comfortable Lightweight, Breathable Walking Sho...',\n",
       " 'Modern Trendy Sneakers Shoes Sneakers For Men',\n",
       " 'all white heartbeat casual shoe Sneakers For Men',\n",
       " \"White Sneaker For Men's/Boy's Sneakers For Men\",\n",
       " 'Stylish Comfortable Lightweight, Breathable Walking Sho...',\n",
       " 'Birde High Top Casual Sneakers For Men Sneakers For Men',\n",
       " 'Sneakers For Men',\n",
       " 'Sneakers For Men',\n",
       " \"Men's Sneakers Fashion Lightweight Running Shoes Tennis...\",\n",
       " 'Lighweight, slip-on and lace-up Sneakers For Men',\n",
       " 'Casuals, Canvas, Partywear Sneakers For Men',\n",
       " 'Sneakers For Men',\n",
       " 'Lightweight Pack Of 1 Trendy Sneakers Sneakers Sneakers...',\n",
       " 'Stylish Comfortable Lightweight, Breathable Walking Sho...',\n",
       " 'Stylish & Trending Outdoor Walking Comfortable Sneakers...',\n",
       " 'Sneakers For Men',\n",
       " 'Combo Pack Of 4 Casual Shoes Loafer Shoes Sneakers For ...',\n",
       " 'Sneaker shoes for men Sneakers For Men',\n",
       " 'Sneakers For Men',\n",
       " 'Sports Running Shoes Sneakers For Men',\n",
       " 'Men Casual Shoe New Trend With Fashion Panda Desgined L...',\n",
       " 'Modern Trendy Shoes Sneakers For Men',\n",
       " 'Sneakers For Men',\n",
       " 'Fashion Outdoor Canvas Casual Light Weight Lace-up Even...',\n",
       " 'Sneakers For Men',\n",
       " 'Exclusive Design Combo Pack OF 2 Casual Shoes For Men S...',\n",
       " 'Super Stylish & Trendy Combo Pack of 02 Pairs Sneakers ...',\n",
       " '411 Casual Sneakers For Men',\n",
       " 'WATERPROOF-05cFULLWHITE Sneakers For Men',\n",
       " 'Modern Trendy Sneakers Shoes Sneakers For Men',\n",
       " 'Sneakers For Men',\n",
       " 'CH-527 Trendy Star Perfect Casuals Sneakers For Men',\n",
       " 'Casual Sneakers White Shoes For Men Sneakers For Men',\n",
       " 'Casual Daily wear Comfortable Durable Walking Gym Train...',\n",
       " 'Sneakers For Men',\n",
       " 'Sneaker Sneakers For Men',\n",
       " 'New Style Sneakers For Men',\n",
       " 'PILOT-1WHT Sneakers For Men']"
      ]
     },
     "execution_count": 184,
     "metadata": {},
     "output_type": "execute_result"
    }
   ],
   "source": [
    "#now the text of the description is inside the tags extracted above\n",
    "#so we will run over a loop to iterate over the tags extracted above.\n",
    "for i in description_tags:\n",
    "    brands=i.text\n",
    "    product_description.append(brands)\n",
    "product_description"
   ]
  },
  {
   "cell_type": "markdown",
   "id": "28745ebb",
   "metadata": {},
   "source": [
    "first we will extract the all the tags from next page where we will have product price."
   ]
  },
  {
   "cell_type": "code",
   "execution_count": 185,
   "id": "2b0fbcd9",
   "metadata": {},
   "outputs": [
    {
     "data": {
      "text/plain": [
       "[<selenium.webdriver.remote.webelement.WebElement (session=\"b3b67a8c48a3caf26ab9e17d9edc8385\", element=\"dd5ca164-effe-4d01-b407-fd78b07e6402\")>,\n",
       " <selenium.webdriver.remote.webelement.WebElement (session=\"b3b67a8c48a3caf26ab9e17d9edc8385\", element=\"075a116d-1fcb-41bf-8b21-1d867eacc0aa\")>,\n",
       " <selenium.webdriver.remote.webelement.WebElement (session=\"b3b67a8c48a3caf26ab9e17d9edc8385\", element=\"f6933a3f-4a68-4c26-8fbe-e505b773cf4a\")>,\n",
       " <selenium.webdriver.remote.webelement.WebElement (session=\"b3b67a8c48a3caf26ab9e17d9edc8385\", element=\"587c5d5c-a108-4660-8250-c8627f6c01cd\")>,\n",
       " <selenium.webdriver.remote.webelement.WebElement (session=\"b3b67a8c48a3caf26ab9e17d9edc8385\", element=\"f1148fcd-1b19-4023-bee6-a66238159934\")>,\n",
       " <selenium.webdriver.remote.webelement.WebElement (session=\"b3b67a8c48a3caf26ab9e17d9edc8385\", element=\"65456d7e-ec60-49d8-9fcb-0712157c819c\")>,\n",
       " <selenium.webdriver.remote.webelement.WebElement (session=\"b3b67a8c48a3caf26ab9e17d9edc8385\", element=\"e8d4f59b-3d9d-48e6-80f9-9fb07dbce85e\")>,\n",
       " <selenium.webdriver.remote.webelement.WebElement (session=\"b3b67a8c48a3caf26ab9e17d9edc8385\", element=\"129dbdf4-a61b-4053-a1e0-58ab1a5691d7\")>,\n",
       " <selenium.webdriver.remote.webelement.WebElement (session=\"b3b67a8c48a3caf26ab9e17d9edc8385\", element=\"cf0e77b2-a016-4fc1-8ec2-47aa8ed54a5f\")>,\n",
       " <selenium.webdriver.remote.webelement.WebElement (session=\"b3b67a8c48a3caf26ab9e17d9edc8385\", element=\"7956a2f2-5c93-4e6b-a890-1c1ab5c35639\")>,\n",
       " <selenium.webdriver.remote.webelement.WebElement (session=\"b3b67a8c48a3caf26ab9e17d9edc8385\", element=\"c07197aa-c048-4c47-a4f7-75afb896790e\")>,\n",
       " <selenium.webdriver.remote.webelement.WebElement (session=\"b3b67a8c48a3caf26ab9e17d9edc8385\", element=\"3e90c6e2-6476-4015-8c43-59e85708eedf\")>,\n",
       " <selenium.webdriver.remote.webelement.WebElement (session=\"b3b67a8c48a3caf26ab9e17d9edc8385\", element=\"e45d35d8-3456-456d-b7c1-84448165db09\")>,\n",
       " <selenium.webdriver.remote.webelement.WebElement (session=\"b3b67a8c48a3caf26ab9e17d9edc8385\", element=\"455a0847-f864-4cc4-aa41-ae3834fe4157\")>,\n",
       " <selenium.webdriver.remote.webelement.WebElement (session=\"b3b67a8c48a3caf26ab9e17d9edc8385\", element=\"37c4f2a3-d416-430f-917d-35269389e7a7\")>,\n",
       " <selenium.webdriver.remote.webelement.WebElement (session=\"b3b67a8c48a3caf26ab9e17d9edc8385\", element=\"e17ba301-5d70-41f0-9c49-c79c91905633\")>,\n",
       " <selenium.webdriver.remote.webelement.WebElement (session=\"b3b67a8c48a3caf26ab9e17d9edc8385\", element=\"530001ff-959d-419d-8b77-580abadfe77a\")>,\n",
       " <selenium.webdriver.remote.webelement.WebElement (session=\"b3b67a8c48a3caf26ab9e17d9edc8385\", element=\"6b47b0fb-48fb-4909-92c2-ab3a5e7d3110\")>,\n",
       " <selenium.webdriver.remote.webelement.WebElement (session=\"b3b67a8c48a3caf26ab9e17d9edc8385\", element=\"d9628550-513c-4f52-9ad5-b97e3fa0bf59\")>,\n",
       " <selenium.webdriver.remote.webelement.WebElement (session=\"b3b67a8c48a3caf26ab9e17d9edc8385\", element=\"9e781d5b-04c7-4f83-8f6d-584f3d3cc545\")>,\n",
       " <selenium.webdriver.remote.webelement.WebElement (session=\"b3b67a8c48a3caf26ab9e17d9edc8385\", element=\"2a24e7e9-ff04-46c3-a88e-e78b5c62d60d\")>,\n",
       " <selenium.webdriver.remote.webelement.WebElement (session=\"b3b67a8c48a3caf26ab9e17d9edc8385\", element=\"1d12e4e9-8f6b-4d76-b8df-cf37e62f6232\")>,\n",
       " <selenium.webdriver.remote.webelement.WebElement (session=\"b3b67a8c48a3caf26ab9e17d9edc8385\", element=\"8fb4aef6-549f-4aef-a32f-f8e6b146f60c\")>,\n",
       " <selenium.webdriver.remote.webelement.WebElement (session=\"b3b67a8c48a3caf26ab9e17d9edc8385\", element=\"5759f973-1550-48f2-a5f8-905753747c6e\")>,\n",
       " <selenium.webdriver.remote.webelement.WebElement (session=\"b3b67a8c48a3caf26ab9e17d9edc8385\", element=\"c3a2fd94-cda4-4461-88e3-80cd2c4a1c71\")>,\n",
       " <selenium.webdriver.remote.webelement.WebElement (session=\"b3b67a8c48a3caf26ab9e17d9edc8385\", element=\"8019604e-5970-4312-9f8b-1b95935a3f3b\")>,\n",
       " <selenium.webdriver.remote.webelement.WebElement (session=\"b3b67a8c48a3caf26ab9e17d9edc8385\", element=\"0ac4dfae-c227-4ff1-9949-9ec084e7d9b7\")>,\n",
       " <selenium.webdriver.remote.webelement.WebElement (session=\"b3b67a8c48a3caf26ab9e17d9edc8385\", element=\"38d0dfaa-adab-499c-b478-99b9f2ae0897\")>,\n",
       " <selenium.webdriver.remote.webelement.WebElement (session=\"b3b67a8c48a3caf26ab9e17d9edc8385\", element=\"c98a32b3-d868-4d70-a079-8a6600abe335\")>,\n",
       " <selenium.webdriver.remote.webelement.WebElement (session=\"b3b67a8c48a3caf26ab9e17d9edc8385\", element=\"24904f9b-0c59-4060-9213-180c53eb8e7f\")>,\n",
       " <selenium.webdriver.remote.webelement.WebElement (session=\"b3b67a8c48a3caf26ab9e17d9edc8385\", element=\"3ce2d136-e55d-422d-862e-8e010c9a09d0\")>,\n",
       " <selenium.webdriver.remote.webelement.WebElement (session=\"b3b67a8c48a3caf26ab9e17d9edc8385\", element=\"fd7fcf62-7fc4-4688-8a2d-626945d017fb\")>,\n",
       " <selenium.webdriver.remote.webelement.WebElement (session=\"b3b67a8c48a3caf26ab9e17d9edc8385\", element=\"4517b8b4-1986-4c25-ae35-a590fd6e8854\")>,\n",
       " <selenium.webdriver.remote.webelement.WebElement (session=\"b3b67a8c48a3caf26ab9e17d9edc8385\", element=\"90798813-1ca9-47da-aa96-579496b2f142\")>,\n",
       " <selenium.webdriver.remote.webelement.WebElement (session=\"b3b67a8c48a3caf26ab9e17d9edc8385\", element=\"ceaf4ec0-7984-460f-98bd-d094f82f6242\")>,\n",
       " <selenium.webdriver.remote.webelement.WebElement (session=\"b3b67a8c48a3caf26ab9e17d9edc8385\", element=\"2e195214-db17-409a-a38d-f9d0c044ad01\")>,\n",
       " <selenium.webdriver.remote.webelement.WebElement (session=\"b3b67a8c48a3caf26ab9e17d9edc8385\", element=\"dde3202a-650b-4429-8be4-b28efc0de215\")>,\n",
       " <selenium.webdriver.remote.webelement.WebElement (session=\"b3b67a8c48a3caf26ab9e17d9edc8385\", element=\"4696c452-152d-440d-9ade-58d30385e640\")>,\n",
       " <selenium.webdriver.remote.webelement.WebElement (session=\"b3b67a8c48a3caf26ab9e17d9edc8385\", element=\"a3579d91-7af3-481a-8133-6092640bedb0\")>,\n",
       " <selenium.webdriver.remote.webelement.WebElement (session=\"b3b67a8c48a3caf26ab9e17d9edc8385\", element=\"334c7263-c6b5-4e1e-aa7b-fe2dcf38ec49\")>,\n",
       " <selenium.webdriver.remote.webelement.WebElement (session=\"b3b67a8c48a3caf26ab9e17d9edc8385\", element=\"563e47f3-fe5d-42a3-b15b-1ef2f8920ef3\")>,\n",
       " <selenium.webdriver.remote.webelement.WebElement (session=\"b3b67a8c48a3caf26ab9e17d9edc8385\", element=\"8abcdc6e-e1e5-48fa-92af-f947e20a1be7\")>,\n",
       " <selenium.webdriver.remote.webelement.WebElement (session=\"b3b67a8c48a3caf26ab9e17d9edc8385\", element=\"c5120951-cc91-4f9f-8764-52292d8f1cbd\")>,\n",
       " <selenium.webdriver.remote.webelement.WebElement (session=\"b3b67a8c48a3caf26ab9e17d9edc8385\", element=\"1dba7f42-1a5c-4e74-96a1-cbe5768631b6\")>,\n",
       " <selenium.webdriver.remote.webelement.WebElement (session=\"b3b67a8c48a3caf26ab9e17d9edc8385\", element=\"9e0b098e-3675-46f8-abff-9c2bd5d7aa84\")>]"
      ]
     },
     "execution_count": 185,
     "metadata": {},
     "output_type": "execute_result"
    }
   ],
   "source": [
    "#let's extract all the tags having the product brand\n",
    "price_tags=driver.find_elements_by_class_name(\"_30jeq3\")\n",
    "price_tags"
   ]
  },
  {
   "cell_type": "markdown",
   "id": "d1f4ec70",
   "metadata": {},
   "source": [
    "Now we have all the tags from next page in which there are product price.\n",
    "\n",
    "Now we will extract the text from these these tags one by one by looping over these tags."
   ]
  },
  {
   "cell_type": "code",
   "execution_count": 186,
   "id": "34568428",
   "metadata": {},
   "outputs": [
    {
     "data": {
      "text/plain": [
       "['₹399',\n",
       " '₹201',\n",
       " '₹369',\n",
       " '₹249',\n",
       " '₹327',\n",
       " '₹348',\n",
       " '₹369',\n",
       " '₹648',\n",
       " '₹298',\n",
       " '₹598',\n",
       " '₹489',\n",
       " '₹498',\n",
       " '₹468',\n",
       " '₹549',\n",
       " '₹177',\n",
       " '₹329',\n",
       " '₹549',\n",
       " '₹424',\n",
       " '₹727',\n",
       " '₹549',\n",
       " '₹249',\n",
       " '₹329',\n",
       " '₹368',\n",
       " '₹549',\n",
       " '₹209',\n",
       " '₹430',\n",
       " '₹424',\n",
       " '₹449',\n",
       " '₹714',\n",
       " '₹449',\n",
       " '₹549',\n",
       " '₹249',\n",
       " '₹599',\n",
       " '₹318',\n",
       " '₹424',\n",
       " '₹649',\n",
       " '₹399',\n",
       " '₹249',\n",
       " '₹303',\n",
       " '₹888',\n",
       " '₹449',\n",
       " '₹368',\n",
       " '₹649',\n",
       " '₹727',\n",
       " '₹249']"
      ]
     },
     "execution_count": 186,
     "metadata": {},
     "output_type": "execute_result"
    }
   ],
   "source": [
    "#now the text of the price is inside the tags extracted above\n",
    "#so we will run over a loop to iterate over the tags extracted above.\n",
    "for i in price_tags:\n",
    "    prices=i.text\n",
    "    product_price.append(prices)\n",
    "product_price"
   ]
  },
  {
   "cell_type": "markdown",
   "id": "2f87cd3d",
   "metadata": {},
   "source": [
    "first we will extract the all the tags from next page where we will have product discount."
   ]
  },
  {
   "cell_type": "code",
   "execution_count": 187,
   "id": "60ddd5bb",
   "metadata": {},
   "outputs": [
    {
     "data": {
      "text/plain": [
       "[<selenium.webdriver.remote.webelement.WebElement (session=\"b3b67a8c48a3caf26ab9e17d9edc8385\", element=\"3867e55f-6d82-4f37-8673-68fda3ec3722\")>,\n",
       " <selenium.webdriver.remote.webelement.WebElement (session=\"b3b67a8c48a3caf26ab9e17d9edc8385\", element=\"502ec930-3971-4c4f-b47d-c3896b5b019e\")>,\n",
       " <selenium.webdriver.remote.webelement.WebElement (session=\"b3b67a8c48a3caf26ab9e17d9edc8385\", element=\"4951ef20-1655-4472-8eee-893ffa554ecb\")>,\n",
       " <selenium.webdriver.remote.webelement.WebElement (session=\"b3b67a8c48a3caf26ab9e17d9edc8385\", element=\"41fbed00-ba11-4810-b146-24bfa064cab0\")>,\n",
       " <selenium.webdriver.remote.webelement.WebElement (session=\"b3b67a8c48a3caf26ab9e17d9edc8385\", element=\"ba027b17-7e2d-4e74-b770-6f09a6306a60\")>,\n",
       " <selenium.webdriver.remote.webelement.WebElement (session=\"b3b67a8c48a3caf26ab9e17d9edc8385\", element=\"70b25517-bd5c-4c36-a1a2-78337ef98fd5\")>,\n",
       " <selenium.webdriver.remote.webelement.WebElement (session=\"b3b67a8c48a3caf26ab9e17d9edc8385\", element=\"6b4799ca-aa8c-4032-add6-6350a3ab8e02\")>,\n",
       " <selenium.webdriver.remote.webelement.WebElement (session=\"b3b67a8c48a3caf26ab9e17d9edc8385\", element=\"8839e29c-8b91-48df-a6fb-8129e491f4b0\")>,\n",
       " <selenium.webdriver.remote.webelement.WebElement (session=\"b3b67a8c48a3caf26ab9e17d9edc8385\", element=\"8ad5e793-3671-49e0-bb95-7cc458aa32c7\")>,\n",
       " <selenium.webdriver.remote.webelement.WebElement (session=\"b3b67a8c48a3caf26ab9e17d9edc8385\", element=\"2ea455b1-ab3c-419b-b965-2f94dadc2704\")>,\n",
       " <selenium.webdriver.remote.webelement.WebElement (session=\"b3b67a8c48a3caf26ab9e17d9edc8385\", element=\"210c49c8-a139-495b-86d3-31ecf0a0a190\")>,\n",
       " <selenium.webdriver.remote.webelement.WebElement (session=\"b3b67a8c48a3caf26ab9e17d9edc8385\", element=\"bb1d6807-d9f6-404b-bd22-e6f00c0d20d8\")>,\n",
       " <selenium.webdriver.remote.webelement.WebElement (session=\"b3b67a8c48a3caf26ab9e17d9edc8385\", element=\"3bb70057-f589-46f3-8b98-62b2cf60e2a7\")>,\n",
       " <selenium.webdriver.remote.webelement.WebElement (session=\"b3b67a8c48a3caf26ab9e17d9edc8385\", element=\"05abd4df-cc7e-4cae-9ed8-2ea7cb808908\")>,\n",
       " <selenium.webdriver.remote.webelement.WebElement (session=\"b3b67a8c48a3caf26ab9e17d9edc8385\", element=\"f7b17a31-291e-49dc-8e68-26e37e439e40\")>,\n",
       " <selenium.webdriver.remote.webelement.WebElement (session=\"b3b67a8c48a3caf26ab9e17d9edc8385\", element=\"df6a0dd1-7e35-4100-90fe-d20a057fe13d\")>,\n",
       " <selenium.webdriver.remote.webelement.WebElement (session=\"b3b67a8c48a3caf26ab9e17d9edc8385\", element=\"3a81efeb-3be6-400c-8377-bfb35101706a\")>,\n",
       " <selenium.webdriver.remote.webelement.WebElement (session=\"b3b67a8c48a3caf26ab9e17d9edc8385\", element=\"66ee4b35-2ae9-4963-aad8-851a032bff27\")>,\n",
       " <selenium.webdriver.remote.webelement.WebElement (session=\"b3b67a8c48a3caf26ab9e17d9edc8385\", element=\"8f2277ec-5d46-40fd-ad1d-34c13cbbcf95\")>,\n",
       " <selenium.webdriver.remote.webelement.WebElement (session=\"b3b67a8c48a3caf26ab9e17d9edc8385\", element=\"57ce4097-43bc-4e97-890c-0e8cce2f665d\")>,\n",
       " <selenium.webdriver.remote.webelement.WebElement (session=\"b3b67a8c48a3caf26ab9e17d9edc8385\", element=\"49b78123-e313-437e-aa31-933d2b1302ff\")>,\n",
       " <selenium.webdriver.remote.webelement.WebElement (session=\"b3b67a8c48a3caf26ab9e17d9edc8385\", element=\"ec1acaf2-d13f-41d7-bb19-9dccdd01b934\")>,\n",
       " <selenium.webdriver.remote.webelement.WebElement (session=\"b3b67a8c48a3caf26ab9e17d9edc8385\", element=\"16668c58-7381-4906-b0ea-78b074b00ffe\")>,\n",
       " <selenium.webdriver.remote.webelement.WebElement (session=\"b3b67a8c48a3caf26ab9e17d9edc8385\", element=\"4ed08e50-6396-43f8-8c81-23eaf5b622bb\")>,\n",
       " <selenium.webdriver.remote.webelement.WebElement (session=\"b3b67a8c48a3caf26ab9e17d9edc8385\", element=\"f72a6807-d138-466d-b52e-bb0502839ef2\")>,\n",
       " <selenium.webdriver.remote.webelement.WebElement (session=\"b3b67a8c48a3caf26ab9e17d9edc8385\", element=\"0739544c-2543-4477-a088-fecdacad485a\")>,\n",
       " <selenium.webdriver.remote.webelement.WebElement (session=\"b3b67a8c48a3caf26ab9e17d9edc8385\", element=\"326f5e76-8a52-4d3d-9f39-52479d8bf385\")>,\n",
       " <selenium.webdriver.remote.webelement.WebElement (session=\"b3b67a8c48a3caf26ab9e17d9edc8385\", element=\"9cb412fd-24dc-46a5-bd88-990130e1f8b3\")>,\n",
       " <selenium.webdriver.remote.webelement.WebElement (session=\"b3b67a8c48a3caf26ab9e17d9edc8385\", element=\"8b7fdf57-48ab-4ccb-bdff-7f1989d2cd5d\")>,\n",
       " <selenium.webdriver.remote.webelement.WebElement (session=\"b3b67a8c48a3caf26ab9e17d9edc8385\", element=\"c9b96ea2-d45f-481e-9a09-31051108437d\")>,\n",
       " <selenium.webdriver.remote.webelement.WebElement (session=\"b3b67a8c48a3caf26ab9e17d9edc8385\", element=\"39455752-afc7-4961-b1c4-ffc86dc15435\")>,\n",
       " <selenium.webdriver.remote.webelement.WebElement (session=\"b3b67a8c48a3caf26ab9e17d9edc8385\", element=\"362bc95e-ddb6-48b4-925d-4f47511b4ce8\")>,\n",
       " <selenium.webdriver.remote.webelement.WebElement (session=\"b3b67a8c48a3caf26ab9e17d9edc8385\", element=\"96a6e4d5-e287-456a-b20d-1fb9fc2ef6d1\")>,\n",
       " <selenium.webdriver.remote.webelement.WebElement (session=\"b3b67a8c48a3caf26ab9e17d9edc8385\", element=\"14f402f3-5ac8-4302-8fac-6ec82f215338\")>,\n",
       " <selenium.webdriver.remote.webelement.WebElement (session=\"b3b67a8c48a3caf26ab9e17d9edc8385\", element=\"fdf69ced-0708-411c-b529-72452d3e5572\")>,\n",
       " <selenium.webdriver.remote.webelement.WebElement (session=\"b3b67a8c48a3caf26ab9e17d9edc8385\", element=\"8f708529-9ef9-49b8-9004-c06a93f97b8c\")>,\n",
       " <selenium.webdriver.remote.webelement.WebElement (session=\"b3b67a8c48a3caf26ab9e17d9edc8385\", element=\"259e4f42-ee86-4319-9234-e34fbb37a8d6\")>,\n",
       " <selenium.webdriver.remote.webelement.WebElement (session=\"b3b67a8c48a3caf26ab9e17d9edc8385\", element=\"adb88aef-7829-4f6e-ab0e-8a162c6714f0\")>,\n",
       " <selenium.webdriver.remote.webelement.WebElement (session=\"b3b67a8c48a3caf26ab9e17d9edc8385\", element=\"54f51146-d895-426f-91fb-2ca489309786\")>,\n",
       " <selenium.webdriver.remote.webelement.WebElement (session=\"b3b67a8c48a3caf26ab9e17d9edc8385\", element=\"176e1a5e-0d28-4086-a973-7a2f18c3bd45\")>,\n",
       " <selenium.webdriver.remote.webelement.WebElement (session=\"b3b67a8c48a3caf26ab9e17d9edc8385\", element=\"657f60f5-5588-4232-9eba-6d4c15e223c8\")>,\n",
       " <selenium.webdriver.remote.webelement.WebElement (session=\"b3b67a8c48a3caf26ab9e17d9edc8385\", element=\"5e178e63-de38-4433-9ade-aa81b2cf8a9a\")>,\n",
       " <selenium.webdriver.remote.webelement.WebElement (session=\"b3b67a8c48a3caf26ab9e17d9edc8385\", element=\"86c72380-6f2d-4ba7-ac19-235adef88f1c\")>,\n",
       " <selenium.webdriver.remote.webelement.WebElement (session=\"b3b67a8c48a3caf26ab9e17d9edc8385\", element=\"0f8aa922-3bcc-4444-9002-1b5da023043a\")>,\n",
       " <selenium.webdriver.remote.webelement.WebElement (session=\"b3b67a8c48a3caf26ab9e17d9edc8385\", element=\"14f3318a-3f94-44eb-b8b3-4d653a499f25\")>]"
      ]
     },
     "execution_count": 187,
     "metadata": {},
     "output_type": "execute_result"
    }
   ],
   "source": [
    "#let's extract all the tags having the product discount\n",
    "discount_tags=driver.find_elements_by_class_name(\"_3Ay6Sb\")\n",
    "discount_tags"
   ]
  },
  {
   "cell_type": "markdown",
   "id": "26596db4",
   "metadata": {},
   "source": [
    "Now we have all the tags from next page in which there are product discount.\n",
    "\n",
    "Now we will extract the text from these these tags one by one by looping over these tags."
   ]
  },
  {
   "cell_type": "code",
   "execution_count": 188,
   "id": "25e59b45",
   "metadata": {},
   "outputs": [
    {
     "data": {
      "text/plain": [
       "['60% off',\n",
       " '71% off',\n",
       " '63% off',\n",
       " '80% off',\n",
       " '67% off',\n",
       " '65% off',\n",
       " '63% off',\n",
       " '56% off',\n",
       " '77% off',\n",
       " '60% off',\n",
       " '51% off',\n",
       " '50% off',\n",
       " '53% off',\n",
       " '45% off',\n",
       " '70% off',\n",
       " '67% off',\n",
       " '54% off',\n",
       " '67% off',\n",
       " '79% off',\n",
       " '57% off',\n",
       " '75% off',\n",
       " '34% off',\n",
       " '63% off',\n",
       " '57% off',\n",
       " '73% off',\n",
       " '56% off',\n",
       " '57% off',\n",
       " '82% off',\n",
       " '62% off',\n",
       " '77% off',\n",
       " '45% off',\n",
       " '80% off',\n",
       " '60% off',\n",
       " '60% off',\n",
       " '57% off',\n",
       " '35% off',\n",
       " '80% off',\n",
       " '80% off',\n",
       " '69% off',\n",
       " '55% off',\n",
       " '82% off',\n",
       " '63% off',\n",
       " '35% off',\n",
       " '79% off',\n",
       " '80% off']"
      ]
     },
     "execution_count": 188,
     "metadata": {},
     "output_type": "execute_result"
    }
   ],
   "source": [
    "#now the text of the discount is inside the tags extracted above\n",
    "#so we will run over a loop to iterate over the tags extracted above.\n",
    "for i in discount_tags:\n",
    "    discount=i.text\n",
    "    product_discount.append(discount)\n",
    "product_discount"
   ]
  },
  {
   "cell_type": "code",
   "execution_count": 189,
   "id": "a0c3e556",
   "metadata": {},
   "outputs": [],
   "source": [
    "#specifying the url of the webpage to be scraped for the third page\n",
    "#specifying the url of the webpage to be scraped\n",
    "url='https://www.flipkart.com/search?q=sneakers&otracker=search&otracker1=search&marketplace=FLIPKART&as-show=on&as=off&page=3'\n",
    "driver.get(url)"
   ]
  },
  {
   "cell_type": "markdown",
   "id": "97e45e62",
   "metadata": {},
   "source": [
    "So now let's again make 4 empty list. In these lists the data will be stored while scraping.we have created 4 empty list for the features which we have to extract.\n",
    "\n",
    "1.Brand. 2.product_description 3.price 4.discount"
   ]
  },
  {
   "cell_type": "code",
   "execution_count": 190,
   "id": "bd539c0b",
   "metadata": {},
   "outputs": [],
   "source": [
    "product_Brand=[]\n",
    "product_description=[]\n",
    "product_price=[]\n",
    "product_discount=[]"
   ]
  },
  {
   "cell_type": "code",
   "execution_count": 191,
   "id": "f1846eb4",
   "metadata": {},
   "outputs": [
    {
     "data": {
      "text/plain": [
       "[<selenium.webdriver.remote.webelement.WebElement (session=\"b3b67a8c48a3caf26ab9e17d9edc8385\", element=\"50aa8cfa-5344-45d5-9a03-63478a419b07\")>,\n",
       " <selenium.webdriver.remote.webelement.WebElement (session=\"b3b67a8c48a3caf26ab9e17d9edc8385\", element=\"3eb02e2b-8731-4449-92e0-9ca733149ee4\")>,\n",
       " <selenium.webdriver.remote.webelement.WebElement (session=\"b3b67a8c48a3caf26ab9e17d9edc8385\", element=\"c3a25cd9-a049-41be-a34d-a00be7dd6226\")>,\n",
       " <selenium.webdriver.remote.webelement.WebElement (session=\"b3b67a8c48a3caf26ab9e17d9edc8385\", element=\"8c1502b4-e150-4c1e-a910-556fa3e553b2\")>,\n",
       " <selenium.webdriver.remote.webelement.WebElement (session=\"b3b67a8c48a3caf26ab9e17d9edc8385\", element=\"6fb6f59a-23ca-4b95-b4bb-eeb078598a41\")>,\n",
       " <selenium.webdriver.remote.webelement.WebElement (session=\"b3b67a8c48a3caf26ab9e17d9edc8385\", element=\"e10fb745-8f8e-480d-a1e7-97e25b828f79\")>,\n",
       " <selenium.webdriver.remote.webelement.WebElement (session=\"b3b67a8c48a3caf26ab9e17d9edc8385\", element=\"2180b41e-1739-455e-b30a-592a1ce0d9bc\")>,\n",
       " <selenium.webdriver.remote.webelement.WebElement (session=\"b3b67a8c48a3caf26ab9e17d9edc8385\", element=\"13402e0c-265f-46e3-915a-c1765c6914e1\")>,\n",
       " <selenium.webdriver.remote.webelement.WebElement (session=\"b3b67a8c48a3caf26ab9e17d9edc8385\", element=\"026ddaab-aa33-4dca-8dd7-e24a488e57e0\")>,\n",
       " <selenium.webdriver.remote.webelement.WebElement (session=\"b3b67a8c48a3caf26ab9e17d9edc8385\", element=\"1f0aed4d-a609-48dd-b59a-774a93448c9e\")>,\n",
       " <selenium.webdriver.remote.webelement.WebElement (session=\"b3b67a8c48a3caf26ab9e17d9edc8385\", element=\"8fbc2a94-82cb-4984-afcf-dabc4804a51a\")>,\n",
       " <selenium.webdriver.remote.webelement.WebElement (session=\"b3b67a8c48a3caf26ab9e17d9edc8385\", element=\"fecb08dc-3bfb-4f4b-9993-e83cd94bd338\")>,\n",
       " <selenium.webdriver.remote.webelement.WebElement (session=\"b3b67a8c48a3caf26ab9e17d9edc8385\", element=\"b23a2ea0-4a82-47ab-87c1-f6cf4a736453\")>,\n",
       " <selenium.webdriver.remote.webelement.WebElement (session=\"b3b67a8c48a3caf26ab9e17d9edc8385\", element=\"b1c241b7-ba5f-40a1-b327-87678c913d4f\")>,\n",
       " <selenium.webdriver.remote.webelement.WebElement (session=\"b3b67a8c48a3caf26ab9e17d9edc8385\", element=\"aef3deb2-8f92-401f-9a55-4a1b1edf3944\")>,\n",
       " <selenium.webdriver.remote.webelement.WebElement (session=\"b3b67a8c48a3caf26ab9e17d9edc8385\", element=\"d3d11fa8-8fe0-4ecf-8f87-04dbe9d4c2f4\")>,\n",
       " <selenium.webdriver.remote.webelement.WebElement (session=\"b3b67a8c48a3caf26ab9e17d9edc8385\", element=\"a3f3d095-8162-4c25-8b11-3a9caf248e81\")>,\n",
       " <selenium.webdriver.remote.webelement.WebElement (session=\"b3b67a8c48a3caf26ab9e17d9edc8385\", element=\"ceb42180-e053-4276-b18b-5c7d043df946\")>,\n",
       " <selenium.webdriver.remote.webelement.WebElement (session=\"b3b67a8c48a3caf26ab9e17d9edc8385\", element=\"59cfaa16-9858-4ade-945e-9ebdcf7b3d35\")>,\n",
       " <selenium.webdriver.remote.webelement.WebElement (session=\"b3b67a8c48a3caf26ab9e17d9edc8385\", element=\"94e315d8-77c6-4024-8548-2b8ce26be63c\")>,\n",
       " <selenium.webdriver.remote.webelement.WebElement (session=\"b3b67a8c48a3caf26ab9e17d9edc8385\", element=\"bad22f68-e031-4b97-8169-ae91db8c8a2a\")>]"
      ]
     },
     "execution_count": 191,
     "metadata": {},
     "output_type": "execute_result"
    }
   ],
   "source": [
    "#let's extract all the tags from the next page having the product brand\n",
    "brand_tags=driver.find_elements_by_class_name('_2WkVRV')\n",
    "brand_tags[0:21]"
   ]
  },
  {
   "cell_type": "markdown",
   "id": "3437f7fb",
   "metadata": {},
   "source": [
    "Now we have all the tags from next page in which there are Brand names.\n",
    "\n",
    "Now we will extract the text from these these tags one by one by looping over these tags."
   ]
  },
  {
   "cell_type": "code",
   "execution_count": 192,
   "id": "2f36c99c",
   "metadata": {},
   "outputs": [
    {
     "data": {
      "text/plain": [
       "['RapidBox',\n",
       " 'Chevit',\n",
       " 'Chevit',\n",
       " 'BRUTON',\n",
       " 'EZDEZARIO',\n",
       " 'AMICO',\n",
       " 'FEWROK',\n",
       " 'BIRDE',\n",
       " 'Chevit',\n",
       " 'HOTSTYLE',\n",
       " 'FEWEYU',\n",
       " 'Extoes',\n",
       " 'Layasa',\n",
       " 'Chevit',\n",
       " 'aadi',\n",
       " 'BIRDE',\n",
       " 'bluemaker',\n",
       " 'Chevit',\n",
       " 'OUTALYFE',\n",
       " 'Vigglo Fashion',\n",
       " 'ASIAN']"
      ]
     },
     "execution_count": 192,
     "metadata": {},
     "output_type": "execute_result"
    }
   ],
   "source": [
    "#now the text of the brand name is inside the tags extracted above\n",
    "#so we will run over a loop to iterate over the tags extracted above.\n",
    "for i in brand_tags:\n",
    "    title=i.text\n",
    "    product_Brand.append(title)\n",
    "product_Brand[0:21]"
   ]
  },
  {
   "cell_type": "markdown",
   "id": "bd61c567",
   "metadata": {},
   "source": [
    "first we will extract the all the tags from next page where we will have product Description."
   ]
  },
  {
   "cell_type": "code",
   "execution_count": 193,
   "id": "f4bbd421",
   "metadata": {},
   "outputs": [
    {
     "data": {
      "text/plain": [
       "[<selenium.webdriver.remote.webelement.WebElement (session=\"b3b67a8c48a3caf26ab9e17d9edc8385\", element=\"4b225ce1-1763-4039-bc46-2b0367a587a8\")>,\n",
       " <selenium.webdriver.remote.webelement.WebElement (session=\"b3b67a8c48a3caf26ab9e17d9edc8385\", element=\"b23cb249-b76c-47fe-84ae-c81b3db7edd1\")>,\n",
       " <selenium.webdriver.remote.webelement.WebElement (session=\"b3b67a8c48a3caf26ab9e17d9edc8385\", element=\"169044d7-8fb5-4c30-8506-9460fb9ff287\")>,\n",
       " <selenium.webdriver.remote.webelement.WebElement (session=\"b3b67a8c48a3caf26ab9e17d9edc8385\", element=\"6c4d9f0b-814e-4bec-b396-1b981c1412af\")>,\n",
       " <selenium.webdriver.remote.webelement.WebElement (session=\"b3b67a8c48a3caf26ab9e17d9edc8385\", element=\"03f5c493-a039-47e9-a8c3-b2f3c74ac7df\")>,\n",
       " <selenium.webdriver.remote.webelement.WebElement (session=\"b3b67a8c48a3caf26ab9e17d9edc8385\", element=\"c4e590f2-32c9-4453-b0ec-e838ea869eb8\")>,\n",
       " <selenium.webdriver.remote.webelement.WebElement (session=\"b3b67a8c48a3caf26ab9e17d9edc8385\", element=\"26741671-0f1f-4cbd-83da-aee65132b3b0\")>,\n",
       " <selenium.webdriver.remote.webelement.WebElement (session=\"b3b67a8c48a3caf26ab9e17d9edc8385\", element=\"c6f5ab7e-b188-40b8-a459-a9836cdaa13f\")>,\n",
       " <selenium.webdriver.remote.webelement.WebElement (session=\"b3b67a8c48a3caf26ab9e17d9edc8385\", element=\"ffa7f9b1-39e9-4892-a9df-705ee43b9291\")>,\n",
       " <selenium.webdriver.remote.webelement.WebElement (session=\"b3b67a8c48a3caf26ab9e17d9edc8385\", element=\"578d599a-d6d5-4e5d-b3dd-549e990b358c\")>,\n",
       " <selenium.webdriver.remote.webelement.WebElement (session=\"b3b67a8c48a3caf26ab9e17d9edc8385\", element=\"f9f52c6a-0c82-4bd7-b7e8-a41fca9224c3\")>,\n",
       " <selenium.webdriver.remote.webelement.WebElement (session=\"b3b67a8c48a3caf26ab9e17d9edc8385\", element=\"7b75c26c-c1ff-4878-b353-4e6f319ab504\")>,\n",
       " <selenium.webdriver.remote.webelement.WebElement (session=\"b3b67a8c48a3caf26ab9e17d9edc8385\", element=\"59335711-69a0-4da9-97a0-824db8e871ef\")>,\n",
       " <selenium.webdriver.remote.webelement.WebElement (session=\"b3b67a8c48a3caf26ab9e17d9edc8385\", element=\"b2610852-d730-4c91-bb69-b61be17f49a3\")>,\n",
       " <selenium.webdriver.remote.webelement.WebElement (session=\"b3b67a8c48a3caf26ab9e17d9edc8385\", element=\"e49feeb0-149e-4a80-8a8e-738da4239dd5\")>,\n",
       " <selenium.webdriver.remote.webelement.WebElement (session=\"b3b67a8c48a3caf26ab9e17d9edc8385\", element=\"ff5cd869-c987-4d6f-8371-a8739898bd28\")>,\n",
       " <selenium.webdriver.remote.webelement.WebElement (session=\"b3b67a8c48a3caf26ab9e17d9edc8385\", element=\"a1893801-3c77-4a77-963d-caae92d9efab\")>,\n",
       " <selenium.webdriver.remote.webelement.WebElement (session=\"b3b67a8c48a3caf26ab9e17d9edc8385\", element=\"8714480f-f866-4d5e-aee9-773d911ad946\")>,\n",
       " <selenium.webdriver.remote.webelement.WebElement (session=\"b3b67a8c48a3caf26ab9e17d9edc8385\", element=\"c444bb22-4835-44ba-93ab-38bb1f6b6c67\")>,\n",
       " <selenium.webdriver.remote.webelement.WebElement (session=\"b3b67a8c48a3caf26ab9e17d9edc8385\", element=\"c47b86c1-9658-4fc5-a701-1e1f5fba361c\")>,\n",
       " <selenium.webdriver.remote.webelement.WebElement (session=\"b3b67a8c48a3caf26ab9e17d9edc8385\", element=\"1d2ce43e-37ec-40d1-aa36-9b1fe476aefe\")>]"
      ]
     },
     "execution_count": 193,
     "metadata": {},
     "output_type": "execute_result"
    }
   ],
   "source": [
    "#let's extract all the tags having the product brand\n",
    "description_tags=driver.find_elements_by_class_name(\"IRpwTa\")\n",
    "description_tags[0:21]"
   ]
  },
  {
   "cell_type": "markdown",
   "id": "7845397f",
   "metadata": {},
   "source": [
    "Now we have all the tags from next page in which there are product description.\n",
    "\n",
    "Now we will extract the text from these these tags one by one by looping over these tags."
   ]
  },
  {
   "cell_type": "code",
   "execution_count": 194,
   "id": "e8427471",
   "metadata": {},
   "outputs": [
    {
     "data": {
      "text/plain": [
       "['Sneakers For Men',\n",
       " 'Perfect & Affordable Combo Pack of 02 Pairs Sneakers Ou...',\n",
       " 'Sneakers For Men',\n",
       " 'Modern Trendy Sneakers Shoes Sneakers For Men',\n",
       " 'Shoes in Black Color Party wear/Outdoor/Casual Shoes Fo...',\n",
       " 'Sneakers For Men',\n",
       " 'Premium quality Sneakers For Men',\n",
       " 'Birde High Top Casual Sneakers For Men Sneakers For Men',\n",
       " '494 Perfect Sports Shoes for Running Training Hikking &...',\n",
       " 'CR-1 Sneakers For Men',\n",
       " \"Original Luxury Branded Fashionable Men's Casual Walkin...\",\n",
       " 'Lighweight, slip-on and lace-up Sneakers For Men',\n",
       " 'Sneakers For Men',\n",
       " 'Super 445 Fashion Sneakers For Men',\n",
       " 'Sneakers For Men',\n",
       " 'Stylish Comfortable Lightweight, Breathable Walking Sho...',\n",
       " 'casual for men Sneakers For Men',\n",
       " 'Combo Pack of 3 Casual Shoes (Sneakers Shoes) Sneakers ...',\n",
       " 'Stylish Party Wear Fashionable Lightweight New arrival ...',\n",
       " 'Sneaker shoes for men Sneakers For Men',\n",
       " 'Skypy-31 Walking Shoes,Training Shoes,Sneakers,Loafers,...']"
      ]
     },
     "execution_count": 194,
     "metadata": {},
     "output_type": "execute_result"
    }
   ],
   "source": [
    "#now the text of the description is inside the tags extracted above\n",
    "#so we will run over a loop to iterate over the tags extracted above.\n",
    "for i in description_tags:\n",
    "    brands=i.text\n",
    "    product_description.append(brands)\n",
    "product_description[0:21]"
   ]
  },
  {
   "cell_type": "markdown",
   "id": "8aa78d1e",
   "metadata": {},
   "source": [
    "first we will extract the all the tags from next page where we will have product price."
   ]
  },
  {
   "cell_type": "code",
   "execution_count": 195,
   "id": "2b1e18eb",
   "metadata": {},
   "outputs": [
    {
     "data": {
      "text/plain": [
       "[<selenium.webdriver.remote.webelement.WebElement (session=\"b3b67a8c48a3caf26ab9e17d9edc8385\", element=\"e0c73f28-71da-4320-b4a6-96187a7f8f39\")>,\n",
       " <selenium.webdriver.remote.webelement.WebElement (session=\"b3b67a8c48a3caf26ab9e17d9edc8385\", element=\"278017a3-28e5-4a8a-ae97-89da641fed47\")>,\n",
       " <selenium.webdriver.remote.webelement.WebElement (session=\"b3b67a8c48a3caf26ab9e17d9edc8385\", element=\"c04e5244-6347-4bb0-b260-e4d94c69308e\")>,\n",
       " <selenium.webdriver.remote.webelement.WebElement (session=\"b3b67a8c48a3caf26ab9e17d9edc8385\", element=\"50778909-338a-4b58-b4e1-31619c588d8e\")>,\n",
       " <selenium.webdriver.remote.webelement.WebElement (session=\"b3b67a8c48a3caf26ab9e17d9edc8385\", element=\"ea591737-7ea1-4164-9ba5-a97cd430f190\")>,\n",
       " <selenium.webdriver.remote.webelement.WebElement (session=\"b3b67a8c48a3caf26ab9e17d9edc8385\", element=\"8f085476-4b93-4a3f-bbc3-472ee3c3d949\")>,\n",
       " <selenium.webdriver.remote.webelement.WebElement (session=\"b3b67a8c48a3caf26ab9e17d9edc8385\", element=\"5ea1cf65-9e75-41fa-b1c2-10e363a08ee1\")>,\n",
       " <selenium.webdriver.remote.webelement.WebElement (session=\"b3b67a8c48a3caf26ab9e17d9edc8385\", element=\"21944912-642f-485a-b98f-f7edfe986930\")>,\n",
       " <selenium.webdriver.remote.webelement.WebElement (session=\"b3b67a8c48a3caf26ab9e17d9edc8385\", element=\"79373b9a-cc40-46d4-b307-f0a8cecc2a06\")>,\n",
       " <selenium.webdriver.remote.webelement.WebElement (session=\"b3b67a8c48a3caf26ab9e17d9edc8385\", element=\"3f4f5381-152d-41e9-b1c0-82d03b453884\")>]"
      ]
     },
     "execution_count": 195,
     "metadata": {},
     "output_type": "execute_result"
    }
   ],
   "source": [
    "#let's extract all the tags having the product brand\n",
    "price_tags=driver.find_elements_by_class_name(\"_30jeq3\")\n",
    "price_tags[0:10]"
   ]
  },
  {
   "cell_type": "markdown",
   "id": "f2e2b359",
   "metadata": {},
   "source": [
    "Now we have all the tags from next page in which there are product price.\n",
    "\n",
    "Now we will extract the text from these these tags one by one by looping over these tags."
   ]
  },
  {
   "cell_type": "code",
   "execution_count": 197,
   "id": "0cf1751a",
   "metadata": {},
   "outputs": [
    {
     "data": {
      "text/plain": [
       "['₹670',\n",
       " '₹549',\n",
       " '₹249',\n",
       " '₹249',\n",
       " '₹349',\n",
       " '₹499',\n",
       " '₹369',\n",
       " '₹648',\n",
       " '₹208',\n",
       " '₹179']"
      ]
     },
     "execution_count": 197,
     "metadata": {},
     "output_type": "execute_result"
    }
   ],
   "source": [
    "#now the text of the price is inside the tags extracted above\n",
    "#so we will run over a loop to iterate over the tags extracted above.\n",
    "for i in price_tags:\n",
    "    prices=i.text\n",
    "    product_price.append(prices)\n",
    "product_price[0:10]"
   ]
  },
  {
   "cell_type": "markdown",
   "id": "2d914159",
   "metadata": {},
   "source": [
    "first we will extract the all the tags from next page where we will have product discount."
   ]
  },
  {
   "cell_type": "code",
   "execution_count": 198,
   "id": "12e04b68",
   "metadata": {},
   "outputs": [
    {
     "data": {
      "text/plain": [
       "[<selenium.webdriver.remote.webelement.WebElement (session=\"b3b67a8c48a3caf26ab9e17d9edc8385\", element=\"3888b09e-3d71-4415-95ce-eeb5c9df608c\")>,\n",
       " <selenium.webdriver.remote.webelement.WebElement (session=\"b3b67a8c48a3caf26ab9e17d9edc8385\", element=\"df1d7a35-b072-43cd-b95a-e513d28e6f57\")>,\n",
       " <selenium.webdriver.remote.webelement.WebElement (session=\"b3b67a8c48a3caf26ab9e17d9edc8385\", element=\"1044b990-4e1b-4d89-b0af-cf278194d8f9\")>,\n",
       " <selenium.webdriver.remote.webelement.WebElement (session=\"b3b67a8c48a3caf26ab9e17d9edc8385\", element=\"f7c853a1-2927-4814-90ae-0e3dca49042b\")>,\n",
       " <selenium.webdriver.remote.webelement.WebElement (session=\"b3b67a8c48a3caf26ab9e17d9edc8385\", element=\"503e3f5c-b1d2-46f7-ba58-efaf4222ee06\")>,\n",
       " <selenium.webdriver.remote.webelement.WebElement (session=\"b3b67a8c48a3caf26ab9e17d9edc8385\", element=\"3b8e72a5-bf59-4769-b029-f75e0141c5d5\")>,\n",
       " <selenium.webdriver.remote.webelement.WebElement (session=\"b3b67a8c48a3caf26ab9e17d9edc8385\", element=\"b4378c9a-adf3-4d09-bbe5-8f4c0711b98a\")>,\n",
       " <selenium.webdriver.remote.webelement.WebElement (session=\"b3b67a8c48a3caf26ab9e17d9edc8385\", element=\"58505930-72c7-44e5-a7bb-6bbc2375237a\")>,\n",
       " <selenium.webdriver.remote.webelement.WebElement (session=\"b3b67a8c48a3caf26ab9e17d9edc8385\", element=\"dc500a71-35b4-4381-8d90-f8136662365b\")>,\n",
       " <selenium.webdriver.remote.webelement.WebElement (session=\"b3b67a8c48a3caf26ab9e17d9edc8385\", element=\"cf16b030-3cf2-47db-b102-719141431406\")>]"
      ]
     },
     "execution_count": 198,
     "metadata": {},
     "output_type": "execute_result"
    }
   ],
   "source": [
    "#let's extract all the tags having the product discount\n",
    "discount_tags=driver.find_elements_by_class_name(\"_3Ay6Sb\")\n",
    "discount_tags[0:10]"
   ]
  },
  {
   "cell_type": "markdown",
   "id": "3584c702",
   "metadata": {},
   "source": [
    "Now we have all the tags from next page in which there are product discount.\n",
    "\n",
    "Now we will extract the text from these these tags one by one by looping over these tags."
   ]
  },
  {
   "cell_type": "code",
   "execution_count": 199,
   "id": "86f199f9",
   "metadata": {},
   "outputs": [
    {
     "data": {
      "text/plain": [
       "['32% off',\n",
       " '69% off',\n",
       " '68% off',\n",
       " '80% off',\n",
       " '65% off',\n",
       " '50% off',\n",
       " '63% off',\n",
       " '56% off',\n",
       " '79% off',\n",
       " '64% off']"
      ]
     },
     "execution_count": 199,
     "metadata": {},
     "output_type": "execute_result"
    }
   ],
   "source": [
    "#now the text of the discount is inside the tags extracted above\n",
    "#so we will run over a loop to iterate over the tags extracted above.\n",
    "for i in discount_tags:\n",
    "    discount=i.text\n",
    "    product_discount.append(discount)\n",
    "product_discount[0:10]"
   ]
  },
  {
   "cell_type": "raw",
   "id": "07a38753",
   "metadata": {},
   "source": [
    "Q7: Go to the link - https://www.myntra.com/shoes\n",
    "Set Price filter to “Rs. 7149 to Rs. 14099 ” , Color filter to “Black”, as shown inthe below image.\n",
    "And then scrape First 100 shoes data you get. The data should include “Brand” of the shoes , Short Shoe description, price of the shoe as shown in the below image."
   ]
  },
  {
   "cell_type": "code",
   "execution_count": 202,
   "id": "4dd48508",
   "metadata": {},
   "outputs": [],
   "source": [
    "#specifying the url of the webpage to be scraped\n",
    "url='https://www.myntra.com/shoes?f=Color%3ABlack_36454f&rf=Price%3A7149.0_14099.0_7149.0%20TO%2014099.0%2C7179.0_14119.0_7179.0%20TO%2014119.0'\n",
    "driver.get(url)"
   ]
  },
  {
   "cell_type": "markdown",
   "id": "59327e51",
   "metadata": {},
   "source": [
    "so now let's make  empty list. In these lists the data will be stored while scraping.we have created 4 empty list for the features which we have to extract.\n",
    "\n",
    "1.shoe_brand=[]\n",
    "2.shoe_description=[]\n",
    "3.shoe_price=[]"
   ]
  },
  {
   "cell_type": "code",
   "execution_count": 205,
   "id": "fff977dd",
   "metadata": {},
   "outputs": [],
   "source": [
    "shoe_brand=[]\n",
    "shoe_description=[]\n",
    "shoe_price=[]"
   ]
  },
  {
   "cell_type": "markdown",
   "id": "6cdba9e7",
   "metadata": {},
   "source": [
    "first we will extract the all the tags where we will have shoe brand name."
   ]
  },
  {
   "cell_type": "code",
   "execution_count": 207,
   "id": "69405e69",
   "metadata": {},
   "outputs": [
    {
     "data": {
      "text/plain": [
       "[<selenium.webdriver.remote.webelement.WebElement (session=\"b3b67a8c48a3caf26ab9e17d9edc8385\", element=\"8c56fc1e-ad06-42f3-98d1-089f27b23451\")>,\n",
       " <selenium.webdriver.remote.webelement.WebElement (session=\"b3b67a8c48a3caf26ab9e17d9edc8385\", element=\"d62efa76-1727-421f-a4e6-334b35a7015b\")>,\n",
       " <selenium.webdriver.remote.webelement.WebElement (session=\"b3b67a8c48a3caf26ab9e17d9edc8385\", element=\"7e296347-4f3d-464a-acc2-209d92d979e9\")>,\n",
       " <selenium.webdriver.remote.webelement.WebElement (session=\"b3b67a8c48a3caf26ab9e17d9edc8385\", element=\"caa2cdd0-38ce-401c-a786-8fc90b4dece0\")>,\n",
       " <selenium.webdriver.remote.webelement.WebElement (session=\"b3b67a8c48a3caf26ab9e17d9edc8385\", element=\"7bed62c2-1e4f-4877-9b36-3699fb4ad51b\")>,\n",
       " <selenium.webdriver.remote.webelement.WebElement (session=\"b3b67a8c48a3caf26ab9e17d9edc8385\", element=\"b71bfb04-6871-48e3-a1c0-d7b0700ab741\")>,\n",
       " <selenium.webdriver.remote.webelement.WebElement (session=\"b3b67a8c48a3caf26ab9e17d9edc8385\", element=\"bc04b758-ee28-47e8-a13a-504ccd5f1163\")>,\n",
       " <selenium.webdriver.remote.webelement.WebElement (session=\"b3b67a8c48a3caf26ab9e17d9edc8385\", element=\"48126951-1237-425c-8bce-70b18eea71e2\")>,\n",
       " <selenium.webdriver.remote.webelement.WebElement (session=\"b3b67a8c48a3caf26ab9e17d9edc8385\", element=\"cc8a4442-6590-4da6-9ba3-e16c7cc00aaf\")>,\n",
       " <selenium.webdriver.remote.webelement.WebElement (session=\"b3b67a8c48a3caf26ab9e17d9edc8385\", element=\"e1f3810f-06c8-4d31-a94c-66455a0ded90\")>,\n",
       " <selenium.webdriver.remote.webelement.WebElement (session=\"b3b67a8c48a3caf26ab9e17d9edc8385\", element=\"c76b37a9-d114-4d57-b41e-8316ab682086\")>,\n",
       " <selenium.webdriver.remote.webelement.WebElement (session=\"b3b67a8c48a3caf26ab9e17d9edc8385\", element=\"aeb5f88b-75bb-4a89-b63d-e75ffe83b4e1\")>,\n",
       " <selenium.webdriver.remote.webelement.WebElement (session=\"b3b67a8c48a3caf26ab9e17d9edc8385\", element=\"dfea94cc-51b6-48a5-aea3-0362187869f9\")>,\n",
       " <selenium.webdriver.remote.webelement.WebElement (session=\"b3b67a8c48a3caf26ab9e17d9edc8385\", element=\"5e8e78ea-d8eb-41e2-90e6-bab6dc252e29\")>,\n",
       " <selenium.webdriver.remote.webelement.WebElement (session=\"b3b67a8c48a3caf26ab9e17d9edc8385\", element=\"5d11e8d1-c442-4faa-8206-316c361f38f2\")>,\n",
       " <selenium.webdriver.remote.webelement.WebElement (session=\"b3b67a8c48a3caf26ab9e17d9edc8385\", element=\"bdc020f9-65ed-4982-8a50-b3aac683e80d\")>,\n",
       " <selenium.webdriver.remote.webelement.WebElement (session=\"b3b67a8c48a3caf26ab9e17d9edc8385\", element=\"c3bab9ac-5395-4af3-9c74-685cdefbde33\")>,\n",
       " <selenium.webdriver.remote.webelement.WebElement (session=\"b3b67a8c48a3caf26ab9e17d9edc8385\", element=\"88e136bf-fcd8-4ee5-b187-e8583c073315\")>,\n",
       " <selenium.webdriver.remote.webelement.WebElement (session=\"b3b67a8c48a3caf26ab9e17d9edc8385\", element=\"c3a3a1ab-88bd-47fd-94e4-f2ecdd66ced2\")>,\n",
       " <selenium.webdriver.remote.webelement.WebElement (session=\"b3b67a8c48a3caf26ab9e17d9edc8385\", element=\"ca9f14b3-4727-4f14-a4a5-835fd4ffd3d8\")>,\n",
       " <selenium.webdriver.remote.webelement.WebElement (session=\"b3b67a8c48a3caf26ab9e17d9edc8385\", element=\"6937f9da-36cf-48a8-975b-daeaf8a5c61d\")>,\n",
       " <selenium.webdriver.remote.webelement.WebElement (session=\"b3b67a8c48a3caf26ab9e17d9edc8385\", element=\"e04b46ed-51a2-4143-a16f-106b3ef01330\")>,\n",
       " <selenium.webdriver.remote.webelement.WebElement (session=\"b3b67a8c48a3caf26ab9e17d9edc8385\", element=\"7e54502d-2cb8-4a6b-bde2-0dc8c7ac416c\")>,\n",
       " <selenium.webdriver.remote.webelement.WebElement (session=\"b3b67a8c48a3caf26ab9e17d9edc8385\", element=\"d5e7598f-bc2d-4d81-9f91-56c6686e2657\")>,\n",
       " <selenium.webdriver.remote.webelement.WebElement (session=\"b3b67a8c48a3caf26ab9e17d9edc8385\", element=\"4aa33138-fab3-4cd3-8f66-3becb79a0a46\")>,\n",
       " <selenium.webdriver.remote.webelement.WebElement (session=\"b3b67a8c48a3caf26ab9e17d9edc8385\", element=\"ab856d62-e824-4e24-850b-4574a9d837eb\")>,\n",
       " <selenium.webdriver.remote.webelement.WebElement (session=\"b3b67a8c48a3caf26ab9e17d9edc8385\", element=\"12ff1e64-7e4d-4f03-8f7b-fff648b3d326\")>,\n",
       " <selenium.webdriver.remote.webelement.WebElement (session=\"b3b67a8c48a3caf26ab9e17d9edc8385\", element=\"86c0526c-dedb-4ce3-b887-16ab6548c5bf\")>,\n",
       " <selenium.webdriver.remote.webelement.WebElement (session=\"b3b67a8c48a3caf26ab9e17d9edc8385\", element=\"9420d330-ac04-4fe6-9422-14e91d8c0477\")>,\n",
       " <selenium.webdriver.remote.webelement.WebElement (session=\"b3b67a8c48a3caf26ab9e17d9edc8385\", element=\"3f788274-acb0-462e-9def-4cd3202a8f0c\")>,\n",
       " <selenium.webdriver.remote.webelement.WebElement (session=\"b3b67a8c48a3caf26ab9e17d9edc8385\", element=\"f2308102-d0f2-4239-8d68-6a461d561f98\")>,\n",
       " <selenium.webdriver.remote.webelement.WebElement (session=\"b3b67a8c48a3caf26ab9e17d9edc8385\", element=\"a804a728-0aa9-4575-b7a5-8862d07c0231\")>,\n",
       " <selenium.webdriver.remote.webelement.WebElement (session=\"b3b67a8c48a3caf26ab9e17d9edc8385\", element=\"498473b7-aca0-44b9-ab6c-298c1c89f944\")>,\n",
       " <selenium.webdriver.remote.webelement.WebElement (session=\"b3b67a8c48a3caf26ab9e17d9edc8385\", element=\"a5cc92ba-f9fe-4471-9701-1bced6d58781\")>,\n",
       " <selenium.webdriver.remote.webelement.WebElement (session=\"b3b67a8c48a3caf26ab9e17d9edc8385\", element=\"72e06303-8b3d-4672-9610-d26f45d531a2\")>,\n",
       " <selenium.webdriver.remote.webelement.WebElement (session=\"b3b67a8c48a3caf26ab9e17d9edc8385\", element=\"3d7ef3ce-24a3-4591-a109-2110795dea4b\")>,\n",
       " <selenium.webdriver.remote.webelement.WebElement (session=\"b3b67a8c48a3caf26ab9e17d9edc8385\", element=\"6707382b-00d6-4aa8-b09d-1e430bd4e53e\")>,\n",
       " <selenium.webdriver.remote.webelement.WebElement (session=\"b3b67a8c48a3caf26ab9e17d9edc8385\", element=\"96529a84-af1b-4861-b8a1-dd13588d71ba\")>,\n",
       " <selenium.webdriver.remote.webelement.WebElement (session=\"b3b67a8c48a3caf26ab9e17d9edc8385\", element=\"f475fd7d-e65c-486e-b17c-811d4412d735\")>,\n",
       " <selenium.webdriver.remote.webelement.WebElement (session=\"b3b67a8c48a3caf26ab9e17d9edc8385\", element=\"31f2d404-9304-4b27-87da-581b7edbbd0e\")>,\n",
       " <selenium.webdriver.remote.webelement.WebElement (session=\"b3b67a8c48a3caf26ab9e17d9edc8385\", element=\"97ad37cb-6945-4b9e-bff1-ae1522d4bfe4\")>,\n",
       " <selenium.webdriver.remote.webelement.WebElement (session=\"b3b67a8c48a3caf26ab9e17d9edc8385\", element=\"55f19c70-ae65-45d3-96f5-cb54fa5bdc5b\")>,\n",
       " <selenium.webdriver.remote.webelement.WebElement (session=\"b3b67a8c48a3caf26ab9e17d9edc8385\", element=\"3bcaafd2-05a6-422c-b3c8-eeaf21ac2408\")>,\n",
       " <selenium.webdriver.remote.webelement.WebElement (session=\"b3b67a8c48a3caf26ab9e17d9edc8385\", element=\"47469d92-6ca7-4163-bd6d-ff02d0909c05\")>,\n",
       " <selenium.webdriver.remote.webelement.WebElement (session=\"b3b67a8c48a3caf26ab9e17d9edc8385\", element=\"5e525f4e-c01b-469b-9029-9a5c66d365de\")>,\n",
       " <selenium.webdriver.remote.webelement.WebElement (session=\"b3b67a8c48a3caf26ab9e17d9edc8385\", element=\"8edfab8e-3efe-445e-8dd2-cb0a558db7b9\")>,\n",
       " <selenium.webdriver.remote.webelement.WebElement (session=\"b3b67a8c48a3caf26ab9e17d9edc8385\", element=\"01446580-a167-4726-b98b-53de29ee28ae\")>,\n",
       " <selenium.webdriver.remote.webelement.WebElement (session=\"b3b67a8c48a3caf26ab9e17d9edc8385\", element=\"39d5a458-27ec-4789-8ebe-0ecd89caab18\")>,\n",
       " <selenium.webdriver.remote.webelement.WebElement (session=\"b3b67a8c48a3caf26ab9e17d9edc8385\", element=\"8314c8f5-cd24-4828-847b-f7cfe40a8791\")>,\n",
       " <selenium.webdriver.remote.webelement.WebElement (session=\"b3b67a8c48a3caf26ab9e17d9edc8385\", element=\"0323b988-ab50-4030-81a3-36f2dd3f0382\")>]"
      ]
     },
     "execution_count": 207,
     "metadata": {},
     "output_type": "execute_result"
    }
   ],
   "source": [
    "brand_tags=driver.find_elements_by_xpath('//h3[@class=\"product-brand\"]')\n",
    "brand_tags[0:100]"
   ]
  },
  {
   "cell_type": "markdown",
   "id": "abdad6d1",
   "metadata": {},
   "source": [
    "Now we have all the tags in which there are shoe brand.\n",
    "\n",
    "now we will extract teh text from these these tags one by one by looping over these tags."
   ]
  },
  {
   "cell_type": "code",
   "execution_count": 210,
   "id": "157c0cb3",
   "metadata": {},
   "outputs": [
    {
     "data": {
      "text/plain": [
       "['Nike',\n",
       " 'Nike',\n",
       " 'ALDO',\n",
       " 'Nike',\n",
       " 'ADIDAS',\n",
       " 'one8 x PUMA',\n",
       " 'Skechers',\n",
       " 'ALDO',\n",
       " 'Puma',\n",
       " 'Puma',\n",
       " 'Hush Puppies',\n",
       " 'ALDO',\n",
       " 'ALDO',\n",
       " 'ALDO',\n",
       " 'UNDER ARMOUR',\n",
       " 'Nike',\n",
       " 'PUMA Motorsport',\n",
       " 'Puma',\n",
       " 'Columbia',\n",
       " 'Skechers',\n",
       " 'Hush Puppies',\n",
       " 'Skechers',\n",
       " 'Puma',\n",
       " 'UNDER ARMOUR',\n",
       " 'Puma',\n",
       " 'ADIDAS Originals',\n",
       " 'Nike',\n",
       " 'Hush Puppies',\n",
       " 'ADIDAS Originals',\n",
       " 'Skechers',\n",
       " 'Puma',\n",
       " 'Bugatti',\n",
       " 'PUMA Motorsport',\n",
       " 'ROSSO BRUNELLO',\n",
       " 'Puma',\n",
       " 'PUMA Motorsport',\n",
       " 'Puma',\n",
       " 'Puma',\n",
       " 'ADIDAS',\n",
       " 'ADIDAS',\n",
       " 'Tommy Hilfiger',\n",
       " 'Reebok',\n",
       " 'Puma',\n",
       " 'Bugatti',\n",
       " 'Bugatti',\n",
       " 'UNDER ARMOUR',\n",
       " 'Tommy Hilfiger',\n",
       " 'DAVINCHI',\n",
       " 'Hush Puppies',\n",
       " 'DEL MONDO',\n",
       " 'Nike',\n",
       " 'Nike',\n",
       " 'ALDO',\n",
       " 'Nike',\n",
       " 'ADIDAS',\n",
       " 'one8 x PUMA',\n",
       " 'Skechers',\n",
       " 'ALDO',\n",
       " 'Puma',\n",
       " 'Puma',\n",
       " 'Hush Puppies',\n",
       " 'ALDO',\n",
       " 'ALDO',\n",
       " 'ALDO',\n",
       " 'UNDER ARMOUR',\n",
       " 'Nike',\n",
       " 'PUMA Motorsport',\n",
       " 'Puma',\n",
       " 'Columbia',\n",
       " 'Skechers',\n",
       " 'Hush Puppies',\n",
       " 'Skechers',\n",
       " 'Puma',\n",
       " 'UNDER ARMOUR',\n",
       " 'Puma',\n",
       " 'ADIDAS Originals',\n",
       " 'Nike',\n",
       " 'Hush Puppies',\n",
       " 'ADIDAS Originals',\n",
       " 'Skechers',\n",
       " 'Puma',\n",
       " 'Bugatti',\n",
       " 'PUMA Motorsport',\n",
       " 'ROSSO BRUNELLO',\n",
       " 'Puma',\n",
       " 'PUMA Motorsport',\n",
       " 'Puma',\n",
       " 'Puma',\n",
       " 'ADIDAS',\n",
       " 'ADIDAS',\n",
       " 'Tommy Hilfiger',\n",
       " 'Reebok',\n",
       " 'Puma',\n",
       " 'Bugatti',\n",
       " 'Bugatti',\n",
       " 'UNDER ARMOUR',\n",
       " 'Tommy Hilfiger',\n",
       " 'DAVINCHI',\n",
       " 'Hush Puppies',\n",
       " 'DEL MONDO']"
      ]
     },
     "execution_count": 210,
     "metadata": {},
     "output_type": "execute_result"
    }
   ],
   "source": [
    "#now the text of the shoe brand is inside the tags extracted above\n",
    "#so we will run over a loop to iterate over the tags extracted above.\n",
    "for i in brand_tags:\n",
    "    title=i.text\n",
    "    shoe_brand.append(title)\n",
    "shoe_brand"
   ]
  },
  {
   "cell_type": "code",
   "execution_count": 211,
   "id": "ce82ddbb",
   "metadata": {},
   "outputs": [
    {
     "data": {
      "text/plain": [
       "100"
      ]
     },
     "execution_count": 211,
     "metadata": {},
     "output_type": "execute_result"
    }
   ],
   "source": [
    "len(shoe_brand)"
   ]
  },
  {
   "cell_type": "markdown",
   "id": "601a2f91",
   "metadata": {},
   "source": [
    "first we will extract the all the tags where we will have shoe description."
   ]
  },
  {
   "cell_type": "code",
   "execution_count": 213,
   "id": "6667adcc",
   "metadata": {},
   "outputs": [
    {
     "data": {
      "text/plain": [
       "[<selenium.webdriver.remote.webelement.WebElement (session=\"b3b67a8c48a3caf26ab9e17d9edc8385\", element=\"27b08c9f-6714-46d2-8dcc-ae9b2ec5dd82\")>,\n",
       " <selenium.webdriver.remote.webelement.WebElement (session=\"b3b67a8c48a3caf26ab9e17d9edc8385\", element=\"dce6153f-2400-4017-8665-00e6d970192d\")>,\n",
       " <selenium.webdriver.remote.webelement.WebElement (session=\"b3b67a8c48a3caf26ab9e17d9edc8385\", element=\"91d7b492-9c0b-46d5-8f7e-f91e45c5c3b0\")>,\n",
       " <selenium.webdriver.remote.webelement.WebElement (session=\"b3b67a8c48a3caf26ab9e17d9edc8385\", element=\"d6bdba18-63e0-438a-92a3-7cd31c4c2bab\")>,\n",
       " <selenium.webdriver.remote.webelement.WebElement (session=\"b3b67a8c48a3caf26ab9e17d9edc8385\", element=\"f28d240c-972a-4101-b207-ae81684418af\")>,\n",
       " <selenium.webdriver.remote.webelement.WebElement (session=\"b3b67a8c48a3caf26ab9e17d9edc8385\", element=\"3db69f58-0bf2-4157-91f8-46f8bbf212a8\")>,\n",
       " <selenium.webdriver.remote.webelement.WebElement (session=\"b3b67a8c48a3caf26ab9e17d9edc8385\", element=\"c9bf6942-eba2-4d05-bd29-60167eea134a\")>,\n",
       " <selenium.webdriver.remote.webelement.WebElement (session=\"b3b67a8c48a3caf26ab9e17d9edc8385\", element=\"58e8f29a-5d12-4e10-9f61-46d30e17eb0b\")>,\n",
       " <selenium.webdriver.remote.webelement.WebElement (session=\"b3b67a8c48a3caf26ab9e17d9edc8385\", element=\"45c35efb-b870-49be-a985-d981ad750cbd\")>,\n",
       " <selenium.webdriver.remote.webelement.WebElement (session=\"b3b67a8c48a3caf26ab9e17d9edc8385\", element=\"590790db-7442-402b-adec-8cde18134d8f\")>,\n",
       " <selenium.webdriver.remote.webelement.WebElement (session=\"b3b67a8c48a3caf26ab9e17d9edc8385\", element=\"b5838123-e3f8-47aa-ac4e-861215f766c5\")>,\n",
       " <selenium.webdriver.remote.webelement.WebElement (session=\"b3b67a8c48a3caf26ab9e17d9edc8385\", element=\"d24752f9-e4e5-4ddf-aa0c-1e503d2db206\")>,\n",
       " <selenium.webdriver.remote.webelement.WebElement (session=\"b3b67a8c48a3caf26ab9e17d9edc8385\", element=\"7f5cd257-011a-472e-bab0-b0897f0f9c96\")>,\n",
       " <selenium.webdriver.remote.webelement.WebElement (session=\"b3b67a8c48a3caf26ab9e17d9edc8385\", element=\"97ea901a-af74-4bb8-a748-cc34905f53dd\")>,\n",
       " <selenium.webdriver.remote.webelement.WebElement (session=\"b3b67a8c48a3caf26ab9e17d9edc8385\", element=\"2cd35d7a-984c-4bd4-96ee-63c7445187b9\")>,\n",
       " <selenium.webdriver.remote.webelement.WebElement (session=\"b3b67a8c48a3caf26ab9e17d9edc8385\", element=\"a0d371c3-4ff2-4c80-8e70-cd40c4885dfa\")>,\n",
       " <selenium.webdriver.remote.webelement.WebElement (session=\"b3b67a8c48a3caf26ab9e17d9edc8385\", element=\"05d9249d-402b-4c1a-ae7b-f1bc98a95218\")>,\n",
       " <selenium.webdriver.remote.webelement.WebElement (session=\"b3b67a8c48a3caf26ab9e17d9edc8385\", element=\"42913206-26cf-4562-b50b-a406f4a86791\")>,\n",
       " <selenium.webdriver.remote.webelement.WebElement (session=\"b3b67a8c48a3caf26ab9e17d9edc8385\", element=\"17f70253-fe99-4dbb-a21e-963cedfddd6e\")>,\n",
       " <selenium.webdriver.remote.webelement.WebElement (session=\"b3b67a8c48a3caf26ab9e17d9edc8385\", element=\"64d2f686-ce14-432a-b6f7-59ebae8365fc\")>,\n",
       " <selenium.webdriver.remote.webelement.WebElement (session=\"b3b67a8c48a3caf26ab9e17d9edc8385\", element=\"7abf37fe-fe4a-47a7-b2e3-b90e27457c8c\")>,\n",
       " <selenium.webdriver.remote.webelement.WebElement (session=\"b3b67a8c48a3caf26ab9e17d9edc8385\", element=\"843f0e7e-372b-4c0c-9021-c88c633610fc\")>,\n",
       " <selenium.webdriver.remote.webelement.WebElement (session=\"b3b67a8c48a3caf26ab9e17d9edc8385\", element=\"f6382aea-a95e-4438-96e2-dbe9efa282f7\")>,\n",
       " <selenium.webdriver.remote.webelement.WebElement (session=\"b3b67a8c48a3caf26ab9e17d9edc8385\", element=\"9f96fa88-ecd3-43f4-a0e8-dcb7affccd9c\")>,\n",
       " <selenium.webdriver.remote.webelement.WebElement (session=\"b3b67a8c48a3caf26ab9e17d9edc8385\", element=\"3e742ec2-91b9-4132-b286-0ba070fbbdd4\")>,\n",
       " <selenium.webdriver.remote.webelement.WebElement (session=\"b3b67a8c48a3caf26ab9e17d9edc8385\", element=\"f43822fd-432b-4b06-8f3a-77dd96036887\")>,\n",
       " <selenium.webdriver.remote.webelement.WebElement (session=\"b3b67a8c48a3caf26ab9e17d9edc8385\", element=\"086d098f-c225-4019-ac9d-e46d6742425d\")>,\n",
       " <selenium.webdriver.remote.webelement.WebElement (session=\"b3b67a8c48a3caf26ab9e17d9edc8385\", element=\"bbc6ae67-85fb-4576-85e4-f87e6c9ca08e\")>,\n",
       " <selenium.webdriver.remote.webelement.WebElement (session=\"b3b67a8c48a3caf26ab9e17d9edc8385\", element=\"61e268d5-76ba-4270-9ca8-953d23c03459\")>,\n",
       " <selenium.webdriver.remote.webelement.WebElement (session=\"b3b67a8c48a3caf26ab9e17d9edc8385\", element=\"f150bd01-39e8-4722-b18a-0034eae30489\")>,\n",
       " <selenium.webdriver.remote.webelement.WebElement (session=\"b3b67a8c48a3caf26ab9e17d9edc8385\", element=\"dfc23473-418b-4b68-ac4e-0f96d9377ba1\")>,\n",
       " <selenium.webdriver.remote.webelement.WebElement (session=\"b3b67a8c48a3caf26ab9e17d9edc8385\", element=\"90a569af-ad87-4afc-aed6-09a5f3fcf631\")>,\n",
       " <selenium.webdriver.remote.webelement.WebElement (session=\"b3b67a8c48a3caf26ab9e17d9edc8385\", element=\"96375453-075e-4ba1-9801-3a2736c6223e\")>,\n",
       " <selenium.webdriver.remote.webelement.WebElement (session=\"b3b67a8c48a3caf26ab9e17d9edc8385\", element=\"64353e7c-bc0c-4673-ab79-d52208f2d44c\")>,\n",
       " <selenium.webdriver.remote.webelement.WebElement (session=\"b3b67a8c48a3caf26ab9e17d9edc8385\", element=\"570c735a-1921-4339-827e-aee898fd8389\")>,\n",
       " <selenium.webdriver.remote.webelement.WebElement (session=\"b3b67a8c48a3caf26ab9e17d9edc8385\", element=\"45fffbbf-2983-4c74-8c4b-e9a57fc51582\")>,\n",
       " <selenium.webdriver.remote.webelement.WebElement (session=\"b3b67a8c48a3caf26ab9e17d9edc8385\", element=\"73efd99b-2b93-4417-bf2c-fb517ac0f178\")>,\n",
       " <selenium.webdriver.remote.webelement.WebElement (session=\"b3b67a8c48a3caf26ab9e17d9edc8385\", element=\"5ae441cf-09ee-430f-86b3-6cad5648d29c\")>,\n",
       " <selenium.webdriver.remote.webelement.WebElement (session=\"b3b67a8c48a3caf26ab9e17d9edc8385\", element=\"5403eff0-4452-4a06-85f4-4fbc99e1890e\")>,\n",
       " <selenium.webdriver.remote.webelement.WebElement (session=\"b3b67a8c48a3caf26ab9e17d9edc8385\", element=\"7e9d5b7e-fa6f-4e26-8bc9-ab4639e99aa8\")>,\n",
       " <selenium.webdriver.remote.webelement.WebElement (session=\"b3b67a8c48a3caf26ab9e17d9edc8385\", element=\"2b559e4c-e9a5-4361-ab62-c808a9212807\")>,\n",
       " <selenium.webdriver.remote.webelement.WebElement (session=\"b3b67a8c48a3caf26ab9e17d9edc8385\", element=\"eba6ca39-5521-492c-af14-e8cb842bf8d2\")>,\n",
       " <selenium.webdriver.remote.webelement.WebElement (session=\"b3b67a8c48a3caf26ab9e17d9edc8385\", element=\"915f1fe6-4ab7-4e95-8c96-0ae954eb56d4\")>,\n",
       " <selenium.webdriver.remote.webelement.WebElement (session=\"b3b67a8c48a3caf26ab9e17d9edc8385\", element=\"abdac2c3-d1f9-4124-ba5d-0b5aa2e896be\")>,\n",
       " <selenium.webdriver.remote.webelement.WebElement (session=\"b3b67a8c48a3caf26ab9e17d9edc8385\", element=\"d657df64-67a4-4189-8100-47c410ff67cb\")>,\n",
       " <selenium.webdriver.remote.webelement.WebElement (session=\"b3b67a8c48a3caf26ab9e17d9edc8385\", element=\"511aeab2-ce2e-47ff-adfa-2a35de8f59ba\")>,\n",
       " <selenium.webdriver.remote.webelement.WebElement (session=\"b3b67a8c48a3caf26ab9e17d9edc8385\", element=\"5f713c90-bc0e-4d50-ab10-28e240afd10c\")>,\n",
       " <selenium.webdriver.remote.webelement.WebElement (session=\"b3b67a8c48a3caf26ab9e17d9edc8385\", element=\"bd3627b9-921d-402f-9021-64f46fa9e7d8\")>,\n",
       " <selenium.webdriver.remote.webelement.WebElement (session=\"b3b67a8c48a3caf26ab9e17d9edc8385\", element=\"f1632dc9-7403-415a-bc9e-c5f928f75b0e\")>,\n",
       " <selenium.webdriver.remote.webelement.WebElement (session=\"b3b67a8c48a3caf26ab9e17d9edc8385\", element=\"02b04292-3476-40eb-a3b2-4d04b04f8dbb\")>]"
      ]
     },
     "execution_count": 213,
     "metadata": {},
     "output_type": "execute_result"
    }
   ],
   "source": [
    "description_tags=driver.find_elements_by_xpath('//h4[@class=\"product-product\"]')\n",
    "description_tags[0:100]"
   ]
  },
  {
   "cell_type": "markdown",
   "id": "5d43fbc3",
   "metadata": {},
   "source": [
    "Now we have all the tags in which there are shoe description.\n",
    "\n",
    "now we will extract teh text from these these tags one by one by looping over these tags."
   ]
  },
  {
   "cell_type": "code",
   "execution_count": 216,
   "id": "8670a59c",
   "metadata": {},
   "outputs": [
    {
     "data": {
      "text/plain": [
       "['Men Winflo 7 Running Shoes',\n",
       " 'Women React MR 3 Running Shoes',\n",
       " 'Men Leather Driving Shoes',\n",
       " 'Men KF 5 EP Basketball Shoes',\n",
       " 'Men Dropset Training Shoes',\n",
       " 'Men Fuse One8 Training Shoes',\n",
       " 'Men Max Cushioning Running',\n",
       " 'Men Woven Design Sneakers',\n",
       " 'Electrify Nitro Running Shoes',\n",
       " 'Men Colourblocked RS-Z Core',\n",
       " 'Men Solid Leather Formal Slip-Ons',\n",
       " 'Men Textured Sneakers',\n",
       " 'Men Textured Slip-On Sneakers',\n",
       " 'Men Leather Loafers',\n",
       " 'Men UA TriBase Reign4 Training',\n",
       " 'Men Air Max Dawn Sneakers',\n",
       " 'Unisex Ferrari IONSpeed',\n",
       " 'Men D Nitro WTR Running Shoes',\n",
       " 'Men FACET OUTDRY Trekking Shoe',\n",
       " 'Men Sky Vault Walking Shoes',\n",
       " 'Men Formal Derbys',\n",
       " 'Men Walking Shoes',\n",
       " 'Men Training or Gym Shoes',\n",
       " 'Men UA Charged Vantage 2 Run',\n",
       " 'Eternity Nitro Running Shoes',\n",
       " 'Men Solid Ozweego Sneakers',\n",
       " 'Men AIR MAX PRE-DAY Sneakers',\n",
       " 'Men Solid Leather Formal Slip-Ons',\n",
       " 'Men Solid Retropy F2 Sneakers',\n",
       " 'Men MAX CUSHIONING ELITE-LUCID',\n",
       " 'Men Deviate Nitro Running Shoe',\n",
       " 'Men Solid Sneakers',\n",
       " 'Ferrari X-Ray Speed Sneakers',\n",
       " 'Men Leather Loafers',\n",
       " 'Men Running Shoes',\n",
       " 'Men ZenonSpeed Sneakers',\n",
       " 'Women Kosmo Rider DC5 Sneakers',\n",
       " 'Women XT FTR Training Shoes',\n",
       " 'Men Solar Glide 5 Running Shoe',\n",
       " 'Women Supernova Running Shoes',\n",
       " 'Men Textured Loafers',\n",
       " 'Men Zig Dynamica 2.0 Running',\n",
       " 'Men Golf Shoes',\n",
       " 'Leather Block Heeled Boots',\n",
       " 'Men Black Formal Derby Shoes',\n",
       " 'Men UA Charged Breeze Training',\n",
       " 'Men Leather Sneakers',\n",
       " 'Men Textured Formal Leather Loafers',\n",
       " 'Men Solid Formal Slip-Ons',\n",
       " 'Men Leather Sneakers',\n",
       " 'Men Winflo 7 Running Shoes',\n",
       " 'Women React MR 3 Running Shoes',\n",
       " 'Men Leather Driving Shoes',\n",
       " 'Men KF 5 EP Basketball Shoes',\n",
       " 'Men Dropset Training Shoes',\n",
       " 'Men Fuse One8 Training Shoes',\n",
       " 'Men Max Cushioning Running',\n",
       " 'Men Woven Design Sneakers',\n",
       " 'Electrify Nitro Running Shoes',\n",
       " 'Men Colourblocked RS-Z Core',\n",
       " 'Men Solid Leather Formal Slip-Ons',\n",
       " 'Men Textured Sneakers',\n",
       " 'Men Textured Slip-On Sneakers',\n",
       " 'Men Leather Loafers',\n",
       " 'Men UA TriBase Reign4 Training',\n",
       " 'Men Air Max Dawn Sneakers',\n",
       " 'Unisex Ferrari IONSpeed',\n",
       " 'Men D Nitro WTR Running Shoes',\n",
       " 'Men FACET OUTDRY Trekking Shoe',\n",
       " 'Men Sky Vault Walking Shoes',\n",
       " 'Men Formal Derbys',\n",
       " 'Men Walking Shoes',\n",
       " 'Men Training or Gym Shoes',\n",
       " 'Men UA Charged Vantage 2 Run',\n",
       " 'Eternity Nitro Running Shoes',\n",
       " 'Men Solid Ozweego Sneakers',\n",
       " 'Men AIR MAX PRE-DAY Sneakers',\n",
       " 'Men Solid Leather Formal Slip-Ons',\n",
       " 'Men Solid Retropy F2 Sneakers',\n",
       " 'Men MAX CUSHIONING ELITE-LUCID',\n",
       " 'Men Deviate Nitro Running Shoe',\n",
       " 'Men Solid Sneakers',\n",
       " 'Ferrari X-Ray Speed Sneakers',\n",
       " 'Men Leather Loafers',\n",
       " 'Men Running Shoes',\n",
       " 'Men ZenonSpeed Sneakers',\n",
       " 'Women Kosmo Rider DC5 Sneakers',\n",
       " 'Women XT FTR Training Shoes',\n",
       " 'Men Solar Glide 5 Running Shoe',\n",
       " 'Women Supernova Running Shoes',\n",
       " 'Men Textured Loafers',\n",
       " 'Men Zig Dynamica 2.0 Running',\n",
       " 'Men Golf Shoes',\n",
       " 'Leather Block Heeled Boots',\n",
       " 'Men Black Formal Derby Shoes',\n",
       " 'Men UA Charged Breeze Training',\n",
       " 'Men Leather Sneakers',\n",
       " 'Men Textured Formal Leather Loafers',\n",
       " 'Men Solid Formal Slip-Ons',\n",
       " 'Men Leather Sneakers']"
      ]
     },
     "execution_count": 216,
     "metadata": {},
     "output_type": "execute_result"
    }
   ],
   "source": [
    "#now the text of the shoe description is inside the tags extracted above\n",
    "#so we will run over a loop to iterate over the tags extracted above.\n",
    "for i in description_tags:\n",
    "    description=i.text\n",
    "    shoe_description.append(description)\n",
    "shoe_description[0:100]"
   ]
  },
  {
   "cell_type": "code",
   "execution_count": 217,
   "id": "d6d3d450",
   "metadata": {},
   "outputs": [
    {
     "data": {
      "text/plain": [
       "100"
      ]
     },
     "execution_count": 217,
     "metadata": {},
     "output_type": "execute_result"
    }
   ],
   "source": [
    "len(shoe_description)"
   ]
  },
  {
   "cell_type": "markdown",
   "id": "54b8c42c",
   "metadata": {},
   "source": [
    "first we will extract the all the tags where we will have shoe price."
   ]
  },
  {
   "cell_type": "code",
   "execution_count": 218,
   "id": "06a0ccd9",
   "metadata": {},
   "outputs": [
    {
     "data": {
      "text/plain": [
       "[<selenium.webdriver.remote.webelement.WebElement (session=\"b3b67a8c48a3caf26ab9e17d9edc8385\", element=\"da39e025-14c7-4fa6-a7f8-b07f244cf19b\")>,\n",
       " <selenium.webdriver.remote.webelement.WebElement (session=\"b3b67a8c48a3caf26ab9e17d9edc8385\", element=\"636a2439-6abf-4842-a648-961747b63ed7\")>,\n",
       " <selenium.webdriver.remote.webelement.WebElement (session=\"b3b67a8c48a3caf26ab9e17d9edc8385\", element=\"8dfb25e5-a1df-45f5-a911-d2e1a9c05ea8\")>,\n",
       " <selenium.webdriver.remote.webelement.WebElement (session=\"b3b67a8c48a3caf26ab9e17d9edc8385\", element=\"bd6dadbe-de04-4627-bf86-7b55a40bbd6b\")>,\n",
       " <selenium.webdriver.remote.webelement.WebElement (session=\"b3b67a8c48a3caf26ab9e17d9edc8385\", element=\"b60ba086-a053-49cb-84f2-0a96c214450e\")>,\n",
       " <selenium.webdriver.remote.webelement.WebElement (session=\"b3b67a8c48a3caf26ab9e17d9edc8385\", element=\"8a0fffbf-6876-4675-8c3a-922c92db99f5\")>,\n",
       " <selenium.webdriver.remote.webelement.WebElement (session=\"b3b67a8c48a3caf26ab9e17d9edc8385\", element=\"d4f9f9e8-23dd-4f3d-8c72-3eed3c2d4c94\")>,\n",
       " <selenium.webdriver.remote.webelement.WebElement (session=\"b3b67a8c48a3caf26ab9e17d9edc8385\", element=\"50e77fad-cb8a-4428-bd76-72b7c1615d28\")>,\n",
       " <selenium.webdriver.remote.webelement.WebElement (session=\"b3b67a8c48a3caf26ab9e17d9edc8385\", element=\"a90d6100-92db-4c27-baa3-e7d5f096ae7f\")>,\n",
       " <selenium.webdriver.remote.webelement.WebElement (session=\"b3b67a8c48a3caf26ab9e17d9edc8385\", element=\"959abd62-906e-4e9f-9787-def671996fcf\")>,\n",
       " <selenium.webdriver.remote.webelement.WebElement (session=\"b3b67a8c48a3caf26ab9e17d9edc8385\", element=\"1e88cf3c-702e-4acd-96d7-d32a9453c870\")>,\n",
       " <selenium.webdriver.remote.webelement.WebElement (session=\"b3b67a8c48a3caf26ab9e17d9edc8385\", element=\"5492971a-a8ef-4cd5-92ea-4197564396bb\")>,\n",
       " <selenium.webdriver.remote.webelement.WebElement (session=\"b3b67a8c48a3caf26ab9e17d9edc8385\", element=\"bb958cbc-6d54-4fec-b2a9-73331d7bd616\")>,\n",
       " <selenium.webdriver.remote.webelement.WebElement (session=\"b3b67a8c48a3caf26ab9e17d9edc8385\", element=\"f2929e75-bc24-42c1-855e-1a0e8222c91e\")>,\n",
       " <selenium.webdriver.remote.webelement.WebElement (session=\"b3b67a8c48a3caf26ab9e17d9edc8385\", element=\"51a1aee7-9f6e-41a9-8b23-603612afd0ac\")>,\n",
       " <selenium.webdriver.remote.webelement.WebElement (session=\"b3b67a8c48a3caf26ab9e17d9edc8385\", element=\"2b496f09-1443-4711-94ae-eceb0e644ff8\")>,\n",
       " <selenium.webdriver.remote.webelement.WebElement (session=\"b3b67a8c48a3caf26ab9e17d9edc8385\", element=\"9cd49013-4fbb-45e7-9b4a-c1178c93e5f9\")>,\n",
       " <selenium.webdriver.remote.webelement.WebElement (session=\"b3b67a8c48a3caf26ab9e17d9edc8385\", element=\"cb853d66-95d9-408d-ac97-a221390bdc26\")>,\n",
       " <selenium.webdriver.remote.webelement.WebElement (session=\"b3b67a8c48a3caf26ab9e17d9edc8385\", element=\"8e148716-720a-480c-b2eb-8b0680cd60ec\")>,\n",
       " <selenium.webdriver.remote.webelement.WebElement (session=\"b3b67a8c48a3caf26ab9e17d9edc8385\", element=\"6773aa63-18a1-40c8-8676-0da423d7b158\")>,\n",
       " <selenium.webdriver.remote.webelement.WebElement (session=\"b3b67a8c48a3caf26ab9e17d9edc8385\", element=\"b25b711d-ac10-456e-b593-599252b50bc1\")>,\n",
       " <selenium.webdriver.remote.webelement.WebElement (session=\"b3b67a8c48a3caf26ab9e17d9edc8385\", element=\"36eb53e7-6dff-4be1-8f97-35b7276ccaef\")>,\n",
       " <selenium.webdriver.remote.webelement.WebElement (session=\"b3b67a8c48a3caf26ab9e17d9edc8385\", element=\"074ea0d8-9cbe-4e97-8e25-cc85174febf5\")>,\n",
       " <selenium.webdriver.remote.webelement.WebElement (session=\"b3b67a8c48a3caf26ab9e17d9edc8385\", element=\"39663adc-26f5-45b8-9ec6-77c4ee524ef3\")>,\n",
       " <selenium.webdriver.remote.webelement.WebElement (session=\"b3b67a8c48a3caf26ab9e17d9edc8385\", element=\"f4b24fbe-6912-46a8-99b4-449cd5f53b08\")>,\n",
       " <selenium.webdriver.remote.webelement.WebElement (session=\"b3b67a8c48a3caf26ab9e17d9edc8385\", element=\"0e1e3243-e0b0-4f5a-91b2-864b2c9fd135\")>,\n",
       " <selenium.webdriver.remote.webelement.WebElement (session=\"b3b67a8c48a3caf26ab9e17d9edc8385\", element=\"f273e755-debd-4c74-924c-b1a1830992be\")>,\n",
       " <selenium.webdriver.remote.webelement.WebElement (session=\"b3b67a8c48a3caf26ab9e17d9edc8385\", element=\"0a4ef5fc-2339-4046-a685-d9fca87fe5f6\")>,\n",
       " <selenium.webdriver.remote.webelement.WebElement (session=\"b3b67a8c48a3caf26ab9e17d9edc8385\", element=\"8041cdf1-a3a5-47f6-8e79-0ae38c4cd598\")>,\n",
       " <selenium.webdriver.remote.webelement.WebElement (session=\"b3b67a8c48a3caf26ab9e17d9edc8385\", element=\"5d2f40c1-ebb1-41eb-991c-513687ae077c\")>,\n",
       " <selenium.webdriver.remote.webelement.WebElement (session=\"b3b67a8c48a3caf26ab9e17d9edc8385\", element=\"7e93fdab-2849-48c8-ac91-3e89ccc896b6\")>,\n",
       " <selenium.webdriver.remote.webelement.WebElement (session=\"b3b67a8c48a3caf26ab9e17d9edc8385\", element=\"7e3a9b6e-97e4-4fe6-8ebd-6df96d07ccd2\")>,\n",
       " <selenium.webdriver.remote.webelement.WebElement (session=\"b3b67a8c48a3caf26ab9e17d9edc8385\", element=\"5087e53a-0d8a-41a4-bf45-10c23a4689c7\")>,\n",
       " <selenium.webdriver.remote.webelement.WebElement (session=\"b3b67a8c48a3caf26ab9e17d9edc8385\", element=\"03091661-6730-41f7-8865-2b586a73d14b\")>,\n",
       " <selenium.webdriver.remote.webelement.WebElement (session=\"b3b67a8c48a3caf26ab9e17d9edc8385\", element=\"6734755e-530c-4475-8887-4d238d9cf19f\")>,\n",
       " <selenium.webdriver.remote.webelement.WebElement (session=\"b3b67a8c48a3caf26ab9e17d9edc8385\", element=\"3e588dbb-ab84-4a60-9681-1bf6819703b6\")>,\n",
       " <selenium.webdriver.remote.webelement.WebElement (session=\"b3b67a8c48a3caf26ab9e17d9edc8385\", element=\"00e7b603-291a-48a5-a30d-e343012e8552\")>,\n",
       " <selenium.webdriver.remote.webelement.WebElement (session=\"b3b67a8c48a3caf26ab9e17d9edc8385\", element=\"ad404806-ea07-455d-8248-8f256507cad2\")>,\n",
       " <selenium.webdriver.remote.webelement.WebElement (session=\"b3b67a8c48a3caf26ab9e17d9edc8385\", element=\"f1a1ac94-1611-4486-8aa4-4e4a13ffde6b\")>,\n",
       " <selenium.webdriver.remote.webelement.WebElement (session=\"b3b67a8c48a3caf26ab9e17d9edc8385\", element=\"6734d8b7-162c-47ad-a402-c5e6f0c69cdb\")>,\n",
       " <selenium.webdriver.remote.webelement.WebElement (session=\"b3b67a8c48a3caf26ab9e17d9edc8385\", element=\"8f75bff1-53c3-4bdb-b1a8-b090e1f9dd9b\")>,\n",
       " <selenium.webdriver.remote.webelement.WebElement (session=\"b3b67a8c48a3caf26ab9e17d9edc8385\", element=\"52b98594-5721-415b-aef6-767ba25574f9\")>,\n",
       " <selenium.webdriver.remote.webelement.WebElement (session=\"b3b67a8c48a3caf26ab9e17d9edc8385\", element=\"9db9c514-4aeb-461a-9f29-ee4cb5723f67\")>,\n",
       " <selenium.webdriver.remote.webelement.WebElement (session=\"b3b67a8c48a3caf26ab9e17d9edc8385\", element=\"bb401867-0e9b-49b8-9039-62cbd12e49eb\")>,\n",
       " <selenium.webdriver.remote.webelement.WebElement (session=\"b3b67a8c48a3caf26ab9e17d9edc8385\", element=\"71701d0f-573a-4206-b9a4-3b7672b769f0\")>,\n",
       " <selenium.webdriver.remote.webelement.WebElement (session=\"b3b67a8c48a3caf26ab9e17d9edc8385\", element=\"3281cef7-ac30-4fd9-8308-26ba97c006a7\")>,\n",
       " <selenium.webdriver.remote.webelement.WebElement (session=\"b3b67a8c48a3caf26ab9e17d9edc8385\", element=\"dd81a2e8-77df-4752-b0cc-42683227d950\")>,\n",
       " <selenium.webdriver.remote.webelement.WebElement (session=\"b3b67a8c48a3caf26ab9e17d9edc8385\", element=\"824cf770-8dec-46a3-887b-2244dac0b083\")>,\n",
       " <selenium.webdriver.remote.webelement.WebElement (session=\"b3b67a8c48a3caf26ab9e17d9edc8385\", element=\"9b8856b1-2093-4b7f-8c9d-fcf6b8a986ee\")>,\n",
       " <selenium.webdriver.remote.webelement.WebElement (session=\"b3b67a8c48a3caf26ab9e17d9edc8385\", element=\"ea070b73-3780-48de-8942-84c064dc68a9\")>]"
      ]
     },
     "execution_count": 218,
     "metadata": {},
     "output_type": "execute_result"
    }
   ],
   "source": [
    "price_tags=driver.find_elements_by_xpath('//div[@class=\"product-price\"]')\n",
    "price_tags[0:100]"
   ]
  },
  {
   "cell_type": "markdown",
   "id": "de146852",
   "metadata": {},
   "source": [
    "Now we have all the tags in which there are shoe price.\n",
    "\n",
    "now we will extract teh text from these these tags one by one by looping over these tags."
   ]
  },
  {
   "cell_type": "code",
   "execution_count": 220,
   "id": "f0c3dbea",
   "metadata": {},
   "outputs": [
    {
     "data": {
      "text/plain": [
       "['Rs. 7995',\n",
       " 'Rs. 10495',\n",
       " 'Rs. 12999',\n",
       " 'Rs. 8195',\n",
       " 'Rs. 12999',\n",
       " 'Rs. 7999',\n",
       " 'Rs. 7649Rs. 8999(15% OFF)',\n",
       " 'Rs. 13999',\n",
       " 'Rs. 9999',\n",
       " 'Rs. 9999',\n",
       " 'Rs. 7649Rs. 8999(15% OFF)',\n",
       " 'Rs. 10999',\n",
       " 'Rs. 12999',\n",
       " 'Rs. 12999',\n",
       " 'Rs. 10199Rs. 11999(15% OFF)',\n",
       " 'Rs. 9295',\n",
       " 'Rs. 7199Rs. 8999(20% OFF)',\n",
       " 'Rs. 11199Rs. 15999(30% OFF)',\n",
       " 'Rs. 12999',\n",
       " 'Rs. 7649Rs. 8999(15% OFF)',\n",
       " 'Rs. 8499Rs. 9999(15% OFF)',\n",
       " 'Rs. 7649Rs. 8999(15% OFF)',\n",
       " 'Rs. 7999',\n",
       " 'Rs. 7999',\n",
       " 'Rs. 12999',\n",
       " 'Rs. 9349Rs. 10999(15% OFF)',\n",
       " 'Rs. 13995',\n",
       " 'Rs. 8499Rs. 9999(15% OFF)',\n",
       " 'Rs. 8999',\n",
       " 'Rs. 8074Rs. 9499(15% OFF)',\n",
       " 'Rs. 11999Rs. 14999(20% OFF)',\n",
       " 'Rs. 10499',\n",
       " 'Rs. 7999',\n",
       " 'Rs. 9999',\n",
       " 'Rs. 7999Rs. 9999(20% OFF)',\n",
       " 'Rs. 7199Rs. 8999(20% OFF)',\n",
       " 'Rs. 7999',\n",
       " 'Rs. 7499',\n",
       " 'Rs. 13999',\n",
       " 'Rs. 9999',\n",
       " 'Rs. 8999',\n",
       " 'Rs. 7999',\n",
       " 'Rs. 8999',\n",
       " 'Rs. 7999Rs. 9999(20% OFF)',\n",
       " 'Rs. 11999',\n",
       " 'Rs. 8999',\n",
       " 'Rs. 7309Rs. 8599(15% OFF)',\n",
       " 'Rs. 8990',\n",
       " 'Rs. 8499Rs. 9999(15% OFF)',\n",
       " 'Rs. 7890',\n",
       " 'Rs. 7995',\n",
       " 'Rs. 10495',\n",
       " 'Rs. 12999',\n",
       " 'Rs. 8195',\n",
       " 'Rs. 12999',\n",
       " 'Rs. 7999',\n",
       " 'Rs. 7649Rs. 8999(15% OFF)',\n",
       " 'Rs. 13999',\n",
       " 'Rs. 9999',\n",
       " 'Rs. 9999',\n",
       " 'Rs. 7649Rs. 8999(15% OFF)',\n",
       " 'Rs. 10999',\n",
       " 'Rs. 12999',\n",
       " 'Rs. 12999',\n",
       " 'Rs. 10199Rs. 11999(15% OFF)',\n",
       " 'Rs. 9295',\n",
       " 'Rs. 7199Rs. 8999(20% OFF)',\n",
       " 'Rs. 11199Rs. 15999(30% OFF)',\n",
       " 'Rs. 12999',\n",
       " 'Rs. 7649Rs. 8999(15% OFF)',\n",
       " 'Rs. 8499Rs. 9999(15% OFF)',\n",
       " 'Rs. 7649Rs. 8999(15% OFF)',\n",
       " 'Rs. 7999',\n",
       " 'Rs. 7999',\n",
       " 'Rs. 12999',\n",
       " 'Rs. 9349Rs. 10999(15% OFF)',\n",
       " 'Rs. 13995',\n",
       " 'Rs. 8499Rs. 9999(15% OFF)',\n",
       " 'Rs. 8999',\n",
       " 'Rs. 8074Rs. 9499(15% OFF)',\n",
       " 'Rs. 11999Rs. 14999(20% OFF)',\n",
       " 'Rs. 10499',\n",
       " 'Rs. 7999',\n",
       " 'Rs. 9999',\n",
       " 'Rs. 7999Rs. 9999(20% OFF)',\n",
       " 'Rs. 7199Rs. 8999(20% OFF)',\n",
       " 'Rs. 7999',\n",
       " 'Rs. 7499',\n",
       " 'Rs. 13999',\n",
       " 'Rs. 9999',\n",
       " 'Rs. 8999',\n",
       " 'Rs. 7999',\n",
       " 'Rs. 8999',\n",
       " 'Rs. 7999Rs. 9999(20% OFF)',\n",
       " 'Rs. 11999',\n",
       " 'Rs. 8999',\n",
       " 'Rs. 7309Rs. 8599(15% OFF)',\n",
       " 'Rs. 8990',\n",
       " 'Rs. 8499Rs. 9999(15% OFF)',\n",
       " 'Rs. 7890']"
      ]
     },
     "execution_count": 220,
     "metadata": {},
     "output_type": "execute_result"
    }
   ],
   "source": [
    "#now the text of the shoe brand is inside the tags extracted above\n",
    "#so we will run over a loop to iterate over the tags extracted above.\n",
    "for i in price_tags:\n",
    "    prices=i.text\n",
    "    shoe_price.append(prices)\n",
    "shoe_price[0:100]"
   ]
  },
  {
   "cell_type": "raw",
   "id": "2ca9a520",
   "metadata": {},
   "source": [
    "Q8: Go to webpage https://www.amazon.in/\n",
    "Enter “Laptop” in the search field and then click the search icon.\n",
    "Then set CPU Type filter to “Intel Core i7” and “Intel Core i9” as shown in the below image:\n",
    "After setting the filters scrape first 10 laptops data. You have to scrape 3 attributesfor each laptop: 1. Title\n",
    "2. Ratings\n",
    "3. Price\n",
    "As shown in the below image as the tick marked attributes."
   ]
  },
  {
   "cell_type": "code",
   "execution_count": 223,
   "id": "5fa32751",
   "metadata": {},
   "outputs": [],
   "source": [
    "#let's first connect to the web driver\n",
    "driver=webdriver.Chrome('/Users/rishi/Downloads/chromedriver')\n"
   ]
  },
  {
   "cell_type": "code",
   "execution_count": null,
   "id": "d7008b17",
   "metadata": {},
   "outputs": [],
   "source": [
    "#for cpu-core i7"
   ]
  },
  {
   "cell_type": "code",
   "execution_count": 224,
   "id": "ed7d60e1",
   "metadata": {},
   "outputs": [],
   "source": [
    "page='https://www.amazon.in/s?k=laptop&i=computers&rh=n%3A1375424031%2Cp_n_feature_thirteen_browse-bin%3A12598163031&dc&crid=ZCN1I513DOZV&qid=1651396295&rnid=12598141031&sprefix=laptop%2Caps%2C212&ref=sr_nr_p_n_feature_thirteen_browse-bin_11'\n",
    "driver.get(page)"
   ]
  },
  {
   "cell_type": "markdown",
   "id": "e233d2bc",
   "metadata": {},
   "source": [
    "so now let's make 3 empty list. In these lists the data will be stored while scraping.we have created 3 empty list for the features which we have to extract.\n",
    "title=[]\n",
    "ratings=[]\n",
    "price=[]"
   ]
  },
  {
   "cell_type": "code",
   "execution_count": 225,
   "id": "cdb994d0",
   "metadata": {},
   "outputs": [],
   "source": [
    "title=[]\n",
    "ratings=[]\n",
    "price=[]"
   ]
  },
  {
   "cell_type": "markdown",
   "id": "43983c78",
   "metadata": {},
   "source": [
    "first we will extract the all the tags where we will have laptop titles."
   ]
  },
  {
   "cell_type": "code",
   "execution_count": 226,
   "id": "896da062",
   "metadata": {},
   "outputs": [
    {
     "data": {
      "text/plain": [
       "[<selenium.webdriver.remote.webelement.WebElement (session=\"afc12200ad98b839eba8ddb0cb5e00ca\", element=\"f9da53b1-a871-4f4f-9c6e-807b3f5758e3\")>,\n",
       " <selenium.webdriver.remote.webelement.WebElement (session=\"afc12200ad98b839eba8ddb0cb5e00ca\", element=\"81dff5e3-6c8c-4520-9e07-51443cecd1d5\")>,\n",
       " <selenium.webdriver.remote.webelement.WebElement (session=\"afc12200ad98b839eba8ddb0cb5e00ca\", element=\"94c18820-d7e8-4f51-a0c4-aa3859c95621\")>,\n",
       " <selenium.webdriver.remote.webelement.WebElement (session=\"afc12200ad98b839eba8ddb0cb5e00ca\", element=\"d5b6d754-aef0-4758-8134-24429edbe7bb\")>,\n",
       " <selenium.webdriver.remote.webelement.WebElement (session=\"afc12200ad98b839eba8ddb0cb5e00ca\", element=\"0fd906f6-b964-42de-8df2-fd9e93d07aab\")>,\n",
       " <selenium.webdriver.remote.webelement.WebElement (session=\"afc12200ad98b839eba8ddb0cb5e00ca\", element=\"a38d67cd-0935-4001-91f5-5afc22b3c295\")>,\n",
       " <selenium.webdriver.remote.webelement.WebElement (session=\"afc12200ad98b839eba8ddb0cb5e00ca\", element=\"92a7d560-2e79-4e32-ba19-65a5e88c6dbe\")>,\n",
       " <selenium.webdriver.remote.webelement.WebElement (session=\"afc12200ad98b839eba8ddb0cb5e00ca\", element=\"0c013a64-1ac7-4ffa-a122-1de5881eac10\")>,\n",
       " <selenium.webdriver.remote.webelement.WebElement (session=\"afc12200ad98b839eba8ddb0cb5e00ca\", element=\"e57bd8f3-d353-4187-94ad-28b4fd83f9fe\")>,\n",
       " <selenium.webdriver.remote.webelement.WebElement (session=\"afc12200ad98b839eba8ddb0cb5e00ca\", element=\"3e2c2665-40bd-4f57-a5db-fe0fc035958a\")>]"
      ]
     },
     "execution_count": 226,
     "metadata": {},
     "output_type": "execute_result"
    }
   ],
   "source": [
    "#let's extract all the tags having the laptop titles\n",
    "titles_tags=driver.find_elements_by_xpath('//h2[@class=\"a-size-mini a-spacing-none a-color-base s-line-clamp-2\"]')\n",
    "titles_tags[0:10]"
   ]
  },
  {
   "cell_type": "markdown",
   "id": "6f8e16ac",
   "metadata": {},
   "source": [
    "Now we have all the tags in which there are laptop titles.\n",
    "\n",
    "now we will extract teh text from these these tags one by one by looping over these tags."
   ]
  },
  {
   "cell_type": "code",
   "execution_count": 227,
   "id": "f9c108d8",
   "metadata": {},
   "outputs": [
    {
     "data": {
      "text/plain": [
       "['Samsung Galaxy Book2 Pro 360 Intel 12th Gen i7 EvoTM 15.6 inch Touchscreen 2-in-1 AMOLED Thin & Light Laptop (16 GB/512 GB SSD/Windows 11/MSO Home & Student 2021/Graphite/1.41Kg), NP950QED-KA1IN',\n",
       " 'Mi Notebook Ultra 3.2K Resolution Display Intel Core i7-11370H 11th Gen 15.6-inch(39.62 cm) Thin and Light Laptop (16GB/512GB SSD/Iris Xe Graphic/Win 10/MS Office 21/Backlit KB/FP Sensor/1.7Kg)',\n",
       " 'ASUS VivoBook 14 (2021), 14-inch (35.56 cms) FHD, Intel Core i7-1065G7 10th Gen, Thin and Light Laptop (16GB/512GB SSD/Integrated Graphics/Office 2021/Windows 11/Silver/1.6 Kg), X415JA-EK701WS',\n",
       " 'HP Pavilion 14, 11th Gen Intel Core i7-16GB RAM/1TB SSD 14 inch(35.6 cm) Laptop/Intel Iris Xe Graphics/Backlit Keyboard/Alexa/B&O Audio/Fast Charge/FPR/Win 11/MS Office, 14-dv1029TU,Natural Silver',\n",
       " 'Lenovo ThinkBook 15 Intel 11th Gen Core i7 15.6\"(39.62 cm)FHD Thin and Light Laptop (16GB/512GB SSD/Windows 11 Home/MS Office H&S 2021/Iris® Xe Graphics/Backlit/Mineral Grey/1.7 Kg) 20VE00W4IH',\n",
       " 'HP Pavilion 11th Gen Intel Core i7 Processor 15.6 inches FHD Gaming Laptop (16GB/512GB SSD/Windows 11/NVIDIA RTX 3050 Graphics/MS Office/ Shadow Black & Ultra Violet/2.23Kg), 15-dk2096TX',\n",
       " 'ASUS TUF Gaming F15 (2021), 15.6-inch (39.62 cms) FHD 144Hz, Intel Core i7-11800H 11th Gen, GeForce RTX 3050 4GB Graphics, Gaming Laptop (8GB/512GB SSD/Windows 10/Eclipse Gray/2.3 Kg), FX566HC-HN093T',\n",
       " '(Renewed) Dell E6410 Latitude 14 Inch Screen Laptop (Intel Core i7 - M620 /4 GB/120 GB SSD/Windows 7 Pro), Black',\n",
       " '(Refurbished) Dell Intel Core i7 7th Gen 14.Inch(35.6 cms) (1920 x 1080)FHD TOUCHSCREEN Laptop (16GB RAM/512GB SSD/Windows 10 Pro/MS Office/ Intel HD Integrated Graphics/1.18Kg,Black) Latitude E7480',\n",
       " '(Renewed) Dell Latitude Laptop E7480 Intel Core i7 - 7600u Processor 7th Gen, 8 GB Ram & 128 GB SSD, 14.1 Inches (Ultra Slim & Feather Light 1.37KG) Notebook Computer']"
      ]
     },
     "execution_count": 227,
     "metadata": {},
     "output_type": "execute_result"
    }
   ],
   "source": [
    "#now the text of the laptop titles is inside the tags extracted above\n",
    "#so we will run over a loop to iterate over the tags extracted above.\n",
    "for i in titles_tags:\n",
    "    titles=i.text\n",
    "    title.append(titles)\n",
    "title[0:10]"
   ]
  },
  {
   "cell_type": "markdown",
   "id": "34207eaf",
   "metadata": {},
   "source": [
    "first we will extract the all the tags where we will have laptop rating."
   ]
  },
  {
   "cell_type": "code",
   "execution_count": 249,
   "id": "72a2b38e",
   "metadata": {},
   "outputs": [
    {
     "data": {
      "text/plain": [
       "[]"
      ]
     },
     "execution_count": 249,
     "metadata": {},
     "output_type": "execute_result"
    }
   ],
   "source": [
    "#let's extract all the tags having the laptop titles\n",
    "rating_tags=driver.find_elements_by_class_name(\"a-icon a-icon-star-small a-star-small-5 aok-align-bottom\")\n",
    "rating_tags[0:10]"
   ]
  },
  {
   "cell_type": "markdown",
   "id": "f558d2f0",
   "metadata": {},
   "source": [
    "Now we have all the tags in which there are product rating.\n",
    "\n",
    "Now we will extract the text from these these tags one by one by looping over these tags."
   ]
  },
  {
   "cell_type": "code",
   "execution_count": 250,
   "id": "c971e4ca",
   "metadata": {},
   "outputs": [
    {
     "data": {
      "text/plain": [
       "['3', '1,075', '62', '2', '38', '7', '13', '2', '61', '2']"
      ]
     },
     "execution_count": 250,
     "metadata": {},
     "output_type": "execute_result"
    }
   ],
   "source": [
    "#now the text of the ratings is inside the tags extracted above\n",
    "#so we will run over a loop to iterate over the tags extracted above.\n",
    "for i in rating_tags:\n",
    "    rating=i.text\n",
    "    ratings.append(rating)\n",
    "ratings[0:10]"
   ]
  },
  {
   "cell_type": "markdown",
   "id": "4fc9f391",
   "metadata": {},
   "source": [
    "first we will extract the all the tags from next page where we will have product price."
   ]
  },
  {
   "cell_type": "code",
   "execution_count": 242,
   "id": "0b29760a",
   "metadata": {},
   "outputs": [
    {
     "data": {
      "text/plain": [
       "[<selenium.webdriver.remote.webelement.WebElement (session=\"afc12200ad98b839eba8ddb0cb5e00ca\", element=\"cd30a90e-25b5-498f-89c5-65b186564e3c\")>,\n",
       " <selenium.webdriver.remote.webelement.WebElement (session=\"afc12200ad98b839eba8ddb0cb5e00ca\", element=\"59547ef3-9af6-4aa1-a4cb-237582091ccc\")>,\n",
       " <selenium.webdriver.remote.webelement.WebElement (session=\"afc12200ad98b839eba8ddb0cb5e00ca\", element=\"d31c42d8-c7c8-42fc-baa6-7c989f7b8669\")>,\n",
       " <selenium.webdriver.remote.webelement.WebElement (session=\"afc12200ad98b839eba8ddb0cb5e00ca\", element=\"ac774276-8d08-4297-b979-5569d72b85b6\")>,\n",
       " <selenium.webdriver.remote.webelement.WebElement (session=\"afc12200ad98b839eba8ddb0cb5e00ca\", element=\"cc663db4-2ada-40fb-9399-095b4e39faf1\")>,\n",
       " <selenium.webdriver.remote.webelement.WebElement (session=\"afc12200ad98b839eba8ddb0cb5e00ca\", element=\"ef3b46d7-7e4a-4c7c-b277-9359632b77e2\")>,\n",
       " <selenium.webdriver.remote.webelement.WebElement (session=\"afc12200ad98b839eba8ddb0cb5e00ca\", element=\"ce3d7fa5-e0e9-4ec0-88b0-05e0e0b73997\")>,\n",
       " <selenium.webdriver.remote.webelement.WebElement (session=\"afc12200ad98b839eba8ddb0cb5e00ca\", element=\"38670b64-6b1c-40c3-8719-69a1284b4d44\")>,\n",
       " <selenium.webdriver.remote.webelement.WebElement (session=\"afc12200ad98b839eba8ddb0cb5e00ca\", element=\"7e272a33-cb3e-4ba9-ab7d-c52f27a8b0e1\")>,\n",
       " <selenium.webdriver.remote.webelement.WebElement (session=\"afc12200ad98b839eba8ddb0cb5e00ca\", element=\"ed6245ea-d4f2-4f41-aac2-556f78134965\")>,\n",
       " <selenium.webdriver.remote.webelement.WebElement (session=\"afc12200ad98b839eba8ddb0cb5e00ca\", element=\"755e4559-fd7d-453f-9342-e30c49b2f9b1\")>,\n",
       " <selenium.webdriver.remote.webelement.WebElement (session=\"afc12200ad98b839eba8ddb0cb5e00ca\", element=\"2f75d547-f96f-4baf-9eca-72d3359419be\")>,\n",
       " <selenium.webdriver.remote.webelement.WebElement (session=\"afc12200ad98b839eba8ddb0cb5e00ca\", element=\"1885a7bd-964a-4850-a65e-5e3cd6c52bf6\")>,\n",
       " <selenium.webdriver.remote.webelement.WebElement (session=\"afc12200ad98b839eba8ddb0cb5e00ca\", element=\"88a92afa-68bd-4c77-9c5f-113511162708\")>,\n",
       " <selenium.webdriver.remote.webelement.WebElement (session=\"afc12200ad98b839eba8ddb0cb5e00ca\", element=\"78d0998b-6705-40f0-ac36-6f5a190390d8\")>,\n",
       " <selenium.webdriver.remote.webelement.WebElement (session=\"afc12200ad98b839eba8ddb0cb5e00ca\", element=\"4a230a8e-637c-48ca-beb6-9c0bd0fad18d\")>,\n",
       " <selenium.webdriver.remote.webelement.WebElement (session=\"afc12200ad98b839eba8ddb0cb5e00ca\", element=\"3dd885dc-cbc1-4a24-a8f1-920557e7fdbf\")>,\n",
       " <selenium.webdriver.remote.webelement.WebElement (session=\"afc12200ad98b839eba8ddb0cb5e00ca\", element=\"46550a5b-ec80-4a72-abda-d684ba0a4dea\")>,\n",
       " <selenium.webdriver.remote.webelement.WebElement (session=\"afc12200ad98b839eba8ddb0cb5e00ca\", element=\"7936f762-22c1-44bc-809f-0713ace2663a\")>,\n",
       " <selenium.webdriver.remote.webelement.WebElement (session=\"afc12200ad98b839eba8ddb0cb5e00ca\", element=\"cf118b9b-6200-4474-9af5-134676acc9e3\")>,\n",
       " <selenium.webdriver.remote.webelement.WebElement (session=\"afc12200ad98b839eba8ddb0cb5e00ca\", element=\"4363ad22-9ffe-465c-9cee-c19e0d0ba70e\")>,\n",
       " <selenium.webdriver.remote.webelement.WebElement (session=\"afc12200ad98b839eba8ddb0cb5e00ca\", element=\"e094dc31-c8b7-46c2-82f6-70761487faef\")>,\n",
       " <selenium.webdriver.remote.webelement.WebElement (session=\"afc12200ad98b839eba8ddb0cb5e00ca\", element=\"45936106-6d9f-44f2-b5ac-1ad89b75dcaa\")>,\n",
       " <selenium.webdriver.remote.webelement.WebElement (session=\"afc12200ad98b839eba8ddb0cb5e00ca\", element=\"1cbec7de-8a61-4f7e-8069-389c8c088191\")>,\n",
       " <selenium.webdriver.remote.webelement.WebElement (session=\"afc12200ad98b839eba8ddb0cb5e00ca\", element=\"77d94e79-c0d3-4a89-ba15-984adea7aa93\")>,\n",
       " <selenium.webdriver.remote.webelement.WebElement (session=\"afc12200ad98b839eba8ddb0cb5e00ca\", element=\"d86ba362-ffd5-4149-b0d9-40c9e7e9ac40\")>,\n",
       " <selenium.webdriver.remote.webelement.WebElement (session=\"afc12200ad98b839eba8ddb0cb5e00ca\", element=\"47115361-1254-4f28-a7ea-bf752ac90809\")>,\n",
       " <selenium.webdriver.remote.webelement.WebElement (session=\"afc12200ad98b839eba8ddb0cb5e00ca\", element=\"c80c42fb-6494-4c60-a261-3817db72aed6\")>,\n",
       " <selenium.webdriver.remote.webelement.WebElement (session=\"afc12200ad98b839eba8ddb0cb5e00ca\", element=\"5eec2881-2fa4-4eeb-b76e-a07eb5c065f3\")>,\n",
       " <selenium.webdriver.remote.webelement.WebElement (session=\"afc12200ad98b839eba8ddb0cb5e00ca\", element=\"6501f010-5ea4-4da8-b06f-0230bb94bda9\")>]"
      ]
     },
     "execution_count": 242,
     "metadata": {},
     "output_type": "execute_result"
    }
   ],
   "source": [
    "#let's extract all the tags having the product price\n",
    "price_tags=driver.find_elements_by_class_name(\"a-price-whole\")\n",
    "price_tags"
   ]
  },
  {
   "cell_type": "markdown",
   "id": "3df77e43",
   "metadata": {},
   "source": [
    "Now we have all the tags from next page in which there are product price.\n",
    "\n",
    "Now we will extract the text from these these tags one by one by looping over these tags."
   ]
  },
  {
   "cell_type": "code",
   "execution_count": 244,
   "id": "828420e6",
   "metadata": {},
   "outputs": [
    {
     "data": {
      "text/plain": [
       "['1,29,990',\n",
       " '77,990',\n",
       " '57,310',\n",
       " '86,990',\n",
       " '86,990',\n",
       " '89,990',\n",
       " '96,990',\n",
       " '19,990',\n",
       " '54,499',\n",
       " '38,990']"
      ]
     },
     "execution_count": 244,
     "metadata": {},
     "output_type": "execute_result"
    }
   ],
   "source": [
    "#now the text of the description is inside the tags extracted above\n",
    "#so we will run over a loop to iterate over the tags extracted above.\n",
    "for i in price_tags:\n",
    "    prices=i.text\n",
    "    price.append(prices)\n",
    "price[0:10]"
   ]
  },
  {
   "cell_type": "code",
   "execution_count": 251,
   "id": "91cc17e2",
   "metadata": {},
   "outputs": [],
   "source": [
    "url=('https://www.amazon.in/s?k=laptop&i=computers&rh=n%3A1375424031%2Cp_n_feature_thirteen_browse-bin%3A16757432031&dc&crid=ZCN1I513DOZV&qid=1651402786&rnid=12598141031&sprefix=laptop%2Caps%2C212&ref=sr_nr_p_n_feature_thirteen_browse-bin_12')\n",
    "driver.get(url)"
   ]
  },
  {
   "cell_type": "markdown",
   "id": "4f3419b2",
   "metadata": {},
   "source": [
    "so now let's make 3 empty list. In these lists the data will be stored while scraping.we have created 3 empty list for the features which we have to extract.\n",
    "title=[]\n",
    "ratings=[]\n",
    "price=[]"
   ]
  },
  {
   "cell_type": "code",
   "execution_count": 252,
   "id": "d07170a5",
   "metadata": {},
   "outputs": [],
   "source": [
    "title=[]\n",
    "ratings=[]\n",
    "price=[]"
   ]
  },
  {
   "cell_type": "markdown",
   "id": "054327bf",
   "metadata": {},
   "source": [
    "first we will extract the all the tags where we will have laptop titles."
   ]
  },
  {
   "cell_type": "code",
   "execution_count": 254,
   "id": "67611a9b",
   "metadata": {},
   "outputs": [
    {
     "data": {
      "text/plain": [
       "[<selenium.webdriver.remote.webelement.WebElement (session=\"afc12200ad98b839eba8ddb0cb5e00ca\", element=\"a0e6a8b9-022b-41c8-95de-af2a66e70620\")>,\n",
       " <selenium.webdriver.remote.webelement.WebElement (session=\"afc12200ad98b839eba8ddb0cb5e00ca\", element=\"192945fa-9526-4766-8652-c0e4bd4bb0f8\")>,\n",
       " <selenium.webdriver.remote.webelement.WebElement (session=\"afc12200ad98b839eba8ddb0cb5e00ca\", element=\"23b8723f-e100-4165-b7fa-6dfc63936394\")>,\n",
       " <selenium.webdriver.remote.webelement.WebElement (session=\"afc12200ad98b839eba8ddb0cb5e00ca\", element=\"9c10257c-6b13-4867-b98a-74776af57b5a\")>,\n",
       " <selenium.webdriver.remote.webelement.WebElement (session=\"afc12200ad98b839eba8ddb0cb5e00ca\", element=\"45de8179-22ec-4cb7-86ce-20d7814daa4e\")>,\n",
       " <selenium.webdriver.remote.webelement.WebElement (session=\"afc12200ad98b839eba8ddb0cb5e00ca\", element=\"6bc44359-6983-40ad-a747-c28478abd3b5\")>,\n",
       " <selenium.webdriver.remote.webelement.WebElement (session=\"afc12200ad98b839eba8ddb0cb5e00ca\", element=\"d84584c1-166c-4829-b9a3-37c504ef1c10\")>,\n",
       " <selenium.webdriver.remote.webelement.WebElement (session=\"afc12200ad98b839eba8ddb0cb5e00ca\", element=\"9df57132-1882-43c3-8670-66ad6638c142\")>,\n",
       " <selenium.webdriver.remote.webelement.WebElement (session=\"afc12200ad98b839eba8ddb0cb5e00ca\", element=\"77b3ee35-b922-40f3-a088-58cc6c79b501\")>,\n",
       " <selenium.webdriver.remote.webelement.WebElement (session=\"afc12200ad98b839eba8ddb0cb5e00ca\", element=\"6873c5a3-89d8-44ed-843a-24b8ba16f7a7\")>]"
      ]
     },
     "execution_count": 254,
     "metadata": {},
     "output_type": "execute_result"
    }
   ],
   "source": [
    "#let's extract all the tags having the laptop titles\n",
    "titles_tags=driver.find_elements_by_xpath('//h2[@class=\"a-size-mini a-spacing-none a-color-base s-line-clamp-2\"]')\n",
    "titles_tags[0:10]"
   ]
  },
  {
   "cell_type": "markdown",
   "id": "120e974a",
   "metadata": {},
   "source": [
    "Now we have all the tags in which there are laptop titles.\n",
    "\n",
    "now we will extract teh text from these these tags one by one by looping over these tags."
   ]
  },
  {
   "cell_type": "code",
   "execution_count": 255,
   "id": "f8d8dc0c",
   "metadata": {},
   "outputs": [
    {
     "data": {
      "text/plain": [
       "['Acer Predator Helios 300 11th Gen Intel Core i9-11900H 15.6\" (39.62cms) FHD IPS Gaming Laptop (16 GB/1TB SSD/Win 11 Home/6 GB Graphics/NVIDIA GeForce RTX 3060/360 Hz, Black, 2.3 kg) PH315-54',\n",
       " 'Acer Predator Helios 300 11th Gen Intel Core i9-11900H 15.6\" (39.62cms) FHD IPS Gaming Laptop (16 GB/1TB SSD/Win 11 Home/6 GB Graphics/NVIDIA GeForce RTX 3060/360 Hz, Black, 2.3 kg) PH315-54',\n",
       " 'ASUS ROG Strix SCAR 15 (2022), 15.6-inch (39.62 cms) 2K WQHD 240Hz/3ms, Core i9-12900H 12th Gen, RTX 3080 Ti 16GB Graphics, Gaming Laptop (32GB/1TB SSD/Win 11/Office 2021/Black/2.3 Kg), G533ZX-LN024WS',\n",
       " 'HP Envy 15- 11th Gen Intel Core i9/32GB/1TB SSD/15.6 inch(39.6 cm) 400 nits,4K AMOLED Touch, TUV + Win 11 Pro 64/NVIDIA GeForce RTX 3060 6GB Graphics/Alexa/FPR /B&O/2.14kg,15-ep1087TX, Natural Silver',\n",
       " 'ASUS ROG Strix Scar 15 (2022), 15.6-inch (39.62 cms) 2K WQHD 240Hz/3ms, Core i9-12900H 12th Gen, RTX 3070 Ti 8GB Graphics, Gaming Laptop (32GB/2TB SSD/Win 11/Office 2021/Black/2.3 Kg), G533ZW-LN106WS',\n",
       " 'ASUS ROG Strix Scar 15 (2022), 15.6\" (39.62 cms) 2K WQHD 240Hz/3ms, Intel Core i9-12900H 12th Gen, RTX 3070 Ti 8GB Graphics, Gaming Laptop (32GB/1TB SSD/Win 11/Office 2021/Black/2.3 kg) G533ZW-LN136WS',\n",
       " 'ASUS ROG Zephyrus M16 (2022), 16-inch (40.64 cms) 2K QHD 165Hz/3ms, Core i9-12900H 12th Gen, RTX 3080 Ti 16GB Graphics, Gaming Laptop (32GB/2TB SSD/Win 11/Office 2021/Black/2 Kg), GU603ZX-K8024WS',\n",
       " 'ASUS ROG Strix Scar 17 (2022), 17.3-inch (43.94 cms) 2K WQHD 240Hz/3ms, Core i9-12900H 12th Gen, RTX 3070 Ti 8GB Graphics, Gaming Laptop (32GB/2TB SSD/Win 11/Office 2021/Black/2.9 Kg), G733ZW-LL105WS',\n",
       " 'ASUS TUF Gaming F15 (2021), 15.6\" (39.62 cms) FHD 240Hz, Intel Core i9-11900H 11th Gen, GeForce RTX 3060 6GB Graphics, Gaming Laptop(16GB/1TB SSD/Office 2019/Windows 10/Gray/2.3 Kg), FX566HM-AZ096TS',\n",
       " '(Renewed) HP Omen 15-dh0139TX Gaming Laptop (9th Gen i9-9880H/16GB/1TB HDD + 512GB SSD/Win 10/8GB NVIDIA RTX 2080 Graphics) & Z3700 Wireless Mouse']"
      ]
     },
     "execution_count": 255,
     "metadata": {},
     "output_type": "execute_result"
    }
   ],
   "source": [
    "#now the text of the laptop titles is inside the tags extracted above\n",
    "#so we will run over a loop to iterate over the tags extracted above.\n",
    "for i in titles_tags:\n",
    "    titles=i.text\n",
    "    title.append(titles)\n",
    "title[0:10]"
   ]
  },
  {
   "cell_type": "markdown",
   "id": "a554bee5",
   "metadata": {},
   "source": [
    "first we will extract the all the tags where we will have laptop rating."
   ]
  },
  {
   "cell_type": "code",
   "execution_count": 261,
   "id": "1716a1db",
   "metadata": {},
   "outputs": [
    {
     "data": {
      "text/plain": [
       "[<selenium.webdriver.remote.webelement.WebElement (session=\"afc12200ad98b839eba8ddb0cb5e00ca\", element=\"db965e16-84b2-41ab-bc9f-d8582058b6ad\")>,\n",
       " <selenium.webdriver.remote.webelement.WebElement (session=\"afc12200ad98b839eba8ddb0cb5e00ca\", element=\"be220848-5e92-4803-9926-4e04f10ef66e\")>,\n",
       " <selenium.webdriver.remote.webelement.WebElement (session=\"afc12200ad98b839eba8ddb0cb5e00ca\", element=\"cd2d746a-a969-450e-934b-a9b7f5787cb6\")>,\n",
       " <selenium.webdriver.remote.webelement.WebElement (session=\"afc12200ad98b839eba8ddb0cb5e00ca\", element=\"f140cc06-8c66-43c8-8980-09ddaee600d5\")>,\n",
       " <selenium.webdriver.remote.webelement.WebElement (session=\"afc12200ad98b839eba8ddb0cb5e00ca\", element=\"c49744e7-d46b-457e-a545-d9676b20fb92\")>,\n",
       " <selenium.webdriver.remote.webelement.WebElement (session=\"afc12200ad98b839eba8ddb0cb5e00ca\", element=\"67176f0c-ba21-4989-bb2e-9a4f289384b1\")>,\n",
       " <selenium.webdriver.remote.webelement.WebElement (session=\"afc12200ad98b839eba8ddb0cb5e00ca\", element=\"747b7ecf-41d2-4752-9a59-96ff29ce992f\")>]"
      ]
     },
     "execution_count": 261,
     "metadata": {},
     "output_type": "execute_result"
    }
   ],
   "source": [
    "#let's extract all the tags having the laptop titles\n",
    "rating_tags=driver.find_elements_by_class_name('a-icon-alt')\n",
    "rating_tags[0:10]"
   ]
  },
  {
   "cell_type": "markdown",
   "id": "fa5284b7",
   "metadata": {},
   "source": [
    "Now we have all the tags in which there are product rating.\n",
    "\n",
    "Now we will extract the text from these these tags one by one by looping over these tags."
   ]
  },
  {
   "cell_type": "code",
   "execution_count": 262,
   "id": "d12bff4e",
   "metadata": {},
   "outputs": [
    {
     "data": {
      "text/plain": [
       "['', '', '', '', '', '', '', '']"
      ]
     },
     "execution_count": 262,
     "metadata": {},
     "output_type": "execute_result"
    }
   ],
   "source": [
    "#now the text of the ratings is inside the tags extracted above\n",
    "#so we will run over a loop to iterate over the tags extracted above.\n",
    "for i in rating_tags:\n",
    "    rating=i.text\n",
    "    ratings.append(rating)\n",
    "ratings[0:10]"
   ]
  },
  {
   "cell_type": "markdown",
   "id": "e3cc1932",
   "metadata": {},
   "source": [
    "first we will extract the all the tags from next page where we will have product price."
   ]
  },
  {
   "cell_type": "code",
   "execution_count": 263,
   "id": "c1c85857",
   "metadata": {},
   "outputs": [
    {
     "data": {
      "text/plain": [
       "[<selenium.webdriver.remote.webelement.WebElement (session=\"afc12200ad98b839eba8ddb0cb5e00ca\", element=\"815a4550-20ed-4368-a423-bdc9fec9bb3b\")>,\n",
       " <selenium.webdriver.remote.webelement.WebElement (session=\"afc12200ad98b839eba8ddb0cb5e00ca\", element=\"60ccb7d8-15a1-4efa-a8cf-a2eabd47ab2d\")>,\n",
       " <selenium.webdriver.remote.webelement.WebElement (session=\"afc12200ad98b839eba8ddb0cb5e00ca\", element=\"4808b589-775b-42b1-ade5-6d4dd84cbc23\")>,\n",
       " <selenium.webdriver.remote.webelement.WebElement (session=\"afc12200ad98b839eba8ddb0cb5e00ca\", element=\"f5038a14-cbbb-4412-9169-4dbac79b2223\")>,\n",
       " <selenium.webdriver.remote.webelement.WebElement (session=\"afc12200ad98b839eba8ddb0cb5e00ca\", element=\"8dd41f80-be97-49e3-b4f3-893bf4a2171c\")>,\n",
       " <selenium.webdriver.remote.webelement.WebElement (session=\"afc12200ad98b839eba8ddb0cb5e00ca\", element=\"d28847ad-a819-48b3-9935-ae92d98ae3ad\")>,\n",
       " <selenium.webdriver.remote.webelement.WebElement (session=\"afc12200ad98b839eba8ddb0cb5e00ca\", element=\"ff2f7733-489c-456f-9f90-f27aa9ea3701\")>,\n",
       " <selenium.webdriver.remote.webelement.WebElement (session=\"afc12200ad98b839eba8ddb0cb5e00ca\", element=\"0fc735e4-6e1b-48da-82b2-7c0d1d86958e\")>,\n",
       " <selenium.webdriver.remote.webelement.WebElement (session=\"afc12200ad98b839eba8ddb0cb5e00ca\", element=\"cbeaf51a-b9e2-4118-8dcb-48af420fc235\")>,\n",
       " <selenium.webdriver.remote.webelement.WebElement (session=\"afc12200ad98b839eba8ddb0cb5e00ca\", element=\"5c02d6e5-02bd-403e-8e61-a3f562f4ab52\")>,\n",
       " <selenium.webdriver.remote.webelement.WebElement (session=\"afc12200ad98b839eba8ddb0cb5e00ca\", element=\"967edb41-31b0-4495-a7e6-ae649d899c42\")>]"
      ]
     },
     "execution_count": 263,
     "metadata": {},
     "output_type": "execute_result"
    }
   ],
   "source": [
    "#let's extract all the tags having the product price\n",
    "price_tags=driver.find_elements_by_class_name(\"a-price-whole\")\n",
    "price_tags"
   ]
  },
  {
   "cell_type": "markdown",
   "id": "7289d387",
   "metadata": {},
   "source": [
    "Now we have all the tags from next page in which there are product price.\n",
    "\n",
    "Now we will extract the text from these these tags one by one by looping over these tags."
   ]
  },
  {
   "cell_type": "code",
   "execution_count": 264,
   "id": "02c9911c",
   "metadata": {},
   "outputs": [
    {
     "data": {
      "text/plain": [
       "['1,44,990',\n",
       " '1,44,990',\n",
       " '3,01,521',\n",
       " '2,02,990',\n",
       " '2,85,990',\n",
       " '2,33,119',\n",
       " '3,31,990',\n",
       " '1,69,990',\n",
       " '1,38,000',\n",
       " '2,25,000']"
      ]
     },
     "execution_count": 264,
     "metadata": {},
     "output_type": "execute_result"
    }
   ],
   "source": [
    "#now the text of the description is inside the tags extracted above\n",
    "#so we will run over a loop to iterate over the tags extracted above.\n",
    "for i in price_tags:\n",
    "    prices=i.text\n",
    "    price.append(prices)\n",
    "price[0:10]"
   ]
  },
  {
   "cell_type": "raw",
   "id": "553d4c94",
   "metadata": {},
   "source": [
    "Q9: Write a python program to scrape data for first 10 job results for Data Scientist Designation in Noida location. You have to scrape company name, No. of days ago when job was posted, Rating of the company. This task will be done in following steps:\n",
    "1. First get the webpage https://www.ambitionbox.com/\n",
    "2. Click on the Job option as shown in the image\n",
    "3. After reaching to the next webpage, In place of “Search by Designations, Companies, Skills” enter “Data Scientist” and click on search button.\n",
    "4. You will reach to the following web page click on location and in place of “Search location” enter “Noida” and select location “Noida”.\n",
    "5. Then scrape the data for the first 10 jobs results you get on the above shown page.\n",
    "6. Finally create a dataframe of the scraped data."
   ]
  },
  {
   "cell_type": "code",
   "execution_count": 285,
   "id": "adf6d4d2",
   "metadata": {},
   "outputs": [],
   "source": [
    "#specifying the url of the webpage to be scraped\n",
    "page='https://www.ambitionbox.com/jobs/search?tag=Data%20Scientist&location=Noida'\n",
    "driver.get(page)"
   ]
  },
  {
   "cell_type": "markdown",
   "id": "ab0790d1",
   "metadata": {},
   "source": [
    "so now let's make 3 empty list. In these lists the data will be stored while scraping.we have created 3 empty list for the features which we have to extract.\n",
    "\n",
    "1.company_name=[]\n",
    "2.job_post_Day=[]\n",
    "3.rating=[]"
   ]
  },
  {
   "cell_type": "code",
   "execution_count": 286,
   "id": "114997a5",
   "metadata": {},
   "outputs": [],
   "source": [
    "company_name=[]\n",
    "job_post_Day=[]\n",
    "rating=[]"
   ]
  },
  {
   "cell_type": "markdown",
   "id": "a7f66954",
   "metadata": {},
   "source": [
    "first we will extract the all the tags where we will have comapny name."
   ]
  },
  {
   "cell_type": "code",
   "execution_count": 295,
   "id": "31358b52",
   "metadata": {},
   "outputs": [
    {
     "data": {
      "text/plain": [
       "[]"
      ]
     },
     "execution_count": 295,
     "metadata": {},
     "output_type": "execute_result"
    }
   ],
   "source": [
    "#let's extract all the tags from the web page having the company name\n",
    "name_tags=driver.find_elements_by_xpath('//div[@class=\"jobInfoCard active\"]/h3[1]')\n",
    "name_tags"
   ]
  },
  {
   "cell_type": "markdown",
   "id": "20d8fce5",
   "metadata": {},
   "source": [
    "Now we have all the tags from web page in which there are company names.\n",
    "\n",
    "Now we will extract the text from these these tags one by one by looping over these tags."
   ]
  },
  {
   "cell_type": "code",
   "execution_count": 294,
   "id": "a998e158",
   "metadata": {},
   "outputs": [
    {
     "data": {
      "text/plain": [
       "['GENPACT India Private Limited',\n",
       " 'Machine Learning Engineer\\nGENPACT India Private Limited\\n4.0\\n(17k Reviews)\\n7-10 Yrs\\nNot Disclosed\\nGurgaon/Gurugram, Noida\\ndeep learning, nlp, Natural Language Processing +2 more\\n4d ago·via naukri.com']"
      ]
     },
     "execution_count": 294,
     "metadata": {},
     "output_type": "execute_result"
    }
   ],
   "source": [
    "#now the text of the company name is inside the tags extracted above\n",
    "#so we will run over a loop to iterate over the tags extracted above.\n",
    "for i in name_tags:\n",
    "    names=i.text\n",
    "    company_name.append(names)\n",
    "company_name"
   ]
  },
  {
   "cell_type": "markdown",
   "id": "f5bb6d1f",
   "metadata": {},
   "source": [
    "first we will extract the all the tags where we will have job post date."
   ]
  },
  {
   "cell_type": "code",
   "execution_count": 296,
   "id": "d0661ae3",
   "metadata": {},
   "outputs": [
    {
     "data": {
      "text/plain": [
       "[<selenium.webdriver.remote.webelement.WebElement (session=\"afc12200ad98b839eba8ddb0cb5e00ca\", element=\"afdb8e91-bd54-4f12-819e-7ff22a3ee713\")>]"
      ]
     },
     "execution_count": 296,
     "metadata": {},
     "output_type": "execute_result"
    }
   ],
   "source": [
    "date_tags=driver.find_elements_by_xpath('//p[@class=\"postedon\"]')\n",
    "date_tags[0:10]"
   ]
  },
  {
   "cell_type": "markdown",
   "id": "3b9a86bd",
   "metadata": {},
   "source": [
    "Now we have all the tags in which there are job post date  description.\n",
    "\n",
    "now we will extract teh text from these these tags one by one by looping over these tags."
   ]
  },
  {
   "cell_type": "code",
   "execution_count": 297,
   "id": "dac726e1",
   "metadata": {},
   "outputs": [
    {
     "data": {
      "text/plain": [
       "['posted 5d ago']"
      ]
     },
     "execution_count": 297,
     "metadata": {},
     "output_type": "execute_result"
    }
   ],
   "source": [
    "#now the text of the job post date description is inside the tags extracted above\n",
    "#so we will run over a loop to iterate over the tags extracted above.\n",
    "for i in date_tags:\n",
    "    dates=i.text\n",
    "    job_post_Day.append(dates)\n",
    "job_post_Day[0:10]"
   ]
  },
  {
   "cell_type": "raw",
   "id": "3173d9ec",
   "metadata": {},
   "source": [
    "Q10: Write a python program to scrape the salary data for Data Scientist designation.\n",
    "You have to scrape Company name, Number of salaries, Average salary, Minsalary, Max Salary.\n",
    "The above task will be, done as shown in the below steps:\n",
    "1. First get the webpage https://www.ambitionbox.com/\n",
    "2. Click on the salaries option as shown in the image.\n",
    "3. After reaching to the following webpage, In place of “Search Job Profile” enters “Data Scientist” and then click on “Data Scientist”.\n",
    "You have to scrape the data ticked in the above image.\n",
    "4. Scrape the data for the first 10 companies. Scrape the company name, total salary record, average salary, minimum salary, maximum salary, experience required.\n",
    "5. Store the data in a dataframe."
   ]
  },
  {
   "cell_type": "code",
   "execution_count": 346,
   "id": "dcdd246d",
   "metadata": {},
   "outputs": [],
   "source": [
    "#specifying the url of the webpage to be scraped\n",
    "url='https://www.ambitionbox.com/salaries'\n",
    "driver.get(url)"
   ]
  },
  {
   "cell_type": "markdown",
   "id": "752ff9e7",
   "metadata": {},
   "source": [
    "so now let's make 6 empty list. In these lists the data will be stored while scraping.we have created 6 empty list for the features which we have to extract.\n"
   ]
  },
  {
   "cell_type": "code",
   "execution_count": 351,
   "id": "918ea6bd",
   "metadata": {},
   "outputs": [],
   "source": [
    "company_name=[]\n",
    "total_Salary_record=[]\n",
    "average_salary=[]\n",
    "min_salary=[]\n",
    "max_salary=[]\n",
    "exp_required=[]"
   ]
  },
  {
   "cell_type": "markdown",
   "id": "8da2318e",
   "metadata": {},
   "source": [
    "first we will extract the all the tags where we will have company name."
   ]
  },
  {
   "cell_type": "code",
   "execution_count": 352,
   "id": "e26dfc94",
   "metadata": {},
   "outputs": [
    {
     "data": {
      "text/plain": [
       "[<selenium.webdriver.remote.webelement.WebElement (session=\"afc12200ad98b839eba8ddb0cb5e00ca\", element=\"b92f9d6c-d8f5-449c-8640-5aa99593e87b\")>,\n",
       " <selenium.webdriver.remote.webelement.WebElement (session=\"afc12200ad98b839eba8ddb0cb5e00ca\", element=\"17e00845-baf0-41ed-8173-1f14f210e68f\")>,\n",
       " <selenium.webdriver.remote.webelement.WebElement (session=\"afc12200ad98b839eba8ddb0cb5e00ca\", element=\"bb7fa11d-0997-4de8-9c46-0c75723aaaa6\")>,\n",
       " <selenium.webdriver.remote.webelement.WebElement (session=\"afc12200ad98b839eba8ddb0cb5e00ca\", element=\"c850e9b8-18fe-42cb-8326-6951b729bc47\")>,\n",
       " <selenium.webdriver.remote.webelement.WebElement (session=\"afc12200ad98b839eba8ddb0cb5e00ca\", element=\"031e0220-1b62-4162-8721-b92e94d65eec\")>,\n",
       " <selenium.webdriver.remote.webelement.WebElement (session=\"afc12200ad98b839eba8ddb0cb5e00ca\", element=\"a55bb9c8-3701-4f6b-ab0e-f55d7b0e5fdb\")>,\n",
       " <selenium.webdriver.remote.webelement.WebElement (session=\"afc12200ad98b839eba8ddb0cb5e00ca\", element=\"252c9016-3068-449c-ab88-aa6ddd35e1a8\")>,\n",
       " <selenium.webdriver.remote.webelement.WebElement (session=\"afc12200ad98b839eba8ddb0cb5e00ca\", element=\"d83e395d-d5fc-4317-9633-134b6be703d2\")>,\n",
       " <selenium.webdriver.remote.webelement.WebElement (session=\"afc12200ad98b839eba8ddb0cb5e00ca\", element=\"8047c5bf-99ac-4c6c-8f8a-fc09f3f6b970\")>,\n",
       " <selenium.webdriver.remote.webelement.WebElement (session=\"afc12200ad98b839eba8ddb0cb5e00ca\", element=\"84c8601b-5dce-4b0a-85e7-a7d8681171d3\")>]"
      ]
     },
     "execution_count": 352,
     "metadata": {},
     "output_type": "execute_result"
    }
   ],
   "source": [
    "name_tags=driver.find_elements_by_xpath('//div[@class=\"name\"]/a[1]')\n",
    "name_tags[0:10]"
   ]
  },
  {
   "cell_type": "markdown",
   "id": "81c25808",
   "metadata": {},
   "source": [
    "Now we have all the tags in which there are company names.\n",
    "\n",
    "now we will extract the text from these these tags one by one by looping over these tags."
   ]
  },
  {
   "cell_type": "code",
   "execution_count": 353,
   "id": "33e7d128",
   "metadata": {},
   "outputs": [
    {
     "data": {
      "text/plain": [
       "['Walmart',\n",
       " 'Ab Inbev',\n",
       " 'Reliance Jio',\n",
       " 'ZS',\n",
       " 'Optum',\n",
       " 'Fractal Analytics',\n",
       " 'Tiger Analytics',\n",
       " 'UnitedHealth',\n",
       " 'Verizon',\n",
       " 'Ganit Business Solutions']"
      ]
     },
     "execution_count": 353,
     "metadata": {},
     "output_type": "execute_result"
    }
   ],
   "source": [
    "for i in name_tags:\n",
    "    company_names=i.text\n",
    "    company_name.append(company_names)\n",
    "company_name[0:10]"
   ]
  },
  {
   "cell_type": "markdown",
   "id": "91a717c5",
   "metadata": {},
   "source": [
    "Now we will extract the html tags where we have the total salary record."
   ]
  },
  {
   "cell_type": "code",
   "execution_count": 354,
   "id": "c4e2baab",
   "metadata": {},
   "outputs": [
    {
     "data": {
      "text/plain": [
       "[<selenium.webdriver.remote.webelement.WebElement (session=\"afc12200ad98b839eba8ddb0cb5e00ca\", element=\"aa1dbce8-fc52-420f-972e-ae7911046616\")>,\n",
       " <selenium.webdriver.remote.webelement.WebElement (session=\"afc12200ad98b839eba8ddb0cb5e00ca\", element=\"d240e63f-4e26-4e6c-972c-a28614d3e80c\")>,\n",
       " <selenium.webdriver.remote.webelement.WebElement (session=\"afc12200ad98b839eba8ddb0cb5e00ca\", element=\"32b595db-84b3-405e-9b5e-946ce743f06d\")>,\n",
       " <selenium.webdriver.remote.webelement.WebElement (session=\"afc12200ad98b839eba8ddb0cb5e00ca\", element=\"38efbbd8-2b45-4d11-9939-b9dca89b40ff\")>,\n",
       " <selenium.webdriver.remote.webelement.WebElement (session=\"afc12200ad98b839eba8ddb0cb5e00ca\", element=\"3c52bbc0-0402-45ae-b9ac-3518b0ab1788\")>,\n",
       " <selenium.webdriver.remote.webelement.WebElement (session=\"afc12200ad98b839eba8ddb0cb5e00ca\", element=\"834147ea-3a9b-4879-a6af-239c9cbe2222\")>,\n",
       " <selenium.webdriver.remote.webelement.WebElement (session=\"afc12200ad98b839eba8ddb0cb5e00ca\", element=\"16830582-b0d8-4aed-8f0a-bc2fe49d50a6\")>,\n",
       " <selenium.webdriver.remote.webelement.WebElement (session=\"afc12200ad98b839eba8ddb0cb5e00ca\", element=\"5548446a-16ac-4ac0-9588-8f201bae0917\")>,\n",
       " <selenium.webdriver.remote.webelement.WebElement (session=\"afc12200ad98b839eba8ddb0cb5e00ca\", element=\"48a177d7-af65-42b9-81d9-f9ba755a119b\")>,\n",
       " <selenium.webdriver.remote.webelement.WebElement (session=\"afc12200ad98b839eba8ddb0cb5e00ca\", element=\"97972efe-da71-4600-82bd-7dda0f2ba5f7\")>]"
      ]
     },
     "execution_count": 354,
     "metadata": {},
     "output_type": "execute_result"
    }
   ],
   "source": [
    "salary_tags=driver.find_elements_by_xpath('//div[@class=\"name\"]/span[1]')\n",
    "salary_tags[0:10]"
   ]
  },
  {
   "cell_type": "markdown",
   "id": "896d2cb1",
   "metadata": {},
   "source": [
    "Now we have all the tags in which there are total salary record data.\n",
    "\n",
    "now we will extract the text from these these tags one by one by looping over these tags."
   ]
  },
  {
   "cell_type": "code",
   "execution_count": 355,
   "id": "058517c6",
   "metadata": {},
   "outputs": [
    {
     "data": {
      "text/plain": [
       "['based on 11 salaries',\n",
       " 'based on 32 salaries',\n",
       " 'based on 10 salaries',\n",
       " 'based on 15 salaries',\n",
       " 'based on 27 salaries',\n",
       " 'based on 81 salaries',\n",
       " 'based on 46 salaries',\n",
       " 'based on 53 salaries',\n",
       " 'based on 14 salaries',\n",
       " 'based on 13 salaries']"
      ]
     },
     "execution_count": 355,
     "metadata": {},
     "output_type": "execute_result"
    }
   ],
   "source": [
    "for i in salary_tags:\n",
    "    salaries=i.text\n",
    "    total_Salary_record.append(salaries)\n",
    "total_Salary_record[0:10]"
   ]
  },
  {
   "cell_type": "markdown",
   "id": "dea6070e",
   "metadata": {},
   "source": [
    "Now we will extract the html tags where we have the average salary."
   ]
  },
  {
   "cell_type": "code",
   "execution_count": 356,
   "id": "54052484",
   "metadata": {},
   "outputs": [
    {
     "data": {
      "text/plain": [
       "[<selenium.webdriver.remote.webelement.WebElement (session=\"afc12200ad98b839eba8ddb0cb5e00ca\", element=\"2f1ac07b-782b-4385-9ef6-79c7899bb65d\")>,\n",
       " <selenium.webdriver.remote.webelement.WebElement (session=\"afc12200ad98b839eba8ddb0cb5e00ca\", element=\"528f5de3-2607-43ab-a045-cfb4892b7cc6\")>,\n",
       " <selenium.webdriver.remote.webelement.WebElement (session=\"afc12200ad98b839eba8ddb0cb5e00ca\", element=\"fc0022a8-85ff-4719-b98d-7de3e3aaf97f\")>,\n",
       " <selenium.webdriver.remote.webelement.WebElement (session=\"afc12200ad98b839eba8ddb0cb5e00ca\", element=\"46ac3088-257d-4ae0-8557-41b01f54db9e\")>,\n",
       " <selenium.webdriver.remote.webelement.WebElement (session=\"afc12200ad98b839eba8ddb0cb5e00ca\", element=\"4a8bb2a4-18ef-4976-a2f4-e3c2f2d326d4\")>,\n",
       " <selenium.webdriver.remote.webelement.WebElement (session=\"afc12200ad98b839eba8ddb0cb5e00ca\", element=\"c3191504-2738-4046-a035-99c31a67f4c0\")>,\n",
       " <selenium.webdriver.remote.webelement.WebElement (session=\"afc12200ad98b839eba8ddb0cb5e00ca\", element=\"d6591956-3869-456f-a9cd-c31ca5d3b792\")>,\n",
       " <selenium.webdriver.remote.webelement.WebElement (session=\"afc12200ad98b839eba8ddb0cb5e00ca\", element=\"25d63c2d-c173-4543-95ba-b3a2e70c2fa6\")>,\n",
       " <selenium.webdriver.remote.webelement.WebElement (session=\"afc12200ad98b839eba8ddb0cb5e00ca\", element=\"cb26cb4e-0cc4-460a-9267-7a8ff631837a\")>,\n",
       " <selenium.webdriver.remote.webelement.WebElement (session=\"afc12200ad98b839eba8ddb0cb5e00ca\", element=\"876a6da1-4b9b-4839-8d6a-7ed71ba31528\")>]"
      ]
     },
     "execution_count": 356,
     "metadata": {},
     "output_type": "execute_result"
    }
   ],
   "source": [
    "avg_salary_tags=driver.find_elements_by_xpath('//div[@class=\"average-indicator-wrapper\"]/p[1]')\n",
    "avg_salary_tags[0:10]"
   ]
  },
  {
   "cell_type": "markdown",
   "id": "b809d234",
   "metadata": {},
   "source": [
    "Now we have all the tags in which there are average salary record data.\n",
    "\n",
    "now we will extract the text from these these tags one by one by looping over these tags."
   ]
  },
  {
   "cell_type": "code",
   "execution_count": 357,
   "id": "4c0cbef8",
   "metadata": {},
   "outputs": [
    {
     "data": {
      "text/plain": [
       "['₹ 29.7L',\n",
       " '₹ 20.5L',\n",
       " '₹ 18.9L',\n",
       " '₹ 15.9L',\n",
       " '₹ 15.2L',\n",
       " '₹ 15.2L',\n",
       " '₹ 14.8L',\n",
       " '₹ 14.0L',\n",
       " '₹ 12.7L',\n",
       " '₹ 12.4L']"
      ]
     },
     "execution_count": 357,
     "metadata": {},
     "output_type": "execute_result"
    }
   ],
   "source": [
    "for i in avg_salary_tags:\n",
    "    salaries=i.text\n",
    "    average_salary.append(salaries)\n",
    "average_salary[0:10]"
   ]
  },
  {
   "cell_type": "markdown",
   "id": "a647f378",
   "metadata": {},
   "source": [
    "Now we will extract the html tags where we have the minimum salary."
   ]
  },
  {
   "cell_type": "code",
   "execution_count": 358,
   "id": "5b1484a4",
   "metadata": {},
   "outputs": [
    {
     "data": {
      "text/plain": [
       "[<selenium.webdriver.remote.webelement.WebElement (session=\"afc12200ad98b839eba8ddb0cb5e00ca\", element=\"0d86b5ca-e5e9-41d3-90ba-873ec3d7d14c\")>,\n",
       " <selenium.webdriver.remote.webelement.WebElement (session=\"afc12200ad98b839eba8ddb0cb5e00ca\", element=\"fe0053e3-484f-4f6e-9821-ade5e7363c75\")>,\n",
       " <selenium.webdriver.remote.webelement.WebElement (session=\"afc12200ad98b839eba8ddb0cb5e00ca\", element=\"398e38b5-699c-4635-a10c-b56011ce9d33\")>,\n",
       " <selenium.webdriver.remote.webelement.WebElement (session=\"afc12200ad98b839eba8ddb0cb5e00ca\", element=\"f962c7b6-9e92-4b31-a343-2179e31dfb32\")>,\n",
       " <selenium.webdriver.remote.webelement.WebElement (session=\"afc12200ad98b839eba8ddb0cb5e00ca\", element=\"1d8ed9e5-c896-4119-b685-3a31b7521e2c\")>,\n",
       " <selenium.webdriver.remote.webelement.WebElement (session=\"afc12200ad98b839eba8ddb0cb5e00ca\", element=\"4eb37e61-c649-43ef-bf10-39a6749e692c\")>,\n",
       " <selenium.webdriver.remote.webelement.WebElement (session=\"afc12200ad98b839eba8ddb0cb5e00ca\", element=\"b7d46592-0651-40c0-91b8-e68722080332\")>,\n",
       " <selenium.webdriver.remote.webelement.WebElement (session=\"afc12200ad98b839eba8ddb0cb5e00ca\", element=\"4e65501f-0ea6-4e06-8182-85c88050f6ea\")>,\n",
       " <selenium.webdriver.remote.webelement.WebElement (session=\"afc12200ad98b839eba8ddb0cb5e00ca\", element=\"e612f728-105c-4655-9d73-670c2e69cfbe\")>,\n",
       " <selenium.webdriver.remote.webelement.WebElement (session=\"afc12200ad98b839eba8ddb0cb5e00ca\", element=\"ce0e0b2c-ba87-40f2-b901-65fe938917ea\")>]"
      ]
     },
     "execution_count": 358,
     "metadata": {},
     "output_type": "execute_result"
    }
   ],
   "source": [
    "min_salary_tags=driver.find_elements_by_xpath('//div[@class=\"value body-medium\"]')\n",
    "min_salary_tags[0:10]"
   ]
  },
  {
   "cell_type": "markdown",
   "id": "96287e87",
   "metadata": {},
   "source": [
    "Now we have all the tags in which there are minimum salary record data.\n",
    "\n",
    "now we will extract the text from these these tags one by one by looping over these tags."
   ]
  },
  {
   "cell_type": "code",
   "execution_count": 361,
   "id": "374765ce",
   "metadata": {},
   "outputs": [
    {
     "data": {
      "text/plain": [
       "['₹ 25.0L',\n",
       " '₹ 35.0L',\n",
       " '₹ 15.0L',\n",
       " '₹ 25.5L',\n",
       " '₹ 5.6L',\n",
       " '₹ 26.2L',\n",
       " '₹ 9.8L',\n",
       " '₹ 20.0L',\n",
       " '₹ 11.0L',\n",
       " '₹ 22.0L']"
      ]
     },
     "execution_count": 361,
     "metadata": {},
     "output_type": "execute_result"
    }
   ],
   "source": [
    "for i in min_salary_tags:\n",
    "    salaries=i.text\n",
    "    min_salary.append(salaries)\n",
    "min_salary[0:10]"
   ]
  },
  {
   "cell_type": "markdown",
   "id": "bc04d7fe",
   "metadata": {},
   "source": [
    "Now we will extract the html tags where we have the maximum salary."
   ]
  },
  {
   "cell_type": "code",
   "execution_count": 362,
   "id": "d0175d34",
   "metadata": {},
   "outputs": [
    {
     "data": {
      "text/plain": [
       "[<selenium.webdriver.remote.webelement.WebElement (session=\"afc12200ad98b839eba8ddb0cb5e00ca\", element=\"0d86b5ca-e5e9-41d3-90ba-873ec3d7d14c\")>,\n",
       " <selenium.webdriver.remote.webelement.WebElement (session=\"afc12200ad98b839eba8ddb0cb5e00ca\", element=\"fe0053e3-484f-4f6e-9821-ade5e7363c75\")>,\n",
       " <selenium.webdriver.remote.webelement.WebElement (session=\"afc12200ad98b839eba8ddb0cb5e00ca\", element=\"398e38b5-699c-4635-a10c-b56011ce9d33\")>,\n",
       " <selenium.webdriver.remote.webelement.WebElement (session=\"afc12200ad98b839eba8ddb0cb5e00ca\", element=\"f962c7b6-9e92-4b31-a343-2179e31dfb32\")>,\n",
       " <selenium.webdriver.remote.webelement.WebElement (session=\"afc12200ad98b839eba8ddb0cb5e00ca\", element=\"1d8ed9e5-c896-4119-b685-3a31b7521e2c\")>,\n",
       " <selenium.webdriver.remote.webelement.WebElement (session=\"afc12200ad98b839eba8ddb0cb5e00ca\", element=\"4eb37e61-c649-43ef-bf10-39a6749e692c\")>,\n",
       " <selenium.webdriver.remote.webelement.WebElement (session=\"afc12200ad98b839eba8ddb0cb5e00ca\", element=\"b7d46592-0651-40c0-91b8-e68722080332\")>,\n",
       " <selenium.webdriver.remote.webelement.WebElement (session=\"afc12200ad98b839eba8ddb0cb5e00ca\", element=\"4e65501f-0ea6-4e06-8182-85c88050f6ea\")>,\n",
       " <selenium.webdriver.remote.webelement.WebElement (session=\"afc12200ad98b839eba8ddb0cb5e00ca\", element=\"e612f728-105c-4655-9d73-670c2e69cfbe\")>,\n",
       " <selenium.webdriver.remote.webelement.WebElement (session=\"afc12200ad98b839eba8ddb0cb5e00ca\", element=\"ce0e0b2c-ba87-40f2-b901-65fe938917ea\")>]"
      ]
     },
     "execution_count": 362,
     "metadata": {},
     "output_type": "execute_result"
    }
   ],
   "source": [
    "max_salary_tags=driver.find_elements_by_xpath('//div[@class=\"value body-medium\"]')\n",
    "max_salary_tags[0:10]"
   ]
  },
  {
   "cell_type": "markdown",
   "id": "9e499108",
   "metadata": {},
   "source": [
    "Now we have all the tags in which there are maximum salary record data.\n",
    "\n",
    "now we will extract the text from these these tags one by one by looping over these tags."
   ]
  },
  {
   "cell_type": "code",
   "execution_count": 363,
   "id": "5ed513d6",
   "metadata": {},
   "outputs": [
    {
     "data": {
      "text/plain": [
       "['₹ 25.0L',\n",
       " '₹ 35.0L',\n",
       " '₹ 15.0L',\n",
       " '₹ 25.5L',\n",
       " '₹ 5.6L',\n",
       " '₹ 26.2L',\n",
       " '₹ 9.8L',\n",
       " '₹ 20.0L',\n",
       " '₹ 11.0L',\n",
       " '₹ 22.0L']"
      ]
     },
     "execution_count": 363,
     "metadata": {},
     "output_type": "execute_result"
    }
   ],
   "source": [
    "for i in max_salary_tags:\n",
    "    salary=i.text\n",
    "    max_salary.append(salary)\n",
    "max_salary[0:10]              "
   ]
  },
  {
   "cell_type": "markdown",
   "id": "789711b5",
   "metadata": {},
   "source": [
    "Now we will extract the html tags where we have the experience."
   ]
  },
  {
   "cell_type": "code",
   "execution_count": 364,
   "id": "d87eecb4",
   "metadata": {},
   "outputs": [
    {
     "data": {
      "text/plain": [
       "[<selenium.webdriver.remote.webelement.WebElement (session=\"afc12200ad98b839eba8ddb0cb5e00ca\", element=\"71b90dfa-c996-4744-800f-5f1d2007a068\")>,\n",
       " <selenium.webdriver.remote.webelement.WebElement (session=\"afc12200ad98b839eba8ddb0cb5e00ca\", element=\"836a5d88-9c83-4307-84ff-7e27ef807c4c\")>,\n",
       " <selenium.webdriver.remote.webelement.WebElement (session=\"afc12200ad98b839eba8ddb0cb5e00ca\", element=\"2b31bcf6-584e-4ebd-a467-be5acd62d258\")>,\n",
       " <selenium.webdriver.remote.webelement.WebElement (session=\"afc12200ad98b839eba8ddb0cb5e00ca\", element=\"b01da28b-49b3-4b12-9937-15683800bdb8\")>,\n",
       " <selenium.webdriver.remote.webelement.WebElement (session=\"afc12200ad98b839eba8ddb0cb5e00ca\", element=\"72f41b9f-ea26-49ff-a0b1-0dafa2e94fbd\")>,\n",
       " <selenium.webdriver.remote.webelement.WebElement (session=\"afc12200ad98b839eba8ddb0cb5e00ca\", element=\"4ccfe6a3-35a7-4f79-99c6-718d97c8013c\")>,\n",
       " <selenium.webdriver.remote.webelement.WebElement (session=\"afc12200ad98b839eba8ddb0cb5e00ca\", element=\"bb893239-60ed-4a4f-b0b3-8e6c0e318b12\")>,\n",
       " <selenium.webdriver.remote.webelement.WebElement (session=\"afc12200ad98b839eba8ddb0cb5e00ca\", element=\"8f6068cd-8e64-4ec7-aaef-799298c265bf\")>,\n",
       " <selenium.webdriver.remote.webelement.WebElement (session=\"afc12200ad98b839eba8ddb0cb5e00ca\", element=\"918f73a8-9f49-48a4-94b5-86d05bd86623\")>,\n",
       " <selenium.webdriver.remote.webelement.WebElement (session=\"afc12200ad98b839eba8ddb0cb5e00ca\", element=\"cad1a799-8fa7-460d-830e-13b2a2f0fd87\")>]"
      ]
     },
     "execution_count": 364,
     "metadata": {},
     "output_type": "execute_result"
    }
   ],
   "source": [
    "experience=driver.find_elements_by_xpath('//div[@class=\"salaries sbold-list-header\"]')\n",
    "experience[0:10]"
   ]
  },
  {
   "cell_type": "markdown",
   "id": "2e90dcf6",
   "metadata": {},
   "source": [
    "Now we have all the tags in which there are experience required data.\n",
    "\n",
    "now we will extract the text from these these tags one by one by looping over these tags."
   ]
  },
  {
   "cell_type": "code",
   "execution_count": 365,
   "id": "acf81a9d",
   "metadata": {},
   "outputs": [
    {
     "data": {
      "text/plain": [
       "['Data Scientist\\n . \\n3 yrs exp',\n",
       " 'Data Scientist\\n . \\n3-4 yrs exp',\n",
       " 'Data Scientist\\n . \\n4 yrs exp',\n",
       " 'Data Scientist\\n . \\n2 yrs exp',\n",
       " 'Data Scientist\\n . \\n3-4 yrs exp',\n",
       " 'Data Scientist\\n . \\n2-4 yrs exp',\n",
       " 'Data Scientist\\n . \\n2-4 yrs exp',\n",
       " 'Data Scientist\\n . \\n2-4 yrs exp',\n",
       " 'Data Scientist\\n . \\n4 yrs exp',\n",
       " 'Data Scientist\\n . \\n4 yrs exp']"
      ]
     },
     "execution_count": 365,
     "metadata": {},
     "output_type": "execute_result"
    }
   ],
   "source": [
    "for i in experience:\n",
    "    exp=i.text\n",
    "    exp_required.append(exp)\n",
    "exp_required[0:10]              "
   ]
  },
  {
   "cell_type": "code",
   "execution_count": null,
   "id": "5e32dfc3",
   "metadata": {},
   "outputs": [],
   "source": []
  }
 ],
 "metadata": {
  "kernelspec": {
   "display_name": "Python 3",
   "language": "python",
   "name": "python3"
  },
  "language_info": {
   "codemirror_mode": {
    "name": "ipython",
    "version": 3
   },
   "file_extension": ".py",
   "mimetype": "text/x-python",
   "name": "python",
   "nbconvert_exporter": "python",
   "pygments_lexer": "ipython3",
   "version": "3.8.8"
  }
 },
 "nbformat": 4,
 "nbformat_minor": 5
}
