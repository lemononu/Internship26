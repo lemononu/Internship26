{
 "cells": [
  {
   "cell_type": "code",
   "execution_count": 13,
   "id": "dbe9403e",
   "metadata": {},
   "outputs": [],
   "source": [
    "#let's now import all the required libraries\n",
    "import selenium\n",
    "import pandas as pd\n",
    "from selenium import webdriver\n",
    "import warnings\n",
    "warnings.filterwarnings('ignore')\n",
    "import time"
   ]
  },
  {
   "cell_type": "code",
   "execution_count": 2,
   "id": "d55125c2",
   "metadata": {},
   "outputs": [
    {
     "data": {
      "text/plain": [
       "<selenium.webdriver.chrome.webdriver.WebDriver (session=\"42facbecf8f618c282188155b12bf313\")>"
      ]
     },
     "execution_count": 2,
     "metadata": {},
     "output_type": "execute_result"
    }
   ],
   "source": [
    "#let's first connect to the web driver\n",
    "driver=webdriver.Chrome('/Users/rishi/Downloads/chromedriver 9')\n",
    "driver\n"
   ]
  },
  {
   "cell_type": "code",
   "execution_count": 3,
   "id": "66fb523d",
   "metadata": {},
   "outputs": [],
   "source": [
    "driver.get('https://www.yatra.com/')"
   ]
  },
  {
   "cell_type": "code",
   "execution_count": 17,
   "id": "6f30a801",
   "metadata": {},
   "outputs": [
    {
     "data": {
      "text/plain": [
       "'https://flight.yatra.com/air-search-ui/dom2/trigger?type=O&viewName=normal&flexi=0&noOfSegments=1&origin=DEL&originCountry=IN&destination=BOM&destinationCountry=IN&flight_depart_date=21%2F07%2F2022&ADT=1&CHD=0&INF=0&class=Economy&source=fresco-home&unqvaldesktop=326556923191'"
      ]
     },
     "execution_count": 17,
     "metadata": {},
     "output_type": "execute_result"
    }
   ],
   "source": [
    "#specifying the url of the webpage to be scraped\n",
    "url='https://flight.yatra.com/air-search-ui/dom2/trigger?type=O&viewName=normal&flexi=0&noOfSegments=1&origin=DEL&originCountry=IN&destination=BOM&destinationCountry=IN&flight_depart_date=21%2F07%2F2022&ADT=1&CHD=0&INF=0&class=Economy&source=fresco-home&unqvaldesktop=326556923191'\n",
    "url"
   ]
  },
  {
   "cell_type": "code",
   "execution_count": 18,
   "id": "e476819b",
   "metadata": {},
   "outputs": [],
   "source": [
    "driver.get(url)"
   ]
  },
  {
   "cell_type": "code",
   "execution_count": 19,
   "id": "abe1078d",
   "metadata": {},
   "outputs": [],
   "source": [
    "airline=[]\n",
    "depart=[]\n",
    "arrive=[]\n",
    "duration=[]\n",
    "source=[]\n",
    "destination=[]\n",
    "total_stops=[]\n",
    "price=[]"
   ]
  },
  {
   "cell_type": "code",
   "execution_count": 32,
   "id": "4aa7e94c",
   "metadata": {},
   "outputs": [
    {
     "data": {
      "text/plain": [
       "[<selenium.webdriver.remote.webelement.WebElement (session=\"42facbecf8f618c282188155b12bf313\", element=\"a42157d9-ebb3-48c1-8bd0-d9631c0b4ece\")>,\n",
       " <selenium.webdriver.remote.webelement.WebElement (session=\"42facbecf8f618c282188155b12bf313\", element=\"07cf0c6c-2250-40f1-91e3-b963331208f0\")>,\n",
       " <selenium.webdriver.remote.webelement.WebElement (session=\"42facbecf8f618c282188155b12bf313\", element=\"359eb19e-f563-4d6e-9dde-273030dab749\")>,\n",
       " <selenium.webdriver.remote.webelement.WebElement (session=\"42facbecf8f618c282188155b12bf313\", element=\"e93ea95a-04bc-44b3-a93c-8b708c641932\")>,\n",
       " <selenium.webdriver.remote.webelement.WebElement (session=\"42facbecf8f618c282188155b12bf313\", element=\"b7532635-17d4-4b6e-a516-59ec59b70c00\")>,\n",
       " <selenium.webdriver.remote.webelement.WebElement (session=\"42facbecf8f618c282188155b12bf313\", element=\"94818a73-124d-4097-b0bc-cd6bdc63ebc3\")>,\n",
       " <selenium.webdriver.remote.webelement.WebElement (session=\"42facbecf8f618c282188155b12bf313\", element=\"1670176a-16f5-4d31-a3d5-3bada7d7ca53\")>,\n",
       " <selenium.webdriver.remote.webelement.WebElement (session=\"42facbecf8f618c282188155b12bf313\", element=\"bd25c2d8-7e1f-4f14-914a-faa6730073e0\")>,\n",
       " <selenium.webdriver.remote.webelement.WebElement (session=\"42facbecf8f618c282188155b12bf313\", element=\"87857d20-eda6-476f-9a70-3217d69eff65\")>,\n",
       " <selenium.webdriver.remote.webelement.WebElement (session=\"42facbecf8f618c282188155b12bf313\", element=\"a899d7fc-2920-4029-b258-852c42ea6c80\")>,\n",
       " <selenium.webdriver.remote.webelement.WebElement (session=\"42facbecf8f618c282188155b12bf313\", element=\"fe41c0fc-8408-401f-8afb-dc8bfc37a7b1\")>,\n",
       " <selenium.webdriver.remote.webelement.WebElement (session=\"42facbecf8f618c282188155b12bf313\", element=\"1f375bba-a17c-41dd-99cb-2c9422fa95e9\")>,\n",
       " <selenium.webdriver.remote.webelement.WebElement (session=\"42facbecf8f618c282188155b12bf313\", element=\"f418816d-fc1f-4ff7-8f02-b9f3a2adcd46\")>,\n",
       " <selenium.webdriver.remote.webelement.WebElement (session=\"42facbecf8f618c282188155b12bf313\", element=\"ac5a73fa-c6be-4d85-b1d0-ed498e57587d\")>,\n",
       " <selenium.webdriver.remote.webelement.WebElement (session=\"42facbecf8f618c282188155b12bf313\", element=\"1f37d695-b9f1-4333-b7fd-e6b833dc3ea9\")>,\n",
       " <selenium.webdriver.remote.webelement.WebElement (session=\"42facbecf8f618c282188155b12bf313\", element=\"cfc7d511-9fd7-4aba-9818-2ceb6c29ac5c\")>,\n",
       " <selenium.webdriver.remote.webelement.WebElement (session=\"42facbecf8f618c282188155b12bf313\", element=\"dc31b90b-d751-438b-a27e-e46db9dc568a\")>,\n",
       " <selenium.webdriver.remote.webelement.WebElement (session=\"42facbecf8f618c282188155b12bf313\", element=\"eefcd8ca-e1cc-4059-970b-2db910826eeb\")>,\n",
       " <selenium.webdriver.remote.webelement.WebElement (session=\"42facbecf8f618c282188155b12bf313\", element=\"95f081c0-29c2-4338-9d93-4e36c6fe1462\")>,\n",
       " <selenium.webdriver.remote.webelement.WebElement (session=\"42facbecf8f618c282188155b12bf313\", element=\"51b6add1-9e85-4e5d-ae2b-2b417290c172\")>,\n",
       " <selenium.webdriver.remote.webelement.WebElement (session=\"42facbecf8f618c282188155b12bf313\", element=\"7fac2c61-d668-4957-9ff4-ce45eaa22fd0\")>,\n",
       " <selenium.webdriver.remote.webelement.WebElement (session=\"42facbecf8f618c282188155b12bf313\", element=\"f3f62e3a-e282-41ed-ab91-236c371c1a7b\")>,\n",
       " <selenium.webdriver.remote.webelement.WebElement (session=\"42facbecf8f618c282188155b12bf313\", element=\"7c00de85-7919-489f-9910-c8b87ee0edb7\")>,\n",
       " <selenium.webdriver.remote.webelement.WebElement (session=\"42facbecf8f618c282188155b12bf313\", element=\"619854ff-bd65-48db-8c2a-3fca629e39f9\")>,\n",
       " <selenium.webdriver.remote.webelement.WebElement (session=\"42facbecf8f618c282188155b12bf313\", element=\"d0903295-d791-4470-86f3-4609d5117bed\")>]"
      ]
     },
     "execution_count": 32,
     "metadata": {},
     "output_type": "execute_result"
    }
   ],
   "source": [
    "#let's extract all the tags having the jairline names\n",
    "name_tags=driver.find_elements_by_xpath(\"//div[@class='airline-holder clearfix i-b text-left flex grid full']\")\n",
    "name_tags"
   ]
  },
  {
   "cell_type": "code",
   "execution_count": 33,
   "id": "da6d785d",
   "metadata": {},
   "outputs": [
    {
     "data": {
      "text/plain": [
       "['Air India\\nAI-636',\n",
       " 'Go First\\nG8-717/537',\n",
       " 'Vistara\\nUK-975',\n",
       " 'Vistara\\nUK-951',\n",
       " 'Vistara\\nUK-933',\n",
       " 'Vistara\\nUK-941',\n",
       " 'Vistara\\nUK-985',\n",
       " 'Vistara\\nUK-981',\n",
       " 'Vistara\\nUK-993',\n",
       " 'Vistara\\nUK-945',\n",
       " 'Vistara\\nUK-955',\n",
       " 'IndiGo\\n6E-2138',\n",
       " 'IndiGo\\n6E-5023',\n",
       " 'IndiGo\\n6E-5342',\n",
       " 'IndiGo\\n6E-5318',\n",
       " 'IndiGo\\n6E-2519',\n",
       " 'Go First\\nG8-334',\n",
       " 'IndiGo\\n6E-2176',\n",
       " 'Go First\\nG8-336',\n",
       " 'IndiGo\\n6E-5306',\n",
       " 'IndiGo\\n6E-864',\n",
       " 'SpiceJet\\nSG-8709',\n",
       " 'IndiGo\\n6E-6261',\n",
       " 'SpiceJet\\nSG-8701',\n",
       " 'IndiGo\\n6E-6278',\n",
       " 'Air India\\nAI-636',\n",
       " 'Go First\\nG8-717/537',\n",
       " 'Vistara\\nUK-975',\n",
       " 'Vistara\\nUK-951',\n",
       " 'Vistara\\nUK-933',\n",
       " 'Vistara\\nUK-941',\n",
       " 'Vistara\\nUK-985',\n",
       " 'Vistara\\nUK-981',\n",
       " 'Vistara\\nUK-993',\n",
       " 'Vistara\\nUK-945',\n",
       " 'Vistara\\nUK-955',\n",
       " 'IndiGo\\n6E-2138',\n",
       " 'IndiGo\\n6E-5023',\n",
       " 'IndiGo\\n6E-5342',\n",
       " 'IndiGo\\n6E-5318',\n",
       " 'IndiGo\\n6E-2519',\n",
       " 'Go First\\nG8-334',\n",
       " 'IndiGo\\n6E-2176',\n",
       " 'Go First\\nG8-336',\n",
       " 'IndiGo\\n6E-5306',\n",
       " 'IndiGo\\n6E-864',\n",
       " 'SpiceJet\\nSG-8709',\n",
       " 'IndiGo\\n6E-6261',\n",
       " 'SpiceJet\\nSG-8701',\n",
       " 'IndiGo\\n6E-6278',\n",
       " 'Air IndiaAI-636',\n",
       " 'Go FirstG8-717/537',\n",
       " 'VistaraUK-975',\n",
       " 'VistaraUK-951',\n",
       " 'VistaraUK-933',\n",
       " 'VistaraUK-941',\n",
       " 'VistaraUK-985',\n",
       " 'VistaraUK-981',\n",
       " 'VistaraUK-993',\n",
       " 'VistaraUK-945',\n",
       " 'VistaraUK-955',\n",
       " 'IndiGo6E-2138',\n",
       " 'IndiGo6E-5023',\n",
       " 'IndiGo6E-5342',\n",
       " 'IndiGo6E-5318',\n",
       " 'IndiGo6E-2519',\n",
       " 'Go FirstG8-334',\n",
       " 'IndiGo6E-2176',\n",
       " 'Go FirstG8-336',\n",
       " 'IndiGo6E-5306',\n",
       " 'IndiGo6E-864',\n",
       " 'SpiceJetSG-8709',\n",
       " 'IndiGo6E-6261',\n",
       " 'SpiceJetSG-8701',\n",
       " 'IndiGo6E-6278',\n",
       " 'Air IndiaAI-636',\n",
       " 'Go FirstG8-717/537',\n",
       " 'VistaraUK-975',\n",
       " 'VistaraUK-951',\n",
       " 'VistaraUK-933',\n",
       " 'VistaraUK-941',\n",
       " 'VistaraUK-985',\n",
       " 'VistaraUK-981',\n",
       " 'VistaraUK-993',\n",
       " 'VistaraUK-945',\n",
       " 'VistaraUK-955',\n",
       " 'IndiGo6E-2138',\n",
       " 'IndiGo6E-5023',\n",
       " 'IndiGo6E-5342',\n",
       " 'IndiGo6E-5318',\n",
       " 'IndiGo6E-2519',\n",
       " 'Go FirstG8-334',\n",
       " 'IndiGo6E-2176',\n",
       " 'Go FirstG8-336',\n",
       " 'IndiGo6E-5306',\n",
       " 'IndiGo6E-864',\n",
       " 'SpiceJetSG-8709',\n",
       " 'IndiGo6E-6261',\n",
       " 'SpiceJetSG-8701',\n",
       " 'IndiGo6E-6278']"
      ]
     },
     "execution_count": 33,
     "metadata": {},
     "output_type": "execute_result"
    }
   ],
   "source": [
    "#now the text of the job titles is inside the tags extracted above\n",
    "#so we will run over a loop to iterate over the tags extracted above.\n",
    "for i in name_tags:\n",
    "    title=i.text.replace('\\n','')\n",
    "    airline.append(title)\n",
    "airline"
   ]
  },
  {
   "cell_type": "code",
   "execution_count": 34,
   "id": "1d2a9ee5",
   "metadata": {},
   "outputs": [
    {
     "data": {
      "text/plain": [
       "100"
      ]
     },
     "execution_count": 34,
     "metadata": {},
     "output_type": "execute_result"
    }
   ],
   "source": [
    "len(airline)"
   ]
  },
  {
   "cell_type": "code",
   "execution_count": 35,
   "id": "ff9b0eac",
   "metadata": {},
   "outputs": [
    {
     "data": {
      "text/plain": [
       "[<selenium.webdriver.remote.webelement.WebElement (session=\"42facbecf8f618c282188155b12bf313\", element=\"131ebaa1-0dd8-4636-94ce-59bb98708c18\")>,\n",
       " <selenium.webdriver.remote.webelement.WebElement (session=\"42facbecf8f618c282188155b12bf313\", element=\"9e5c7197-4cfa-48e2-9869-b4d63347629e\")>,\n",
       " <selenium.webdriver.remote.webelement.WebElement (session=\"42facbecf8f618c282188155b12bf313\", element=\"04594c8c-6d3b-4f84-b6a5-63b8f330c458\")>,\n",
       " <selenium.webdriver.remote.webelement.WebElement (session=\"42facbecf8f618c282188155b12bf313\", element=\"bee3ae54-aa11-48bb-a7b4-37ccf8e05ab5\")>,\n",
       " <selenium.webdriver.remote.webelement.WebElement (session=\"42facbecf8f618c282188155b12bf313\", element=\"75fad8d1-6253-4a6f-9703-021a7c3244f1\")>,\n",
       " <selenium.webdriver.remote.webelement.WebElement (session=\"42facbecf8f618c282188155b12bf313\", element=\"8fd9723d-a92d-4685-95a4-59ddbf834875\")>,\n",
       " <selenium.webdriver.remote.webelement.WebElement (session=\"42facbecf8f618c282188155b12bf313\", element=\"e6dc1573-8902-4087-80a0-6f764eff4235\")>,\n",
       " <selenium.webdriver.remote.webelement.WebElement (session=\"42facbecf8f618c282188155b12bf313\", element=\"6ea00e25-f855-4609-963e-d2bb9559f666\")>,\n",
       " <selenium.webdriver.remote.webelement.WebElement (session=\"42facbecf8f618c282188155b12bf313\", element=\"3384f8f4-dce9-4c17-a039-87371aea3948\")>,\n",
       " <selenium.webdriver.remote.webelement.WebElement (session=\"42facbecf8f618c282188155b12bf313\", element=\"62c59583-2807-479f-a484-90cbfdfae615\")>,\n",
       " <selenium.webdriver.remote.webelement.WebElement (session=\"42facbecf8f618c282188155b12bf313\", element=\"3a9040a3-c240-492b-b060-dc005f52ba24\")>,\n",
       " <selenium.webdriver.remote.webelement.WebElement (session=\"42facbecf8f618c282188155b12bf313\", element=\"54d5d0ca-0612-4a3e-877d-ac445f63b7e2\")>,\n",
       " <selenium.webdriver.remote.webelement.WebElement (session=\"42facbecf8f618c282188155b12bf313\", element=\"1333b1ea-4cf7-4c16-8690-14cb97908493\")>,\n",
       " <selenium.webdriver.remote.webelement.WebElement (session=\"42facbecf8f618c282188155b12bf313\", element=\"f036f455-d9ba-44e5-aa51-9625863e3343\")>,\n",
       " <selenium.webdriver.remote.webelement.WebElement (session=\"42facbecf8f618c282188155b12bf313\", element=\"cd82003b-3169-4006-adeb-a9c5bbf37159\")>,\n",
       " <selenium.webdriver.remote.webelement.WebElement (session=\"42facbecf8f618c282188155b12bf313\", element=\"95ab746f-431e-4602-9344-95c49a128d56\")>,\n",
       " <selenium.webdriver.remote.webelement.WebElement (session=\"42facbecf8f618c282188155b12bf313\", element=\"e475886a-0ca3-4665-8ae8-faf68354e841\")>,\n",
       " <selenium.webdriver.remote.webelement.WebElement (session=\"42facbecf8f618c282188155b12bf313\", element=\"1d42b6db-b35a-46f6-942d-de4e3aa82d1a\")>,\n",
       " <selenium.webdriver.remote.webelement.WebElement (session=\"42facbecf8f618c282188155b12bf313\", element=\"c24a7376-132d-496a-bf10-14574a94e079\")>,\n",
       " <selenium.webdriver.remote.webelement.WebElement (session=\"42facbecf8f618c282188155b12bf313\", element=\"c04a1f61-b13e-47cf-bfa1-38dd22de906f\")>,\n",
       " <selenium.webdriver.remote.webelement.WebElement (session=\"42facbecf8f618c282188155b12bf313\", element=\"f5f95457-9b33-4a83-8572-62bebbdb2eb7\")>,\n",
       " <selenium.webdriver.remote.webelement.WebElement (session=\"42facbecf8f618c282188155b12bf313\", element=\"fd04940a-2d1b-4f21-8e33-1c909cebfd77\")>,\n",
       " <selenium.webdriver.remote.webelement.WebElement (session=\"42facbecf8f618c282188155b12bf313\", element=\"90cdee49-4a7f-424b-8cd9-8a3a1935227e\")>,\n",
       " <selenium.webdriver.remote.webelement.WebElement (session=\"42facbecf8f618c282188155b12bf313\", element=\"6e3948ec-4cd9-41a3-92ea-be3e40e71b21\")>,\n",
       " <selenium.webdriver.remote.webelement.WebElement (session=\"42facbecf8f618c282188155b12bf313\", element=\"eed57311-d67b-42b2-a0a7-ecfce17ed432\")>]"
      ]
     },
     "execution_count": 35,
     "metadata": {},
     "output_type": "execute_result"
    }
   ],
   "source": [
    "#let's extract all the tags having the departing time \n",
    "depart_tags=driver.find_elements_by_xpath(\"//div[@class='i-b pr']\")\n",
    "depart_tags"
   ]
  },
  {
   "cell_type": "code",
   "execution_count": 36,
   "id": "3abdc7a9",
   "metadata": {},
   "outputs": [
    {
     "data": {
      "text/plain": [
       "['14:30',\n",
       " '17:05',\n",
       " '05:55',\n",
       " '14:20',\n",
       " '15:30',\n",
       " '16:55',\n",
       " '19:45',\n",
       " '21:30',\n",
       " '12:45',\n",
       " '11:40',\n",
       " '17:45',\n",
       " '11:55',\n",
       " '06:30',\n",
       " '10:45',\n",
       " '17:00',\n",
       " '23:35',\n",
       " '08:00',\n",
       " '14:10',\n",
       " '14:30',\n",
       " '15:25',\n",
       " '16:15',\n",
       " '19:00',\n",
       " '19:45',\n",
       " '07:20',\n",
       " '08:45',\n",
       " '14:30',\n",
       " '17:05',\n",
       " '05:55',\n",
       " '14:20',\n",
       " '15:30',\n",
       " '16:55',\n",
       " '19:45',\n",
       " '21:30',\n",
       " '12:45',\n",
       " '11:40',\n",
       " '17:45',\n",
       " '11:55',\n",
       " '06:30',\n",
       " '10:45',\n",
       " '17:00',\n",
       " '23:35',\n",
       " '08:00',\n",
       " '14:10',\n",
       " '14:30',\n",
       " '15:25',\n",
       " '16:15',\n",
       " '19:00',\n",
       " '19:45',\n",
       " '07:20',\n",
       " '08:45']"
      ]
     },
     "execution_count": 36,
     "metadata": {},
     "output_type": "execute_result"
    }
   ],
   "source": [
    "for i in depart_tags:\n",
    "    title=i.text\n",
    "    depart.append(title)\n",
    "depart"
   ]
  },
  {
   "cell_type": "code",
   "execution_count": 37,
   "id": "03f982d7",
   "metadata": {},
   "outputs": [
    {
     "data": {
      "text/plain": [
       "50"
      ]
     },
     "execution_count": 37,
     "metadata": {},
     "output_type": "execute_result"
    }
   ],
   "source": [
    "len(depart)"
   ]
  },
  {
   "cell_type": "code",
   "execution_count": 38,
   "id": "091a9d85",
   "metadata": {},
   "outputs": [
    {
     "data": {
      "text/plain": [
       "[<selenium.webdriver.remote.webelement.WebElement (session=\"42facbecf8f618c282188155b12bf313\", element=\"739d2f84-5229-42d5-a7d7-f57e55352373\")>,\n",
       " <selenium.webdriver.remote.webelement.WebElement (session=\"42facbecf8f618c282188155b12bf313\", element=\"4f6d289a-f687-4b49-9d12-6e14cba12a9c\")>,\n",
       " <selenium.webdriver.remote.webelement.WebElement (session=\"42facbecf8f618c282188155b12bf313\", element=\"673080d9-fce8-404a-a858-c6a5efcd2b2f\")>,\n",
       " <selenium.webdriver.remote.webelement.WebElement (session=\"42facbecf8f618c282188155b12bf313\", element=\"c82c1410-a2aa-4baf-9e13-7c13c61eb663\")>,\n",
       " <selenium.webdriver.remote.webelement.WebElement (session=\"42facbecf8f618c282188155b12bf313\", element=\"81789942-e2cf-4e70-8c6d-a5c654c1533c\")>,\n",
       " <selenium.webdriver.remote.webelement.WebElement (session=\"42facbecf8f618c282188155b12bf313\", element=\"04c886f7-5179-4d6c-a51f-1fe6de1bab20\")>,\n",
       " <selenium.webdriver.remote.webelement.WebElement (session=\"42facbecf8f618c282188155b12bf313\", element=\"295e9dbc-ab96-43dd-b856-5bd1fe13b244\")>,\n",
       " <selenium.webdriver.remote.webelement.WebElement (session=\"42facbecf8f618c282188155b12bf313\", element=\"f1679430-4ae5-4114-85c4-668597dad65b\")>,\n",
       " <selenium.webdriver.remote.webelement.WebElement (session=\"42facbecf8f618c282188155b12bf313\", element=\"4c4cc09c-a53a-4a38-8966-24452c7a5d56\")>,\n",
       " <selenium.webdriver.remote.webelement.WebElement (session=\"42facbecf8f618c282188155b12bf313\", element=\"421b8f43-e8af-4030-be86-ceeef4b3a41d\")>,\n",
       " <selenium.webdriver.remote.webelement.WebElement (session=\"42facbecf8f618c282188155b12bf313\", element=\"93858e84-b83d-4152-9e68-f6c32f604298\")>,\n",
       " <selenium.webdriver.remote.webelement.WebElement (session=\"42facbecf8f618c282188155b12bf313\", element=\"613a6842-3454-42d4-842a-130328831611\")>,\n",
       " <selenium.webdriver.remote.webelement.WebElement (session=\"42facbecf8f618c282188155b12bf313\", element=\"4025096b-4ce5-46fa-b063-67408e771e59\")>,\n",
       " <selenium.webdriver.remote.webelement.WebElement (session=\"42facbecf8f618c282188155b12bf313\", element=\"7e615be3-83bc-4ffd-9fa9-740449a93d21\")>,\n",
       " <selenium.webdriver.remote.webelement.WebElement (session=\"42facbecf8f618c282188155b12bf313\", element=\"e19de9db-e16e-4b37-ac19-422669bdb466\")>,\n",
       " <selenium.webdriver.remote.webelement.WebElement (session=\"42facbecf8f618c282188155b12bf313\", element=\"fc6e4fd7-a529-4dbf-a6db-34b379671c15\")>,\n",
       " <selenium.webdriver.remote.webelement.WebElement (session=\"42facbecf8f618c282188155b12bf313\", element=\"14f00e14-4572-48a3-924a-ee4d26a5b9c0\")>,\n",
       " <selenium.webdriver.remote.webelement.WebElement (session=\"42facbecf8f618c282188155b12bf313\", element=\"91039b98-a24a-476b-858d-7d13d4cd0a68\")>,\n",
       " <selenium.webdriver.remote.webelement.WebElement (session=\"42facbecf8f618c282188155b12bf313\", element=\"becdca6a-7615-4f93-834a-7f9e5a9c1aef\")>,\n",
       " <selenium.webdriver.remote.webelement.WebElement (session=\"42facbecf8f618c282188155b12bf313\", element=\"fbf45400-27da-458f-84dc-c36eb2d24940\")>,\n",
       " <selenium.webdriver.remote.webelement.WebElement (session=\"42facbecf8f618c282188155b12bf313\", element=\"16891df6-407a-4e0c-8ef5-4426e70a5f53\")>,\n",
       " <selenium.webdriver.remote.webelement.WebElement (session=\"42facbecf8f618c282188155b12bf313\", element=\"abf9446c-656f-42aa-b093-338c42b07ef2\")>,\n",
       " <selenium.webdriver.remote.webelement.WebElement (session=\"42facbecf8f618c282188155b12bf313\", element=\"04c0c0b3-de80-4499-9f01-b7a040c674ab\")>,\n",
       " <selenium.webdriver.remote.webelement.WebElement (session=\"42facbecf8f618c282188155b12bf313\", element=\"5eac3cf5-07a4-4948-a5fc-93a949f49fb6\")>,\n",
       " <selenium.webdriver.remote.webelement.WebElement (session=\"42facbecf8f618c282188155b12bf313\", element=\"39c30800-f820-4f4e-a675-0ddb5d7b8a1e\")>]"
      ]
     },
     "execution_count": 38,
     "metadata": {},
     "output_type": "execute_result"
    }
   ],
   "source": [
    "#let's extract all the tags having the arriving time \n",
    "arrival_tags=driver.find_elements_by_xpath(\"//p[@class='bold fs-15 mb-2 pr time']\")\n",
    "arrival_tags"
   ]
  },
  {
   "cell_type": "code",
   "execution_count": 39,
   "id": "3b509222",
   "metadata": {},
   "outputs": [
    {
     "data": {
      "text/plain": [
       "['18:10',\n",
       " '21:10',\n",
       " '07:55',\n",
       " '16:30',\n",
       " '17:40',\n",
       " '19:05',\n",
       " '21:55',\n",
       " '23:40',\n",
       " '15:00',\n",
       " '14:00',\n",
       " '20:05',\n",
       " '13:55',\n",
       " '08:35',\n",
       " '12:50',\n",
       " '19:05',\n",
       " '01:40\\n+ 1 day',\n",
       " '10:10',\n",
       " '16:20',\n",
       " '16:40',\n",
       " '17:35',\n",
       " '18:25',\n",
       " '21:10',\n",
       " '21:55',\n",
       " '09:35',\n",
       " '11:00',\n",
       " '18:10',\n",
       " '21:10',\n",
       " '07:55',\n",
       " '16:30',\n",
       " '17:40',\n",
       " '19:05',\n",
       " '21:55',\n",
       " '23:40',\n",
       " '15:00',\n",
       " '14:00',\n",
       " '20:05',\n",
       " '13:55',\n",
       " '08:35',\n",
       " '12:50',\n",
       " '19:05',\n",
       " '01:40\\n+ 1 day',\n",
       " '10:10',\n",
       " '16:20',\n",
       " '16:40',\n",
       " '17:35',\n",
       " '18:25',\n",
       " '21:10',\n",
       " '21:55',\n",
       " '09:35',\n",
       " '11:00']"
      ]
     },
     "execution_count": 39,
     "metadata": {},
     "output_type": "execute_result"
    }
   ],
   "source": [
    "for i in arrival_tags:\n",
    "    title=i.text\n",
    "    arrive.append(title)\n",
    "arrive"
   ]
  },
  {
   "cell_type": "code",
   "execution_count": 44,
   "id": "d7062931",
   "metadata": {},
   "outputs": [
    {
     "data": {
      "text/plain": [
       "[<selenium.webdriver.remote.webelement.WebElement (session=\"42facbecf8f618c282188155b12bf313\", element=\"4f8168d0-d01a-4cff-8de4-916e559deadd\")>,\n",
       " <selenium.webdriver.remote.webelement.WebElement (session=\"42facbecf8f618c282188155b12bf313\", element=\"9dfae45b-82e2-4633-bef0-7067e85c69c9\")>,\n",
       " <selenium.webdriver.remote.webelement.WebElement (session=\"42facbecf8f618c282188155b12bf313\", element=\"ac710452-1ac6-4b7a-8c10-40f4f6ce9066\")>,\n",
       " <selenium.webdriver.remote.webelement.WebElement (session=\"42facbecf8f618c282188155b12bf313\", element=\"a6bf452c-1e4b-4ee0-8887-8f1e55f4b5ba\")>,\n",
       " <selenium.webdriver.remote.webelement.WebElement (session=\"42facbecf8f618c282188155b12bf313\", element=\"284fffd7-b925-4e09-9161-c610ac57f742\")>,\n",
       " <selenium.webdriver.remote.webelement.WebElement (session=\"42facbecf8f618c282188155b12bf313\", element=\"af7418a4-a084-4a72-a05b-794395a9b301\")>,\n",
       " <selenium.webdriver.remote.webelement.WebElement (session=\"42facbecf8f618c282188155b12bf313\", element=\"feb8669f-38da-4c4b-86f3-9bcbfb3f9790\")>,\n",
       " <selenium.webdriver.remote.webelement.WebElement (session=\"42facbecf8f618c282188155b12bf313\", element=\"90a3ee9b-b259-435b-ae1f-cc956c601cfe\")>,\n",
       " <selenium.webdriver.remote.webelement.WebElement (session=\"42facbecf8f618c282188155b12bf313\", element=\"26dfe41b-7b24-4f44-ac7d-83039d57fa2b\")>,\n",
       " <selenium.webdriver.remote.webelement.WebElement (session=\"42facbecf8f618c282188155b12bf313\", element=\"7fa38b14-3645-4094-9d0b-c743d902c6b7\")>,\n",
       " <selenium.webdriver.remote.webelement.WebElement (session=\"42facbecf8f618c282188155b12bf313\", element=\"f5650fad-72b7-4d72-944f-6e25a68dbc70\")>,\n",
       " <selenium.webdriver.remote.webelement.WebElement (session=\"42facbecf8f618c282188155b12bf313\", element=\"a89e1557-7f1a-4f9c-8932-acde9ff108c2\")>,\n",
       " <selenium.webdriver.remote.webelement.WebElement (session=\"42facbecf8f618c282188155b12bf313\", element=\"07ddf73a-d223-4a13-a2fa-39bb0b76dfc7\")>,\n",
       " <selenium.webdriver.remote.webelement.WebElement (session=\"42facbecf8f618c282188155b12bf313\", element=\"85ad93f4-754f-4fdb-a626-e9d3a907ee70\")>,\n",
       " <selenium.webdriver.remote.webelement.WebElement (session=\"42facbecf8f618c282188155b12bf313\", element=\"965dfb3d-8a1f-4e58-971b-80f33a029272\")>,\n",
       " <selenium.webdriver.remote.webelement.WebElement (session=\"42facbecf8f618c282188155b12bf313\", element=\"a158b6b7-a45b-4294-8e27-7a0154d571c3\")>,\n",
       " <selenium.webdriver.remote.webelement.WebElement (session=\"42facbecf8f618c282188155b12bf313\", element=\"8b9c9c5d-a589-4d7f-819a-52acbb56a5bd\")>,\n",
       " <selenium.webdriver.remote.webelement.WebElement (session=\"42facbecf8f618c282188155b12bf313\", element=\"27e90ceb-c88a-4506-8aee-7c987c730e75\")>,\n",
       " <selenium.webdriver.remote.webelement.WebElement (session=\"42facbecf8f618c282188155b12bf313\", element=\"9fe3b485-53fe-45a5-b586-e5e104d3569f\")>,\n",
       " <selenium.webdriver.remote.webelement.WebElement (session=\"42facbecf8f618c282188155b12bf313\", element=\"e8e87688-9174-4596-a51c-bdacce70d838\")>,\n",
       " <selenium.webdriver.remote.webelement.WebElement (session=\"42facbecf8f618c282188155b12bf313\", element=\"e5673d6d-9e3e-4628-a006-3fbf76111665\")>,\n",
       " <selenium.webdriver.remote.webelement.WebElement (session=\"42facbecf8f618c282188155b12bf313\", element=\"469022de-0ad8-4735-82b4-d04d067db34c\")>,\n",
       " <selenium.webdriver.remote.webelement.WebElement (session=\"42facbecf8f618c282188155b12bf313\", element=\"c8cb25d7-898d-42c9-8f6c-67e7986a6434\")>,\n",
       " <selenium.webdriver.remote.webelement.WebElement (session=\"42facbecf8f618c282188155b12bf313\", element=\"1d9a9ad0-0c50-4a6f-8fcf-ed8c1d384600\")>,\n",
       " <selenium.webdriver.remote.webelement.WebElement (session=\"42facbecf8f618c282188155b12bf313\", element=\"3ac877c8-51e6-4659-b9a4-5098deaddb7e\")>]"
      ]
     },
     "execution_count": 44,
     "metadata": {},
     "output_type": "execute_result"
    }
   ],
   "source": [
    "#let's extract all the tags having the duration time \n",
    "duration_tags=driver.find_elements_by_xpath(\"//div[@class='stop-det bdr-btm pb-5 v-aligm-t text-left']\")\n",
    "duration_tags"
   ]
  },
  {
   "cell_type": "code",
   "execution_count": 47,
   "id": "a6eba293",
   "metadata": {},
   "outputs": [
    {
     "data": {
      "text/plain": [
       "['18:10',\n",
       " '21:10',\n",
       " '07:55',\n",
       " '16:30',\n",
       " '17:40',\n",
       " '19:05',\n",
       " '21:55',\n",
       " '23:40',\n",
       " '15:00',\n",
       " '14:00',\n",
       " '20:05',\n",
       " '13:55',\n",
       " '08:35',\n",
       " '12:50',\n",
       " '19:05',\n",
       " '01:40\\n+ 1 day',\n",
       " '10:10',\n",
       " '16:20',\n",
       " '16:40',\n",
       " '17:35',\n",
       " '18:25',\n",
       " '21:10',\n",
       " '21:55',\n",
       " '09:35',\n",
       " '11:00',\n",
       " '3h 40m',\n",
       " '4h 05m',\n",
       " '2h 00m',\n",
       " '2h 10m',\n",
       " '2h 10m',\n",
       " '2h 10m',\n",
       " '2h 10m',\n",
       " '2h 10m',\n",
       " '2h 15m',\n",
       " '2h 20m',\n",
       " '2h 20m',\n",
       " '2h 00m',\n",
       " '2h 05m',\n",
       " '2h 05m',\n",
       " '2h 05m',\n",
       " '2h 05m',\n",
       " '2h 10m',\n",
       " '2h 10m',\n",
       " '2h 10m',\n",
       " '2h 10m',\n",
       " '2h 10m',\n",
       " '2h 10m',\n",
       " '2h 10m',\n",
       " '2h 15m',\n",
       " '2h 15m',\n",
       " '3h 40m\\n1 Stop',\n",
       " '4h 05m\\n1 Stop',\n",
       " '2h 00m\\nNon Stop',\n",
       " '2h 10m\\nNon Stop',\n",
       " '2h 10m\\nNon Stop',\n",
       " '2h 10m\\nNon Stop',\n",
       " '2h 10m\\nNon Stop',\n",
       " '2h 10m\\nNon Stop',\n",
       " '2h 15m\\nNon Stop',\n",
       " '2h 20m\\nNon Stop',\n",
       " '2h 20m\\nNon Stop',\n",
       " '2h 00m\\nNon Stop',\n",
       " '2h 05m\\nNon Stop',\n",
       " '2h 05m\\nNon Stop',\n",
       " '2h 05m\\nNon Stop',\n",
       " '2h 05m\\nNon Stop',\n",
       " '2h 10m\\nNon Stop',\n",
       " '2h 10m\\nNon Stop',\n",
       " '2h 10m\\nNon Stop',\n",
       " '2h 10m\\nNon Stop',\n",
       " '2h 10m\\nNon Stop',\n",
       " '2h 10m\\nNon Stop',\n",
       " '2h 10m\\nNon Stop',\n",
       " '2h 15m\\nNon Stop',\n",
       " '2h 15m\\nNon Stop',\n",
       " '3h 40m\\n1 Stop',\n",
       " '4h 05m\\n1 Stop',\n",
       " '2h 00m ',\n",
       " '2h 10m ',\n",
       " '2h 10m ',\n",
       " '2h 10m ',\n",
       " '2h 10m ',\n",
       " '2h 10m ',\n",
       " '2h 15m ',\n",
       " '2h 20m ',\n",
       " '2h 20m ',\n",
       " '2h 00m ',\n",
       " '2h 05m ',\n",
       " '2h 05m ',\n",
       " '2h 05m ',\n",
       " '2h 05m ',\n",
       " '2h 10m ',\n",
       " '2h 10m ',\n",
       " '2h 10m ',\n",
       " '2h 10m ',\n",
       " '2h 10m ',\n",
       " '2h 10m ',\n",
       " '2h 10m ',\n",
       " '2h 15m ',\n",
       " '2h 15m ',\n",
       " '3h 40m\\n1 Stop',\n",
       " '4h 05m\\n1 Stop',\n",
       " '2h 00m',\n",
       " '2h 10m',\n",
       " '2h 10m',\n",
       " '2h 10m',\n",
       " '2h 10m',\n",
       " '2h 10m',\n",
       " '2h 15m',\n",
       " '2h 20m',\n",
       " '2h 20m',\n",
       " '2h 00m',\n",
       " '2h 05m',\n",
       " '2h 05m',\n",
       " '2h 05m',\n",
       " '2h 05m',\n",
       " '2h 10m',\n",
       " '2h 10m',\n",
       " '2h 10m',\n",
       " '2h 10m',\n",
       " '2h 10m',\n",
       " '2h 10m',\n",
       " '2h 10m',\n",
       " '2h 15m',\n",
       " '2h 15m']"
      ]
     },
     "execution_count": 47,
     "metadata": {},
     "output_type": "execute_result"
    }
   ],
   "source": [
    "for i in duration_tags:\n",
    "    title=i.text.replace('\\nNon Stop','')\n",
    "    duration.append(title)\n",
    "duration"
   ]
  },
  {
   "cell_type": "code",
   "execution_count": 49,
   "id": "445ccac6",
   "metadata": {},
   "outputs": [
    {
     "data": {
      "text/plain": [
       "[<selenium.webdriver.remote.webelement.WebElement (session=\"42facbecf8f618c282188155b12bf313\", element=\"af0429f9-f434-4b62-b168-6ecd49bdfdf2\")>,\n",
       " <selenium.webdriver.remote.webelement.WebElement (session=\"42facbecf8f618c282188155b12bf313\", element=\"de422b2a-537b-4a8f-8981-59953731a53c\")>,\n",
       " <selenium.webdriver.remote.webelement.WebElement (session=\"42facbecf8f618c282188155b12bf313\", element=\"ce669804-3736-4df0-9e00-e185337ca209\")>,\n",
       " <selenium.webdriver.remote.webelement.WebElement (session=\"42facbecf8f618c282188155b12bf313\", element=\"2ac15133-c58e-43d9-aea5-1abdf04c9125\")>,\n",
       " <selenium.webdriver.remote.webelement.WebElement (session=\"42facbecf8f618c282188155b12bf313\", element=\"45f21e1b-bab7-4030-83a5-eba9926b19d4\")>,\n",
       " <selenium.webdriver.remote.webelement.WebElement (session=\"42facbecf8f618c282188155b12bf313\", element=\"e381a49a-c98f-4b62-a071-0ccd7babf911\")>,\n",
       " <selenium.webdriver.remote.webelement.WebElement (session=\"42facbecf8f618c282188155b12bf313\", element=\"30a43552-c370-491f-848a-e1c687ac9919\")>,\n",
       " <selenium.webdriver.remote.webelement.WebElement (session=\"42facbecf8f618c282188155b12bf313\", element=\"1b6238d6-e0ea-4dbf-bdea-59164c759d20\")>,\n",
       " <selenium.webdriver.remote.webelement.WebElement (session=\"42facbecf8f618c282188155b12bf313\", element=\"a9d9bdd1-db75-4bb9-92af-15a29b69b99a\")>,\n",
       " <selenium.webdriver.remote.webelement.WebElement (session=\"42facbecf8f618c282188155b12bf313\", element=\"59c6a18d-819c-440f-9cc7-5f1cf1f09f2b\")>,\n",
       " <selenium.webdriver.remote.webelement.WebElement (session=\"42facbecf8f618c282188155b12bf313\", element=\"c1dcde29-4673-4b38-816d-bc47dfab036c\")>,\n",
       " <selenium.webdriver.remote.webelement.WebElement (session=\"42facbecf8f618c282188155b12bf313\", element=\"0968d101-0a46-4f84-82db-e0d5e9a51428\")>,\n",
       " <selenium.webdriver.remote.webelement.WebElement (session=\"42facbecf8f618c282188155b12bf313\", element=\"a0eeca10-345e-485a-9585-595171af6447\")>,\n",
       " <selenium.webdriver.remote.webelement.WebElement (session=\"42facbecf8f618c282188155b12bf313\", element=\"4ae491cf-b453-4026-829d-5253b2a4f2b8\")>,\n",
       " <selenium.webdriver.remote.webelement.WebElement (session=\"42facbecf8f618c282188155b12bf313\", element=\"ecafe1b0-7c61-4056-9c10-a72f06c32102\")>,\n",
       " <selenium.webdriver.remote.webelement.WebElement (session=\"42facbecf8f618c282188155b12bf313\", element=\"7635307f-fc48-4e12-98e7-156a4df4508d\")>,\n",
       " <selenium.webdriver.remote.webelement.WebElement (session=\"42facbecf8f618c282188155b12bf313\", element=\"71ebc32d-1579-4a67-b630-c0e7f9d59480\")>,\n",
       " <selenium.webdriver.remote.webelement.WebElement (session=\"42facbecf8f618c282188155b12bf313\", element=\"8a8b6d29-a87b-4c3f-bdca-2ea1dcaee385\")>,\n",
       " <selenium.webdriver.remote.webelement.WebElement (session=\"42facbecf8f618c282188155b12bf313\", element=\"8a87ed9e-d3c3-4210-af71-a4f3f8cd1a9b\")>,\n",
       " <selenium.webdriver.remote.webelement.WebElement (session=\"42facbecf8f618c282188155b12bf313\", element=\"e0fcb109-99fb-414b-947e-2bfcd31d7a36\")>,\n",
       " <selenium.webdriver.remote.webelement.WebElement (session=\"42facbecf8f618c282188155b12bf313\", element=\"4972ef3a-d5d8-4e03-a4c6-3b2b1315922c\")>,\n",
       " <selenium.webdriver.remote.webelement.WebElement (session=\"42facbecf8f618c282188155b12bf313\", element=\"2a6da56f-47d3-4dd1-9613-5f5f2d50c753\")>,\n",
       " <selenium.webdriver.remote.webelement.WebElement (session=\"42facbecf8f618c282188155b12bf313\", element=\"9711407d-5573-40be-a866-1fe9846c7640\")>,\n",
       " <selenium.webdriver.remote.webelement.WebElement (session=\"42facbecf8f618c282188155b12bf313\", element=\"297c64a3-d74e-43eb-8a20-a755851c1aa2\")>,\n",
       " <selenium.webdriver.remote.webelement.WebElement (session=\"42facbecf8f618c282188155b12bf313\", element=\"f092a38b-ecf9-4abe-bf31-b74aeb69e599\")>,\n",
       " <selenium.webdriver.remote.webelement.WebElement (session=\"42facbecf8f618c282188155b12bf313\", element=\"9bb3ef60-65b7-4bc8-9fc5-4e2d950ddc86\")>,\n",
       " <selenium.webdriver.remote.webelement.WebElement (session=\"42facbecf8f618c282188155b12bf313\", element=\"4fcacdd7-db26-43ac-887e-ab045e90fbad\")>,\n",
       " <selenium.webdriver.remote.webelement.WebElement (session=\"42facbecf8f618c282188155b12bf313\", element=\"d3038038-7e07-4657-805d-db3943379a1e\")>,\n",
       " <selenium.webdriver.remote.webelement.WebElement (session=\"42facbecf8f618c282188155b12bf313\", element=\"9cfb9e3f-1ac6-4789-98f4-8ef66e2e5e54\")>,\n",
       " <selenium.webdriver.remote.webelement.WebElement (session=\"42facbecf8f618c282188155b12bf313\", element=\"9c70cc02-2d1b-4235-b5eb-7e4ef85ab576\")>,\n",
       " <selenium.webdriver.remote.webelement.WebElement (session=\"42facbecf8f618c282188155b12bf313\", element=\"b6a85048-2ee4-44f3-80ed-cc38ae23d03f\")>,\n",
       " <selenium.webdriver.remote.webelement.WebElement (session=\"42facbecf8f618c282188155b12bf313\", element=\"0049d6fb-4244-45ff-8859-d564be3c3d7c\")>,\n",
       " <selenium.webdriver.remote.webelement.WebElement (session=\"42facbecf8f618c282188155b12bf313\", element=\"e833dfe7-866b-47bb-943b-30447e009aae\")>,\n",
       " <selenium.webdriver.remote.webelement.WebElement (session=\"42facbecf8f618c282188155b12bf313\", element=\"988a11f5-2a30-41de-a2fc-c7fe159e03c6\")>,\n",
       " <selenium.webdriver.remote.webelement.WebElement (session=\"42facbecf8f618c282188155b12bf313\", element=\"4d7fffd0-92ab-4ded-a0a2-b4dca0bc3440\")>,\n",
       " <selenium.webdriver.remote.webelement.WebElement (session=\"42facbecf8f618c282188155b12bf313\", element=\"4d4e2c4f-b19a-48fb-8b63-dbcab8a839f8\")>,\n",
       " <selenium.webdriver.remote.webelement.WebElement (session=\"42facbecf8f618c282188155b12bf313\", element=\"9db0b969-74f8-4834-8ada-8327bf7496f1\")>,\n",
       " <selenium.webdriver.remote.webelement.WebElement (session=\"42facbecf8f618c282188155b12bf313\", element=\"4cd3e7e8-edb0-4642-8f99-2ffb8c98bc27\")>,\n",
       " <selenium.webdriver.remote.webelement.WebElement (session=\"42facbecf8f618c282188155b12bf313\", element=\"74975ed3-392e-4efb-8774-a332adede4a8\")>,\n",
       " <selenium.webdriver.remote.webelement.WebElement (session=\"42facbecf8f618c282188155b12bf313\", element=\"b1d97e65-f017-4da3-b3ab-4138f4aeeb5e\")>,\n",
       " <selenium.webdriver.remote.webelement.WebElement (session=\"42facbecf8f618c282188155b12bf313\", element=\"5e4140d7-05dd-4921-bf11-306b2d44b589\")>,\n",
       " <selenium.webdriver.remote.webelement.WebElement (session=\"42facbecf8f618c282188155b12bf313\", element=\"03258e4f-1b85-4cc0-9be8-65a7b50bdd05\")>,\n",
       " <selenium.webdriver.remote.webelement.WebElement (session=\"42facbecf8f618c282188155b12bf313\", element=\"09c95163-6c06-453a-a996-123283d5c31e\")>,\n",
       " <selenium.webdriver.remote.webelement.WebElement (session=\"42facbecf8f618c282188155b12bf313\", element=\"85f87039-d496-4297-a33f-df4708d756c2\")>,\n",
       " <selenium.webdriver.remote.webelement.WebElement (session=\"42facbecf8f618c282188155b12bf313\", element=\"94f74061-ddd1-4c65-abcb-55cd4962ad8a\")>,\n",
       " <selenium.webdriver.remote.webelement.WebElement (session=\"42facbecf8f618c282188155b12bf313\", element=\"88f495b4-7dd4-4faa-a0b0-06d9fb1d4644\")>,\n",
       " <selenium.webdriver.remote.webelement.WebElement (session=\"42facbecf8f618c282188155b12bf313\", element=\"ca9f3253-8051-4b05-a95b-a8edf6b37872\")>,\n",
       " <selenium.webdriver.remote.webelement.WebElement (session=\"42facbecf8f618c282188155b12bf313\", element=\"c34ee981-a11f-4ac5-b26f-14019624b7b7\")>,\n",
       " <selenium.webdriver.remote.webelement.WebElement (session=\"42facbecf8f618c282188155b12bf313\", element=\"8d2eddad-8e87-4c95-a690-f03a0f099596\")>,\n",
       " <selenium.webdriver.remote.webelement.WebElement (session=\"42facbecf8f618c282188155b12bf313\", element=\"d8327619-6363-4a1f-bbf1-459114b8652f\")>]"
      ]
     },
     "execution_count": 49,
     "metadata": {},
     "output_type": "execute_result"
    }
   ],
   "source": [
    "#let's extract all the tags having the duration time \n",
    "source_tags=driver.find_elements_by_xpath(\"//p[@class='fs-10 font-lightgrey no-wrap city ellipsis']\")\n",
    "source_tags"
   ]
  },
  {
   "cell_type": "code",
   "execution_count": 50,
   "id": "edbf1bec",
   "metadata": {},
   "outputs": [
    {
     "data": {
      "text/plain": [
       "['New Delhi',\n",
       " 'Mumbai',\n",
       " 'New Delhi',\n",
       " 'Mumbai',\n",
       " 'New Delhi',\n",
       " 'Mumbai',\n",
       " 'New Delhi',\n",
       " 'Mumbai',\n",
       " 'New Delhi',\n",
       " 'Mumbai',\n",
       " 'New Delhi',\n",
       " 'Mumbai',\n",
       " 'New Delhi',\n",
       " 'Mumbai',\n",
       " 'New Delhi',\n",
       " 'Mumbai',\n",
       " 'New Delhi',\n",
       " 'Mumbai',\n",
       " 'New Delhi',\n",
       " 'Mumbai',\n",
       " 'New Delhi',\n",
       " 'Mumbai',\n",
       " 'New Delhi',\n",
       " 'Mumbai',\n",
       " 'New Delhi',\n",
       " 'Mumbai',\n",
       " 'New Delhi',\n",
       " 'Mumbai',\n",
       " 'New Delhi',\n",
       " 'Mumbai',\n",
       " 'New Delhi',\n",
       " 'Mumbai',\n",
       " 'New Delhi',\n",
       " 'Mumbai',\n",
       " 'New Delhi',\n",
       " 'Mumbai',\n",
       " 'New Delhi',\n",
       " 'Mumbai',\n",
       " 'New Delhi',\n",
       " 'Mumbai',\n",
       " 'New Delhi',\n",
       " 'Mumbai',\n",
       " 'New Delhi',\n",
       " 'Mumbai',\n",
       " 'New Delhi',\n",
       " 'Mumbai',\n",
       " 'New Delhi',\n",
       " 'Mumbai',\n",
       " 'New Delhi',\n",
       " 'Mumbai']"
      ]
     },
     "execution_count": 50,
     "metadata": {},
     "output_type": "execute_result"
    }
   ],
   "source": [
    "for i in source_tags:\n",
    "    title=i.text.replace('\\nNon Stop','')\n",
    "    source.append(title)\n",
    "source"
   ]
  },
  {
   "cell_type": "code",
   "execution_count": 53,
   "id": "fa763f3b",
   "metadata": {},
   "outputs": [
    {
     "data": {
      "text/plain": [
       "[<selenium.webdriver.remote.webelement.WebElement (session=\"42facbecf8f618c282188155b12bf313\", element=\"ad361a0a-213b-4975-a9bb-8b078d305857\")>,\n",
       " <selenium.webdriver.remote.webelement.WebElement (session=\"42facbecf8f618c282188155b12bf313\", element=\"e35ac2d7-bec0-4408-b5de-0a2988b4ce54\")>,\n",
       " <selenium.webdriver.remote.webelement.WebElement (session=\"42facbecf8f618c282188155b12bf313\", element=\"322b307a-8302-4ebc-ae05-435ec4b69e9d\")>,\n",
       " <selenium.webdriver.remote.webelement.WebElement (session=\"42facbecf8f618c282188155b12bf313\", element=\"1c14474c-9909-4a84-84af-168b463f60e5\")>,\n",
       " <selenium.webdriver.remote.webelement.WebElement (session=\"42facbecf8f618c282188155b12bf313\", element=\"ef38bfc3-9638-41f7-b067-babe1942ce41\")>,\n",
       " <selenium.webdriver.remote.webelement.WebElement (session=\"42facbecf8f618c282188155b12bf313\", element=\"d89e5b47-02df-4844-9927-a60000481258\")>,\n",
       " <selenium.webdriver.remote.webelement.WebElement (session=\"42facbecf8f618c282188155b12bf313\", element=\"728eb9ed-97f6-4f8a-99be-095378fcafa5\")>,\n",
       " <selenium.webdriver.remote.webelement.WebElement (session=\"42facbecf8f618c282188155b12bf313\", element=\"aabe67e2-46f1-4bf1-add4-805a00bd0467\")>,\n",
       " <selenium.webdriver.remote.webelement.WebElement (session=\"42facbecf8f618c282188155b12bf313\", element=\"1b5ccdca-6dd7-4e44-8ece-d86127298f86\")>,\n",
       " <selenium.webdriver.remote.webelement.WebElement (session=\"42facbecf8f618c282188155b12bf313\", element=\"7cfc2f91-0b51-4089-ab8a-2470830f1af0\")>,\n",
       " <selenium.webdriver.remote.webelement.WebElement (session=\"42facbecf8f618c282188155b12bf313\", element=\"b8b3149b-1a09-4489-8f0d-196a81f3c1eb\")>,\n",
       " <selenium.webdriver.remote.webelement.WebElement (session=\"42facbecf8f618c282188155b12bf313\", element=\"12c8c4f4-9572-450c-be11-c886583c9dff\")>,\n",
       " <selenium.webdriver.remote.webelement.WebElement (session=\"42facbecf8f618c282188155b12bf313\", element=\"2cc0b437-576a-46cb-a8af-a088d3408e51\")>,\n",
       " <selenium.webdriver.remote.webelement.WebElement (session=\"42facbecf8f618c282188155b12bf313\", element=\"dfc451b7-7bb7-4890-b01e-7ff8f7f994e5\")>,\n",
       " <selenium.webdriver.remote.webelement.WebElement (session=\"42facbecf8f618c282188155b12bf313\", element=\"a3fe32e4-604f-4d13-97b3-3a5dbf302193\")>,\n",
       " <selenium.webdriver.remote.webelement.WebElement (session=\"42facbecf8f618c282188155b12bf313\", element=\"88108e40-527b-4229-abaf-a28e1c84d535\")>,\n",
       " <selenium.webdriver.remote.webelement.WebElement (session=\"42facbecf8f618c282188155b12bf313\", element=\"86952721-d64b-486d-974e-cdcb34bfe9ba\")>,\n",
       " <selenium.webdriver.remote.webelement.WebElement (session=\"42facbecf8f618c282188155b12bf313\", element=\"013e943c-18fd-426a-b318-89af5a352b4d\")>,\n",
       " <selenium.webdriver.remote.webelement.WebElement (session=\"42facbecf8f618c282188155b12bf313\", element=\"4c3bdcea-dbf5-4a18-8c4d-3e3bdd0517e3\")>,\n",
       " <selenium.webdriver.remote.webelement.WebElement (session=\"42facbecf8f618c282188155b12bf313\", element=\"58baf7b0-5627-4590-91e9-9aa7766dee78\")>,\n",
       " <selenium.webdriver.remote.webelement.WebElement (session=\"42facbecf8f618c282188155b12bf313\", element=\"5f83fa05-854c-493d-a5c9-1e7a13860f5a\")>,\n",
       " <selenium.webdriver.remote.webelement.WebElement (session=\"42facbecf8f618c282188155b12bf313\", element=\"5df0dd13-f35f-43ec-802d-9abefd272a05\")>,\n",
       " <selenium.webdriver.remote.webelement.WebElement (session=\"42facbecf8f618c282188155b12bf313\", element=\"892a2180-fc91-4d17-a9f0-e47e2e37a526\")>,\n",
       " <selenium.webdriver.remote.webelement.WebElement (session=\"42facbecf8f618c282188155b12bf313\", element=\"0d434d4a-ff26-4bc7-8db7-bbee0c290284\")>,\n",
       " <selenium.webdriver.remote.webelement.WebElement (session=\"42facbecf8f618c282188155b12bf313\", element=\"e168c264-5ef9-4031-b25d-a441312a3ef2\")>]"
      ]
     },
     "execution_count": 53,
     "metadata": {},
     "output_type": "execute_result"
    }
   ],
   "source": [
    "#let's extract all the tags having the price \n",
    "price_tags=driver.find_elements_by_xpath(\"//div[@class='v-aligm-m pr mb-10 fs-20 bold lh-1 cursor-pointer i-b mr-5 price-sec']\")\n",
    "price_tags"
   ]
  },
  {
   "cell_type": "code",
   "execution_count": 55,
   "id": "cb915b6d",
   "metadata": {},
   "outputs": [
    {
     "data": {
      "text/plain": [
       "['5,955',\n",
       " '7,108',\n",
       " '8,578',\n",
       " '8,578',\n",
       " '8,578',\n",
       " '8,578',\n",
       " '8,578',\n",
       " '8,578',\n",
       " '8,578',\n",
       " '8,578',\n",
       " '8,578',\n",
       " '8,579',\n",
       " '8,579',\n",
       " '8,579',\n",
       " '8,579',\n",
       " '8,579',\n",
       " '8,579',\n",
       " '8,579',\n",
       " '8,579',\n",
       " '8,579',\n",
       " '8,579',\n",
       " '8,579',\n",
       " '8,579',\n",
       " '8,579',\n",
       " '8,579',\n",
       " '5,955',\n",
       " '7,108',\n",
       " '8,578',\n",
       " '8,578',\n",
       " '8,578',\n",
       " '2 left at8,578',\n",
       " '2 left at8,578',\n",
       " '1 left at8,578',\n",
       " '8,578',\n",
       " '8,578',\n",
       " '1 left at8,578',\n",
       " '8,579',\n",
       " '8,579',\n",
       " '8,579',\n",
       " '8,579',\n",
       " '8,579',\n",
       " '8,579',\n",
       " '8,579',\n",
       " '8,579',\n",
       " '8,579',\n",
       " '8,579',\n",
       " '8,579',\n",
       " '8,579',\n",
       " '8,579',\n",
       " '8,579',\n",
       " '5,955',\n",
       " '7,108',\n",
       " '8,578',\n",
       " '8,578',\n",
       " '8,578',\n",
       " '2 left at8,578',\n",
       " '2 left at8,578',\n",
       " '1 left at8,578',\n",
       " '8,578',\n",
       " '8,578',\n",
       " '1 left at8,578',\n",
       " '8,579',\n",
       " '8,579',\n",
       " '8,579',\n",
       " '8,579',\n",
       " '8,579',\n",
       " '8,579',\n",
       " '8,579',\n",
       " '8,579',\n",
       " '8,579',\n",
       " '8,579',\n",
       " '8,579',\n",
       " '8,579',\n",
       " '8,579',\n",
       " '8,579']"
      ]
     },
     "execution_count": 55,
     "metadata": {},
     "output_type": "execute_result"
    }
   ],
   "source": [
    "for i in price_tags:\n",
    "    title=i.text\n",
    "    price.append(title)\n",
    "price"
   ]
  },
  {
   "cell_type": "code",
   "execution_count": null,
   "id": "99b9f307",
   "metadata": {},
   "outputs": [],
   "source": []
  },
  {
   "cell_type": "code",
   "execution_count": null,
   "id": "32f910b1",
   "metadata": {},
   "outputs": [],
   "source": []
  },
  {
   "cell_type": "code",
   "execution_count": null,
   "id": "012072ae",
   "metadata": {},
   "outputs": [],
   "source": []
  },
  {
   "cell_type": "code",
   "execution_count": null,
   "id": "99ad78d6",
   "metadata": {},
   "outputs": [],
   "source": []
  },
  {
   "cell_type": "code",
   "execution_count": null,
   "id": "2055385f",
   "metadata": {},
   "outputs": [],
   "source": []
  }
 ],
 "metadata": {
  "kernelspec": {
   "display_name": "Python 3",
   "language": "python",
   "name": "python3"
  },
  "language_info": {
   "codemirror_mode": {
    "name": "ipython",
    "version": 3
   },
   "file_extension": ".py",
   "mimetype": "text/x-python",
   "name": "python",
   "nbconvert_exporter": "python",
   "pygments_lexer": "ipython3",
   "version": "3.8.8"
  }
 },
 "nbformat": 4,
 "nbformat_minor": 5
}
